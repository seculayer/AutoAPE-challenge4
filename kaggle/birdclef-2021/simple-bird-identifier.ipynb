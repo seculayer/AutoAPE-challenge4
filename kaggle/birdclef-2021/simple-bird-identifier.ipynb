{
 "cells": [
  {
   "cell_type": "markdown",
   "id": "innovative-links",
   "metadata": {
    "papermill": {
     "duration": 0.026615,
     "end_time": "2023-11-26T05:24:43.084647",
     "exception": false,
     "start_time": "2023-11-26T05:24:43.058032",
     "status": "completed"
    },
    "tags": []
   },
   "source": [
    "# Notes"
   ]
  },
  {
   "cell_type": "code",
   "execution_count": 1,
   "id": "optional-universe",
   "metadata": {
    "execution": {
     "iopub.execute_input": "2023-11-26T05:24:43.141836Z",
     "iopub.status.busy": "2023-11-26T05:24:43.141205Z",
     "iopub.status.idle": "2023-11-26T05:24:44.151324Z",
     "shell.execute_reply": "2023-11-26T05:24:44.150593Z",
     "shell.execute_reply.started": "2023-07-20T12:14:40.581537Z"
    },
    "id": "ikMF-nQSdTbF",
    "outputId": "041c6767-86ab-46e4-9b22-a4840121ecca",
    "papermill": {
     "duration": 1.041201,
     "end_time": "2023-11-26T05:24:44.151503",
     "exception": false,
     "start_time": "2023-11-26T05:24:43.110302",
     "status": "completed"
    },
    "tags": []
   },
   "outputs": [
    {
     "name": "stdout",
     "output_type": "stream",
     "text": [
      "Sun Nov 26 05:24:44 2023       \r\n",
      "+-----------------------------------------------------------------------------+\r\n",
      "| NVIDIA-SMI 470.161.03   Driver Version: 470.161.03   CUDA Version: 11.4     |\r\n",
      "|-------------------------------+----------------------+----------------------+\r\n",
      "| GPU  Name        Persistence-M| Bus-Id        Disp.A | Volatile Uncorr. ECC |\r\n",
      "| Fan  Temp  Perf  Pwr:Usage/Cap|         Memory-Usage | GPU-Util  Compute M. |\r\n",
      "|                               |                      |               MIG M. |\r\n",
      "|===============================+======================+======================|\r\n",
      "|   0  Tesla P100-PCIE...  Off  | 00000000:00:04.0 Off |                    0 |\r\n",
      "| N/A   32C    P0    26W / 250W |      0MiB / 16280MiB |      0%      Default |\r\n",
      "|                               |                      |                  N/A |\r\n",
      "+-------------------------------+----------------------+----------------------+\r\n",
      "                                                                               \r\n",
      "+-----------------------------------------------------------------------------+\r\n",
      "| Processes:                                                                  |\r\n",
      "|  GPU   GI   CI        PID   Type   Process name                  GPU Memory |\r\n",
      "|        ID   ID                                                   Usage      |\r\n",
      "|=============================================================================|\r\n",
      "|  No running processes found                                                 |\r\n",
      "+-----------------------------------------------------------------------------+\r\n"
     ]
    }
   ],
   "source": [
    "!nvidia-smi"
   ]
  },
  {
   "cell_type": "code",
   "execution_count": 2,
   "id": "educated-taiwan",
   "metadata": {
    "execution": {
     "iopub.execute_input": "2023-11-26T05:24:44.209163Z",
     "iopub.status.busy": "2023-11-26T05:24:44.208212Z",
     "iopub.status.idle": "2023-11-26T05:25:13.795755Z",
     "shell.execute_reply": "2023-11-26T05:25:13.795124Z",
     "shell.execute_reply.started": "2023-07-20T12:14:41.648365Z"
    },
    "papermill": {
     "duration": 29.618107,
     "end_time": "2023-11-26T05:25:13.795920",
     "exception": false,
     "start_time": "2023-11-26T05:24:44.177813",
     "status": "completed"
    },
    "tags": []
   },
   "outputs": [],
   "source": [
    "try:\n",
    "    import resnest\n",
    "except ModuleNotFoundError:\n",
    "    !pip install -q \"../input/resnest50-fast-package/resnest-0.0.6b20200701/resnest\""
   ]
  },
  {
   "cell_type": "code",
   "execution_count": 3,
   "id": "strategic-president",
   "metadata": {
    "_cell_guid": "b1076dfc-b9ad-4769-8c92-a6c4dae69d19",
    "_uuid": "8f2839f25d086af736a60e9eeb907d3b93b6e0e5",
    "execution": {
     "iopub.execute_input": "2023-11-26T05:25:13.860719Z",
     "iopub.status.busy": "2023-11-26T05:25:13.860013Z",
     "iopub.status.idle": "2023-11-26T05:25:17.442877Z",
     "shell.execute_reply": "2023-11-26T05:25:17.442034Z",
     "shell.execute_reply.started": "2023-07-20T12:15:12.399011Z"
    },
    "id": "kSCcqxf0c_O7",
    "papermill": {
     "duration": 3.616407,
     "end_time": "2023-11-26T05:25:17.443040",
     "exception": false,
     "start_time": "2023-11-26T05:25:13.826633",
     "status": "completed"
    },
    "tags": []
   },
   "outputs": [],
   "source": [
    "import numpy as np\n",
    "import librosa as lb\n",
    "import soundfile as sf\n",
    "import pandas as pd\n",
    "import cv2\n",
    "from pathlib import Path\n",
    "import re\n",
    "\n",
    "import torch\n",
    "from torch import nn\n",
    "from  torch.utils.data import Dataset, DataLoader\n",
    "\n",
    "from tqdm.notebook import tqdm\n",
    "\n",
    "import time\n",
    "from resnest.torch import resnest50"
   ]
  },
  {
   "cell_type": "markdown",
   "id": "circular-slope",
   "metadata": {
    "papermill": {
     "duration": 0.026449,
     "end_time": "2023-11-26T05:25:17.496144",
     "exception": false,
     "start_time": "2023-11-26T05:25:17.469695",
     "status": "completed"
    },
    "tags": []
   },
   "source": [
    "# Configs"
   ]
  },
  {
   "cell_type": "code",
   "execution_count": 4,
   "id": "wired-light",
   "metadata": {
    "execution": {
     "iopub.execute_input": "2023-11-26T05:25:17.617885Z",
     "iopub.status.busy": "2023-11-26T05:25:17.617177Z",
     "iopub.status.idle": "2023-11-26T05:25:17.635787Z",
     "shell.execute_reply": "2023-11-26T05:25:17.635169Z",
     "shell.execute_reply.started": "2023-07-20T12:15:16.156357Z"
    },
    "id": "rJhYZVIDc_O9",
    "papermill": {
     "duration": 0.111891,
     "end_time": "2023-11-26T05:25:17.635919",
     "exception": false,
     "start_time": "2023-11-26T05:25:17.524028",
     "status": "completed"
    },
    "tags": []
   },
   "outputs": [
    {
     "name": "stdout",
     "output_type": "stream",
     "text": [
      "DEVICE: cuda\n"
     ]
    }
   ],
   "source": [
    "NUM_CLASSES = 397\n",
    "SR = 32_000\n",
    "DURATION = 5\n",
    "THRESH = 0.1\n",
    "\n",
    "\n",
    "DEVICE = torch.device(\"cuda\" if torch.cuda.is_available() else \"cpu\")\n",
    "print(\"DEVICE:\", DEVICE)\n",
    "\n",
    "TEST_AUDIO_ROOT = Path(\"../input/birdclef-2021/test_soundscapes\")\n",
    "SAMPLE_SUB_PATH = \"../input/birdclef-2021/sample_submission.csv\"\n",
    "TARGET_PATH = None\n",
    "    \n",
    "if not len(list(TEST_AUDIO_ROOT.glob(\"*.ogg\"))):\n",
    "    TEST_AUDIO_ROOT = Path(\"../input/birdclef-2021/train_soundscapes\")\n",
    "    SAMPLE_SUB_PATH = None\n",
    "    # SAMPLE_SUB_PATH = \"../input/birdclef-2021/sample_submission.csv\"\n",
    "    TARGET_PATH = Path(\"../input/birdclef-2021/train_soundscape_labels.csv\")"
   ]
  },
  {
   "cell_type": "markdown",
   "id": "aging-savage",
   "metadata": {
    "papermill": {
     "duration": 0.025329,
     "end_time": "2023-11-26T05:25:17.687267",
     "exception": false,
     "start_time": "2023-11-26T05:25:17.661938",
     "status": "completed"
    },
    "tags": []
   },
   "source": [
    "# Data"
   ]
  },
  {
   "cell_type": "code",
   "execution_count": 5,
   "id": "partial-issue",
   "metadata": {
    "execution": {
     "iopub.execute_input": "2023-11-26T05:25:17.746329Z",
     "iopub.status.busy": "2023-11-26T05:25:17.745509Z",
     "iopub.status.idle": "2023-11-26T05:25:17.748327Z",
     "shell.execute_reply": "2023-11-26T05:25:17.747719Z",
     "shell.execute_reply.started": "2023-07-20T12:15:16.248468Z"
    },
    "id": "4fwNhdbJc_O-",
    "papermill": {
     "duration": 0.035709,
     "end_time": "2023-11-26T05:25:17.748494",
     "exception": false,
     "start_time": "2023-11-26T05:25:17.712785",
     "status": "completed"
    },
    "tags": []
   },
   "outputs": [],
   "source": [
    "class MelSpecComputer:\n",
    "    def __init__(self, sr, n_mels, fmin, fmax, **kwargs):\n",
    "        self.sr = sr\n",
    "        self.n_mels = n_mels\n",
    "        self.fmin = fmin\n",
    "        self.fmax = fmax\n",
    "        kwargs[\"n_fft\"] = kwargs.get(\"n_fft\", self.sr//10)\n",
    "        kwargs[\"hop_length\"] = kwargs.get(\"hop_length\", self.sr//(10*4))\n",
    "        self.kwargs = kwargs\n",
    "\n",
    "    def __call__(self, y):\n",
    "        melspec = lb.feature.melspectrogram(\n",
    "            y, sr=self.sr, n_mels=self.n_mels, fmin=self.fmin, fmax=self.fmax, **self.kwargs,\n",
    "        )\n",
    "        melspec = lb.power_to_db(melspec).astype(np.float32)\n",
    "        return melspec"
   ]
  },
  {
   "cell_type": "code",
   "execution_count": 6,
   "id": "seven-comparison",
   "metadata": {
    "execution": {
     "iopub.execute_input": "2023-11-26T05:25:17.807718Z",
     "iopub.status.busy": "2023-11-26T05:25:17.806789Z",
     "iopub.status.idle": "2023-11-26T05:25:17.809763Z",
     "shell.execute_reply": "2023-11-26T05:25:17.809151Z",
     "shell.execute_reply.started": "2023-07-20T12:15:16.261354Z"
    },
    "id": "Nk0haSTIc_O_",
    "papermill": {
     "duration": 0.035999,
     "end_time": "2023-11-26T05:25:17.809883",
     "exception": false,
     "start_time": "2023-11-26T05:25:17.773884",
     "status": "completed"
    },
    "tags": []
   },
   "outputs": [],
   "source": [
    "def mono_to_color(X, eps=1e-6, mean=None, std=None):\n",
    "    mean = mean or X.mean()\n",
    "    std = std or X.std()\n",
    "    X = (X - mean) / (std + eps)\n",
    "    \n",
    "    _min, _max = X.min(), X.max()\n",
    "\n",
    "    if (_max - _min) > eps:\n",
    "        V = np.clip(X, _min, _max)\n",
    "        V = 255 * (V - _min) / (_max - _min)\n",
    "        V = V.astype(np.uint8)\n",
    "    else:\n",
    "        V = np.zeros_like(X, dtype=np.uint8)\n",
    "\n",
    "    return V\n",
    "\n",
    "def crop_or_pad(y, length):\n",
    "    if len(y) < length:\n",
    "        y = np.concatenate([y, length - np.zeros(len(y))])\n",
    "    elif len(y) > length:\n",
    "        y = y[:length]\n",
    "    return y"
   ]
  },
  {
   "cell_type": "code",
   "execution_count": 7,
   "id": "according-dancing",
   "metadata": {
    "execution": {
     "iopub.execute_input": "2023-11-26T05:25:17.875967Z",
     "iopub.status.busy": "2023-11-26T05:25:17.875253Z",
     "iopub.status.idle": "2023-11-26T05:25:17.878069Z",
     "shell.execute_reply": "2023-11-26T05:25:17.877475Z",
     "shell.execute_reply.started": "2023-07-20T12:15:16.273131Z"
    },
    "papermill": {
     "duration": 0.042788,
     "end_time": "2023-11-26T05:25:17.878192",
     "exception": false,
     "start_time": "2023-11-26T05:25:17.835404",
     "status": "completed"
    },
    "tags": []
   },
   "outputs": [],
   "source": [
    "class BirdCLEFDataset(Dataset):\n",
    "    def __init__(self, data, sr=SR, n_mels=128, fmin=0, fmax=None, duration=DURATION, step=None, res_type=\"kaiser_fast\", resample=True):\n",
    "        \n",
    "        self.data = data\n",
    "        \n",
    "        self.sr = sr\n",
    "        self.n_mels = n_mels\n",
    "        self.fmin = fmin\n",
    "        self.fmax = fmax or self.sr//2\n",
    "\n",
    "        self.duration = duration\n",
    "        self.audio_length = self.duration*self.sr\n",
    "        self.step = step or self.audio_length\n",
    "        \n",
    "        self.res_type = res_type\n",
    "        self.resample = resample\n",
    "\n",
    "        self.mel_spec_computer = MelSpecComputer(sr=self.sr, n_mels=self.n_mels, fmin=self.fmin,\n",
    "                                                 fmax=self.fmax)\n",
    "    def __len__(self):\n",
    "        return len(self.data)\n",
    "    \n",
    "    @staticmethod\n",
    "    def normalize(image):\n",
    "        image = image.astype(\"float32\", copy=False) / 255.0\n",
    "        image = np.stack([image, image, image])\n",
    "        return image\n",
    "    \n",
    "    def audio_to_image(self, audio):\n",
    "        melspec = self.mel_spec_computer(audio)\n",
    "        \n",
    "        image = mono_to_color(melspec)\n",
    "        image = self.normalize(image)\n",
    "        return image\n",
    "\n",
    "    def read_file(self, filepath):\n",
    "        audio, orig_sr = sf.read(filepath, dtype=\"float32\")\n",
    "\n",
    "        if self.resample and orig_sr != self.sr:\n",
    "            audio = lb.resample(audio, orig_sr, self.sr, res_type=self.res_type)\n",
    "          \n",
    "        audios = []\n",
    "        for i in range(self.audio_length, len(audio) + self.step, self.step):\n",
    "            start = max(0, i - self.audio_length)\n",
    "            end = start + self.audio_length\n",
    "            audios.append(audio[start:end])\n",
    "            \n",
    "        if len(audios[-1]) < self.audio_length:\n",
    "            audios = audios[:-1]\n",
    "            \n",
    "        images = [self.audio_to_image(audio) for audio in audios]\n",
    "        images = np.stack(images)\n",
    "        \n",
    "        return images\n",
    "    \n",
    "        \n",
    "    def __getitem__(self, idx):\n",
    "        return self.read_file(self.data.loc[idx, \"filepath\"])"
   ]
  },
  {
   "cell_type": "code",
   "execution_count": 8,
   "id": "jewish-editing",
   "metadata": {
    "execution": {
     "iopub.execute_input": "2023-11-26T05:25:17.936180Z",
     "iopub.status.busy": "2023-11-26T05:25:17.935586Z",
     "iopub.status.idle": "2023-11-26T05:25:17.976443Z",
     "shell.execute_reply": "2023-11-26T05:25:17.975828Z",
     "shell.execute_reply.started": "2023-07-20T12:15:16.292581Z"
    },
    "id": "rVwlOrbxc_PD",
    "outputId": "9b53ec99-634a-4b30-f9b5-75036184482b",
    "papermill": {
     "duration": 0.071926,
     "end_time": "2023-11-26T05:25:17.976576",
     "exception": false,
     "start_time": "2023-11-26T05:25:17.904650",
     "status": "completed"
    },
    "tags": []
   },
   "outputs": [
    {
     "name": "stdout",
     "output_type": "stream",
     "text": [
      "(20, 5)\n"
     ]
    },
    {
     "data": {
      "text/html": [
       "<div>\n",
       "<style scoped>\n",
       "    .dataframe tbody tr th:only-of-type {\n",
       "        vertical-align: middle;\n",
       "    }\n",
       "\n",
       "    .dataframe tbody tr th {\n",
       "        vertical-align: top;\n",
       "    }\n",
       "\n",
       "    .dataframe thead th {\n",
       "        text-align: right;\n",
       "    }\n",
       "</style>\n",
       "<table border=\"1\" class=\"dataframe\">\n",
       "  <thead>\n",
       "    <tr style=\"text-align: right;\">\n",
       "      <th></th>\n",
       "      <th>filename</th>\n",
       "      <th>id</th>\n",
       "      <th>site</th>\n",
       "      <th>date</th>\n",
       "      <th>filepath</th>\n",
       "    </tr>\n",
       "  </thead>\n",
       "  <tbody>\n",
       "    <tr>\n",
       "      <th>0</th>\n",
       "      <td>20152_SSW_20170805</td>\n",
       "      <td>20152</td>\n",
       "      <td>SSW</td>\n",
       "      <td>20170805</td>\n",
       "      <td>../input/birdclef-2021/train_soundscapes/20152...</td>\n",
       "    </tr>\n",
       "    <tr>\n",
       "      <th>1</th>\n",
       "      <td>57610_COR_20190904</td>\n",
       "      <td>57610</td>\n",
       "      <td>COR</td>\n",
       "      <td>20190904</td>\n",
       "      <td>../input/birdclef-2021/train_soundscapes/57610...</td>\n",
       "    </tr>\n",
       "    <tr>\n",
       "      <th>2</th>\n",
       "      <td>7843_SSW_20170325</td>\n",
       "      <td>7843</td>\n",
       "      <td>SSW</td>\n",
       "      <td>20170325</td>\n",
       "      <td>../input/birdclef-2021/train_soundscapes/7843_...</td>\n",
       "    </tr>\n",
       "    <tr>\n",
       "      <th>3</th>\n",
       "      <td>42907_SSW_20170708</td>\n",
       "      <td>42907</td>\n",
       "      <td>SSW</td>\n",
       "      <td>20170708</td>\n",
       "      <td>../input/birdclef-2021/train_soundscapes/42907...</td>\n",
       "    </tr>\n",
       "    <tr>\n",
       "      <th>4</th>\n",
       "      <td>7019_COR_20190904</td>\n",
       "      <td>7019</td>\n",
       "      <td>COR</td>\n",
       "      <td>20190904</td>\n",
       "      <td>../input/birdclef-2021/train_soundscapes/7019_...</td>\n",
       "    </tr>\n",
       "  </tbody>\n",
       "</table>\n",
       "</div>"
      ],
      "text/plain": [
       "             filename     id site      date  \\\n",
       "0  20152_SSW_20170805  20152  SSW  20170805   \n",
       "1  57610_COR_20190904  57610  COR  20190904   \n",
       "2   7843_SSW_20170325   7843  SSW  20170325   \n",
       "3  42907_SSW_20170708  42907  SSW  20170708   \n",
       "4   7019_COR_20190904   7019  COR  20190904   \n",
       "\n",
       "                                            filepath  \n",
       "0  ../input/birdclef-2021/train_soundscapes/20152...  \n",
       "1  ../input/birdclef-2021/train_soundscapes/57610...  \n",
       "2  ../input/birdclef-2021/train_soundscapes/7843_...  \n",
       "3  ../input/birdclef-2021/train_soundscapes/42907...  \n",
       "4  ../input/birdclef-2021/train_soundscapes/7019_...  "
      ]
     },
     "execution_count": 8,
     "metadata": {},
     "output_type": "execute_result"
    }
   ],
   "source": [
    "data = pd.DataFrame(\n",
    "     [(path.stem, *path.stem.split(\"_\"), path) for path in Path(TEST_AUDIO_ROOT).glob(\"*.ogg\")],\n",
    "    columns = [\"filename\", \"id\", \"site\", \"date\", \"filepath\"]\n",
    ")\n",
    "print(data.shape)\n",
    "data.head()"
   ]
  },
  {
   "cell_type": "code",
   "execution_count": 9,
   "id": "boring-impression",
   "metadata": {
    "execution": {
     "iopub.execute_input": "2023-11-26T05:25:18.035872Z",
     "iopub.status.busy": "2023-11-26T05:25:18.035233Z",
     "iopub.status.idle": "2023-11-26T05:25:18.429512Z",
     "shell.execute_reply": "2023-11-26T05:25:18.428940Z",
     "shell.execute_reply.started": "2023-07-20T12:15:16.342183Z"
    },
    "papermill": {
     "duration": 0.426544,
     "end_time": "2023-11-26T05:25:18.429674",
     "exception": false,
     "start_time": "2023-11-26T05:25:18.003130",
     "status": "completed"
    },
    "tags": []
   },
   "outputs": [],
   "source": [
    "df_train = pd.read_csv(\"../input/birdclef-2021/train_metadata.csv\")\n",
    "\n",
    "LABEL_IDS = {label: label_id for label_id,label in enumerate(sorted(df_train[\"primary_label\"].unique()))}\n",
    "INV_LABEL_IDS = {val: key for key,val in LABEL_IDS.items()}"
   ]
  },
  {
   "cell_type": "markdown",
   "id": "affected-knowing",
   "metadata": {
    "id": "BNsivZZZc_PG",
    "papermill": {
     "duration": 0.026285,
     "end_time": "2023-11-26T05:25:18.483361",
     "exception": false,
     "start_time": "2023-11-26T05:25:18.457076",
     "status": "completed"
    },
    "tags": []
   },
   "source": [
    "# Inference"
   ]
  },
  {
   "cell_type": "code",
   "execution_count": 10,
   "id": "foster-capture",
   "metadata": {
    "execution": {
     "iopub.execute_input": "2023-11-26T05:25:18.541349Z",
     "iopub.status.busy": "2023-11-26T05:25:18.540691Z",
     "iopub.status.idle": "2023-11-26T05:25:22.086789Z",
     "shell.execute_reply": "2023-11-26T05:25:22.088577Z",
     "shell.execute_reply.started": "2023-07-20T12:15:16.795110Z"
    },
    "id": "AzlOErOmc_PH",
    "papermill": {
     "duration": 3.579177,
     "end_time": "2023-11-26T05:25:22.088974",
     "exception": false,
     "start_time": "2023-11-26T05:25:18.509797",
     "status": "completed"
    },
    "tags": []
   },
   "outputs": [
    {
     "name": "stdout",
     "output_type": "stream",
     "text": [
      "20\n",
      "(120, 3, 128, 201)\n"
     ]
    }
   ],
   "source": [
    "test_data = BirdCLEFDataset(data=data)\n",
    "print(len(test_data))\n",
    "\n",
    "print(test_data[0].shape)"
   ]
  },
  {
   "cell_type": "code",
   "execution_count": 11,
   "id": "upset-prediction",
   "metadata": {
    "execution": {
     "iopub.execute_input": "2023-11-26T05:25:22.208356Z",
     "iopub.status.busy": "2023-11-26T05:25:22.207689Z",
     "iopub.status.idle": "2023-11-26T05:25:24.541226Z",
     "shell.execute_reply": "2023-11-26T05:25:24.540672Z",
     "shell.execute_reply.started": "2023-07-20T12:15:20.544446Z"
    },
    "papermill": {
     "duration": 2.388228,
     "end_time": "2023-11-26T05:25:24.541361",
     "exception": false,
     "start_time": "2023-11-26T05:25:22.153133",
     "status": "completed"
    },
    "tags": []
   },
   "outputs": [],
   "source": [
    "import sys \n",
    "sys.path.append('../input/timm-pytorch-image-models/pytorch-image-models-master') \n",
    "import timm \n",
    "import torch\n",
    "import torch.nn as nn\n",
    "\n",
    "class densenet(nn.Module):\n",
    "    def __init__(self, n_class=397, model_name='densenet121', pretrained=False):\n",
    "        super().__init__()\n",
    "        self.model = timm.create_model(model_name, pretrained=pretrained,num_classes=0)\n",
    "        self.dropout = torch.nn.Dropout(p=0.2)\n",
    "        self.classifier = nn.Linear(1024, n_class)\n",
    "\n",
    "    def forward(self, x):\n",
    "        x = self.model(x)\n",
    "        x = self.dropout(x)\n",
    "        x = self.classifier(x)\n",
    "        \n",
    "        return x\n",
    "\n",
    "class nfnet(nn.Module):\n",
    "    def __init__(self, n_class=397, model_name='eca_nfnet_l0', pretrained=False):\n",
    "        super().__init__()\n",
    "        self.model = timm.create_model(model_name, pretrained=pretrained,num_classes=0)\n",
    "        self.dropout = torch.nn.Dropout(p=0.4)\n",
    "        self.classifier = nn.Linear(2304, n_class)\n",
    "\n",
    "    def forward(self, x):\n",
    "        x = self.model(x)\n",
    "        x = self.dropout(x)\n",
    "        x = self.classifier(x)\n",
    "        \n",
    "        return x"
   ]
  },
  {
   "cell_type": "code",
   "execution_count": 12,
   "id": "finite-object",
   "metadata": {
    "execution": {
     "iopub.execute_input": "2023-11-26T05:25:24.611049Z",
     "iopub.status.busy": "2023-11-26T05:25:24.610284Z",
     "iopub.status.idle": "2023-11-26T05:25:24.613039Z",
     "shell.execute_reply": "2023-11-26T05:25:24.612444Z",
     "shell.execute_reply.started": "2023-07-20T12:15:22.744907Z"
    },
    "papermill": {
     "duration": 0.044054,
     "end_time": "2023-11-26T05:25:24.613171",
     "exception": false,
     "start_time": "2023-11-26T05:25:24.569117",
     "status": "completed"
    },
    "tags": []
   },
   "outputs": [],
   "source": [
    "def load_densenet(checkpoint_path, num_classes=NUM_CLASSES):\n",
    "    net = densenet(pretrained=False)\n",
    "    dummy_device = torch.device(\"cpu\")\n",
    "    d = torch.load(checkpoint_path, map_location=dummy_device)\n",
    "#     for key in list(d.keys()):\n",
    "#         d[key.replace(\"model.\", \"\")] = d.pop(key)\n",
    "    net.load_state_dict(d)\n",
    "    net = net.to(DEVICE)\n",
    "    net = net.eval()\n",
    "    return net\n",
    "\n",
    "def load_resnest50dnet(checkpoint_path, num_classes=NUM_CLASSES):\n",
    "    net = timm.create_model('resnest50d',pretrained=False)\n",
    "    net.fc = nn.Linear(net.fc.in_features, num_classes)\n",
    "    dummy_device = torch.device(\"cpu\")\n",
    "    d = torch.load(checkpoint_path, map_location=dummy_device)\n",
    "    for key in list(d.keys()):\n",
    "        d[key.replace(\"model.\", \"\")] = d.pop(key)\n",
    "    net.load_state_dict(d)\n",
    "    net = net.to(DEVICE)\n",
    "    net = net.eval()\n",
    "    return net\n",
    "\n",
    "def load_resnestnet(checkpoint_path, num_classes=NUM_CLASSES):\n",
    "    net = resnest50(pretrained=False)\n",
    "    net.fc = nn.Linear(net.fc.in_features, num_classes)\n",
    "    dummy_device = torch.device(\"cpu\")\n",
    "    d = torch.load(checkpoint_path, map_location=dummy_device)\n",
    "    for key in list(d.keys()):\n",
    "        d[key.replace(\"model.\", \"\")] = d.pop(key)\n",
    "    net.load_state_dict(d)\n",
    "    net = net.to(DEVICE)\n",
    "    net = net.eval()\n",
    "    return net\n",
    "\n",
    "def load_nfnet(checkpoint_path, num_classes=NUM_CLASSES):\n",
    "    net = nfnet(pretrained=False)\n",
    "    dummy_device = torch.device(\"cpu\")\n",
    "    d = torch.load(checkpoint_path, map_location=dummy_device)\n",
    "#     for key in list(d.keys()):\n",
    "#         d[key.replace(\"model.\", \"\")] = d.pop(key)\n",
    "    net.load_state_dict(d)\n",
    "    net = net.to(DEVICE)\n",
    "    net = net.eval()\n",
    "    return net\n"
   ]
  },
  {
   "cell_type": "code",
   "execution_count": 13,
   "id": "celtic-oriental",
   "metadata": {
    "execution": {
     "iopub.execute_input": "2023-11-26T05:25:24.671838Z",
     "iopub.status.busy": "2023-11-26T05:25:24.671206Z",
     "iopub.status.idle": "2023-11-26T05:25:30.237777Z",
     "shell.execute_reply": "2023-11-26T05:25:30.237160Z",
     "shell.execute_reply.started": "2023-07-20T12:15:22.760096Z"
    },
    "id": "ayVLRTzLc_PI",
    "papermill": {
     "duration": 5.597283,
     "end_time": "2023-11-26T05:25:30.237917",
     "exception": false,
     "start_time": "2023-11-26T05:25:24.640634",
     "status": "completed"
    },
    "tags": []
   },
   "outputs": [],
   "source": [
    "\n",
    "checkpoint_paths = [\n",
    "    Path(\"../input/kkiller-birdclef-models-public/birdclef_resnest50_fold0_epoch_10_f1_val_06471_20210417161101.pth\"),\n",
    "]\n",
    "\n",
    "\n",
    "nets = [\n",
    "    load_resnestnet(checkpoint_paths[0]),\n",
    "    \n",
    "]"
   ]
  },
  {
   "cell_type": "code",
   "execution_count": 14,
   "id": "pregnant-neutral",
   "metadata": {
    "execution": {
     "iopub.execute_input": "2023-11-26T05:25:30.299717Z",
     "iopub.status.busy": "2023-11-26T05:25:30.299070Z",
     "iopub.status.idle": "2023-11-26T05:25:30.302037Z",
     "shell.execute_reply": "2023-11-26T05:25:30.301553Z",
     "shell.execute_reply.started": "2023-07-20T12:15:28.748241Z"
    },
    "papermill": {
     "duration": 0.035689,
     "end_time": "2023-11-26T05:25:30.302174",
     "exception": false,
     "start_time": "2023-11-26T05:25:30.266485",
     "status": "completed"
    },
    "tags": []
   },
   "outputs": [],
   "source": [
    "@torch.no_grad()\n",
    "def get_thresh_preds(out, thresh=None):\n",
    "    thresh = thresh or THRESH\n",
    "    o = (-out).argsort(1)\n",
    "    npreds = (out > thresh).sum(1)\n",
    "    preds = []\n",
    "    for oo, npred in zip(o, npreds):\n",
    "        preds.append(oo[:npred].cpu().numpy().tolist())\n",
    "    return preds"
   ]
  },
  {
   "cell_type": "code",
   "execution_count": 15,
   "id": "tracked-broadway",
   "metadata": {
    "execution": {
     "iopub.execute_input": "2023-11-26T05:25:30.361270Z",
     "iopub.status.busy": "2023-11-26T05:25:30.360430Z",
     "iopub.status.idle": "2023-11-26T05:25:30.362699Z",
     "shell.execute_reply": "2023-11-26T05:25:30.363151Z",
     "shell.execute_reply.started": "2023-07-20T12:15:28.759657Z"
    },
    "papermill": {
     "duration": 0.034171,
     "end_time": "2023-11-26T05:25:30.363292",
     "exception": false,
     "start_time": "2023-11-26T05:25:30.329121",
     "status": "completed"
    },
    "tags": []
   },
   "outputs": [],
   "source": [
    "def get_bird_names(preds):\n",
    "    bird_names = []\n",
    "    for pred in preds:\n",
    "        if not pred:\n",
    "            bird_names.append(\"nocall\")\n",
    "        else:\n",
    "            bird_names.append(\" \".join([INV_LABEL_IDS[bird_id] for bird_id in pred]))\n",
    "    return bird_names"
   ]
  },
  {
   "cell_type": "code",
   "execution_count": 16,
   "id": "collective-turkish",
   "metadata": {
    "execution": {
     "iopub.execute_input": "2023-11-26T05:25:30.423772Z",
     "iopub.status.busy": "2023-11-26T05:25:30.423030Z",
     "iopub.status.idle": "2023-11-26T05:25:30.426862Z",
     "shell.execute_reply": "2023-11-26T05:25:30.426234Z",
     "shell.execute_reply.started": "2023-07-20T12:15:28.775708Z"
    },
    "papermill": {
     "duration": 0.036751,
     "end_time": "2023-11-26T05:25:30.426981",
     "exception": false,
     "start_time": "2023-11-26T05:25:30.390230",
     "status": "completed"
    },
    "tags": []
   },
   "outputs": [],
   "source": [
    "def predict(nets, test_data, names=True):\n",
    "    preds = []\n",
    "    with torch.no_grad():\n",
    "        for idx in  tqdm(list(range(len(test_data)))):\n",
    "            xb = torch.from_numpy(test_data[idx]).to(DEVICE)\n",
    "            pred = 0.\n",
    "            for net in nets:\n",
    "                o = net(xb)\n",
    "                o = torch.sigmoid(o)\n",
    "\n",
    "                pred += o\n",
    "\n",
    "            pred /= len(nets)\n",
    "            \n",
    "            if names:\n",
    "                pred = get_bird_names(get_thresh_preds(pred))\n",
    "\n",
    "            preds.append(pred)\n",
    "    return preds"
   ]
  },
  {
   "cell_type": "code",
   "execution_count": 17,
   "id": "invalid-recycling",
   "metadata": {
    "execution": {
     "iopub.execute_input": "2023-11-26T05:25:30.510309Z",
     "iopub.status.busy": "2023-11-26T05:25:30.485032Z",
     "iopub.status.idle": "2023-11-26T05:26:43.793259Z",
     "shell.execute_reply": "2023-11-26T05:26:43.794251Z",
     "shell.execute_reply.started": "2023-07-20T12:15:28.787343Z"
    },
    "papermill": {
     "duration": 73.340169,
     "end_time": "2023-11-26T05:26:43.794586",
     "exception": false,
     "start_time": "2023-11-26T05:25:30.454417",
     "status": "completed"
    },
    "tags": []
   },
   "outputs": [
    {
     "data": {
      "application/vnd.jupyter.widget-view+json": {
       "model_id": "a203360325aa4f94a8c44c79340251a9",
       "version_major": 2,
       "version_minor": 0
      },
      "text/plain": [
       "  0%|          | 0/20 [00:00<?, ?it/s]"
      ]
     },
     "metadata": {},
     "output_type": "display_data"
    },
    {
     "name": "stdout",
     "output_type": "stream",
     "text": [
      "20\n"
     ]
    }
   ],
   "source": [
    "pred_probas = predict(nets, test_data, names=False)\n",
    "print(len(pred_probas))"
   ]
  },
  {
   "cell_type": "code",
   "execution_count": 18,
   "id": "current-thickness",
   "metadata": {
    "execution": {
     "iopub.execute_input": "2023-11-26T05:26:43.880230Z",
     "iopub.status.busy": "2023-11-26T05:26:43.879567Z",
     "iopub.status.idle": "2023-11-26T05:26:43.970615Z",
     "shell.execute_reply": "2023-11-26T05:26:43.970084Z",
     "shell.execute_reply.started": "2023-07-20T12:16:43.613791Z"
    },
    "papermill": {
     "duration": 0.122435,
     "end_time": "2023-11-26T05:26:43.970747",
     "exception": false,
     "start_time": "2023-11-26T05:26:43.848312",
     "status": "completed"
    },
    "tags": []
   },
   "outputs": [],
   "source": [
    "preds = [get_bird_names(get_thresh_preds(pred, thresh=THRESH)) for pred in pred_probas]\n",
    "#preds[:2]"
   ]
  },
  {
   "cell_type": "code",
   "execution_count": 19,
   "id": "physical-delight",
   "metadata": {
    "execution": {
     "iopub.execute_input": "2023-11-26T05:26:44.034877Z",
     "iopub.status.busy": "2023-11-26T05:26:44.034178Z",
     "iopub.status.idle": "2023-11-26T05:26:44.036874Z",
     "shell.execute_reply": "2023-11-26T05:26:44.036324Z",
     "shell.execute_reply.started": "2023-07-20T12:16:43.793021Z"
    },
    "papermill": {
     "duration": 0.037544,
     "end_time": "2023-11-26T05:26:44.036995",
     "exception": false,
     "start_time": "2023-11-26T05:26:43.999451",
     "status": "completed"
    },
    "tags": []
   },
   "outputs": [],
   "source": [
    "def preds_as_df(data, preds):\n",
    "    sub = {\n",
    "        \"row_id\": [],\n",
    "        \"birds\": [],\n",
    "    }\n",
    "    \n",
    "    for row, pred in zip(data.itertuples(False), preds):\n",
    "        row_id = [f\"{row.id}_{row.site}_{5*i}\" for i in range(1, len(pred)+1)]\n",
    "        sub[\"birds\"] += pred\n",
    "        sub[\"row_id\"] += row_id\n",
    "        \n",
    "    sub = pd.DataFrame(sub)\n",
    "    \n",
    "    if SAMPLE_SUB_PATH:\n",
    "        sample_sub = pd.read_csv(SAMPLE_SUB_PATH, usecols=[\"row_id\"])\n",
    "        sub = sample_sub.merge(sub, on=\"row_id\", how=\"left\")\n",
    "        sub[\"birds\"] = sub[\"birds\"].fillna(\"nocall\")\n",
    "    return sub"
   ]
  },
  {
   "cell_type": "code",
   "execution_count": 20,
   "id": "imperial-natural",
   "metadata": {
    "execution": {
     "iopub.execute_input": "2023-11-26T05:26:44.100459Z",
     "iopub.status.busy": "2023-11-26T05:26:44.099849Z",
     "iopub.status.idle": "2023-11-26T05:26:44.103071Z",
     "shell.execute_reply": "2023-11-26T05:26:44.102610Z",
     "shell.execute_reply.started": "2023-07-20T12:16:43.802803Z"
    },
    "papermill": {
     "duration": 0.038494,
     "end_time": "2023-11-26T05:26:44.103190",
     "exception": false,
     "start_time": "2023-11-26T05:26:44.064696",
     "status": "completed"
    },
    "tags": []
   },
   "outputs": [
    {
     "name": "stdout",
     "output_type": "stream",
     "text": [
      "(2400, 2)\n"
     ]
    }
   ],
   "source": [
    "#print(data)\n",
    "#print(preds)\n",
    "sub = preds_as_df(data, preds)\n",
    "print(sub.shape)\n",
    "#sub"
   ]
  },
  {
   "cell_type": "code",
   "execution_count": 21,
   "id": "brilliant-requirement",
   "metadata": {
    "execution": {
     "iopub.execute_input": "2023-11-26T05:26:44.163353Z",
     "iopub.status.busy": "2023-11-26T05:26:44.162778Z",
     "iopub.status.idle": "2023-11-26T05:26:44.320342Z",
     "shell.execute_reply": "2023-11-26T05:26:44.319425Z",
     "shell.execute_reply.started": "2023-07-20T12:16:43.817478Z"
    },
    "papermill": {
     "duration": 0.189242,
     "end_time": "2023-11-26T05:26:44.320509",
     "exception": false,
     "start_time": "2023-11-26T05:26:44.131267",
     "status": "completed"
    },
    "tags": []
   },
   "outputs": [],
   "source": [
    "sub.to_csv(\"submission.csv\", index=False)"
   ]
  },
  {
   "cell_type": "markdown",
   "id": "apparent-holiday",
   "metadata": {
    "papermill": {
     "duration": 0.028015,
     "end_time": "2023-11-26T05:26:44.377302",
     "exception": false,
     "start_time": "2023-11-26T05:26:44.349287",
     "status": "completed"
    },
    "tags": []
   },
   "source": [
    "# Small validation"
   ]
  },
  {
   "cell_type": "code",
   "execution_count": 22,
   "id": "distributed-execution",
   "metadata": {
    "execution": {
     "iopub.execute_input": "2023-11-26T05:26:44.440834Z",
     "iopub.status.busy": "2023-11-26T05:26:44.440227Z",
     "iopub.status.idle": "2023-11-26T05:26:44.442987Z",
     "shell.execute_reply": "2023-11-26T05:26:44.442366Z",
     "shell.execute_reply.started": "2023-07-20T12:16:44.076802Z"
    },
    "papermill": {
     "duration": 0.037276,
     "end_time": "2023-11-26T05:26:44.443108",
     "exception": false,
     "start_time": "2023-11-26T05:26:44.405832",
     "status": "completed"
    },
    "tags": []
   },
   "outputs": [],
   "source": [
    "def get_metrics(s_true, s_pred):\n",
    "    s_true = set(s_true.split())\n",
    "    s_pred = set(s_pred.split())\n",
    "    n, n_true, n_pred = len(s_true.intersection(s_pred)), len(s_true), len(s_pred)\n",
    "    \n",
    "    prec = n/n_pred\n",
    "    rec = n/n_true\n",
    "    f1 = 2*prec*rec/(prec + rec) if prec + rec else 0\n",
    "    \n",
    "    return {\"f1\": f1, \"prec\": prec, \"rec\": rec, \"n_true\": n_true, \"n_pred\": n_pred, \"n\": n}"
   ]
  },
  {
   "cell_type": "code",
   "execution_count": 23,
   "id": "lonely-beaver",
   "metadata": {
    "execution": {
     "iopub.execute_input": "2023-11-26T05:26:44.507370Z",
     "iopub.status.busy": "2023-11-26T05:26:44.506795Z",
     "iopub.status.idle": "2023-11-26T05:26:44.547313Z",
     "shell.execute_reply": "2023-11-26T05:26:44.546776Z",
     "shell.execute_reply.started": "2023-07-20T12:16:44.085972Z"
    },
    "papermill": {
     "duration": 0.075527,
     "end_time": "2023-11-26T05:26:44.547478",
     "exception": false,
     "start_time": "2023-11-26T05:26:44.471951",
     "status": "completed"
    },
    "tags": []
   },
   "outputs": [
    {
     "name": "stdout",
     "output_type": "stream",
     "text": [
      "f1        0.701208\n",
      "prec      0.711042\n",
      "rec       0.698243\n",
      "n_true    1.130000\n",
      "n_pred    1.017083\n",
      "n         0.718750\n",
      "dtype: float64\n"
     ]
    }
   ],
   "source": [
    "if TARGET_PATH:\n",
    "    sub_target = pd.read_csv(TARGET_PATH)\n",
    "    #print(sub_target)\n",
    "    #print(sub)\n",
    "    sub_target = sub_target.merge(sub, how=\"left\", on=\"row_id\")\n",
    "    #print(sub_target)\n",
    "    \n",
    "    #print(sub_target[\"birds_x\"].notnull().sum(), sub_target[\"birds_x\"].notnull().sum())\n",
    "    assert sub_target[\"birds_x\"].notnull().all()\n",
    "    assert sub_target[\"birds_y\"].notnull().all()\n",
    "    \n",
    "    df_metrics = pd.DataFrame([get_metrics(s_true, s_pred) for s_true, s_pred in zip(sub_target.birds_x, sub_target.birds_y)])\n",
    "    \n",
    "    print(df_metrics.mean())"
   ]
  },
  {
   "cell_type": "code",
   "execution_count": 24,
   "id": "instant-cross",
   "metadata": {
    "execution": {
     "iopub.execute_input": "2023-11-26T05:26:44.622957Z",
     "iopub.status.busy": "2023-11-26T05:26:44.622115Z",
     "iopub.status.idle": "2023-11-26T05:26:44.625958Z",
     "shell.execute_reply": "2023-11-26T05:26:44.625328Z",
     "shell.execute_reply.started": "2023-07-20T12:16:44.140573Z"
    },
    "papermill": {
     "duration": 0.048751,
     "end_time": "2023-11-26T05:26:44.626079",
     "exception": false,
     "start_time": "2023-11-26T05:26:44.577328",
     "status": "completed"
    },
    "tags": []
   },
   "outputs": [
    {
     "data": {
      "text/html": [
       "<div>\n",
       "<style scoped>\n",
       "    .dataframe tbody tr th:only-of-type {\n",
       "        vertical-align: middle;\n",
       "    }\n",
       "\n",
       "    .dataframe tbody tr th {\n",
       "        vertical-align: top;\n",
       "    }\n",
       "\n",
       "    .dataframe thead th {\n",
       "        text-align: right;\n",
       "    }\n",
       "</style>\n",
       "<table border=\"1\" class=\"dataframe\">\n",
       "  <thead>\n",
       "    <tr style=\"text-align: right;\">\n",
       "      <th></th>\n",
       "      <th>row_id</th>\n",
       "      <th>site</th>\n",
       "      <th>audio_id</th>\n",
       "      <th>seconds</th>\n",
       "      <th>birds_x</th>\n",
       "      <th>birds_y</th>\n",
       "    </tr>\n",
       "  </thead>\n",
       "  <tbody>\n",
       "    <tr>\n",
       "      <th>12</th>\n",
       "      <td>7019_COR_65</td>\n",
       "      <td>COR</td>\n",
       "      <td>7019</td>\n",
       "      <td>65</td>\n",
       "      <td>nocall</td>\n",
       "      <td>bucmot2</td>\n",
       "    </tr>\n",
       "    <tr>\n",
       "      <th>16</th>\n",
       "      <td>7019_COR_85</td>\n",
       "      <td>COR</td>\n",
       "      <td>7019</td>\n",
       "      <td>85</td>\n",
       "      <td>nocall</td>\n",
       "      <td>bucmot2</td>\n",
       "    </tr>\n",
       "    <tr>\n",
       "      <th>35</th>\n",
       "      <td>7019_COR_180</td>\n",
       "      <td>COR</td>\n",
       "      <td>7019</td>\n",
       "      <td>180</td>\n",
       "      <td>nocall</td>\n",
       "      <td>higmot1</td>\n",
       "    </tr>\n",
       "    <tr>\n",
       "      <th>41</th>\n",
       "      <td>7019_COR_210</td>\n",
       "      <td>COR</td>\n",
       "      <td>7019</td>\n",
       "      <td>210</td>\n",
       "      <td>nocall</td>\n",
       "      <td>bucmot2</td>\n",
       "    </tr>\n",
       "    <tr>\n",
       "      <th>63</th>\n",
       "      <td>7019_COR_320</td>\n",
       "      <td>COR</td>\n",
       "      <td>7019</td>\n",
       "      <td>320</td>\n",
       "      <td>nocall</td>\n",
       "      <td>bucmot2</td>\n",
       "    </tr>\n",
       "    <tr>\n",
       "      <th>...</th>\n",
       "      <td>...</td>\n",
       "      <td>...</td>\n",
       "      <td>...</td>\n",
       "      <td>...</td>\n",
       "      <td>...</td>\n",
       "      <td>...</td>\n",
       "    </tr>\n",
       "    <tr>\n",
       "      <th>2273</th>\n",
       "      <td>51010_SSW_570</td>\n",
       "      <td>SSW</td>\n",
       "      <td>51010</td>\n",
       "      <td>570</td>\n",
       "      <td>bkcchi norcar</td>\n",
       "      <td>bkcchi</td>\n",
       "    </tr>\n",
       "    <tr>\n",
       "      <th>2275</th>\n",
       "      <td>51010_SSW_580</td>\n",
       "      <td>SSW</td>\n",
       "      <td>51010</td>\n",
       "      <td>580</td>\n",
       "      <td>bkcchi</td>\n",
       "      <td>rewbla</td>\n",
       "    </tr>\n",
       "    <tr>\n",
       "      <th>2278</th>\n",
       "      <td>51010_SSW_595</td>\n",
       "      <td>SSW</td>\n",
       "      <td>51010</td>\n",
       "      <td>595</td>\n",
       "      <td>bkcchi</td>\n",
       "      <td>bkcchi</td>\n",
       "    </tr>\n",
       "    <tr>\n",
       "      <th>2279</th>\n",
       "      <td>51010_SSW_600</td>\n",
       "      <td>SSW</td>\n",
       "      <td>51010</td>\n",
       "      <td>600</td>\n",
       "      <td>bkcchi</td>\n",
       "      <td>bkcchi</td>\n",
       "    </tr>\n",
       "    <tr>\n",
       "      <th>2393</th>\n",
       "      <td>54955_SSW_570</td>\n",
       "      <td>SSW</td>\n",
       "      <td>54955</td>\n",
       "      <td>570</td>\n",
       "      <td>grycat</td>\n",
       "      <td>grycat</td>\n",
       "    </tr>\n",
       "  </tbody>\n",
       "</table>\n",
       "<p>360 rows × 6 columns</p>\n",
       "</div>"
      ],
      "text/plain": [
       "             row_id site  audio_id  seconds        birds_x  birds_y\n",
       "12      7019_COR_65  COR      7019       65         nocall  bucmot2\n",
       "16      7019_COR_85  COR      7019       85         nocall  bucmot2\n",
       "35     7019_COR_180  COR      7019      180         nocall  higmot1\n",
       "41     7019_COR_210  COR      7019      210         nocall  bucmot2\n",
       "63     7019_COR_320  COR      7019      320         nocall  bucmot2\n",
       "...             ...  ...       ...      ...            ...      ...\n",
       "2273  51010_SSW_570  SSW     51010      570  bkcchi norcar   bkcchi\n",
       "2275  51010_SSW_580  SSW     51010      580         bkcchi   rewbla\n",
       "2278  51010_SSW_595  SSW     51010      595         bkcchi   bkcchi\n",
       "2279  51010_SSW_600  SSW     51010      600         bkcchi   bkcchi\n",
       "2393  54955_SSW_570  SSW     54955      570         grycat   grycat\n",
       "\n",
       "[360 rows x 6 columns]"
      ]
     },
     "execution_count": 24,
     "metadata": {},
     "output_type": "execute_result"
    }
   ],
   "source": [
    "sub_target[sub_target.birds_y != \"nocall\"]"
   ]
  },
  {
   "cell_type": "code",
   "execution_count": 25,
   "id": "disciplinary-transparency",
   "metadata": {
    "execution": {
     "iopub.execute_input": "2023-11-26T05:26:44.689318Z",
     "iopub.status.busy": "2023-11-26T05:26:44.688740Z",
     "iopub.status.idle": "2023-11-26T05:26:44.704858Z",
     "shell.execute_reply": "2023-11-26T05:26:44.704317Z",
     "shell.execute_reply.started": "2023-07-20T12:16:44.165360Z"
    },
    "papermill": {
     "duration": 0.04968,
     "end_time": "2023-11-26T05:26:44.704982",
     "exception": false,
     "start_time": "2023-11-26T05:26:44.655302",
     "status": "completed"
    },
    "tags": []
   },
   "outputs": [
    {
     "data": {
      "text/html": [
       "<div>\n",
       "<style scoped>\n",
       "    .dataframe tbody tr th:only-of-type {\n",
       "        vertical-align: middle;\n",
       "    }\n",
       "\n",
       "    .dataframe tbody tr th {\n",
       "        vertical-align: top;\n",
       "    }\n",
       "\n",
       "    .dataframe thead th {\n",
       "        text-align: right;\n",
       "    }\n",
       "</style>\n",
       "<table border=\"1\" class=\"dataframe\">\n",
       "  <thead>\n",
       "    <tr style=\"text-align: right;\">\n",
       "      <th></th>\n",
       "      <th>row_id</th>\n",
       "      <th>site</th>\n",
       "      <th>audio_id</th>\n",
       "      <th>seconds</th>\n",
       "      <th>birds_x</th>\n",
       "      <th>birds_y</th>\n",
       "    </tr>\n",
       "  </thead>\n",
       "  <tbody>\n",
       "    <tr>\n",
       "      <th>240</th>\n",
       "      <td>11254_COR_5</td>\n",
       "      <td>COR</td>\n",
       "      <td>11254</td>\n",
       "      <td>5</td>\n",
       "      <td>rubwre1</td>\n",
       "      <td>rubwre1 wbwwre1 burwar1</td>\n",
       "    </tr>\n",
       "    <tr>\n",
       "      <th>242</th>\n",
       "      <td>11254_COR_15</td>\n",
       "      <td>COR</td>\n",
       "      <td>11254</td>\n",
       "      <td>15</td>\n",
       "      <td>rubwre1</td>\n",
       "      <td>wbwwre1</td>\n",
       "    </tr>\n",
       "    <tr>\n",
       "      <th>244</th>\n",
       "      <td>11254_COR_25</td>\n",
       "      <td>COR</td>\n",
       "      <td>11254</td>\n",
       "      <td>25</td>\n",
       "      <td>rubwre1</td>\n",
       "      <td>rubwre1</td>\n",
       "    </tr>\n",
       "    <tr>\n",
       "      <th>267</th>\n",
       "      <td>11254_COR_140</td>\n",
       "      <td>COR</td>\n",
       "      <td>11254</td>\n",
       "      <td>140</td>\n",
       "      <td>obnthr1</td>\n",
       "      <td>nocall</td>\n",
       "    </tr>\n",
       "    <tr>\n",
       "      <th>268</th>\n",
       "      <td>11254_COR_145</td>\n",
       "      <td>COR</td>\n",
       "      <td>11254</td>\n",
       "      <td>145</td>\n",
       "      <td>obnthr1</td>\n",
       "      <td>nocall</td>\n",
       "    </tr>\n",
       "    <tr>\n",
       "      <th>...</th>\n",
       "      <td>...</td>\n",
       "      <td>...</td>\n",
       "      <td>...</td>\n",
       "      <td>...</td>\n",
       "      <td>...</td>\n",
       "      <td>...</td>\n",
       "    </tr>\n",
       "    <tr>\n",
       "      <th>2391</th>\n",
       "      <td>54955_SSW_560</td>\n",
       "      <td>SSW</td>\n",
       "      <td>54955</td>\n",
       "      <td>560</td>\n",
       "      <td>grycat</td>\n",
       "      <td>nocall</td>\n",
       "    </tr>\n",
       "    <tr>\n",
       "      <th>2393</th>\n",
       "      <td>54955_SSW_570</td>\n",
       "      <td>SSW</td>\n",
       "      <td>54955</td>\n",
       "      <td>570</td>\n",
       "      <td>grycat</td>\n",
       "      <td>grycat</td>\n",
       "    </tr>\n",
       "    <tr>\n",
       "      <th>2394</th>\n",
       "      <td>54955_SSW_575</td>\n",
       "      <td>SSW</td>\n",
       "      <td>54955</td>\n",
       "      <td>575</td>\n",
       "      <td>chswar</td>\n",
       "      <td>nocall</td>\n",
       "    </tr>\n",
       "    <tr>\n",
       "      <th>2396</th>\n",
       "      <td>54955_SSW_585</td>\n",
       "      <td>SSW</td>\n",
       "      <td>54955</td>\n",
       "      <td>585</td>\n",
       "      <td>grycat</td>\n",
       "      <td>nocall</td>\n",
       "    </tr>\n",
       "    <tr>\n",
       "      <th>2397</th>\n",
       "      <td>54955_SSW_590</td>\n",
       "      <td>SSW</td>\n",
       "      <td>54955</td>\n",
       "      <td>590</td>\n",
       "      <td>grycat</td>\n",
       "      <td>nocall</td>\n",
       "    </tr>\n",
       "  </tbody>\n",
       "</table>\n",
       "<p>871 rows × 6 columns</p>\n",
       "</div>"
      ],
      "text/plain": [
       "             row_id site  audio_id  seconds  birds_x                  birds_y\n",
       "240     11254_COR_5  COR     11254        5  rubwre1  rubwre1 wbwwre1 burwar1\n",
       "242    11254_COR_15  COR     11254       15  rubwre1                  wbwwre1\n",
       "244    11254_COR_25  COR     11254       25  rubwre1                  rubwre1\n",
       "267   11254_COR_140  COR     11254      140  obnthr1                   nocall\n",
       "268   11254_COR_145  COR     11254      145  obnthr1                   nocall\n",
       "...             ...  ...       ...      ...      ...                      ...\n",
       "2391  54955_SSW_560  SSW     54955      560   grycat                   nocall\n",
       "2393  54955_SSW_570  SSW     54955      570   grycat                   grycat\n",
       "2394  54955_SSW_575  SSW     54955      575   chswar                   nocall\n",
       "2396  54955_SSW_585  SSW     54955      585   grycat                   nocall\n",
       "2397  54955_SSW_590  SSW     54955      590   grycat                   nocall\n",
       "\n",
       "[871 rows x 6 columns]"
      ]
     },
     "execution_count": 25,
     "metadata": {},
     "output_type": "execute_result"
    }
   ],
   "source": [
    "sub_target[sub_target.birds_x != \"nocall\"]"
   ]
  }
 ],
 "metadata": {
  "kaggle": {
   "accelerator": "gpu",
   "dataSources": [
    {
     "databundleVersionId": 2091745,
     "sourceId": 25954,
     "sourceType": "competition"
    },
    {
     "datasetId": 750498,
     "sourceId": 1297722,
     "sourceType": "datasetVersion"
    },
    {
     "datasetId": 1278322,
     "sourceId": 2130303,
     "sourceType": "datasetVersion"
    },
    {
     "datasetId": 1347493,
     "sourceId": 2242309,
     "sourceType": "datasetVersion"
    },
    {
     "datasetId": 1027206,
     "sourceId": 3951115,
     "sourceType": "datasetVersion"
    }
   ],
   "dockerImageVersionId": 30086,
   "isGpuEnabled": true,
   "isInternetEnabled": false,
   "language": "python",
   "sourceType": "notebook"
  },
  "kernelspec": {
   "display_name": "Python 3",
   "language": "python",
   "name": "python3"
  },
  "language_info": {
   "codemirror_mode": {
    "name": "ipython",
    "version": 3
   },
   "file_extension": ".py",
   "mimetype": "text/x-python",
   "name": "python",
   "nbconvert_exporter": "python",
   "pygments_lexer": "ipython3",
   "version": "3.7.9"
  },
  "papermill": {
   "default_parameters": {},
   "duration": 128.273436,
   "end_time": "2023-11-26T05:26:45.945101",
   "environment_variables": {},
   "exception": null,
   "input_path": "__notebook__.ipynb",
   "output_path": "__notebook__.ipynb",
   "parameters": {},
   "start_time": "2023-11-26T05:24:37.671665",
   "version": "2.3.2"
  },
  "widgets": {
   "application/vnd.jupyter.widget-state+json": {
    "state": {
     "14720531803d47ed8f89e0dcff2503d3": {
      "model_module": "@jupyter-widgets/controls",
      "model_module_version": "1.5.0",
      "model_name": "ProgressStyleModel",
      "state": {
       "_model_module": "@jupyter-widgets/controls",
       "_model_module_version": "1.5.0",
       "_model_name": "ProgressStyleModel",
       "_view_count": null,
       "_view_module": "@jupyter-widgets/base",
       "_view_module_version": "1.2.0",
       "_view_name": "StyleView",
       "bar_color": null,
       "description_width": ""
      }
     },
     "2789d8c1dfc44439851b9bab63c3928a": {
      "model_module": "@jupyter-widgets/controls",
      "model_module_version": "1.5.0",
      "model_name": "HTMLModel",
      "state": {
       "_dom_classes": [],
       "_model_module": "@jupyter-widgets/controls",
       "_model_module_version": "1.5.0",
       "_model_name": "HTMLModel",
       "_view_count": null,
       "_view_module": "@jupyter-widgets/controls",
       "_view_module_version": "1.5.0",
       "_view_name": "HTMLView",
       "description": "",
       "description_tooltip": null,
       "layout": "IPY_MODEL_d2b75f6057f94f1aac50ca8dfe14873a",
       "placeholder": "​",
       "style": "IPY_MODEL_e0f57f6366e84be9b52bc990876a2a91",
       "value": "100%"
      }
     },
     "47cdadeb01cf42178bd3c5b21da6725b": {
      "model_module": "@jupyter-widgets/controls",
      "model_module_version": "1.5.0",
      "model_name": "HTMLModel",
      "state": {
       "_dom_classes": [],
       "_model_module": "@jupyter-widgets/controls",
       "_model_module_version": "1.5.0",
       "_model_name": "HTMLModel",
       "_view_count": null,
       "_view_module": "@jupyter-widgets/controls",
       "_view_module_version": "1.5.0",
       "_view_name": "HTMLView",
       "description": "",
       "description_tooltip": null,
       "layout": "IPY_MODEL_ce4e25663242448fa0c02a3702a7f2a7",
       "placeholder": "​",
       "style": "IPY_MODEL_c17488ccbfc048df8670e523af910d5f",
       "value": " 20/20 [01:13&lt;00:00,  3.76s/it]"
      }
     },
     "4c8499e46e7f43388c2fdd50dbd184da": {
      "model_module": "@jupyter-widgets/controls",
      "model_module_version": "1.5.0",
      "model_name": "FloatProgressModel",
      "state": {
       "_dom_classes": [],
       "_model_module": "@jupyter-widgets/controls",
       "_model_module_version": "1.5.0",
       "_model_name": "FloatProgressModel",
       "_view_count": null,
       "_view_module": "@jupyter-widgets/controls",
       "_view_module_version": "1.5.0",
       "_view_name": "ProgressView",
       "bar_style": "success",
       "description": "",
       "description_tooltip": null,
       "layout": "IPY_MODEL_be688f2743c9451792097f1b0cae85c0",
       "max": 20.0,
       "min": 0.0,
       "orientation": "horizontal",
       "style": "IPY_MODEL_14720531803d47ed8f89e0dcff2503d3",
       "value": 20.0
      }
     },
     "8db9151db35f4c7ca92dcb2904b1b988": {
      "model_module": "@jupyter-widgets/base",
      "model_module_version": "1.2.0",
      "model_name": "LayoutModel",
      "state": {
       "_model_module": "@jupyter-widgets/base",
       "_model_module_version": "1.2.0",
       "_model_name": "LayoutModel",
       "_view_count": null,
       "_view_module": "@jupyter-widgets/base",
       "_view_module_version": "1.2.0",
       "_view_name": "LayoutView",
       "align_content": null,
       "align_items": null,
       "align_self": null,
       "border": null,
       "bottom": null,
       "display": null,
       "flex": null,
       "flex_flow": null,
       "grid_area": null,
       "grid_auto_columns": null,
       "grid_auto_flow": null,
       "grid_auto_rows": null,
       "grid_column": null,
       "grid_gap": null,
       "grid_row": null,
       "grid_template_areas": null,
       "grid_template_columns": null,
       "grid_template_rows": null,
       "height": null,
       "justify_content": null,
       "justify_items": null,
       "left": null,
       "margin": null,
       "max_height": null,
       "max_width": null,
       "min_height": null,
       "min_width": null,
       "object_fit": null,
       "object_position": null,
       "order": null,
       "overflow": null,
       "overflow_x": null,
       "overflow_y": null,
       "padding": null,
       "right": null,
       "top": null,
       "visibility": null,
       "width": null
      }
     },
     "a203360325aa4f94a8c44c79340251a9": {
      "model_module": "@jupyter-widgets/controls",
      "model_module_version": "1.5.0",
      "model_name": "HBoxModel",
      "state": {
       "_dom_classes": [],
       "_model_module": "@jupyter-widgets/controls",
       "_model_module_version": "1.5.0",
       "_model_name": "HBoxModel",
       "_view_count": null,
       "_view_module": "@jupyter-widgets/controls",
       "_view_module_version": "1.5.0",
       "_view_name": "HBoxView",
       "box_style": "",
       "children": [
        "IPY_MODEL_2789d8c1dfc44439851b9bab63c3928a",
        "IPY_MODEL_4c8499e46e7f43388c2fdd50dbd184da",
        "IPY_MODEL_47cdadeb01cf42178bd3c5b21da6725b"
       ],
       "layout": "IPY_MODEL_8db9151db35f4c7ca92dcb2904b1b988"
      }
     },
     "be688f2743c9451792097f1b0cae85c0": {
      "model_module": "@jupyter-widgets/base",
      "model_module_version": "1.2.0",
      "model_name": "LayoutModel",
      "state": {
       "_model_module": "@jupyter-widgets/base",
       "_model_module_version": "1.2.0",
       "_model_name": "LayoutModel",
       "_view_count": null,
       "_view_module": "@jupyter-widgets/base",
       "_view_module_version": "1.2.0",
       "_view_name": "LayoutView",
       "align_content": null,
       "align_items": null,
       "align_self": null,
       "border": null,
       "bottom": null,
       "display": null,
       "flex": null,
       "flex_flow": null,
       "grid_area": null,
       "grid_auto_columns": null,
       "grid_auto_flow": null,
       "grid_auto_rows": null,
       "grid_column": null,
       "grid_gap": null,
       "grid_row": null,
       "grid_template_areas": null,
       "grid_template_columns": null,
       "grid_template_rows": null,
       "height": null,
       "justify_content": null,
       "justify_items": null,
       "left": null,
       "margin": null,
       "max_height": null,
       "max_width": null,
       "min_height": null,
       "min_width": null,
       "object_fit": null,
       "object_position": null,
       "order": null,
       "overflow": null,
       "overflow_x": null,
       "overflow_y": null,
       "padding": null,
       "right": null,
       "top": null,
       "visibility": null,
       "width": null
      }
     },
     "c17488ccbfc048df8670e523af910d5f": {
      "model_module": "@jupyter-widgets/controls",
      "model_module_version": "1.5.0",
      "model_name": "DescriptionStyleModel",
      "state": {
       "_model_module": "@jupyter-widgets/controls",
       "_model_module_version": "1.5.0",
       "_model_name": "DescriptionStyleModel",
       "_view_count": null,
       "_view_module": "@jupyter-widgets/base",
       "_view_module_version": "1.2.0",
       "_view_name": "StyleView",
       "description_width": ""
      }
     },
     "ce4e25663242448fa0c02a3702a7f2a7": {
      "model_module": "@jupyter-widgets/base",
      "model_module_version": "1.2.0",
      "model_name": "LayoutModel",
      "state": {
       "_model_module": "@jupyter-widgets/base",
       "_model_module_version": "1.2.0",
       "_model_name": "LayoutModel",
       "_view_count": null,
       "_view_module": "@jupyter-widgets/base",
       "_view_module_version": "1.2.0",
       "_view_name": "LayoutView",
       "align_content": null,
       "align_items": null,
       "align_self": null,
       "border": null,
       "bottom": null,
       "display": null,
       "flex": null,
       "flex_flow": null,
       "grid_area": null,
       "grid_auto_columns": null,
       "grid_auto_flow": null,
       "grid_auto_rows": null,
       "grid_column": null,
       "grid_gap": null,
       "grid_row": null,
       "grid_template_areas": null,
       "grid_template_columns": null,
       "grid_template_rows": null,
       "height": null,
       "justify_content": null,
       "justify_items": null,
       "left": null,
       "margin": null,
       "max_height": null,
       "max_width": null,
       "min_height": null,
       "min_width": null,
       "object_fit": null,
       "object_position": null,
       "order": null,
       "overflow": null,
       "overflow_x": null,
       "overflow_y": null,
       "padding": null,
       "right": null,
       "top": null,
       "visibility": null,
       "width": null
      }
     },
     "d2b75f6057f94f1aac50ca8dfe14873a": {
      "model_module": "@jupyter-widgets/base",
      "model_module_version": "1.2.0",
      "model_name": "LayoutModel",
      "state": {
       "_model_module": "@jupyter-widgets/base",
       "_model_module_version": "1.2.0",
       "_model_name": "LayoutModel",
       "_view_count": null,
       "_view_module": "@jupyter-widgets/base",
       "_view_module_version": "1.2.0",
       "_view_name": "LayoutView",
       "align_content": null,
       "align_items": null,
       "align_self": null,
       "border": null,
       "bottom": null,
       "display": null,
       "flex": null,
       "flex_flow": null,
       "grid_area": null,
       "grid_auto_columns": null,
       "grid_auto_flow": null,
       "grid_auto_rows": null,
       "grid_column": null,
       "grid_gap": null,
       "grid_row": null,
       "grid_template_areas": null,
       "grid_template_columns": null,
       "grid_template_rows": null,
       "height": null,
       "justify_content": null,
       "justify_items": null,
       "left": null,
       "margin": null,
       "max_height": null,
       "max_width": null,
       "min_height": null,
       "min_width": null,
       "object_fit": null,
       "object_position": null,
       "order": null,
       "overflow": null,
       "overflow_x": null,
       "overflow_y": null,
       "padding": null,
       "right": null,
       "top": null,
       "visibility": null,
       "width": null
      }
     },
     "e0f57f6366e84be9b52bc990876a2a91": {
      "model_module": "@jupyter-widgets/controls",
      "model_module_version": "1.5.0",
      "model_name": "DescriptionStyleModel",
      "state": {
       "_model_module": "@jupyter-widgets/controls",
       "_model_module_version": "1.5.0",
       "_model_name": "DescriptionStyleModel",
       "_view_count": null,
       "_view_module": "@jupyter-widgets/base",
       "_view_module_version": "1.2.0",
       "_view_name": "StyleView",
       "description_width": ""
      }
     }
    },
    "version_major": 2,
    "version_minor": 0
   }
  }
 },
 "nbformat": 4,
 "nbformat_minor": 5
}
