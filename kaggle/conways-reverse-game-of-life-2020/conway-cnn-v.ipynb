{
 "cells": [
  {
   "cell_type": "code",
   "execution_count": 1,
   "id": "0ee56f85",
   "metadata": {
    "_cell_guid": "b1076dfc-b9ad-4769-8c92-a6c4dae69d19",
    "_uuid": "8f2839f25d086af736a60e9eeb907d3b93b6e0e5",
    "execution": {
     "iopub.execute_input": "2023-06-08T05:38:19.864190Z",
     "iopub.status.busy": "2023-06-08T05:38:19.863125Z",
     "iopub.status.idle": "2023-06-08T05:38:19.879410Z",
     "shell.execute_reply": "2023-06-08T05:38:19.878541Z"
    },
    "papermill": {
     "duration": 0.026054,
     "end_time": "2023-06-08T05:38:19.882031",
     "exception": false,
     "start_time": "2023-06-08T05:38:19.855977",
     "status": "completed"
    },
    "tags": []
   },
   "outputs": [
    {
     "name": "stdout",
     "output_type": "stream",
     "text": [
      "/kaggle/input/conways-reverse-game-of-life-2020/sample_submission.csv\n",
      "/kaggle/input/conways-reverse-game-of-life-2020/train.csv\n",
      "/kaggle/input/conways-reverse-game-of-life-2020/test.csv\n"
     ]
    }
   ],
   "source": [
    "# This Python 3 environment comes with many helpful analytics libraries installed\n",
    "# It is defined by the kaggle/python Docker image: https://github.com/kaggle/docker-python\n",
    "# For example, here's several helpful packages to load\n",
    "\n",
    "import numpy as np # linear algebra\n",
    "import pandas as pd # data processing, CSV file I/O (e.g. pd.read_csv)\n",
    "\n",
    "# Input data files are available in the read-only \"../input/\" directory\n",
    "# For example, running this (by clicking run or pressing Shift+Enter) will list all files under the input directory\n",
    "\n",
    "import os\n",
    "for dirname, _, filenames in os.walk('/kaggle/input'):\n",
    "    for filename in filenames:\n",
    "        print(os.path.join(dirname, filename))\n",
    "\n",
    "# You can write up to 20GB to the current directory (/kaggle/working/) that gets preserved as output when you create a version using \"Save & Run All\" \n",
    "# You can also write temporary files to /kaggle/temp/, but they won't be saved outside of the current session"
   ]
  },
  {
   "cell_type": "code",
   "execution_count": 2,
   "id": "c5a5343d",
   "metadata": {
    "execution": {
     "iopub.execute_input": "2023-06-08T05:38:19.893988Z",
     "iopub.status.busy": "2023-06-08T05:38:19.893148Z",
     "iopub.status.idle": "2023-06-08T05:38:27.631841Z",
     "shell.execute_reply": "2023-06-08T05:38:27.630914Z"
    },
    "papermill": {
     "duration": 7.747221,
     "end_time": "2023-06-08T05:38:27.634367",
     "exception": false,
     "start_time": "2023-06-08T05:38:19.887146",
     "status": "completed"
    },
    "tags": []
   },
   "outputs": [
    {
     "name": "stderr",
     "output_type": "stream",
     "text": [
      "/opt/conda/lib/python3.10/site-packages/tensorflow_io/python/ops/__init__.py:98: UserWarning: unable to load libtensorflow_io_plugins.so: unable to open file: libtensorflow_io_plugins.so, from paths: ['/opt/conda/lib/python3.10/site-packages/tensorflow_io/python/ops/libtensorflow_io_plugins.so']\n",
      "caused by: ['/opt/conda/lib/python3.10/site-packages/tensorflow_io/python/ops/libtensorflow_io_plugins.so: undefined symbol: _ZN3tsl6StatusC1EN10tensorflow5error4CodeESt17basic_string_viewIcSt11char_traitsIcEENS_14SourceLocationE']\n",
      "  warnings.warn(f\"unable to load libtensorflow_io_plugins.so: {e}\")\n",
      "/opt/conda/lib/python3.10/site-packages/tensorflow_io/python/ops/__init__.py:104: UserWarning: file system plugins are not loaded: unable to open file: libtensorflow_io.so, from paths: ['/opt/conda/lib/python3.10/site-packages/tensorflow_io/python/ops/libtensorflow_io.so']\n",
      "caused by: ['/opt/conda/lib/python3.10/site-packages/tensorflow_io/python/ops/libtensorflow_io.so: undefined symbol: _ZTVN10tensorflow13GcsFileSystemE']\n",
      "  warnings.warn(f\"file system plugins are not loaded: {e}\")\n"
     ]
    }
   ],
   "source": [
    "import numpy as np \n",
    "import pandas as pd \n",
    "import os\n",
    "import tensorflow as tf\n",
    "import matplotlib.pyplot as plt"
   ]
  },
  {
   "cell_type": "code",
   "execution_count": 3,
   "id": "96004f51",
   "metadata": {
    "execution": {
     "iopub.execute_input": "2023-06-08T05:38:27.647018Z",
     "iopub.status.busy": "2023-06-08T05:38:27.645996Z",
     "iopub.status.idle": "2023-06-08T05:38:40.107713Z",
     "shell.execute_reply": "2023-06-08T05:38:40.106771Z"
    },
    "papermill": {
     "duration": 12.470316,
     "end_time": "2023-06-08T05:38:40.110249",
     "exception": false,
     "start_time": "2023-06-08T05:38:27.639933",
     "status": "completed"
    },
    "tags": []
   },
   "outputs": [],
   "source": [
    "train_df = pd.read_csv('/kaggle/input/conways-reverse-game-of-life-2020/train.csv')\n",
    "test_df = pd.read_csv(\"/kaggle/input/conways-reverse-game-of-life-2020/test.csv\")\n",
    "sample_submission = pd.read_csv(\"/kaggle/input/conways-reverse-game-of-life-2020/sample_submission.csv\")"
   ]
  },
  {
   "cell_type": "code",
   "execution_count": 4,
   "id": "307d4dd0",
   "metadata": {
    "execution": {
     "iopub.execute_input": "2023-06-08T05:38:40.121842Z",
     "iopub.status.busy": "2023-06-08T05:38:40.121563Z",
     "iopub.status.idle": "2023-06-08T05:38:40.126768Z",
     "shell.execute_reply": "2023-06-08T05:38:40.125922Z"
    },
    "papermill": {
     "duration": 0.013558,
     "end_time": "2023-06-08T05:38:40.129135",
     "exception": false,
     "start_time": "2023-06-08T05:38:40.115577",
     "status": "completed"
    },
    "tags": []
   },
   "outputs": [],
   "source": [
    "start_features = [f for f in train_df.columns if \"start\" in f]\n",
    "stop_features = [f for f in train_df.columns if \"stop\" in f]\n",
    "\n",
    "features_in = stop_features + [\"delta\"]"
   ]
  },
  {
   "cell_type": "code",
   "execution_count": 5,
   "id": "2aa30fb9",
   "metadata": {
    "execution": {
     "iopub.execute_input": "2023-06-08T05:38:40.140711Z",
     "iopub.status.busy": "2023-06-08T05:38:40.140208Z",
     "iopub.status.idle": "2023-06-08T05:38:42.112530Z",
     "shell.execute_reply": "2023-06-08T05:38:42.111537Z"
    },
    "papermill": {
     "duration": 1.980864,
     "end_time": "2023-06-08T05:38:42.115010",
     "exception": false,
     "start_time": "2023-06-08T05:38:40.134146",
     "status": "completed"
    },
    "tags": []
   },
   "outputs": [],
   "source": [
    "from sklearn.model_selection import train_test_split\n",
    "delta_train, delta_validation, stop_train, stop_validation, Y_train, Y_valid = train_test_split(train_df[\"delta\"].values, \n",
    "                                                                                                train_df[stop_features].values.reshape(-1, 25, 25, 1).astype(float),\n",
    "                                                                                                train_df[start_features].values.reshape(-1, 25, 25, 1).astype(float),\n",
    "                                                                                                test_size=0.33,\n",
    "                                                                                                )"
   ]
  },
  {
   "cell_type": "code",
   "execution_count": 6,
   "id": "6533d26e",
   "metadata": {
    "execution": {
     "iopub.execute_input": "2023-06-08T05:38:42.126611Z",
     "iopub.status.busy": "2023-06-08T05:38:42.126322Z",
     "iopub.status.idle": "2023-06-08T05:38:42.593339Z",
     "shell.execute_reply": "2023-06-08T05:38:42.592262Z"
    },
    "papermill": {
     "duration": 0.475768,
     "end_time": "2023-06-08T05:38:42.596066",
     "exception": false,
     "start_time": "2023-06-08T05:38:42.120298",
     "status": "completed"
    },
    "tags": []
   },
   "outputs": [],
   "source": [
    "X_train = [delta_train, stop_train]\n",
    "X_valid = [delta_validation, stop_validation]\n",
    "X_test = [test_df[\"delta\"].values, test_df[stop_features].values.reshape(-1, 25, 25, 1).astype(float)]\n",
    "\n",
    "X_all_train = [train_df[\"delta\"].values, train_df[stop_features].values.reshape(-1, 25, 25, 1).astype(float)]\n",
    "Y_all_train = train_df[start_features].values.reshape(-1, 25, 25, 1).astype(float)"
   ]
  },
  {
   "cell_type": "code",
   "execution_count": 7,
   "id": "db1e844b",
   "metadata": {
    "execution": {
     "iopub.execute_input": "2023-06-08T05:38:42.610147Z",
     "iopub.status.busy": "2023-06-08T05:38:42.608556Z",
     "iopub.status.idle": "2023-06-08T05:38:42.616211Z",
     "shell.execute_reply": "2023-06-08T05:38:42.615369Z"
    },
    "papermill": {
     "duration": 0.01628,
     "end_time": "2023-06-08T05:38:42.618152",
     "exception": false,
     "start_time": "2023-06-08T05:38:42.601872",
     "status": "completed"
    },
    "tags": []
   },
   "outputs": [],
   "source": [
    "def conv_block(inputs, filters, index, activation='relu'):\n",
    "    \"\"\" Creates a convolutional block with batch normalization.\n",
    "    \n",
    "    Args:\n",
    "        inputs: input layer.\n",
    "        filters: number of filters in the convolutional layer.\n",
    "        index: Index for the name of the convolutional layer.\n",
    "        activation: Activation of the convolutional block. \n",
    "        (default='relu')\n",
    "    \n",
    "    Out:\n",
    "        keras.layer: Layer of the convolutional block.\n",
    "        \n",
    "    \"\"\"\n",
    "    x = layers.Conv2D(filters, kernel_size=(3,3), padding=\"SAME\", name=f'conv{index}')(inputs)\n",
    "    x = layers.BatchNormalization()(x)\n",
    "    return layers.Activation(activation, name=activation + str(index))(x)"
   ]
  },
  {
   "cell_type": "code",
   "execution_count": 8,
   "id": "46ed80a6",
   "metadata": {
    "execution": {
     "iopub.execute_input": "2023-06-08T05:38:42.630568Z",
     "iopub.status.busy": "2023-06-08T05:38:42.629199Z",
     "iopub.status.idle": "2023-06-08T05:38:42.639833Z",
     "shell.execute_reply": "2023-06-08T05:38:42.639016Z"
    },
    "papermill": {
     "duration": 0.018882,
     "end_time": "2023-06-08T05:38:42.641972",
     "exception": false,
     "start_time": "2023-06-08T05:38:42.623090",
     "status": "completed"
    },
    "tags": []
   },
   "outputs": [],
   "source": [
    "from tensorflow.keras import layers\n",
    "from tensorflow.keras.models import Model\n",
    "def create_model(dropout_prob=0.3):\n",
    "    \"\"\" Creates the CNN model with the convolutional block.\n",
    "    \"\"\"\n",
    "    input_delta = layers.Input(shape=(1,), name=\"input_delta\")\n",
    "    dense_delta = layers.Dense(25*25, name='dense_delta')(input_delta)\n",
    "    dense_reshape = layers.Reshape((25,25,1), name='reshape_delta')(dense_delta)\n",
    "\n",
    "    input_image = layers.Input(shape=(25,25,1), name=\"input_images\")\n",
    "    all_inputs = layers.Concatenate(axis=3, name='concatenate')([input_image, dense_reshape])\n",
    "\n",
    "    x = conv_block(all_inputs, 32, index=1)    \n",
    "    x = layers.Dropout(dropout_prob)(x)\n",
    "    \n",
    "    x = conv_block(x, 128, index=2)    \n",
    "    x = layers.Dropout(dropout_prob)(x)\n",
    "    \n",
    "    x = conv_block(x, 256, index=3)\n",
    "    x = layers.Dropout(dropout_prob)(x)\n",
    "    \n",
    "    x = conv_block(x, 64, index=4)\n",
    "    x = layers.Dropout(dropout_prob)(x)\n",
    "    \n",
    "    out = conv_block(x, 1, index=5, activation='sigmoid')\n",
    "\n",
    "    return Model(inputs=[input_delta, input_image], outputs=out)"
   ]
  },
  {
   "cell_type": "code",
   "execution_count": 9,
   "id": "57b07b77",
   "metadata": {
    "execution": {
     "iopub.execute_input": "2023-06-08T05:38:42.652988Z",
     "iopub.status.busy": "2023-06-08T05:38:42.652688Z",
     "iopub.status.idle": "2023-06-08T05:38:45.321397Z",
     "shell.execute_reply": "2023-06-08T05:38:45.320470Z"
    },
    "papermill": {
     "duration": 2.676871,
     "end_time": "2023-06-08T05:38:45.323851",
     "exception": false,
     "start_time": "2023-06-08T05:38:42.646980",
     "status": "completed"
    },
    "tags": []
   },
   "outputs": [],
   "source": [
    "model = create_model()\n",
    "model.compile(loss=\"bce\", optimizer=tf.keras.optimizers.Adam(), metrics=[\"accuracy\"])"
   ]
  },
  {
   "cell_type": "code",
   "execution_count": 10,
   "id": "6b8dfe21",
   "metadata": {
    "execution": {
     "iopub.execute_input": "2023-06-08T05:38:45.337444Z",
     "iopub.status.busy": "2023-06-08T05:38:45.337134Z",
     "iopub.status.idle": "2023-06-08T05:44:09.538283Z",
     "shell.execute_reply": "2023-06-08T05:44:09.537110Z"
    },
    "papermill": {
     "duration": 324.210768,
     "end_time": "2023-06-08T05:44:09.540999",
     "exception": false,
     "start_time": "2023-06-08T05:38:45.330231",
     "status": "completed"
    },
    "tags": []
   },
   "outputs": [
    {
     "name": "stdout",
     "output_type": "stream",
     "text": [
      "Epoch 1/25\n"
     ]
    },
    {
     "name": "stderr",
     "output_type": "stream",
     "text": [
      "2023-06-08 05:38:47.437080: E tensorflow/core/grappler/optimizers/meta_optimizer.cc:954] layout failed: INVALID_ARGUMENT: Size of values 0 does not match size of permutation 4 @ fanin shape inmodel/dropout/dropout/SelectV2-2-TransposeNHWCToNCHW-LayoutOptimizer\n"
     ]
    },
    {
     "name": "stdout",
     "output_type": "stream",
     "text": [
      "262/262 [==============================] - 26s 54ms/step - loss: 0.6003 - accuracy: 0.7340 - val_loss: 0.4369 - val_accuracy: 0.8464\n",
      "Epoch 2/25\n",
      "262/262 [==============================] - 12s 44ms/step - loss: 0.5196 - accuracy: 0.7822 - val_loss: 0.4476 - val_accuracy: 0.8326\n",
      "Epoch 3/25\n",
      "262/262 [==============================] - 12s 44ms/step - loss: 0.4665 - accuracy: 0.8124 - val_loss: 0.4211 - val_accuracy: 0.8464\n",
      "Epoch 4/25\n",
      "262/262 [==============================] - 12s 44ms/step - loss: 0.4277 - accuracy: 0.8326 - val_loss: 0.3920 - val_accuracy: 0.8545\n",
      "Epoch 5/25\n",
      "262/262 [==============================] - 11s 44ms/step - loss: 0.3993 - accuracy: 0.8443 - val_loss: 0.3756 - val_accuracy: 0.8567\n",
      "Epoch 6/25\n",
      "262/262 [==============================] - 12s 44ms/step - loss: 0.3785 - accuracy: 0.8502 - val_loss: 0.3610 - val_accuracy: 0.8571\n",
      "Epoch 7/25\n",
      "262/262 [==============================] - 13s 49ms/step - loss: 0.3631 - accuracy: 0.8533 - val_loss: 0.3513 - val_accuracy: 0.8577\n",
      "Epoch 8/25\n",
      "262/262 [==============================] - 11s 44ms/step - loss: 0.3516 - accuracy: 0.8552 - val_loss: 0.3371 - val_accuracy: 0.8590\n",
      "Epoch 9/25\n",
      "262/262 [==============================] - 11s 44ms/step - loss: 0.3427 - accuracy: 0.8564 - val_loss: 0.3322 - val_accuracy: 0.8591\n",
      "Epoch 10/25\n",
      "262/262 [==============================] - 12s 44ms/step - loss: 0.3360 - accuracy: 0.8572 - val_loss: 0.3233 - val_accuracy: 0.8597\n",
      "Epoch 11/25\n",
      "262/262 [==============================] - 11s 44ms/step - loss: 0.3310 - accuracy: 0.8577 - val_loss: 0.3208 - val_accuracy: 0.8600\n",
      "Epoch 12/25\n",
      "262/262 [==============================] - 12s 44ms/step - loss: 0.3272 - accuracy: 0.8580 - val_loss: 0.3201 - val_accuracy: 0.8602\n",
      "Epoch 13/25\n",
      "262/262 [==============================] - 11s 44ms/step - loss: 0.3242 - accuracy: 0.8582 - val_loss: 0.3182 - val_accuracy: 0.8603\n",
      "Epoch 14/25\n",
      "262/262 [==============================] - 11s 44ms/step - loss: 0.3219 - accuracy: 0.8585 - val_loss: 0.3162 - val_accuracy: 0.8606\n",
      "Epoch 15/25\n",
      "262/262 [==============================] - 12s 44ms/step - loss: 0.3203 - accuracy: 0.8586 - val_loss: 0.3153 - val_accuracy: 0.8606\n",
      "Epoch 16/25\n",
      "262/262 [==============================] - 11s 44ms/step - loss: 0.3188 - accuracy: 0.8587 - val_loss: 0.3135 - val_accuracy: 0.8608\n",
      "Epoch 17/25\n",
      "262/262 [==============================] - 11s 44ms/step - loss: 0.3177 - accuracy: 0.8589 - val_loss: 0.3135 - val_accuracy: 0.8606\n",
      "Epoch 18/25\n",
      "262/262 [==============================] - 12s 44ms/step - loss: 0.3169 - accuracy: 0.8589 - val_loss: 0.3121 - val_accuracy: 0.8609\n",
      "Epoch 19/25\n",
      "262/262 [==============================] - 11s 44ms/step - loss: 0.3163 - accuracy: 0.8590 - val_loss: 0.3126 - val_accuracy: 0.8610\n",
      "Epoch 20/25\n",
      "262/262 [==============================] - 11s 44ms/step - loss: 0.3157 - accuracy: 0.8591 - val_loss: 0.3112 - val_accuracy: 0.8610\n",
      "Epoch 21/25\n",
      "262/262 [==============================] - 12s 44ms/step - loss: 0.3153 - accuracy: 0.8592 - val_loss: 0.3118 - val_accuracy: 0.8610\n",
      "Epoch 22/25\n",
      "262/262 [==============================] - 11s 44ms/step - loss: 0.3150 - accuracy: 0.8592 - val_loss: 0.3114 - val_accuracy: 0.8612\n",
      "Epoch 23/25\n",
      "262/262 [==============================] - 12s 44ms/step - loss: 0.3148 - accuracy: 0.8593 - val_loss: 0.3112 - val_accuracy: 0.8612\n",
      "Epoch 24/25\n",
      "262/262 [==============================] - 11s 44ms/step - loss: 0.3144 - accuracy: 0.8594 - val_loss: 0.3109 - val_accuracy: 0.8612\n",
      "Epoch 25/25\n",
      "262/262 [==============================] - 12s 44ms/step - loss: 0.3142 - accuracy: 0.8594 - val_loss: 0.3108 - val_accuracy: 0.8612\n"
     ]
    }
   ],
   "source": [
    "history = model.fit(x=X_train,\n",
    "                    y=Y_train, \n",
    "                    batch_size=128,\n",
    "                    epochs=25,\n",
    "                    validation_data=(X_valid, Y_valid))"
   ]
  },
  {
   "cell_type": "code",
   "execution_count": 11,
   "id": "a8181200",
   "metadata": {
    "execution": {
     "iopub.execute_input": "2023-06-08T05:44:10.106017Z",
     "iopub.status.busy": "2023-06-08T05:44:10.104975Z",
     "iopub.status.idle": "2023-06-08T05:44:10.576533Z",
     "shell.execute_reply": "2023-06-08T05:44:10.575595Z"
    },
    "papermill": {
     "duration": 0.731853,
     "end_time": "2023-06-08T05:44:10.579054",
     "exception": false,
     "start_time": "2023-06-08T05:44:09.847201",
     "status": "completed"
    },
    "tags": []
   },
   "outputs": [
    {
     "data": {
      "image/png": "[encoded data removed]",
      "text/plain": [
       "<Figure size 1200x600 with 2 Axes>"
      ]
     },
     "metadata": {},
     "output_type": "display_data"
    }
   ],
   "source": [
    "loss = history.history['loss']\n",
    "val_loss = history.history['val_loss']\n",
    "accuracy = history.history['accuracy']\n",
    "val_accuracy = history.history['val_accuracy']\n",
    "epochs = range(len(loss))\n",
    "\n",
    "fig = plt.figure(figsize=(12,6))\n",
    "gs = fig.add_gridspec(1, 2)\n",
    "ax1 = fig.add_subplot(gs[0, 0])\n",
    "ax2 = fig.add_subplot(gs[0, 1])\n",
    "\n",
    "ax1.plot(epochs, loss, 'r', label='Training')\n",
    "ax1.plot(epochs, val_loss, 'b', label='Validation')\n",
    "ax1.set_xlabel('Epochs', size=16)\n",
    "ax1.set_ylabel('Loss', size=16)\n",
    "ax1.legend()\n",
    "\n",
    "ax2.plot(epochs, accuracy, 'r', label='Training')\n",
    "ax2.plot(epochs, val_accuracy, 'b', label='Validation')\n",
    "ax2.set_xlabel('Epochs', size=16)\n",
    "ax2.set_ylabel('Accuracy', size=16)\n",
    "ax2.legend()\n",
    "plt.show()"
   ]
  },
  {
   "cell_type": "code",
   "execution_count": 12,
   "id": "db0f66e4",
   "metadata": {
    "execution": {
     "iopub.execute_input": "2023-06-08T05:44:11.101013Z",
     "iopub.status.busy": "2023-06-08T05:44:11.099954Z",
     "iopub.status.idle": "2023-06-08T05:44:14.513842Z",
     "shell.execute_reply": "2023-06-08T05:44:14.512763Z"
    },
    "papermill": {
     "duration": 3.675001,
     "end_time": "2023-06-08T05:44:14.516085",
     "exception": false,
     "start_time": "2023-06-08T05:44:10.841084",
     "status": "completed"
    },
    "tags": []
   },
   "outputs": [
    {
     "name": "stdout",
     "output_type": "stream",
     "text": [
      "516/516 [==============================] - 2s 4ms/step\n"
     ]
    },
    {
     "data": {
      "image/png": "[encoded data removed]",
      "text/plain": [
       "<Figure size 640x480 with 3 Axes>"
      ]
     },
     "metadata": {},
     "output_type": "display_data"
    }
   ],
   "source": [
    "idx = 2\n",
    "\n",
    "delta_sample = X_valid[0][idx]\n",
    "img_sample = X_valid[1][idx]\n",
    "out_sample = Y_valid[idx]\n",
    "predicted = model.predict(X_valid)\n",
    "\n",
    "fig, (ax1, ax2, ax3) = plt.subplots(1, 3)\n",
    "fig.suptitle(\"Delta: \" + str(delta_sample))\n",
    "\n",
    "ax1.imshow((img_sample.reshape(25, 25)), cmap=\"gray\")\n",
    "ax1.set_title(\"Stop Setting\")\n",
    "\n",
    "ax2.imshow((out_sample.reshape(25, 25)), cmap=\"gray\")\n",
    "ax2.set_title(\"Start Setting\")\n",
    "\n",
    "ax3.imshow((predicted[idx]>=0.5).reshape(25, 25), cmap=\"gray\")\n",
    "ax3.set_title(\"Predicted Setting\")\n",
    "plt.show()"
   ]
  },
  {
   "cell_type": "code",
   "execution_count": 13,
   "id": "026a1284",
   "metadata": {
    "execution": {
     "iopub.execute_input": "2023-06-08T05:44:15.041123Z",
     "iopub.status.busy": "2023-06-08T05:44:15.040354Z",
     "iopub.status.idle": "2023-06-08T05:44:15.195842Z",
     "shell.execute_reply": "2023-06-08T05:44:15.194975Z"
    },
    "papermill": {
     "duration": 0.419425,
     "end_time": "2023-06-08T05:44:15.198062",
     "exception": false,
     "start_time": "2023-06-08T05:44:14.778637",
     "status": "completed"
    },
    "tags": []
   },
   "outputs": [],
   "source": [
    "model = create_model()\n",
    "model.compile(loss=\"bce\", optimizer=tf.keras.optimizers.Adam(), metrics=[\"accuracy\"])"
   ]
  },
  {
   "cell_type": "code",
   "execution_count": 14,
   "id": "d2740784",
   "metadata": {
    "execution": {
     "iopub.execute_input": "2023-06-08T05:44:15.724909Z",
     "iopub.status.busy": "2023-06-08T05:44:15.723008Z",
     "iopub.status.idle": "2023-06-08T05:49:25.840008Z",
     "shell.execute_reply": "2023-06-08T05:49:25.839101Z"
    },
    "papermill": {
     "duration": 310.381924,
     "end_time": "2023-06-08T05:49:25.842423",
     "exception": false,
     "start_time": "2023-06-08T05:44:15.460499",
     "status": "completed"
    },
    "tags": []
   },
   "outputs": [
    {
     "name": "stdout",
     "output_type": "stream",
     "text": [
      "Epoch 1/20\n"
     ]
    },
    {
     "name": "stderr",
     "output_type": "stream",
     "text": [
      "2023-06-08 05:44:17.930997: E tensorflow/core/grappler/optimizers/meta_optimizer.cc:954] layout failed: INVALID_ARGUMENT: Size of values 0 does not match size of permutation 4 @ fanin shape inmodel_1/dropout_4/dropout/SelectV2-2-TransposeNHWCToNCHW-LayoutOptimizer\n"
     ]
    },
    {
     "name": "stdout",
     "output_type": "stream",
     "text": [
      "391/391 [==============================] - 20s 41ms/step - loss: 0.5797 - accuracy: 0.7462\n",
      "Epoch 2/20\n",
      "391/391 [==============================] - 15s 39ms/step - loss: 0.4805 - accuracy: 0.8033\n",
      "Epoch 3/20\n",
      "391/391 [==============================] - 15s 39ms/step - loss: 0.4216 - accuracy: 0.8344\n",
      "Epoch 4/20\n",
      "391/391 [==============================] - 15s 39ms/step - loss: 0.3845 - accuracy: 0.8480\n",
      "Epoch 5/20\n",
      "391/391 [==============================] - 15s 39ms/step - loss: 0.3609 - accuracy: 0.8535\n",
      "Epoch 6/20\n",
      "391/391 [==============================] - 15s 39ms/step - loss: 0.3455 - accuracy: 0.8558\n",
      "Epoch 7/20\n",
      "391/391 [==============================] - 15s 39ms/step - loss: 0.3354 - accuracy: 0.8570\n",
      "Epoch 8/20\n",
      "391/391 [==============================] - 15s 39ms/step - loss: 0.3287 - accuracy: 0.8577\n",
      "Epoch 9/20\n",
      "391/391 [==============================] - 15s 39ms/step - loss: 0.3242 - accuracy: 0.8580\n",
      "Epoch 10/20\n",
      "391/391 [==============================] - 15s 39ms/step - loss: 0.3212 - accuracy: 0.8583\n",
      "Epoch 11/20\n",
      "391/391 [==============================] - 15s 39ms/step - loss: 0.3192 - accuracy: 0.8585\n",
      "Epoch 12/20\n",
      "391/391 [==============================] - 15s 39ms/step - loss: 0.3178 - accuracy: 0.8586\n",
      "Epoch 13/20\n",
      "391/391 [==============================] - 15s 39ms/step - loss: 0.3167 - accuracy: 0.8588\n",
      "Epoch 14/20\n",
      "391/391 [==============================] - 15s 39ms/step - loss: 0.3159 - accuracy: 0.8589\n",
      "Epoch 15/20\n",
      "391/391 [==============================] - 15s 39ms/step - loss: 0.3155 - accuracy: 0.8590\n",
      "Epoch 16/20\n",
      "391/391 [==============================] - 15s 39ms/step - loss: 0.3152 - accuracy: 0.8590\n",
      "Epoch 17/20\n",
      "391/391 [==============================] - 15s 39ms/step - loss: 0.3149 - accuracy: 0.8591\n",
      "Epoch 18/20\n",
      "391/391 [==============================] - 15s 39ms/step - loss: 0.3146 - accuracy: 0.8592\n",
      "Epoch 19/20\n",
      "391/391 [==============================] - 15s 39ms/step - loss: 0.3143 - accuracy: 0.8593\n",
      "Epoch 20/20\n",
      "391/391 [==============================] - 15s 39ms/step - loss: 0.3142 - accuracy: 0.8593\n"
     ]
    }
   ],
   "source": [
    "history = model.fit(x=X_all_train,\n",
    "                    y=Y_all_train, \n",
    "                    batch_size=128,\n",
    "                    epochs=20,\n",
    "                   )"
   ]
  },
  {
   "cell_type": "code",
   "execution_count": 15,
   "id": "2b6bbbf5",
   "metadata": {
    "execution": {
     "iopub.execute_input": "2023-06-08T05:49:27.046846Z",
     "iopub.status.busy": "2023-06-08T05:49:27.046474Z",
     "iopub.status.idle": "2023-06-08T05:49:38.033708Z",
     "shell.execute_reply": "2023-06-08T05:49:38.032712Z"
    },
    "papermill": {
     "duration": 11.610025,
     "end_time": "2023-06-08T05:49:38.036233",
     "exception": false,
     "start_time": "2023-06-08T05:49:26.426208",
     "status": "completed"
    },
    "tags": []
   },
   "outputs": [
    {
     "name": "stdout",
     "output_type": "stream",
     "text": [
      "1563/1563 [==============================] - 6s 3ms/step\n"
     ]
    }
   ],
   "source": [
    "test_prediction = model.predict(X_test)\n",
    "test_prediction = (test_prediction > 0.5).astype(int).reshape(test_df.shape[0], -1)\n",
    "sub = test_df[[\"id\"]].copy()\n",
    "tmp = pd.DataFrame(test_prediction, columns=start_features)\n",
    "submission = sub.join(tmp)"
   ]
  },
  {
   "cell_type": "code",
   "execution_count": 16,
   "id": "cee9b138",
   "metadata": {
    "execution": {
     "iopub.execute_input": "2023-06-08T05:49:39.189371Z",
     "iopub.status.busy": "2023-06-08T05:49:39.189009Z",
     "iopub.status.idle": "2023-06-08T05:49:45.434011Z",
     "shell.execute_reply": "2023-06-08T05:49:45.433057Z"
    },
    "papermill": {
     "duration": 6.821698,
     "end_time": "2023-06-08T05:49:45.436455",
     "exception": false,
     "start_time": "2023-06-08T05:49:38.614757",
     "status": "completed"
    },
    "tags": []
   },
   "outputs": [],
   "source": [
    "submission.to_csv(\"submission.csv\", index=False)"
   ]
  }
 ],
 "metadata": {
  "kernelspec": {
   "display_name": "Python 3",
   "language": "python",
   "name": "python3"
  },
  "language_info": {
   "codemirror_mode": {
    "name": "ipython",
    "version": 3
   },
   "file_extension": ".py",
   "mimetype": "text/x-python",
   "name": "python",
   "nbconvert_exporter": "python",
   "pygments_lexer": "ipython3",
   "version": "3.10.10"
  },
  "papermill": {
   "default_parameters": {},
   "duration": 700.050759,
   "end_time": "2023-06-08T05:49:49.338583",
   "environment_variables": {},
   "exception": null,
   "input_path": "__notebook__.ipynb",
   "output_path": "__notebook__.ipynb",
   "parameters": {},
   "start_time": "2023-06-08T05:38:09.287824",
   "version": "2.4.0"
  }
 },
 "nbformat": 4,
 "nbformat_minor": 5
}
