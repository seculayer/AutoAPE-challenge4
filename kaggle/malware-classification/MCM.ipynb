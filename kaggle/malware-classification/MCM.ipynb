{
 "cells": [
  {
   "cell_type": "code",
   "execution_count": 1,
   "id": "e29205a6",
   "metadata": {
    "_kg_hide-input": true,
    "_kg_hide-output": true,
    "execution": {
     "iopub.execute_input": "2023-06-28T01:25:49.740224Z",
     "iopub.status.busy": "2023-06-28T01:25:49.739383Z",
     "iopub.status.idle": "2023-06-28T01:25:49.757058Z",
     "shell.execute_reply": "2023-06-28T01:25:49.755340Z"
    },
    "papermill": {
     "duration": 0.038609,
     "end_time": "2023-06-28T01:25:49.759919",
     "exception": false,
     "start_time": "2023-06-28T01:25:49.721310",
     "status": "completed"
    },
    "tags": []
   },
   "outputs": [
    {
     "name": "stdout",
     "output_type": "stream",
     "text": [
      "Writing HexVectorizer.py\n"
     ]
    }
   ],
   "source": [
    "%%writefile HexVectorizer.py\n",
    "\n",
    "from sklearn.feature_extraction.text import CountVectorizer\n",
    "\n",
    "import os\n",
    "import re\n",
    "\n",
    "# Byte file properties\n",
    "LINE_LEN = 16\n",
    "ADDR_LEN = 9\n",
    "\n",
    "\n",
    "def hex_to_str(hex_line):\n",
    "    \"\"\"\n",
    "    Function to strip \\r, \\n and remove address\n",
    "    of length eight character+space from hex line.\n",
    "    \"\"\"\n",
    "    return hex_line.decode().strip()[ADDR_LEN:]\n",
    "\n",
    "\n",
    "def remove_non_hex(hex_str):\n",
    "    \"\"\"\n",
    "    Function to remove non hex characters.\n",
    "    \"\"\"\n",
    "    # Replace non hex characters with empty string.\n",
    "    hex_str = re.sub(r\"[^0-9A-F\\s]+\", \"\", hex_str, flags=re.IGNORECASE)\n",
    "    # Replace multiple spaces with single space.\n",
    "    hex_str = re.sub(r\"\\s+\", \" \", hex_str)\n",
    "\n",
    "    return hex_str.strip().lower()\n",
    "\n",
    "\n",
    "class Vectorizer(CountVectorizer):\n",
    "    \"\"\"\n",
    "    Convert strings to vectors\n",
    "    \"\"\"\n",
    "\n",
    "    def transform_byte_file(self, ts_file):\n",
    "        \"\"\"\n",
    "        Function to convert a byte-file into a data-point/row in CSV file.\n",
    "        Each data-point will have file-name, file-size & byte-string columns.\n",
    "        \"\"\"\n",
    "\n",
    "        # Open the byte-file for reading.\n",
    "        with open(ts_file, \"rb\") as byt_f:\n",
    "            # Remove memory address in the beginning of each line and concatenate\n",
    "            # all lines in the byte-file into a single string separated by space.\n",
    "            byt_str = \" \".join([hex_to_str(line) for line in byt_f.readlines()])\n",
    "            byt_str = remove_non_hex(byt_str)\n",
    "\n",
    "            # Get the byte-file name.\n",
    "            f_path, _ = os.path.splitext(byt_f.name)  # Full path, extension.\n",
    "            _, f_name = f_path.rsplit(\"/\", 1)  # Relative path, file-name.\n",
    "\n",
    "            # Get the byte-file size.\n",
    "            file_info = os.stat(byt_f.name)\n",
    "            f_size = file_info.st_size\n",
    "\n",
    "            bow = self.transform([byt_str]).toarray()[0].tolist()\n",
    "            return [f_name, f_size] + bow\n",
    "\n",
    "    def get_feature_names(self):\n",
    "        \"\"\"\n",
    "        Function to return vocabulary as feature names.\n",
    "        \"\"\"\n",
    "        return self.get_feature_names_out().tolist()"
   ]
  },
  {
   "cell_type": "code",
   "execution_count": 2,
   "id": "f7eb740f",
   "metadata": {
    "_kg_hide-input": true,
    "execution": {
     "iopub.execute_input": "2023-06-28T01:25:49.825072Z",
     "iopub.status.busy": "2023-06-28T01:25:49.824302Z",
     "iopub.status.idle": "2023-06-28T01:25:51.541060Z",
     "shell.execute_reply": "2023-06-28T01:25:51.539252Z"
    },
    "papermill": {
     "duration": 1.73869,
     "end_time": "2023-06-28T01:25:51.543866",
     "exception": false,
     "start_time": "2023-06-28T01:25:49.805176",
     "status": "completed"
    },
    "tags": []
   },
   "outputs": [
    {
     "name": "stdout",
     "output_type": "stream",
     "text": [
      "NumPy version: 1.21.6\n",
      "Pandas version: 1.3.5\n",
      "Matplotlib version: 3.5.3\n",
      "Seaborn version: 0.11.2\n",
      "Scikit-learn version: 1.0.2\n"
     ]
    }
   ],
   "source": [
    "# Data manipulation libraries.\n",
    "import numpy as np\n",
    "import pandas as pd\n",
    "\n",
    "# Data visualization libraries.\n",
    "import matplotlib\n",
    "import matplotlib.pyplot as plt\n",
    "import seaborn as sns\n",
    "from prettytable import PrettyTable\n",
    "\n",
    "# Data modeling libraries.\n",
    "import sklearn\n",
    "from sklearn.feature_extraction.text import CountVectorizer\n",
    "from sklearn.preprocessing import LabelEncoder, StandardScaler, MinMaxScaler\n",
    "from sklearn.manifold import TSNE\n",
    "from sklearn.model_selection import train_test_split\n",
    "from sklearn.utils.class_weight import compute_sample_weight\n",
    "from xgboost import XGBClassifier\n",
    "from sklearn.metrics import log_loss\n",
    "from sklearn.model_selection import GridSearchCV\n",
    "\n",
    "# General Imports\n",
    "import os\n",
    "import csv\n",
    "import re\n",
    "import time\n",
    "import math\n",
    "from tqdm import tqdm\n",
    "import multiprocessing\n",
    "from multiprocessing import Pool\n",
    "\n",
    "# Custom modules\n",
    "from HexVectorizer import Vectorizer\n",
    "\n",
    "\n",
    "# Library versions.\n",
    "print(\"NumPy version:\", np.__version__)\n",
    "print(\"Pandas version:\", pd.__version__)\n",
    "print(\"Matplotlib version:\", matplotlib.__version__)\n",
    "print(\"Seaborn version:\", sns.__version__)\n",
    "print(\"Scikit-learn version:\", sklearn.__version__)\n",
    "\n",
    "# Configure NumPy.\n",
    "# Set `Line width` to Maximum 130 characters in the output, post which it will continue in next line.\n",
    "np.set_printoptions(linewidth=130)\n",
    "\n",
    "# Configure Pandas.\n",
    "# Set display width to maximum 130 characters in the output, post which it will continue in next line.\n",
    "pd.options.display.width = 130\n",
    "# pd.options.display.max_rows = None  # Very dangerous! if dataset is large.\n",
    "\n",
    "# Configure Seaborn.\n",
    "sns.set_style(\"whitegrid\")  # Set white background with grid.\n",
    "sns.set_palette(\"deep\")  # Set color palette.\n",
    "sns.set_context(\"paper\", font_scale=1.5)  # Set font to scale 1.5 more than normal."
   ]
  },
  {
   "cell_type": "code",
   "execution_count": 3,
   "id": "fe89e60c",
   "metadata": {
    "_kg_hide-input": true,
    "execution": {
     "iopub.execute_input": "2023-06-28T01:25:51.604077Z",
     "iopub.status.busy": "2023-06-28T01:25:51.603555Z",
     "iopub.status.idle": "2023-06-28T01:25:51.617267Z",
     "shell.execute_reply": "2023-06-28T01:25:51.616002Z"
    },
    "papermill": {
     "duration": 0.032614,
     "end_time": "2023-06-28T01:25:51.620021",
     "exception": false,
     "start_time": "2023-06-28T01:25:51.587407",
     "status": "completed"
    },
    "tags": []
   },
   "outputs": [],
   "source": [
    "TRAIN_DIR = \"../input/malware-classification/train/\"\n",
    "LABELS_CSV = \"../input/malware-classification/trainLabels.csv\"\n",
    "TEST_DIR = \"../input/malware-classification/test/\"\n",
    "PREPS_DIR = \"../input/microsoft-malware-sample/\"\n",
    "BYTE_EXT = \".bytes\"\n",
    "\n",
    "BAL_CL_CSV = os.path.join(PREPS_DIR, \"trainLabels_bal.csv\")\n",
    "TR_VEC_CSV = os.path.join(PREPS_DIR, \"train_vec.csv\")\n",
    "TS_VEC_CSV = os.path.join(PREPS_DIR, \"test_vec.csv\")\n",
    "\n",
    "# Byte file properties\n",
    "LINE_LEN = 16\n",
    "ADDR_LEN = 9\n",
    "\n",
    "\n",
    "# Malware class-labels.\n",
    "MALWARE_CLS = {\n",
    "    1: \"Ramnit\",\n",
    "    2: \"Lollipop\",\n",
    "    3: \"Kelihos_ver3\",\n",
    "    4: \"Vundo\",\n",
    "    5: \"Simda\",\n",
    "    6: \"Tracur\",\n",
    "    7: \"Kelihos_ver1\",\n",
    "    8: \"Obfuscator.ACY\",\n",
    "    9: \"Gatak\",\n",
    "}\n",
    "mw_codes = lambda: list(MALWARE_CLS.keys())\n",
    "mw_names = lambda: list(MALWARE_CLS.values())\n",
    "\n",
    "\n",
    "SAMPLE_SIZE = 200  # Number of samples taken from each class.\n",
    "# Function to pick random sample of size SAMPLE_SIZE from each class.\n",
    "get_sample = lambda grp: grp.sample(min(SAMPLE_SIZE, len(grp)))\n",
    "\n",
    "\n",
    "def get_weights(cls):\n",
    "    class_weights = {\n",
    "        0: 1,\n",
    "        1: 1,\n",
    "        2: 1,\n",
    "        3: 1,\n",
    "        4: 4,\n",
    "        5: 1,\n",
    "        6: 1,\n",
    "        7: 1,\n",
    "        8: 1,\n",
    "    }\n",
    "\n",
    "    return [class_weights[cl] for cl in cls]"
   ]
  },
  {
   "cell_type": "code",
   "execution_count": 4,
   "id": "890a806a",
   "metadata": {
    "_kg_hide-input": true,
    "execution": {
     "iopub.execute_input": "2023-06-28T01:25:51.680442Z",
     "iopub.status.busy": "2023-06-28T01:25:51.679958Z",
     "iopub.status.idle": "2023-06-28T01:25:51.689288Z",
     "shell.execute_reply": "2023-06-28T01:25:51.688017Z"
    },
    "papermill": {
     "duration": 0.027942,
     "end_time": "2023-06-28T01:25:51.691776",
     "exception": false,
     "start_time": "2023-06-28T01:25:51.663834",
     "status": "completed"
    },
    "tags": []
   },
   "outputs": [],
   "source": [
    "# Multiprocessing on Jupyter Notebook on windows:\n",
    "# https://stackoverflow.com/a/47374811/5070460\n",
    "def parallelize(task, data):\n",
    "    \"\"\"\n",
    "    Function to parallelize `task()` for list of items passed as `data`.\n",
    "    \"\"\"\n",
    "    # Confirm that the code is under main function.\n",
    "    if __name__ == \"__main__\":\n",
    "        # Set pool size to number of logical-processors available.\n",
    "        POOL_SIZE = multiprocessing.cpu_count()\n",
    "        pool = Pool(processes=POOL_SIZE)\n",
    "        print(\"Pool size:\", POOL_SIZE)\n",
    "\n",
    "        outputs = []\n",
    "        pbar = tqdm(total=len(data))\n",
    "        for output in pool.imap_unordered(task, data):\n",
    "            outputs.append(output)\n",
    "            pbar.update()\n",
    "        pbar.close()\n",
    "\n",
    "        return outputs"
   ]
  },
  {
   "cell_type": "code",
   "execution_count": 5,
   "id": "3845fa89",
   "metadata": {
    "execution": {
     "iopub.execute_input": "2023-06-28T01:25:51.781723Z",
     "iopub.status.busy": "2023-06-28T01:25:51.781274Z",
     "iopub.status.idle": "2023-06-28T01:25:51.826356Z",
     "shell.execute_reply": "2023-06-28T01:25:51.825088Z"
    },
    "papermill": {
     "duration": 0.064128,
     "end_time": "2023-06-28T01:25:51.829232",
     "exception": false,
     "start_time": "2023-06-28T01:25:51.765104",
     "status": "completed"
    },
    "tags": []
   },
   "outputs": [
    {
     "data": {
      "text/html": [
       "<div>\n",
       "<style scoped>\n",
       "    .dataframe tbody tr th:only-of-type {\n",
       "        vertical-align: middle;\n",
       "    }\n",
       "\n",
       "    .dataframe tbody tr th {\n",
       "        vertical-align: top;\n",
       "    }\n",
       "\n",
       "    .dataframe thead th {\n",
       "        text-align: right;\n",
       "    }\n",
       "</style>\n",
       "<table border=\"1\" class=\"dataframe\">\n",
       "  <thead>\n",
       "    <tr style=\"text-align: right;\">\n",
       "      <th></th>\n",
       "      <th>Id</th>\n",
       "      <th>Class</th>\n",
       "    </tr>\n",
       "  </thead>\n",
       "  <tbody>\n",
       "    <tr>\n",
       "      <th>0</th>\n",
       "      <td>01kcPWA9K2BOxQeS5Rju</td>\n",
       "      <td>1</td>\n",
       "    </tr>\n",
       "    <tr>\n",
       "      <th>1</th>\n",
       "      <td>04EjIdbPV5e1XroFOpiN</td>\n",
       "      <td>1</td>\n",
       "    </tr>\n",
       "    <tr>\n",
       "      <th>2</th>\n",
       "      <td>05EeG39MTRrI6VY21DPd</td>\n",
       "      <td>1</td>\n",
       "    </tr>\n",
       "    <tr>\n",
       "      <th>3</th>\n",
       "      <td>05rJTUWYAKNegBk2wE8X</td>\n",
       "      <td>1</td>\n",
       "    </tr>\n",
       "    <tr>\n",
       "      <th>4</th>\n",
       "      <td>0AnoOZDNbPXIr2MRBSCJ</td>\n",
       "      <td>1</td>\n",
       "    </tr>\n",
       "  </tbody>\n",
       "</table>\n",
       "</div>"
      ],
      "text/plain": [
       "                     Id  Class\n",
       "0  01kcPWA9K2BOxQeS5Rju      1\n",
       "1  04EjIdbPV5e1XroFOpiN      1\n",
       "2  05EeG39MTRrI6VY21DPd      1\n",
       "3  05rJTUWYAKNegBk2wE8X      1\n",
       "4  0AnoOZDNbPXIr2MRBSCJ      1"
      ]
     },
     "execution_count": 5,
     "metadata": {},
     "output_type": "execute_result"
    }
   ],
   "source": [
    "# Class-labels DataFrame.\n",
    "cl_df = pd.read_csv(LABELS_CSV)\n",
    "cl_df.head()"
   ]
  },
  {
   "cell_type": "code",
   "execution_count": 6,
   "id": "0146f05f",
   "metadata": {
    "execution": {
     "iopub.execute_input": "2023-06-28T01:25:51.861894Z",
     "iopub.status.busy": "2023-06-28T01:25:51.861043Z",
     "iopub.status.idle": "2023-06-28T01:25:51.868101Z",
     "shell.execute_reply": "2023-06-28T01:25:51.866799Z"
    },
    "papermill": {
     "duration": 0.026454,
     "end_time": "2023-06-28T01:25:51.870942",
     "exception": false,
     "start_time": "2023-06-28T01:25:51.844488",
     "status": "completed"
    },
    "tags": []
   },
   "outputs": [
    {
     "name": "stdout",
     "output_type": "stream",
     "text": [
      "There are around 10868 malware files available in the Train dataset.\n"
     ]
    }
   ],
   "source": [
    "rows, cols = cl_df.shape\n",
    "print(f\"There are around {rows} malware files available in the Train dataset.\")"
   ]
  },
  {
   "cell_type": "code",
   "execution_count": 7,
   "id": "eb61ace7",
   "metadata": {
    "execution": {
     "iopub.execute_input": "2023-06-28T01:25:51.903196Z",
     "iopub.status.busy": "2023-06-28T01:25:51.902704Z",
     "iopub.status.idle": "2023-06-28T01:25:51.922394Z",
     "shell.execute_reply": "2023-06-28T01:25:51.920954Z"
    },
    "papermill": {
     "duration": 0.039564,
     "end_time": "2023-06-28T01:25:51.925297",
     "exception": false,
     "start_time": "2023-06-28T01:25:51.885733",
     "status": "completed"
    },
    "tags": []
   },
   "outputs": [
    {
     "data": {
      "text/plain": [
       "1    1541\n",
       "2    2478\n",
       "3    2942\n",
       "4     475\n",
       "5      42\n",
       "6     751\n",
       "7     398\n",
       "8    1228\n",
       "9    1013\n",
       "Name: Class, dtype: int64"
      ]
     },
     "execution_count": 7,
     "metadata": {},
     "output_type": "execute_result"
    }
   ],
   "source": [
    "cls_count = cl_df[\"Class\"].value_counts().sort_index()\n",
    "cls_count"
   ]
  },
  {
   "cell_type": "code",
   "execution_count": 8,
   "id": "b736b43d",
   "metadata": {
    "execution": {
     "iopub.execute_input": "2023-06-28T01:25:52.017636Z",
     "iopub.status.busy": "2023-06-28T01:25:52.017201Z",
     "iopub.status.idle": "2023-06-28T01:25:52.035696Z",
     "shell.execute_reply": "2023-06-28T01:25:52.034401Z"
    },
    "papermill": {
     "duration": 0.037815,
     "end_time": "2023-06-28T01:25:52.038181",
     "exception": false,
     "start_time": "2023-06-28T01:25:52.000366",
     "status": "completed"
    },
    "tags": []
   },
   "outputs": [
    {
     "name": "stdout",
     "output_type": "stream",
     "text": [
      "Balanced subset will contain data of 1642 byte-files.\n"
     ]
    }
   ],
   "source": [
    "if os.path.exists(BAL_CL_CSV) and os.stat(BAL_CL_CSV).st_size > 0:\n",
    "    cl_df_b = pd.read_csv(BAL_CL_CSV)\n",
    "else:\n",
    "    cl_df_b = cl_df.groupby(\"Class\", group_keys=False).apply(get_sample)\n",
    "    # Save DataFrame as CSV for future use.\n",
    "    cl_df_b.to_csv(BAL_CL_CSV, index=False)\n",
    "\n",
    "rows, cols = cl_df_b.shape\n",
    "print(f\"Balanced subset will contain data of {rows} byte-files.\")\n",
    "\n",
    "cls_count = cl_df_b[\"Class\"].value_counts().sort_index()"
   ]
  },
  {
   "cell_type": "code",
   "execution_count": 9,
   "id": "1064f7b4",
   "metadata": {
    "execution": {
     "iopub.execute_input": "2023-06-28T01:25:52.071104Z",
     "iopub.status.busy": "2023-06-28T01:25:52.070278Z",
     "iopub.status.idle": "2023-06-28T01:25:52.328044Z",
     "shell.execute_reply": "2023-06-28T01:25:52.326438Z"
    },
    "papermill": {
     "duration": 0.279512,
     "end_time": "2023-06-28T01:25:52.332895",
     "exception": false,
     "start_time": "2023-06-28T01:25:52.053383",
     "status": "completed"
    },
    "tags": []
   },
   "outputs": [
    {
     "data": {
      "image/png": "[encoded data removed]",
      "text/plain": [
       "<Figure size 432x432 with 1 Axes>"
      ]
     },
     "metadata": {},
     "output_type": "display_data"
    }
   ],
   "source": [
    "plt.figure(figsize=(6, 6))\n",
    "\n",
    "plt.pie(x=cls_count, labels=mw_names(), autopct=\"%1.0f%%\")\n",
    "plt.title(\"Malware Class-labels\")\n",
    "\n",
    "plt.show()"
   ]
  },
  {
   "cell_type": "code",
   "execution_count": 10,
   "id": "f5b2db10",
   "metadata": {
    "execution": {
     "iopub.execute_input": "2023-06-28T01:25:52.373921Z",
     "iopub.status.busy": "2023-06-28T01:25:52.372789Z",
     "iopub.status.idle": "2023-06-28T01:25:52.379348Z",
     "shell.execute_reply": "2023-06-28T01:25:52.378449Z"
    },
    "hidden": true,
    "papermill": {
     "duration": 0.027303,
     "end_time": "2023-06-28T01:25:52.381790",
     "exception": false,
     "start_time": "2023-06-28T01:25:52.354487",
     "status": "completed"
    },
    "tags": []
   },
   "outputs": [],
   "source": [
    "hex_chars = [\"0\", \"1\", \"2\", \"3\", \"4\", \"5\", \"6\", \"7\", \"8\", \"9\", \"a\", \"b\", \"c\", \"d\", \"e\", \"f\"]\n",
    "\n",
    "vectorizer = Vectorizer()\n",
    "vectorizer.vocabulary = [f\"{i}{j}\" for i in hex_chars for j in hex_chars]"
   ]
  },
  {
   "cell_type": "code",
   "execution_count": 11,
   "id": "a07efb66",
   "metadata": {
    "execution": {
     "iopub.execute_input": "2023-06-28T01:25:52.415942Z",
     "iopub.status.busy": "2023-06-28T01:25:52.415174Z",
     "iopub.status.idle": "2023-06-28T01:25:52.526341Z",
     "shell.execute_reply": "2023-06-28T01:25:52.525064Z"
    },
    "papermill": {
     "duration": 0.131441,
     "end_time": "2023-06-28T01:25:52.529171",
     "exception": false,
     "start_time": "2023-06-28T01:25:52.397730",
     "status": "completed"
    },
    "tags": []
   },
   "outputs": [
    {
     "name": "stdout",
     "output_type": "stream",
     "text": [
      "Select 1642 byte-files from unzipped files for processing.\n",
      "Sample is already vectorized in: ../input/microsoft-malware-sample/train_vec.csv\n"
     ]
    }
   ],
   "source": [
    "final_ftrs = [\"Id\", \"BytFSize\"] + vectorizer.get_feature_names()\n",
    "file_paths = [os.path.join(TRAIN_DIR, Id) + BYTE_EXT for Id in cl_df_b[\"Id\"]]\n",
    "file_count = len(file_paths)\n",
    "\n",
    "print(f\"Select {file_count} byte-files from unzipped files for processing.\")\n",
    "\n",
    "if os.path.exists(TR_VEC_CSV) and os.stat(TR_VEC_CSV).st_size > 0:\n",
    "    print(\"Sample is already vectorized in:\", TR_VEC_CSV)\n",
    "    train_df = pd.read_csv(TR_VEC_CSV)\n",
    "else:\n",
    "    print(\"Vectorization of balanced sample from original dataset...\")\n",
    "\n",
    "    # Parallelized File Processing.\n",
    "    tr_ftr_vecs = parallelize(vectorizer.transform_byte_file, file_paths)\n",
    "\n",
    "    # Convert vectors to DataFrame.\n",
    "    train_df = pd.DataFrame(tr_ftr_vecs, columns=final_ftrs)\n",
    "\n",
    "    def get_class(Id):\n",
    "        fltr = cl_df_b[\"Id\"] == Id\n",
    "        return cl_df_b.loc[fltr, \"Class\"].item()\n",
    "\n",
    "    # Append class labels.\n",
    "    train_df[\"Class\"] = train_df[\"Id\"].apply(get_class)\n",
    "\n",
    "    # Save DataFrame as CSV for future use.\n",
    "    train_df.to_csv(TR_VEC_CSV, index=False)"
   ]
  },
  {
   "cell_type": "code",
   "execution_count": 12,
   "id": "67a838d2",
   "metadata": {
    "execution": {
     "iopub.execute_input": "2023-06-28T01:25:52.563149Z",
     "iopub.status.busy": "2023-06-28T01:25:52.562629Z",
     "iopub.status.idle": "2023-06-28T01:25:52.588652Z",
     "shell.execute_reply": "2023-06-28T01:25:52.587266Z"
    },
    "papermill": {
     "duration": 0.046435,
     "end_time": "2023-06-28T01:25:52.591608",
     "exception": false,
     "start_time": "2023-06-28T01:25:52.545173",
     "status": "completed"
    },
    "tags": []
   },
   "outputs": [
    {
     "data": {
      "text/html": [
       "<div>\n",
       "<style scoped>\n",
       "    .dataframe tbody tr th:only-of-type {\n",
       "        vertical-align: middle;\n",
       "    }\n",
       "\n",
       "    .dataframe tbody tr th {\n",
       "        vertical-align: top;\n",
       "    }\n",
       "\n",
       "    .dataframe thead th {\n",
       "        text-align: right;\n",
       "    }\n",
       "</style>\n",
       "<table border=\"1\" class=\"dataframe\">\n",
       "  <thead>\n",
       "    <tr style=\"text-align: right;\">\n",
       "      <th></th>\n",
       "      <th>Id</th>\n",
       "      <th>BytFSize</th>\n",
       "      <th>00</th>\n",
       "      <th>01</th>\n",
       "      <th>02</th>\n",
       "      <th>03</th>\n",
       "      <th>04</th>\n",
       "      <th>05</th>\n",
       "      <th>06</th>\n",
       "      <th>07</th>\n",
       "      <th>...</th>\n",
       "      <th>f7</th>\n",
       "      <th>f8</th>\n",
       "      <th>f9</th>\n",
       "      <th>fa</th>\n",
       "      <th>fb</th>\n",
       "      <th>fc</th>\n",
       "      <th>fd</th>\n",
       "      <th>fe</th>\n",
       "      <th>ff</th>\n",
       "      <th>Class</th>\n",
       "    </tr>\n",
       "  </thead>\n",
       "  <tbody>\n",
       "    <tr>\n",
       "      <th>1521</th>\n",
       "      <td>DCZeMryOtKQxBgW58UYo</td>\n",
       "      <td>623616</td>\n",
       "      <td>19540</td>\n",
       "      <td>1304</td>\n",
       "      <td>463</td>\n",
       "      <td>329</td>\n",
       "      <td>1077</td>\n",
       "      <td>1101</td>\n",
       "      <td>1076</td>\n",
       "      <td>349</td>\n",
       "      <td>...</td>\n",
       "      <td>394</td>\n",
       "      <td>302</td>\n",
       "      <td>295</td>\n",
       "      <td>10848</td>\n",
       "      <td>310</td>\n",
       "      <td>326</td>\n",
       "      <td>345</td>\n",
       "      <td>413</td>\n",
       "      <td>6910</td>\n",
       "      <td>9</td>\n",
       "    </tr>\n",
       "    <tr>\n",
       "      <th>1319</th>\n",
       "      <td>EC32VKxBYp8ckZl5joqb</td>\n",
       "      <td>460288</td>\n",
       "      <td>25406</td>\n",
       "      <td>707</td>\n",
       "      <td>209</td>\n",
       "      <td>398</td>\n",
       "      <td>547</td>\n",
       "      <td>334</td>\n",
       "      <td>181</td>\n",
       "      <td>168</td>\n",
       "      <td>...</td>\n",
       "      <td>503</td>\n",
       "      <td>866</td>\n",
       "      <td>646</td>\n",
       "      <td>669</td>\n",
       "      <td>745</td>\n",
       "      <td>1070</td>\n",
       "      <td>479</td>\n",
       "      <td>390</td>\n",
       "      <td>3335</td>\n",
       "      <td>8</td>\n",
       "    </tr>\n",
       "    <tr>\n",
       "      <th>1578</th>\n",
       "      <td>C1eapL4ozVSUfj9NKDA8</td>\n",
       "      <td>4528640</td>\n",
       "      <td>611878</td>\n",
       "      <td>2819</td>\n",
       "      <td>2543</td>\n",
       "      <td>2588</td>\n",
       "      <td>2682</td>\n",
       "      <td>2865</td>\n",
       "      <td>2463</td>\n",
       "      <td>2352</td>\n",
       "      <td>...</td>\n",
       "      <td>2397</td>\n",
       "      <td>2588</td>\n",
       "      <td>2473</td>\n",
       "      <td>2295</td>\n",
       "      <td>2391</td>\n",
       "      <td>2635</td>\n",
       "      <td>2344</td>\n",
       "      <td>2476</td>\n",
       "      <td>3903</td>\n",
       "      <td>9</td>\n",
       "    </tr>\n",
       "    <tr>\n",
       "      <th>624</th>\n",
       "      <td>DRsZqtFbzNrucxWaJofL</td>\n",
       "      <td>222720</td>\n",
       "      <td>2148</td>\n",
       "      <td>102</td>\n",
       "      <td>87</td>\n",
       "      <td>245</td>\n",
       "      <td>437</td>\n",
       "      <td>92</td>\n",
       "      <td>80</td>\n",
       "      <td>99</td>\n",
       "      <td>...</td>\n",
       "      <td>123</td>\n",
       "      <td>97</td>\n",
       "      <td>84</td>\n",
       "      <td>78</td>\n",
       "      <td>105</td>\n",
       "      <td>143</td>\n",
       "      <td>112</td>\n",
       "      <td>106</td>\n",
       "      <td>364</td>\n",
       "      <td>4</td>\n",
       "    </tr>\n",
       "    <tr>\n",
       "      <th>685</th>\n",
       "      <td>loIP1tiwELF9YNZQjSUO</td>\n",
       "      <td>2331136</td>\n",
       "      <td>5268</td>\n",
       "      <td>1177</td>\n",
       "      <td>1072</td>\n",
       "      <td>1222</td>\n",
       "      <td>1238</td>\n",
       "      <td>1159</td>\n",
       "      <td>1143</td>\n",
       "      <td>1126</td>\n",
       "      <td>...</td>\n",
       "      <td>1218</td>\n",
       "      <td>1125</td>\n",
       "      <td>1094</td>\n",
       "      <td>1154</td>\n",
       "      <td>1088</td>\n",
       "      <td>1113</td>\n",
       "      <td>1114</td>\n",
       "      <td>1107</td>\n",
       "      <td>1178</td>\n",
       "      <td>4</td>\n",
       "    </tr>\n",
       "  </tbody>\n",
       "</table>\n",
       "<p>5 rows × 259 columns</p>\n",
       "</div>"
      ],
      "text/plain": [
       "                        Id  BytFSize      00    01    02    03    04    05    06    07  ...    f7    f8    f9     fa    fb  \\\n",
       "1521  DCZeMryOtKQxBgW58UYo    623616   19540  1304   463   329  1077  1101  1076   349  ...   394   302   295  10848   310   \n",
       "1319  EC32VKxBYp8ckZl5joqb    460288   25406   707   209   398   547   334   181   168  ...   503   866   646    669   745   \n",
       "1578  C1eapL4ozVSUfj9NKDA8   4528640  611878  2819  2543  2588  2682  2865  2463  2352  ...  2397  2588  2473   2295  2391   \n",
       "624   DRsZqtFbzNrucxWaJofL    222720    2148   102    87   245   437    92    80    99  ...   123    97    84     78   105   \n",
       "685   loIP1tiwELF9YNZQjSUO   2331136    5268  1177  1072  1222  1238  1159  1143  1126  ...  1218  1125  1094   1154  1088   \n",
       "\n",
       "        fc    fd    fe    ff  Class  \n",
       "1521   326   345   413  6910      9  \n",
       "1319  1070   479   390  3335      8  \n",
       "1578  2635  2344  2476  3903      9  \n",
       "624    143   112   106   364      4  \n",
       "685   1113  1114  1107  1178      4  \n",
       "\n",
       "[5 rows x 259 columns]"
      ]
     },
     "execution_count": 12,
     "metadata": {},
     "output_type": "execute_result"
    }
   ],
   "source": [
    "train_df.sample(5)"
   ]
  },
  {
   "cell_type": "code",
   "execution_count": 13,
   "id": "4ca4a1ad",
   "metadata": {
    "execution": {
     "iopub.execute_input": "2023-06-28T01:25:52.626850Z",
     "iopub.status.busy": "2023-06-28T01:25:52.626441Z",
     "iopub.status.idle": "2023-06-28T01:25:52.657488Z",
     "shell.execute_reply": "2023-06-28T01:25:52.656028Z"
    },
    "papermill": {
     "duration": 0.052086,
     "end_time": "2023-06-28T01:25:52.660333",
     "exception": false,
     "start_time": "2023-06-28T01:25:52.608247",
     "status": "completed"
    },
    "tags": []
   },
   "outputs": [
    {
     "name": "stdout",
     "output_type": "stream",
     "text": [
      "<class 'pandas.core.frame.DataFrame'>\n",
      "RangeIndex: 1642 entries, 0 to 1641\n",
      "Columns: 259 entries, Id to Class\n",
      "dtypes: int64(258), object(1)\n",
      "memory usage: 3.2+ MB\n"
     ]
    }
   ],
   "source": [
    "train_df.info()"
   ]
  },
  {
   "cell_type": "code",
   "execution_count": 14,
   "id": "202bc592",
   "metadata": {
    "execution": {
     "iopub.execute_input": "2023-06-28T01:25:52.695211Z",
     "iopub.status.busy": "2023-06-28T01:25:52.694764Z",
     "iopub.status.idle": "2023-06-28T01:25:52.700705Z",
     "shell.execute_reply": "2023-06-28T01:25:52.699765Z"
    },
    "papermill": {
     "duration": 0.026705,
     "end_time": "2023-06-28T01:25:52.703598",
     "exception": false,
     "start_time": "2023-06-28T01:25:52.676893",
     "status": "completed"
    },
    "tags": []
   },
   "outputs": [
    {
     "name": "stdout",
     "output_type": "stream",
     "text": [
      "Dataset contains 1642 rows and 259 columns\n"
     ]
    }
   ],
   "source": [
    "rows, cols = train_df.shape\n",
    "print(f\"Dataset contains {rows} rows and {cols} columns\")"
   ]
  },
  {
   "cell_type": "code",
   "execution_count": 15,
   "id": "1b85121e",
   "metadata": {
    "execution": {
     "iopub.execute_input": "2023-06-28T01:25:52.740114Z",
     "iopub.status.busy": "2023-06-28T01:25:52.739340Z",
     "iopub.status.idle": "2023-06-28T01:25:57.048508Z",
     "shell.execute_reply": "2023-06-28T01:25:57.047111Z"
    },
    "papermill": {
     "duration": 4.330627,
     "end_time": "2023-06-28T01:25:57.051289",
     "exception": false,
     "start_time": "2023-06-28T01:25:52.720662",
     "status": "completed"
    },
    "tags": []
   },
   "outputs": [
    {
     "name": "stdout",
     "output_type": "stream",
     "text": [
      "All file-ids and class-labels are matching.\n"
     ]
    }
   ],
   "source": [
    "for uid, cl in train_df[[\"Id\", \"Class\"]].values:\n",
    "    fltr = (cl_df[\"Id\"] == uid) & (cl_df[\"Class\"] == cl)\n",
    "    f_id = cl_df.loc[fltr, \"Id\"]\n",
    "    if f_id.empty:\n",
    "        raise ValueError(f\"Id: {uid} with class: {cl} not found in cl_df.\")\n",
    "\n",
    "print(\"All file-ids and class-labels are matching.\")"
   ]
  },
  {
   "attachments": {},
   "cell_type": "markdown",
   "id": "b5b4cb74",
   "metadata": {
    "papermill": {
     "duration": 0.016253,
     "end_time": "2023-06-28T01:25:57.084820",
     "exception": false,
     "start_time": "2023-06-28T01:25:57.068567",
     "status": "completed"
    },
    "tags": []
   },
   "source": [
    "### 5.2 Feature Scaling"
   ]
  },
  {
   "cell_type": "code",
   "execution_count": 16,
   "id": "f52846f8",
   "metadata": {
    "execution": {
     "iopub.execute_input": "2023-06-28T01:25:57.119874Z",
     "iopub.status.busy": "2023-06-28T01:25:57.119448Z",
     "iopub.status.idle": "2023-06-28T01:25:57.150367Z",
     "shell.execute_reply": "2023-06-28T01:25:57.149151Z"
    },
    "papermill": {
     "duration": 0.051972,
     "end_time": "2023-06-28T01:25:57.153464",
     "exception": false,
     "start_time": "2023-06-28T01:25:57.101492",
     "status": "completed"
    },
    "tags": []
   },
   "outputs": [],
   "source": [
    "X = train_df.drop([\"Id\", \"Class\"], axis=1)\n",
    "y = train_df[\"Class\"]\n",
    "\n",
    "# Centering data-points.\n",
    "scaler = StandardScaler()\n",
    "X_scaled = scaler.fit_transform(X)"
   ]
  },
  {
   "cell_type": "code",
   "execution_count": 17,
   "id": "afb694a5",
   "metadata": {
    "execution": {
     "iopub.execute_input": "2023-06-28T01:25:57.188818Z",
     "iopub.status.busy": "2023-06-28T01:25:57.188380Z",
     "iopub.status.idle": "2023-06-28T01:26:04.081213Z",
     "shell.execute_reply": "2023-06-28T01:26:04.080054Z"
    },
    "papermill": {
     "duration": 6.913945,
     "end_time": "2023-06-28T01:26:04.084264",
     "exception": false,
     "start_time": "2023-06-28T01:25:57.170319",
     "status": "completed"
    },
    "tags": []
   },
   "outputs": [
    {
     "name": "stdout",
     "output_type": "stream",
     "text": [
      "[t-SNE] Computing 31 nearest neighbors...\n",
      "[t-SNE] Indexed 1642 samples in 0.001s...\n",
      "[t-SNE] Computed neighbors for 1642 samples in 0.187s...\n",
      "[t-SNE] Computed conditional probabilities for sample 1000 / 1642\n",
      "[t-SNE] Computed conditional probabilities for sample 1642 / 1642\n",
      "[t-SNE] Mean sigma: 0.062009\n",
      "[t-SNE] KL divergence after 250 iterations with early exaggeration: 65.989677\n",
      "[t-SNE] KL divergence after 1000 iterations: 0.704136\n",
      "KL-Divergence: 0.7041\n"
     ]
    }
   ],
   "source": [
    "# import warnings\n",
    "# warnings.filterwarnings(\"ignore\")\n",
    "\n",
    "tsne = TSNE(\n",
    "    n_components=2,\n",
    "    perplexity=10,\n",
    "    init=\"random\",\n",
    "    learning_rate=\"auto\",\n",
    "    verbose=1,\n",
    "    random_state=42,\n",
    "    n_jobs=-1,\n",
    ")\n",
    "z = tsne.fit_transform(X_scaled)\n",
    "kld = np.round(tsne.kl_divergence_, 4)\n",
    "\n",
    "print(\"KL-Divergence:\", kld)"
   ]
  },
  {
   "cell_type": "code",
   "execution_count": 18,
   "id": "5de35513",
   "metadata": {
    "execution": {
     "iopub.execute_input": "2023-06-28T01:26:04.121959Z",
     "iopub.status.busy": "2023-06-28T01:26:04.121236Z",
     "iopub.status.idle": "2023-06-28T01:26:04.775832Z",
     "shell.execute_reply": "2023-06-28T01:26:04.774735Z"
    },
    "papermill": {
     "duration": 0.676595,
     "end_time": "2023-06-28T01:26:04.779159",
     "exception": false,
     "start_time": "2023-06-28T01:26:04.102564",
     "status": "completed"
    },
    "tags": []
   },
   "outputs": [
    {
     "data": {
      "image/png": "[encoded data removed]",
      "text/plain": [
       "<Figure size 864x504 with 1 Axes>"
      ]
     },
     "metadata": {},
     "output_type": "display_data"
    }
   ],
   "source": [
    "df = pd.DataFrame()\n",
    "\n",
    "df[\"Class\"] = y.astype(\"category\")\n",
    "df[\"Comp-1\"] = z[:, 0]\n",
    "df[\"Comp-2\"] = z[:, 1]\n",
    "\n",
    "plt.figure(figsize=(12, 7))\n",
    "\n",
    "sns.scatterplot(data=df, x=\"Comp-1\", y=\"Comp-2\", hue=\"Class\")\n",
    "plt.title(f\"T-SNE projection. KL-Divergence score: {kld}\")\n",
    "plt.show()"
   ]
  },
  {
   "cell_type": "code",
   "execution_count": 19,
   "id": "c32de639",
   "metadata": {
    "execution": {
     "iopub.execute_input": "2023-06-28T01:26:04.820723Z",
     "iopub.status.busy": "2023-06-28T01:26:04.820067Z",
     "iopub.status.idle": "2023-06-28T01:26:04.825143Z",
     "shell.execute_reply": "2023-06-28T01:26:04.824100Z"
    },
    "hidden": true,
    "papermill": {
     "duration": 0.029175,
     "end_time": "2023-06-28T01:26:04.827567",
     "exception": false,
     "start_time": "2023-06-28T01:26:04.798392",
     "status": "completed"
    },
    "tags": []
   },
   "outputs": [],
   "source": [
    "le = LabelEncoder()\n",
    "y = le.fit_transform(y)"
   ]
  },
  {
   "cell_type": "code",
   "execution_count": 20,
   "id": "7c1351f1",
   "metadata": {
    "execution": {
     "iopub.execute_input": "2023-06-28T01:26:04.867951Z",
     "iopub.status.busy": "2023-06-28T01:26:04.867260Z",
     "iopub.status.idle": "2023-06-28T01:26:04.879666Z",
     "shell.execute_reply": "2023-06-28T01:26:04.878403Z"
    },
    "hidden": true,
    "papermill": {
     "duration": 0.035573,
     "end_time": "2023-06-28T01:26:04.882241",
     "exception": false,
     "start_time": "2023-06-28T01:26:04.846668",
     "status": "completed"
    },
    "tags": []
   },
   "outputs": [
    {
     "name": "stdout",
     "output_type": "stream",
     "text": [
      "Train dataset shape: (1149, 257)\n",
      "Cross-Val dataset shape: (493, 257)\n"
     ]
    }
   ],
   "source": [
    "X_train, X_cval, y_train, y_cval = train_test_split(\n",
    "    X_scaled,\n",
    "    y,\n",
    "    stratify=y,\n",
    "    shuffle=True,\n",
    "    test_size=0.3,\n",
    "    random_state=42,\n",
    ")\n",
    "\n",
    "print(\"Train dataset shape:\", X_train.shape)\n",
    "print(\"Cross-Val dataset shape:\", X_cval.shape)"
   ]
  },
  {
   "cell_type": "code",
   "execution_count": 21,
   "id": "eed84d21",
   "metadata": {
    "execution": {
     "iopub.execute_input": "2023-06-28T01:26:04.923342Z",
     "iopub.status.busy": "2023-06-28T01:26:04.922870Z",
     "iopub.status.idle": "2023-06-28T01:26:10.531628Z",
     "shell.execute_reply": "2023-06-28T01:26:10.530738Z"
    },
    "hidden": true,
    "papermill": {
     "duration": 5.632966,
     "end_time": "2023-06-28T01:26:10.534329",
     "exception": false,
     "start_time": "2023-06-28T01:26:04.901363",
     "status": "completed"
    },
    "tags": []
   },
   "outputs": [
    {
     "data": {
      "text/plain": [
       "XGBClassifier(base_score=0.5, booster='gbtree', callbacks=None,\n",
       "              colsample_bylevel=1, colsample_bynode=1, colsample_bytree=1,\n",
       "              early_stopping_rounds=None, enable_categorical=False,\n",
       "              eval_metric=None, gamma=0, gpu_id=-1, grow_policy='depthwise',\n",
       "              importance_type=None, interaction_constraints='',\n",
       "              learning_rate=0.300000012, max_bin=256, max_cat_to_onehot=4,\n",
       "              max_delta_step=0, max_depth=6, max_leaves=0, min_child_weight=1,\n",
       "              missing=nan, monotone_constraints='()', n_estimators=100,\n",
       "              n_jobs=-1, num_parallel_tree=1, objective='multi:softprob',\n",
       "              predictor='auto', random_state=42, reg_alpha=0, ...)"
      ]
     },
     "execution_count": 21,
     "metadata": {},
     "output_type": "execute_result"
    }
   ],
   "source": [
    "base_m = XGBClassifier(random_state=42, n_jobs=-1)\n",
    "base_m.fit(X_train, y_train, sample_weight=get_weights(y_train))"
   ]
  },
  {
   "cell_type": "code",
   "execution_count": 22,
   "id": "b72c9ba1",
   "metadata": {
    "execution": {
     "iopub.execute_input": "2023-06-28T01:26:10.575771Z",
     "iopub.status.busy": "2023-06-28T01:26:10.574693Z",
     "iopub.status.idle": "2023-06-28T01:26:10.600209Z",
     "shell.execute_reply": "2023-06-28T01:26:10.598981Z"
    },
    "hidden": true,
    "papermill": {
     "duration": 0.049207,
     "end_time": "2023-06-28T01:26:10.603113",
     "exception": false,
     "start_time": "2023-06-28T01:26:10.553906",
     "status": "completed"
    },
    "tags": []
   },
   "outputs": [
    {
     "name": "stdout",
     "output_type": "stream",
     "text": [
      "Train accuracy: 1.0\n",
      "Test accuracy: 0.9716\n"
     ]
    }
   ],
   "source": [
    "train_acc = base_m.score(X_train, y_train)\n",
    "test_acc = base_m.score(X_cval, y_cval)\n",
    "\n",
    "print(\"Train accuracy:\", round(train_acc, 4))\n",
    "print(\"Test accuracy:\", round(test_acc, 4))"
   ]
  },
  {
   "cell_type": "code",
   "execution_count": 23,
   "id": "4a825285",
   "metadata": {
    "execution": {
     "iopub.execute_input": "2023-06-28T01:26:10.645181Z",
     "iopub.status.busy": "2023-06-28T01:26:10.644749Z",
     "iopub.status.idle": "2023-06-28T01:26:10.661163Z",
     "shell.execute_reply": "2023-06-28T01:26:10.659974Z"
    },
    "hidden": true,
    "papermill": {
     "duration": 0.040575,
     "end_time": "2023-06-28T01:26:10.664369",
     "exception": false,
     "start_time": "2023-06-28T01:26:10.623794",
     "status": "completed"
    },
    "tags": []
   },
   "outputs": [
    {
     "name": "stdout",
     "output_type": "stream",
     "text": [
      "Log loss: 0.1003\n"
     ]
    }
   ],
   "source": [
    "y_probs = base_m.predict_proba(X_cval)\n",
    "ll = log_loss(y_cval, y_probs)\n",
    "\n",
    "print(\"Log loss:\", round(ll, 4))"
   ]
  },
  {
   "cell_type": "code",
   "execution_count": 24,
   "id": "139902a2",
   "metadata": {
    "execution": {
     "iopub.execute_input": "2023-06-28T01:26:10.706877Z",
     "iopub.status.busy": "2023-06-28T01:26:10.706451Z",
     "iopub.status.idle": "2023-06-28T01:26:10.720404Z",
     "shell.execute_reply": "2023-06-28T01:26:10.719052Z"
    },
    "hidden": true,
    "papermill": {
     "duration": 0.038353,
     "end_time": "2023-06-28T01:26:10.723246",
     "exception": false,
     "start_time": "2023-06-28T01:26:10.684893",
     "status": "completed"
    },
    "tags": []
   },
   "outputs": [],
   "source": [
    "def get_log_loss(kwargs):\n",
    "    xgb_clf = XGBClassifier(random_state=42, n_jobs=-1, **kwargs)\n",
    "    xgb_clf.fit(X_train, y_train)\n",
    "\n",
    "    y_train_probs = xgb_clf.predict_proba(X_train)\n",
    "    train_ll = log_loss(y_train, y_train_probs)\n",
    "\n",
    "    y_test_probs = xgb_clf.predict_proba(X_cval)\n",
    "    test_ll = log_loss(y_cval, y_test_probs)\n",
    "\n",
    "    return train_ll, test_ll\n",
    "\n",
    "\n",
    "def hyperparameter_tuning(**kwargs):\n",
    "    train_errs = []\n",
    "    test_errs = []\n",
    "\n",
    "    params = list(kwargs.items())\n",
    "    hypr_params = dict(params[0:-1])\n",
    "    # Get the last item with range.\n",
    "    param_key, range_vals = params[-1]\n",
    "\n",
    "    for param_val in range_vals:\n",
    "        hypr_params[param_key] = param_val\n",
    "        train_err, test_err = get_log_loss(hypr_params)\n",
    "        train_errs.append(train_err)\n",
    "        test_errs.append(test_err)\n",
    "\n",
    "    plt.figure(figsize=(5, 4))\n",
    "\n",
    "    sns.lineplot(x=range_vals, y=train_errs, label=\"Train error\")\n",
    "    sns.lineplot(x=range_vals, y=test_errs, label=\"Test error\")\n",
    "    plt.title(f\"Param: `{param_key}`\")\n",
    "    plt.xlabel(\"Value\")\n",
    "    plt.ylabel(\"Log Loss\")\n",
    "    plt.xticks(range_vals)\n",
    "\n",
    "    plt.show()"
   ]
  },
  {
   "cell_type": "code",
   "execution_count": 25,
   "id": "e2285178",
   "metadata": {
    "execution": {
     "iopub.execute_input": "2023-06-28T01:26:10.765927Z",
     "iopub.status.busy": "2023-06-28T01:26:10.765465Z",
     "iopub.status.idle": "2023-06-28T01:26:32.566432Z",
     "shell.execute_reply": "2023-06-28T01:26:32.565096Z"
    },
    "hidden": true,
    "papermill": {
     "duration": 21.825452,
     "end_time": "2023-06-28T01:26:32.569266",
     "exception": false,
     "start_time": "2023-06-28T01:26:10.743814",
     "status": "completed"
    },
    "tags": []
   },
   "outputs": [
    {
     "data": {
      "image/png": "[encoded data removed]",
      "text/plain": [
       "<Figure size 360x288 with 1 Axes>"
      ]
     },
     "metadata": {},
     "output_type": "display_data"
    }
   ],
   "source": [
    "hyperparameter_tuning(n_estimators=range(1, 70, 10))"
   ]
  },
  {
   "cell_type": "code",
   "execution_count": 26,
   "id": "bee39df4",
   "metadata": {
    "execution": {
     "iopub.execute_input": "2023-06-28T01:26:32.612062Z",
     "iopub.status.busy": "2023-06-28T01:26:32.611612Z",
     "iopub.status.idle": "2023-06-28T01:27:04.037918Z",
     "shell.execute_reply": "2023-06-28T01:27:04.036723Z"
    },
    "hidden": true,
    "papermill": {
     "duration": 31.471418,
     "end_time": "2023-06-28T01:27:04.061372",
     "exception": false,
     "start_time": "2023-06-28T01:26:32.589954",
     "status": "completed"
    },
    "tags": []
   },
   "outputs": [
    {
     "data": {
      "image/png": "[encoded data removed]",
      "text/plain": [
       "<Figure size 360x288 with 1 Axes>"
      ]
     },
     "metadata": {},
     "output_type": "display_data"
    }
   ],
   "source": [
    "hyperparameter_tuning(n_estimators=40, max_depth=range(1, 10))"
   ]
  },
  {
   "cell_type": "code",
   "execution_count": 27,
   "id": "d0837f3e",
   "metadata": {
    "execution": {
     "iopub.execute_input": "2023-06-28T01:27:04.104430Z",
     "iopub.status.busy": "2023-06-28T01:27:04.104012Z",
     "iopub.status.idle": "2023-06-28T01:27:38.730789Z",
     "shell.execute_reply": "2023-06-28T01:27:38.729611Z"
    },
    "hidden": true,
    "papermill": {
     "duration": 34.67406,
     "end_time": "2023-06-28T01:27:38.755670",
     "exception": false,
     "start_time": "2023-06-28T01:27:04.081610",
     "status": "completed"
    },
    "tags": []
   },
   "outputs": [
    {
     "data": {
      "image/png": "[encoded data removed]",
      "text/plain": [
       "<Figure size 360x288 with 1 Axes>"
      ]
     },
     "metadata": {},
     "output_type": "display_data"
    }
   ],
   "source": [
    "hyperparameter_tuning(max_depth=4, n_estimators=40, learning_rate=np.arange(0.1, 0.55, 0.05))"
   ]
  },
  {
   "cell_type": "code",
   "execution_count": 28,
   "id": "f011520f",
   "metadata": {
    "execution": {
     "iopub.execute_input": "2023-06-28T01:27:38.800739Z",
     "iopub.status.busy": "2023-06-28T01:27:38.800278Z",
     "iopub.status.idle": "2023-06-28T01:27:59.373249Z",
     "shell.execute_reply": "2023-06-28T01:27:59.372389Z"
    },
    "hidden": true,
    "papermill": {
     "duration": 20.598814,
     "end_time": "2023-06-28T01:27:59.375582",
     "exception": false,
     "start_time": "2023-06-28T01:27:38.776768",
     "status": "completed"
    },
    "tags": []
   },
   "outputs": [
    {
     "data": {
      "image/png": "[encoded data removed]",
      "text/plain": [
       "<Figure size 360x288 with 1 Axes>"
      ]
     },
     "metadata": {},
     "output_type": "display_data"
    }
   ],
   "source": [
    "hyperparameter_tuning(\n",
    "    max_depth=4,\n",
    "    n_estimators=40,\n",
    "    learning_rate=0.3,\n",
    "    reg_alpha=np.arange(0.1, 1, 0.2),\n",
    ")"
   ]
  },
  {
   "cell_type": "code",
   "execution_count": 29,
   "id": "cfed166b",
   "metadata": {
    "execution": {
     "iopub.execute_input": "2023-06-28T01:27:59.421340Z",
     "iopub.status.busy": "2023-06-28T01:27:59.420242Z",
     "iopub.status.idle": "2023-06-28T01:28:15.638210Z",
     "shell.execute_reply": "2023-06-28T01:28:15.637230Z"
    },
    "hidden": true,
    "papermill": {
     "duration": 16.243547,
     "end_time": "2023-06-28T01:28:15.640741",
     "exception": false,
     "start_time": "2023-06-28T01:27:59.397194",
     "status": "completed"
    },
    "tags": []
   },
   "outputs": [
    {
     "data": {
      "image/png": "[encoded data removed]",
      "text/plain": [
       "<Figure size 360x288 with 1 Axes>"
      ]
     },
     "metadata": {},
     "output_type": "display_data"
    }
   ],
   "source": [
    "hyperparameter_tuning(\n",
    "    max_depth=3,\n",
    "    n_estimators=40,\n",
    "    learning_rate=0.3,\n",
    "    reg_lambda=np.arange(0.1, 1, 0.2),\n",
    ")"
   ]
  },
  {
   "cell_type": "code",
   "execution_count": 30,
   "id": "5792225b",
   "metadata": {
    "execution": {
     "iopub.execute_input": "2023-06-28T01:28:15.687215Z",
     "iopub.status.busy": "2023-06-28T01:28:15.686533Z",
     "iopub.status.idle": "2023-06-28T01:36:03.389440Z",
     "shell.execute_reply": "2023-06-28T01:36:03.388006Z"
    },
    "hidden": true,
    "papermill": {
     "duration": 467.750729,
     "end_time": "2023-06-28T01:36:03.413741",
     "exception": false,
     "start_time": "2023-06-28T01:28:15.663012",
     "status": "completed"
    },
    "tags": []
   },
   "outputs": [
    {
     "data": {
      "text/plain": [
       "GridSearchCV(cv=5,\n",
       "             estimator=XGBClassifier(base_score=None, booster=None,\n",
       "                                     callbacks=None, colsample_bylevel=None,\n",
       "                                     colsample_bynode=None,\n",
       "                                     colsample_bytree=None,\n",
       "                                     early_stopping_rounds=None,\n",
       "                                     enable_categorical=False, eval_metric=None,\n",
       "                                     gamma=None, gpu_id=None, grow_policy=None,\n",
       "                                     importance_type=None,\n",
       "                                     interaction_constraints=None,\n",
       "                                     learning_rate=None, max_bin=None,\n",
       "                                     max_cat_to_onehot=None,\n",
       "                                     max_delta_step=None, max_depth=None,\n",
       "                                     max_leaves=None, min_child_weight=None,\n",
       "                                     missing=nan, monotone_constraints=None,\n",
       "                                     n_estimators=100, n_jobs=-1,\n",
       "                                     num_parallel_tree=None, predictor=None,\n",
       "                                     random_state=42, reg_alpha=None,\n",
       "                                     reg_lambda=None, ...),\n",
       "             n_jobs=-1,\n",
       "             param_grid={'learning_rate': [0.35, 0.4, 0.45],\n",
       "                         'max_depth': [3, 4, 5], 'n_estimators': [40, 45, 50]})"
      ]
     },
     "execution_count": 30,
     "metadata": {},
     "output_type": "execute_result"
    }
   ],
   "source": [
    "grid = {\n",
    "    \"n_estimators\": [40, 45, 50],\n",
    "    \"max_depth\": [3, 4, 5],\n",
    "    \"learning_rate\": [0.35, 0.4, 0.45],\n",
    "}\n",
    "\n",
    "start = time.time()\n",
    "\n",
    "xgb_clf1 = XGBClassifier(random_state=42, n_jobs=-1)\n",
    "xgb_cvm = GridSearchCV(estimator=xgb_clf1, param_grid=grid, n_jobs=-1, cv=5)\n",
    "xgb_cvm.fit(X, y, sample_weight=get_weights(y))"
   ]
  },
  {
   "cell_type": "code",
   "execution_count": 31,
   "id": "7aa3c97a",
   "metadata": {
    "execution": {
     "iopub.execute_input": "2023-06-28T01:36:03.460594Z",
     "iopub.status.busy": "2023-06-28T01:36:03.460110Z",
     "iopub.status.idle": "2023-06-28T01:36:03.468614Z",
     "shell.execute_reply": "2023-06-28T01:36:03.467304Z"
    },
    "hidden": true,
    "papermill": {
     "duration": 0.035408,
     "end_time": "2023-06-28T01:36:03.471450",
     "exception": false,
     "start_time": "2023-06-28T01:36:03.436042",
     "status": "completed"
    },
    "tags": []
   },
   "outputs": [
    {
     "name": "stdout",
     "output_type": "stream",
     "text": [
      "Time taken in hyperparameter tuning: 8 mins.\n",
      "\n",
      "Best parameters:\n",
      "{'learning_rate': 0.4, 'max_depth': 4, 'n_estimators': 45}\n"
     ]
    }
   ],
   "source": [
    "end = time.time()\n",
    "print(\"Time taken in hyperparameter tuning:\", math.ceil((end - start) / 60), \"mins.\")\n",
    "\n",
    "tuned_model = xgb_cvm.best_estimator_\n",
    "\n",
    "print(\"\\nBest parameters:\")\n",
    "print(xgb_cvm.best_params_)"
   ]
  },
  {
   "cell_type": "code",
   "execution_count": 32,
   "id": "3bbbde04",
   "metadata": {
    "execution": {
     "iopub.execute_input": "2023-06-28T01:36:03.519443Z",
     "iopub.status.busy": "2023-06-28T01:36:03.518981Z",
     "iopub.status.idle": "2023-06-28T01:36:03.525518Z",
     "shell.execute_reply": "2023-06-28T01:36:03.524282Z"
    },
    "hidden": true,
    "papermill": {
     "duration": 0.034175,
     "end_time": "2023-06-28T01:36:03.528478",
     "exception": false,
     "start_time": "2023-06-28T01:36:03.494303",
     "status": "completed"
    },
    "tags": []
   },
   "outputs": [
    {
     "name": "stdout",
     "output_type": "stream",
     "text": [
      "Accuracy: 0.9604\n"
     ]
    }
   ],
   "source": [
    "print(\"Accuracy:\", round(xgb_cvm.best_score_, 4))"
   ]
  },
  {
   "cell_type": "code",
   "execution_count": 33,
   "id": "0171d89c",
   "metadata": {
    "execution": {
     "iopub.execute_input": "2023-06-28T01:36:03.576131Z",
     "iopub.status.busy": "2023-06-28T01:36:03.575156Z",
     "iopub.status.idle": "2023-06-28T01:36:08.260590Z",
     "shell.execute_reply": "2023-06-28T01:36:08.259506Z"
    },
    "hidden": true,
    "papermill": {
     "duration": 4.711981,
     "end_time": "2023-06-28T01:36:08.263228",
     "exception": false,
     "start_time": "2023-06-28T01:36:03.551247",
     "status": "completed"
    },
    "tags": []
   },
   "outputs": [
    {
     "data": {
      "text/plain": [
       "XGBClassifier(base_score=0.5, booster='gbtree', callbacks=None,\n",
       "              colsample_bylevel=1, colsample_bynode=1, colsample_bytree=1,\n",
       "              early_stopping_rounds=None, enable_categorical=False,\n",
       "              eval_metric=None, gamma=0, gpu_id=-1, grow_policy='depthwise',\n",
       "              importance_type=None, interaction_constraints='',\n",
       "              learning_rate=0.4, max_bin=256, max_cat_to_onehot=4,\n",
       "              max_delta_step=0, max_depth=4, max_leaves=0, min_child_weight=1,\n",
       "              missing=nan, monotone_constraints='()', n_estimators=45,\n",
       "              n_jobs=-1, num_parallel_tree=1, objective='multi:softprob',\n",
       "              predictor='auto', random_state=42, reg_alpha=0, ...)"
      ]
     },
     "execution_count": 33,
     "metadata": {},
     "output_type": "execute_result"
    }
   ],
   "source": [
    "best_model = XGBClassifier(**xgb_cvm.best_params_, random_state=42, n_jobs=-1)\n",
    "best_model.fit(X, y, sample_weight=get_weights(y))"
   ]
  },
  {
   "cell_type": "code",
   "execution_count": 34,
   "id": "003307a3",
   "metadata": {
    "execution": {
     "iopub.execute_input": "2023-06-28T01:36:08.310434Z",
     "iopub.status.busy": "2023-06-28T01:36:08.309974Z",
     "iopub.status.idle": "2023-06-28T01:36:08.850678Z",
     "shell.execute_reply": "2023-06-28T01:36:08.849407Z"
    },
    "papermill": {
     "duration": 0.567871,
     "end_time": "2023-06-28T01:36:08.853640",
     "exception": false,
     "start_time": "2023-06-28T01:36:08.285769",
     "status": "completed"
    },
    "tags": []
   },
   "outputs": [
    {
     "name": "stdout",
     "output_type": "stream",
     "text": [
      "Loading vectors from ../input/microsoft-malware-sample/test_vec.csv\n"
     ]
    },
    {
     "data": {
      "text/html": [
       "<div>\n",
       "<style scoped>\n",
       "    .dataframe tbody tr th:only-of-type {\n",
       "        vertical-align: middle;\n",
       "    }\n",
       "\n",
       "    .dataframe tbody tr th {\n",
       "        vertical-align: top;\n",
       "    }\n",
       "\n",
       "    .dataframe thead th {\n",
       "        text-align: right;\n",
       "    }\n",
       "</style>\n",
       "<table border=\"1\" class=\"dataframe\">\n",
       "  <thead>\n",
       "    <tr style=\"text-align: right;\">\n",
       "      <th></th>\n",
       "      <th>BytFSize</th>\n",
       "      <th>00</th>\n",
       "      <th>01</th>\n",
       "      <th>02</th>\n",
       "      <th>03</th>\n",
       "      <th>04</th>\n",
       "      <th>05</th>\n",
       "      <th>06</th>\n",
       "      <th>07</th>\n",
       "      <th>08</th>\n",
       "      <th>...</th>\n",
       "      <th>f6</th>\n",
       "      <th>f7</th>\n",
       "      <th>f8</th>\n",
       "      <th>f9</th>\n",
       "      <th>fa</th>\n",
       "      <th>fb</th>\n",
       "      <th>fc</th>\n",
       "      <th>fd</th>\n",
       "      <th>fe</th>\n",
       "      <th>ff</th>\n",
       "    </tr>\n",
       "    <tr>\n",
       "      <th>Id</th>\n",
       "      <th></th>\n",
       "      <th></th>\n",
       "      <th></th>\n",
       "      <th></th>\n",
       "      <th></th>\n",
       "      <th></th>\n",
       "      <th></th>\n",
       "      <th></th>\n",
       "      <th></th>\n",
       "      <th></th>\n",
       "      <th></th>\n",
       "      <th></th>\n",
       "      <th></th>\n",
       "      <th></th>\n",
       "      <th></th>\n",
       "      <th></th>\n",
       "      <th></th>\n",
       "      <th></th>\n",
       "      <th></th>\n",
       "      <th></th>\n",
       "      <th></th>\n",
       "    </tr>\n",
       "  </thead>\n",
       "  <tbody>\n",
       "    <tr>\n",
       "      <th>S3akQhiZwB2oTPRu9e7j</th>\n",
       "      <td>8507904</td>\n",
       "      <td>11303</td>\n",
       "      <td>5571</td>\n",
       "      <td>3165</td>\n",
       "      <td>3411</td>\n",
       "      <td>3218</td>\n",
       "      <td>3311</td>\n",
       "      <td>3339</td>\n",
       "      <td>3325</td>\n",
       "      <td>3209</td>\n",
       "      <td>...</td>\n",
       "      <td>3209</td>\n",
       "      <td>3221</td>\n",
       "      <td>3268</td>\n",
       "      <td>3255</td>\n",
       "      <td>3244</td>\n",
       "      <td>3133</td>\n",
       "      <td>3203</td>\n",
       "      <td>3171</td>\n",
       "      <td>3169</td>\n",
       "      <td>6710</td>\n",
       "    </tr>\n",
       "    <tr>\n",
       "      <th>KB7ybYxf95pdtUoGzl3u</th>\n",
       "      <td>8493056</td>\n",
       "      <td>11390</td>\n",
       "      <td>5480</td>\n",
       "      <td>3187</td>\n",
       "      <td>3344</td>\n",
       "      <td>3280</td>\n",
       "      <td>3283</td>\n",
       "      <td>3200</td>\n",
       "      <td>3275</td>\n",
       "      <td>3227</td>\n",
       "      <td>...</td>\n",
       "      <td>3289</td>\n",
       "      <td>3215</td>\n",
       "      <td>3174</td>\n",
       "      <td>3313</td>\n",
       "      <td>3222</td>\n",
       "      <td>3282</td>\n",
       "      <td>3198</td>\n",
       "      <td>3206</td>\n",
       "      <td>3256</td>\n",
       "      <td>6872</td>\n",
       "    </tr>\n",
       "    <tr>\n",
       "      <th>MHCnS9wv5Fxr6uqLDydh</th>\n",
       "      <td>8507904</td>\n",
       "      <td>11389</td>\n",
       "      <td>5489</td>\n",
       "      <td>3250</td>\n",
       "      <td>3344</td>\n",
       "      <td>3289</td>\n",
       "      <td>3264</td>\n",
       "      <td>3300</td>\n",
       "      <td>3226</td>\n",
       "      <td>3243</td>\n",
       "      <td>...</td>\n",
       "      <td>3257</td>\n",
       "      <td>3244</td>\n",
       "      <td>3124</td>\n",
       "      <td>3199</td>\n",
       "      <td>3202</td>\n",
       "      <td>3186</td>\n",
       "      <td>3243</td>\n",
       "      <td>3139</td>\n",
       "      <td>3194</td>\n",
       "      <td>6669</td>\n",
       "    </tr>\n",
       "  </tbody>\n",
       "</table>\n",
       "<p>3 rows × 257 columns</p>\n",
       "</div>"
      ],
      "text/plain": [
       "                      BytFSize     00    01    02    03    04    05    06    07    08  ...    f6    f7    f8    f9    fa    fb  \\\n",
       "Id                                                                                     ...                                       \n",
       "S3akQhiZwB2oTPRu9e7j   8507904  11303  5571  3165  3411  3218  3311  3339  3325  3209  ...  3209  3221  3268  3255  3244  3133   \n",
       "KB7ybYxf95pdtUoGzl3u   8493056  11390  5480  3187  3344  3280  3283  3200  3275  3227  ...  3289  3215  3174  3313  3222  3282   \n",
       "MHCnS9wv5Fxr6uqLDydh   8507904  11389  5489  3250  3344  3289  3264  3300  3226  3243  ...  3257  3244  3124  3199  3202  3186   \n",
       "\n",
       "                        fc    fd    fe    ff  \n",
       "Id                                            \n",
       "S3akQhiZwB2oTPRu9e7j  3203  3171  3169  6710  \n",
       "KB7ybYxf95pdtUoGzl3u  3198  3206  3256  6872  \n",
       "MHCnS9wv5Fxr6uqLDydh  3243  3139  3194  6669  \n",
       "\n",
       "[3 rows x 257 columns]"
      ]
     },
     "execution_count": 34,
     "metadata": {},
     "output_type": "execute_result"
    }
   ],
   "source": [
    "if os.path.exists(TS_VEC_CSV) and os.stat(TS_VEC_CSV).st_size > 0:\n",
    "    print(\"Loading vectors from\", TS_VEC_CSV)\n",
    "    test_df = pd.read_csv(TS_VEC_CSV, index_col=\"Id\")\n",
    "else:\n",
    "    # Get complete list of byte-files in input directory.\n",
    "    _, _, ts_file_names = next(os.walk(TEST_DIR))\n",
    "\n",
    "    # Generate list for file paths.\n",
    "    ts_file_paths = [os.path.join(TEST_DIR, fn) for fn in ts_file_names]\n",
    "\n",
    "    print(f\"Test dataset contains {len(ts_file_paths)} files.\")\n",
    "    print(\"Vectorization of test dataset...\")\n",
    "\n",
    "    # Parallelized File Processing.\n",
    "    ts_ftr_vecs = parallelize(vectorizer.transform_byte_file, ts_file_paths)\n",
    "\n",
    "    # Convert vectors to DataFrame.\n",
    "    test_df = pd.DataFrame(ts_ftr_vecs, columns=final_ftrs)\n",
    "    test_df.set_index([\"Id\"], inplace=True)\n",
    "\n",
    "    # Save DataFrame as CSV for future use.\n",
    "    test_df.to_csv(TS_VEC_CSV, index_label=\"Id\")\n",
    "\n",
    "test_df.sample(3)"
   ]
  },
  {
   "cell_type": "code",
   "execution_count": 35,
   "id": "e937f3aa",
   "metadata": {
    "execution": {
     "iopub.execute_input": "2023-06-28T01:36:08.902069Z",
     "iopub.status.busy": "2023-06-28T01:36:08.901613Z",
     "iopub.status.idle": "2023-06-28T01:36:08.908579Z",
     "shell.execute_reply": "2023-06-28T01:36:08.907377Z"
    },
    "papermill": {
     "duration": 0.03443,
     "end_time": "2023-06-28T01:36:08.911535",
     "exception": false,
     "start_time": "2023-06-28T01:36:08.877105",
     "status": "completed"
    },
    "tags": []
   },
   "outputs": [
    {
     "name": "stdout",
     "output_type": "stream",
     "text": [
      "Test dataset contains 10873 rows and 257 columns.\n"
     ]
    }
   ],
   "source": [
    "rows, cols = test_df.shape\n",
    "print(f\"Test dataset contains {rows} rows and {cols} columns.\")"
   ]
  },
  {
   "cell_type": "code",
   "execution_count": 36,
   "id": "66732290",
   "metadata": {
    "execution": {
     "iopub.execute_input": "2023-06-28T01:36:08.961130Z",
     "iopub.status.busy": "2023-06-28T01:36:08.960175Z",
     "iopub.status.idle": "2023-06-28T01:36:09.066930Z",
     "shell.execute_reply": "2023-06-28T01:36:09.065759Z"
    },
    "papermill": {
     "duration": 0.134732,
     "end_time": "2023-06-28T01:36:09.069503",
     "exception": false,
     "start_time": "2023-06-28T01:36:08.934771",
     "status": "completed"
    },
    "tags": []
   },
   "outputs": [
    {
     "name": "stdout",
     "output_type": "stream",
     "text": [
      "Sample rows from predictions:\n"
     ]
    },
    {
     "data": {
      "text/plain": [
       "[[0.0, 0.0, 0.0, 0.8, 0.0, 0.1, 0.0, 0.0, 0.0],\n",
       " [0.0, 0.0, 0.0, 0.0, 0.1, 0.2, 0.0, 0.7, 0.0],\n",
       " [0.0, 0.0, 0.0, 0.0, 1.0, 0.0, 0.0, 0.0, 0.0],\n",
       " [0.0, 0.0, 0.0, 0.0, 1.0, 0.0, 0.0, 0.0, 0.0],\n",
       " [0.0, 0.0, 0.0, 0.0, 1.0, 0.0, 0.0, 0.0, 0.0]]"
      ]
     },
     "execution_count": 36,
     "metadata": {},
     "output_type": "execute_result"
    }
   ],
   "source": [
    "predictions = np.round(best_model.predict_proba(test_df).tolist(), 1).tolist()\n",
    "\n",
    "print(\"Sample rows from predictions:\")\n",
    "predictions[:5]"
   ]
  },
  {
   "cell_type": "code",
   "execution_count": 37,
   "id": "b90d9192",
   "metadata": {
    "execution": {
     "iopub.execute_input": "2023-06-28T01:36:09.117198Z",
     "iopub.status.busy": "2023-06-28T01:36:09.116738Z",
     "iopub.status.idle": "2023-06-28T01:36:09.229637Z",
     "shell.execute_reply": "2023-06-28T01:36:09.227893Z"
    },
    "papermill": {
     "duration": 0.139893,
     "end_time": "2023-06-28T01:36:09.232390",
     "exception": false,
     "start_time": "2023-06-28T01:36:09.092497",
     "status": "completed"
    },
    "tags": []
   },
   "outputs": [
    {
     "name": "stdout",
     "output_type": "stream",
     "text": [
      "Your submission was successfully saved!\n"
     ]
    }
   ],
   "source": [
    "data = np.column_stack((test_df.index, predictions))\n",
    "col_names = [\"Id\"] + [f\"Prediction{i}\" for i in range(1, 10)]\n",
    "\n",
    "output = pd.DataFrame(data, columns=col_names)\n",
    "output.to_csv(\"submission.csv\", index=False)\n",
    "print(\"Your submission was successfully saved!\")"
   ]
  }
 ],
 "metadata": {
  "kernelspec": {
   "display_name": "Python 3",
   "language": "python",
   "name": "python3"
  },
  "language_info": {
   "codemirror_mode": {
    "name": "ipython",
    "version": 3
   },
   "file_extension": ".py",
   "mimetype": "text/x-python",
   "name": "python",
   "nbconvert_exporter": "python",
   "pygments_lexer": "ipython3",
   "version": "3.7.12"
  },
  "papermill": {
   "default_parameters": {},
   "duration": 634.004649,
   "end_time": "2023-06-28T01:36:11.879802",
   "environment_variables": {},
   "exception": null,
   "input_path": "__notebook__.ipynb",
   "output_path": "__notebook__.ipynb",
   "parameters": {},
   "start_time": "2023-06-28T01:25:37.875153",
   "version": "2.3.4"
  }
 },
 "nbformat": 4,
 "nbformat_minor": 5
}
