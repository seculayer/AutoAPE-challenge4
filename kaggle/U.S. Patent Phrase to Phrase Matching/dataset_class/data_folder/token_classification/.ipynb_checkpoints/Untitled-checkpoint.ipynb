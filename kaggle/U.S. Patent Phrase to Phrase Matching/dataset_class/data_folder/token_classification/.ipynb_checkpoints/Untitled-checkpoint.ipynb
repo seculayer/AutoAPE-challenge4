{
 "cells": [
  {
   "cell_type": "code",
   "execution_count": 1,
   "id": "10e26a3f-2eac-4862-8cc2-9da145477e68",
   "metadata": {},
   "outputs": [],
   "source": [
    "import numpy as np\n",
    "import pandas as pd"
   ]
  },
  {
   "cell_type": "code",
   "execution_count": 2,
   "id": "92747043-7895-4bf5-85bb-0192c63e7d34",
   "metadata": {},
   "outputs": [
    {
     "data": {
      "text/html": [
       "<div>\n",
       "<style scoped>\n",
       "    .dataframe tbody tr th:only-of-type {\n",
       "        vertical-align: middle;\n",
       "    }\n",
       "\n",
       "    .dataframe tbody tr th {\n",
       "        vertical-align: top;\n",
       "    }\n",
       "\n",
       "    .dataframe thead th {\n",
       "        text-align: right;\n",
       "    }\n",
       "</style>\n",
       "<table border=\"1\" class=\"dataframe\">\n",
       "  <thead>\n",
       "    <tr style=\"text-align: right;\">\n",
       "      <th></th>\n",
       "      <th>anchor</th>\n",
       "      <th>context</th>\n",
       "      <th>scores</th>\n",
       "      <th>targets</th>\n",
       "      <th>ids</th>\n",
       "      <th>context_text</th>\n",
       "      <th>fold</th>\n",
       "    </tr>\n",
       "  </thead>\n",
       "  <tbody>\n",
       "    <tr>\n",
       "      <th>0</th>\n",
       "      <td>abatement</td>\n",
       "      <td>A47</td>\n",
       "      <td>[0.5, 0.75, 0.25, 0.5, 0.0, 0.25, 0.25, 0.25, ...</td>\n",
       "      <td>['abatement of pollution', 'act of abating', '...</td>\n",
       "      <td>['37d61fd2272659b1', '7b9652b17b68b7a4', '36d7...</td>\n",
       "      <td>human necessities;furniture; domestic articles...</td>\n",
       "      <td>0</td>\n",
       "    </tr>\n",
       "    <tr>\n",
       "      <th>1</th>\n",
       "      <td>abatement</td>\n",
       "      <td>A61</td>\n",
       "      <td>[0.5, 0.5, 0.25]</td>\n",
       "      <td>['emission abatement', 'prevention', 'prophyla...</td>\n",
       "      <td>['09913d3964d4c881', '87af8ea095cc18d4', 'd7bb...</td>\n",
       "      <td>human necessities;medical or veterinary scienc...</td>\n",
       "      <td>0</td>\n",
       "    </tr>\n",
       "    <tr>\n",
       "      <th>2</th>\n",
       "      <td>abatement</td>\n",
       "      <td>A62</td>\n",
       "      <td>[0.5]</td>\n",
       "      <td>['pollution abatement']</td>\n",
       "      <td>['f6dfaebab0d209b7']</td>\n",
       "      <td>human necessities;life-saving; fire-fighting [...</td>\n",
       "      <td>0</td>\n",
       "    </tr>\n",
       "    <tr>\n",
       "      <th>3</th>\n",
       "      <td>abatement</td>\n",
       "      <td>C01</td>\n",
       "      <td>[0.5]</td>\n",
       "      <td>['abatement apparatus']</td>\n",
       "      <td>['ee25d53aac9ecaf0']</td>\n",
       "      <td>chemistry; metallurgy;inorganic chemistry [SEP...</td>\n",
       "      <td>0</td>\n",
       "    </tr>\n",
       "    <tr>\n",
       "      <th>4</th>\n",
       "      <td>abatement</td>\n",
       "      <td>F16</td>\n",
       "      <td>[0.0]</td>\n",
       "      <td>['treatment']</td>\n",
       "      <td>['4fd7d0a3b8887846']</td>\n",
       "      <td>mechanical engineering; lighting; heating; wea...</td>\n",
       "      <td>0</td>\n",
       "    </tr>\n",
       "    <tr>\n",
       "      <th>...</th>\n",
       "      <td>...</td>\n",
       "      <td>...</td>\n",
       "      <td>...</td>\n",
       "      <td>...</td>\n",
       "      <td>...</td>\n",
       "      <td>...</td>\n",
       "      <td>...</td>\n",
       "    </tr>\n",
       "    <tr>\n",
       "      <th>1694</th>\n",
       "      <td>wiring trough</td>\n",
       "      <td>F16</td>\n",
       "      <td>[0.25, 0.5, 0.5, 0.25, 0.5, 0.25, 0.25, 0.25, ...</td>\n",
       "      <td>['distribution weir', 'electrical duct', 'fron...</td>\n",
       "      <td>['7e0773d43c66199a', '9b5e49d24aac48fe', '68e8...</td>\n",
       "      <td>mechanical engineering; lighting; heating; wea...</td>\n",
       "      <td>4</td>\n",
       "    </tr>\n",
       "    <tr>\n",
       "      <th>1695</th>\n",
       "      <td>wiring trough</td>\n",
       "      <td>H02</td>\n",
       "      <td>[0.25, 0.25, 0.5, 0.5, 0.5, 0.25, 0.0, 0.25, 0...</td>\n",
       "      <td>['cable compartments', 'cavity', 'connector ho...</td>\n",
       "      <td>['d66b037474f7da18', '4c3d253a31cc2f4e', 'd08c...</td>\n",
       "      <td>electricity;generation; conversion or distribu...</td>\n",
       "      <td>4</td>\n",
       "    </tr>\n",
       "    <tr>\n",
       "      <th>1696</th>\n",
       "      <td>wood article</td>\n",
       "      <td>B05</td>\n",
       "      <td>[0.5, 0.0, 0.0, 0.0, 0.0, 0.25, 0.25, 0.25, 0....</td>\n",
       "      <td>['article', 'article generator', 'article spin...</td>\n",
       "      <td>['0cff3694e2b8abda', '4e86561ecc425940', '6ec9...</td>\n",
       "      <td>performing operations; transporting;spraying o...</td>\n",
       "      <td>1</td>\n",
       "    </tr>\n",
       "    <tr>\n",
       "      <th>1697</th>\n",
       "      <td>wood article</td>\n",
       "      <td>B27</td>\n",
       "      <td>[0.5]</td>\n",
       "      <td>['board']</td>\n",
       "      <td>['598540d63c7cafcb']</td>\n",
       "      <td>performing operations; transporting;working or...</td>\n",
       "      <td>1</td>\n",
       "    </tr>\n",
       "    <tr>\n",
       "      <th>1698</th>\n",
       "      <td>wood article</td>\n",
       "      <td>B44</td>\n",
       "      <td>[0.0, 0.0, 0.0, 0.0, 0.25, 0.25, 0.25, 0.25, 0...</td>\n",
       "      <td>['article generator', 'article spinner', 'arti...</td>\n",
       "      <td>['f086ba9867671857', 'c7e11e374c52eec4', 'c93e...</td>\n",
       "      <td>performing operations; transporting;decorative...</td>\n",
       "      <td>1</td>\n",
       "    </tr>\n",
       "  </tbody>\n",
       "</table>\n",
       "<p>1699 rows × 7 columns</p>\n",
       "</div>"
      ],
      "text/plain": [
       "             anchor context  \\\n",
       "0         abatement     A47   \n",
       "1         abatement     A61   \n",
       "2         abatement     A62   \n",
       "3         abatement     C01   \n",
       "4         abatement     F16   \n",
       "...             ...     ...   \n",
       "1694  wiring trough     F16   \n",
       "1695  wiring trough     H02   \n",
       "1696   wood article     B05   \n",
       "1697   wood article     B27   \n",
       "1698   wood article     B44   \n",
       "\n",
       "                                                 scores  \\\n",
       "0     [0.5, 0.75, 0.25, 0.5, 0.0, 0.25, 0.25, 0.25, ...   \n",
       "1                                      [0.5, 0.5, 0.25]   \n",
       "2                                                 [0.5]   \n",
       "3                                                 [0.5]   \n",
       "4                                                 [0.0]   \n",
       "...                                                 ...   \n",
       "1694  [0.25, 0.5, 0.5, 0.25, 0.5, 0.25, 0.25, 0.25, ...   \n",
       "1695  [0.25, 0.25, 0.5, 0.5, 0.5, 0.25, 0.0, 0.25, 0...   \n",
       "1696  [0.5, 0.0, 0.0, 0.0, 0.0, 0.25, 0.25, 0.25, 0....   \n",
       "1697                                              [0.5]   \n",
       "1698  [0.0, 0.0, 0.0, 0.0, 0.25, 0.25, 0.25, 0.25, 0...   \n",
       "\n",
       "                                                targets  \\\n",
       "0     ['abatement of pollution', 'act of abating', '...   \n",
       "1     ['emission abatement', 'prevention', 'prophyla...   \n",
       "2                               ['pollution abatement']   \n",
       "3                               ['abatement apparatus']   \n",
       "4                                         ['treatment']   \n",
       "...                                                 ...   \n",
       "1694  ['distribution weir', 'electrical duct', 'fron...   \n",
       "1695  ['cable compartments', 'cavity', 'connector ho...   \n",
       "1696  ['article', 'article generator', 'article spin...   \n",
       "1697                                          ['board']   \n",
       "1698  ['article generator', 'article spinner', 'arti...   \n",
       "\n",
       "                                                    ids  \\\n",
       "0     ['37d61fd2272659b1', '7b9652b17b68b7a4', '36d7...   \n",
       "1     ['09913d3964d4c881', '87af8ea095cc18d4', 'd7bb...   \n",
       "2                                  ['f6dfaebab0d209b7']   \n",
       "3                                  ['ee25d53aac9ecaf0']   \n",
       "4                                  ['4fd7d0a3b8887846']   \n",
       "...                                                 ...   \n",
       "1694  ['7e0773d43c66199a', '9b5e49d24aac48fe', '68e8...   \n",
       "1695  ['d66b037474f7da18', '4c3d253a31cc2f4e', 'd08c...   \n",
       "1696  ['0cff3694e2b8abda', '4e86561ecc425940', '6ec9...   \n",
       "1697                               ['598540d63c7cafcb']   \n",
       "1698  ['f086ba9867671857', 'c7e11e374c52eec4', 'c93e...   \n",
       "\n",
       "                                           context_text  fold  \n",
       "0     human necessities;furniture; domestic articles...     0  \n",
       "1     human necessities;medical or veterinary scienc...     0  \n",
       "2     human necessities;life-saving; fire-fighting [...     0  \n",
       "3     chemistry; metallurgy;inorganic chemistry [SEP...     0  \n",
       "4     mechanical engineering; lighting; heating; wea...     0  \n",
       "...                                                 ...   ...  \n",
       "1694  mechanical engineering; lighting; heating; wea...     4  \n",
       "1695  electricity;generation; conversion or distribu...     4  \n",
       "1696  performing operations; transporting;spraying o...     1  \n",
       "1697  performing operations; transporting;working or...     1  \n",
       "1698  performing operations; transporting;decorative...     1  \n",
       "\n",
       "[1699 rows x 7 columns]"
      ]
     },
     "execution_count": 2,
     "metadata": {},
     "output_type": "execute_result"
    }
   ],
   "source": [
    "train_df = pd.read_csv('Fold5_UPPPM_train_df.csv')\n",
    "train_df"
   ]
  },
  {
   "cell_type": "code",
   "execution_count": 16,
   "id": "977b8dca-81a3-4af8-82b1-01df5b807377",
   "metadata": {},
   "outputs": [
    {
     "data": {
      "text/plain": [
       "array('[0.5, 0.75, 0.25, 0.5, 0.0, 0.25, 0.25, 0.25, 0.5, 0.25, 0.5, 0.5, 0.5, 0.5, 0.0, 0.0, 0.25, 0.5, 0.0, 0.0, 0.0]',\n",
       "      dtype='<U112')"
      ]
     },
     "execution_count": 16,
     "metadata": {},
     "output_type": "execute_result"
    }
   ],
   "source": [
    "test = np.array()\n",
    "test"
   ]
  },
  {
   "cell_type": "code",
   "execution_count": null,
   "id": "91a657c1-02f7-469a-94b2-5610b221a99b",
   "metadata": {},
   "outputs": [],
   "source": [
    "train_df['copy_scores'] = train_df.scores"
   ]
  },
  {
   "cell_type": "code",
   "execution_count": null,
   "id": "b83e459d-0d43-4d6d-bae0-739862ebb8ad",
   "metadata": {},
   "outputs": [],
   "source": [
    "train_df.astype({'scores': float,\n",
    "                 'targets'})"
   ]
  },
  {
   "cell_type": "code",
   "execution_count": 22,
   "id": "45bb02cc-249d-4d44-ba6c-9d8b1f00be52",
   "metadata": {},
   "outputs": [
    {
     "ename": "ValueError",
     "evalue": "invalid literal for int() with base 10: '['",
     "output_type": "error",
     "traceback": [
      "\u001b[0;31m---------------------------------------------------------------------------\u001b[0m",
      "\u001b[0;31mValueError\u001b[0m                                Traceback (most recent call last)",
      "\u001b[0;32m/tmp/ipykernel_13543/1001856148.py\u001b[0m in \u001b[0;36m<module>\u001b[0;34m\u001b[0m\n\u001b[1;32m      1\u001b[0m \u001b[0mtest\u001b[0m \u001b[0;34m=\u001b[0m \u001b[0mtrain_df\u001b[0m\u001b[0;34m.\u001b[0m\u001b[0mscores\u001b[0m\u001b[0;34m.\u001b[0m\u001b[0mto_numpy\u001b[0m\u001b[0;34m(\u001b[0m\u001b[0;34m)\u001b[0m\u001b[0;34m\u001b[0m\u001b[0;34m\u001b[0m\u001b[0m\n\u001b[0;32m----> 2\u001b[0;31m \u001b[0mlist\u001b[0m\u001b[0;34m(\u001b[0m\u001b[0mmap\u001b[0m\u001b[0;34m(\u001b[0m\u001b[0mint\u001b[0m\u001b[0;34m,\u001b[0m \u001b[0mtest\u001b[0m\u001b[0;34m[\u001b[0m\u001b[0;36m0\u001b[0m\u001b[0;34m]\u001b[0m\u001b[0;34m)\u001b[0m\u001b[0;34m)\u001b[0m\u001b[0;34m\u001b[0m\u001b[0;34m\u001b[0m\u001b[0m\n\u001b[0m",
      "\u001b[0;31mValueError\u001b[0m: invalid literal for int() with base 10: '['"
     ]
    }
   ],
   "source": [
    "test = train_df.scores.to_numpy()\n",
    "list(map(int, test[0]))"
   ]
  },
  {
   "cell_type": "code",
   "execution_count": 28,
   "id": "7017f015-fdab-4123-b3a5-0ec354506377",
   "metadata": {},
   "outputs": [
    {
     "data": {
      "text/plain": [
       "float"
      ]
     },
     "execution_count": 28,
     "metadata": {},
     "output_type": "execute_result"
    }
   ],
   "source": [
    "import ast\n",
    "test1 = ast.literal_eval(test[0])\n",
    "type(test1[0])"
   ]
  },
  {
   "cell_type": "code",
   "execution_count": null,
   "id": "75fc2686-86b4-4337-bb64-414b2589bf79",
   "metadata": {},
   "outputs": [],
   "source": []
  }
 ],
 "metadata": {
  "kernelspec": {
   "display_name": "Python 3 (ipykernel)",
   "language": "python",
   "name": "python3"
  },
  "language_info": {
   "codemirror_mode": {
    "name": "ipython",
    "version": 3
   },
   "file_extension": ".py",
   "mimetype": "text/x-python",
   "name": "python",
   "nbconvert_exporter": "python",
   "pygments_lexer": "ipython3",
   "version": "3.9.13"
  }
 },
 "nbformat": 4,
 "nbformat_minor": 5
}
