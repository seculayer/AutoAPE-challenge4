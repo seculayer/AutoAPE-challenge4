{
 "cells": [
  {
   "cell_type": "markdown",
   "metadata": {},
   "source": [
    "<br>\n",
    "<p style=\"font-size:48px;text-align:center;line-height:100%\">\n",
    "    A Hybrid Classifier to Predict Surface Type from IMU Data\n",
    "</p>\n",
    "<br>\n",
    "<p style=\"font-size:24px;text-align:center;line-height:100%\">\n",
    "    Pedro Jofre Lora\n",
    "</p>\n",
    "<br>"
   ]
  },
  {
   "cell_type": "markdown",
   "metadata": {},
   "source": [
    "# Abstract"
   ]
  },
  {
   "cell_type": "markdown",
   "metadata": {},
   "source": [
    "A hybrid classifier system was developed to predict the surface on which a robot was traversing using the signals output from the onboard IMU sensors. The hybrid classifier leveraged four steps of classification (denoted by (1), (2), (3), and (4)), performed in series in order to enhance the accuracy of the predictions. (1) First, the position data was exploited to predict the groups from which the data was originally split. These predicted groups generated sample sizes that were orders of magnitude greater than the original samples and predicted nearly 75% of the data. (2) Using TSFRESH, motion signals were then analyzed at the original sample size to generate a dataframe of time and frequency dependent features. These features were themselves classified based on hypothesis tests run in TSFRESH to reduce the total number of features used for standard classification techniques. (3) Six standard classifiers were tuned and trained on the dataframe developed in (3), which yielded a series of unique predictions at the smallest sample level. (4) A meta ensemble classifier was developed that leveraged the unique predictions from (3) alongside the groups that were predicted in (1) to produce a final prediction. This meta ensemble classifier was tuned by weighting the results of the standard classifiers, and a simple evolutionary algorithm was used to optimize the weights for each classifier. The hybrid classifier as a whole achieved 93.3% accuracy on the provided test set, which was significantly better than ensemble classifiers alone (66.5% accuracy) or position based grouping alone (75.9% accuracy). This finding corroborates other findings([1](https://pdfs.semanticscholar.org/17d6/d64202aeeeab07a09c3ff06cbee5f0632ce0.pdf), [2](https://www.hindawi.com/journals/cin/2017/1930702/), [3](https://link.springer.com/article/10.1007/s10489-009-0194-7)) that purpose-built hybrid classifiers outperform base and ensemble classifiers alone."
   ]
  },
  {
   "cell_type": "code",
   "execution_count": null,
   "metadata": {},
   "outputs": [],
   "source": [
    "# https://www.kaggle.com/code/pjofrelora/hybrid-classifier-solution-11th-place/notebook"
   ]
  },
  {
   "cell_type": "markdown",
   "metadata": {},
   "source": [
    "### Table of Contents\n",
    "1. [Introduction](#section1)\n",
    "2. [Importing and Previewing Data](#section2)\n",
    "3. [Exploratory Data Analysis](#section3)\n",
    "4. [Stitching Time Series](#section4)\n",
    "5. [Feature Extraction](#section5)\n",
    "6. [Classifier Exploration](#section6)\n",
    "7. [Meta Ensemble Classifier](#section7)\n",
    "8. [Hybrid Classification](#section8)"
   ]
  },
  {
   "cell_type": "markdown",
   "metadata": {},
   "source": [
    "<a id='section1'></a>\n",
    "# Introduction"
   ]
  },
  {
   "cell_type": "markdown",
   "metadata": {},
   "source": [
    "The following notebook contains my annotated work to solve the Kaggle 2019 CareerCon Competition, in which I placed 11th overall. This competition challenged competitors to solve a classification problem in order to help a robot safely navigate its environment by predicting the surface on which the robot was moving using data from the Inertial Measurement Units. 128 samples (likely 0.25 seconds) were available from each of 10 channels (4 position and 6 motion) to make predictions.\n",
    "\n",
    "My approach can be broken down into four distinct steps. The first step exploits the position data in order to regroup series in the train and test datasets combined. Then, I extracted time and freqency dependent features from each series and used the hypothesis testing tools in TSFRESH to select for the most relevant features. In the third step, I trained a slew of standard classifiers and evaluated their performance. Finally, I built a meta ensemble classifier that leveraged individual classifiers to produce a more robust prediction.\n",
    "\n",
    "You may be wondering why I consider my solution a hybrid classifier. First, let me distinguish between a hybrid and an ensemble classifier. An ensemble classifier lets individual classifiers cast votes on a classification and then chooses the class with the most votes (sometimes in a weighted fashion). Each classifier can (and does) run in parallel, and each casts a vote only at the end. In contrast, a hybrid classifier lets individual classifiers classify subsets of the data. These subset classifications can then be used directly or can be fed into another classifier in order to classify again. For this reason, a hybrid classifier must be run in sequence. \n",
    "\n",
    "This analysis must be run in sequence, since the results of the first classification (regrouping) is necessary for the meta ensemble classifier to make predictions. The results of regrouping are *also used directly*, though only to classify a subset of the data. Furthermore, the features that are calculated from the data are themselves classified (selected) by running hypothesis tests using the target information. This solution is a hybrid classifier for all of these reasons.\n",
    "\n",
    "Finally, though this work is my own, it is certainly the case that reading through comments and looking at publicly available kernels on Kaggle influenced my work! In particular, I wouldn't have known about TSFRESH had I not seen [Anuran Chakraborty's kernel](https://www.kaggle.com/chanuran/tsfresh-feature). The notebook from which I submitted my final entry did not use TSFRESH, and instead, I calculated a smaller set of features by hand. This was more work than using TSFRESH, which is a rich package. \n",
    "I also acknowledge that many of us had the same intuition that the position data bled across the train and test groups since it appeared that position was an important predictor in early public kernels. At the onset, I wanted to build a solution that attended to the physics of the problem, so I actually tossed out the position data. As many of us found, using the motion data alone was not enough to place in the top 100. Given that I'm actively seeking a position in a data science role, I relaxed my constraints and decided to look for ways to use the position data in a meaningful way. On a flight back from Shenzhen, it dawned on me that the group_ids in the training set meant that data had been split from longer runs, so I started working on an algorithm to restitch the data in order to upsample. When I landed, I found that there had already been some preliminary work done in that realm, but I chose to stick by the solution that I developed in-flight. Later, I realized that creating groups was useful precisely because I could leverage it in a hybridized approach. \n",
    "\n",
    "I hope that my thoughts come out in the remainder of the notebook. Please feel free to contact me via comments here on Kaggle, by email at [jofrepp@gmail.com](mailto:jofrepp@gmail.com), or through [LinkedIn](https://www.linkedin.com/in/pedro-jofre-lora-b7167095/) if you have specific questions or comments about this kernel. Enjoy!"
   ]
  },
  {
   "cell_type": "markdown",
   "metadata": {},
   "source": [
    "<a id='section2'></a>\n",
    "# Importing and Previewing Data\n",
    "\n",
    "First, I'll load the libraries needed for this particular analysis. I've put the entire list of libraries below so that someone else running this kernel doesn't get halfway through before they realize that they're missing a library."
   ]
  },
  {
   "cell_type": "code",
   "execution_count": null,
   "metadata": {},
   "outputs": [],
   "source": [
    "!pip install tsfresh"
   ]
  },
  {
   "cell_type": "code",
   "execution_count": 1,
   "metadata": {
    "_kg_hide-input": true,
    "execution": {
     "iopub.execute_input": "2023-07-17T02:14:21.460978Z",
     "iopub.status.busy": "2023-07-17T02:14:21.460269Z",
     "iopub.status.idle": "2023-07-17T02:14:22.946274Z",
     "shell.execute_reply": "2023-07-17T02:14:22.945089Z",
     "shell.execute_reply.started": "2023-07-17T02:14:21.460909Z"
    }
   },
   "outputs": [],
   "source": [
    "# Import libraries to store data\n",
    "import pandas as pd\n",
    "import numpy as np\n",
    "# Import libraries to visualize data\n",
    "import matplotlib.pyplot as plt\n",
    "from matplotlib.ticker import MultipleLocator\n",
    "import seaborn as sns\n",
    "from ipywidgets import interact, interact_manual\n",
    "# Import libraries to process data\n",
    "import tsfresh\n",
    "from scipy.signal import welch\n",
    "from sklearn.preprocessing import StandardScaler\n",
    "from sklearn.model_selection import train_test_split\n",
    "# Import libraries to classify data and score results\n",
    "from sklearn.model_selection import GridSearchCV\n",
    "from sklearn.ensemble import RandomForestClassifier\n",
    "from sklearn.naive_bayes import GaussianNB\n",
    "from sklearn.svm import SVC\n",
    "from sklearn.neighbors import KNeighborsClassifier\n",
    "from sklearn.tree import DecisionTreeClassifier\n",
    "from sklearn.metrics import classification_report, f1_score\n",
    "import xgboost as xgb\n",
    "# Import libraries used in functions and for feedback\n",
    "import time\n",
    "import random\n",
    "import warnings\n",
    "warnings.filterwarnings(\"ignore\") # Setting values on a Pandas DataFrame \n",
    "# sometimes throws errors, so I'll silence the warnings.\n",
    "\n",
    "# The below has to be set because matplotlib and XGB crash \n",
    "# by causing a duplicate copy of a library to be run. It's a \n",
    "# known issue, unfortunately.\n",
    "import os\n",
    "os.environ['KMP_DUPLICATE_LIB_OK']='True'"
   ]
  },
  {
   "cell_type": "markdown",
   "metadata": {},
   "source": [
    "Now I'll load the data and merge it where necessary in order to make it easier to manipulate later. I'll also preview the data in order to get a better sense of what I'm dealing with."
   ]
  },
  {
   "cell_type": "code",
   "execution_count": 2,
   "metadata": {
    "execution": {
     "iopub.execute_input": "2023-07-17T02:14:22.948927Z",
     "iopub.status.busy": "2023-07-17T02:14:22.948319Z",
     "iopub.status.idle": "2023-07-17T02:14:27.107277Z",
     "shell.execute_reply": "2023-07-17T02:14:27.106538Z",
     "shell.execute_reply.started": "2023-07-17T02:14:22.948867Z"
    }
   },
   "outputs": [],
   "source": [
    "f_train = pd.read_csv('input/X_train.csv')\n",
    "t_train = pd.read_csv('input/y_train.csv')\n",
    "test = pd.read_csv('input/X_test.csv')\n",
    "train = pd.merge(t_train, f_train, how = 'outer', left_on = 'series_id', right_on = 'series_id')"
   ]
  },
  {
   "cell_type": "code",
   "execution_count": 3,
   "metadata": {
    "execution": {
     "iopub.execute_input": "2023-07-17T02:14:27.108984Z",
     "iopub.status.busy": "2023-07-17T02:14:27.108560Z",
     "iopub.status.idle": "2023-07-17T02:14:27.157960Z",
     "shell.execute_reply": "2023-07-17T02:14:27.157356Z",
     "shell.execute_reply.started": "2023-07-17T02:14:27.108943Z"
    }
   },
   "outputs": [
    {
     "data": {
      "text/html": [
       "<div>\n",
       "<style scoped>\n",
       "    .dataframe tbody tr th:only-of-type {\n",
       "        vertical-align: middle;\n",
       "    }\n",
       "\n",
       "    .dataframe tbody tr th {\n",
       "        vertical-align: top;\n",
       "    }\n",
       "\n",
       "    .dataframe thead th {\n",
       "        text-align: right;\n",
       "    }\n",
       "</style>\n",
       "<table border=\"1\" class=\"dataframe\">\n",
       "  <thead>\n",
       "    <tr style=\"text-align: right;\">\n",
       "      <th></th>\n",
       "      <th>series_id</th>\n",
       "      <th>group_id</th>\n",
       "      <th>surface</th>\n",
       "      <th>row_id</th>\n",
       "      <th>measurement_number</th>\n",
       "      <th>orientation_X</th>\n",
       "      <th>orientation_Y</th>\n",
       "      <th>orientation_Z</th>\n",
       "      <th>orientation_W</th>\n",
       "      <th>angular_velocity_X</th>\n",
       "      <th>angular_velocity_Y</th>\n",
       "      <th>angular_velocity_Z</th>\n",
       "      <th>linear_acceleration_X</th>\n",
       "      <th>linear_acceleration_Y</th>\n",
       "      <th>linear_acceleration_Z</th>\n",
       "    </tr>\n",
       "  </thead>\n",
       "  <tbody>\n",
       "    <tr>\n",
       "      <th>0</th>\n",
       "      <td>0</td>\n",
       "      <td>13</td>\n",
       "      <td>fine_concrete</td>\n",
       "      <td>0_0</td>\n",
       "      <td>0</td>\n",
       "      <td>-0.75853</td>\n",
       "      <td>-0.63435</td>\n",
       "      <td>-0.10488</td>\n",
       "      <td>-0.10597</td>\n",
       "      <td>0.107650</td>\n",
       "      <td>0.017561</td>\n",
       "      <td>0.000767</td>\n",
       "      <td>-0.74857</td>\n",
       "      <td>2.1030</td>\n",
       "      <td>-9.7532</td>\n",
       "    </tr>\n",
       "    <tr>\n",
       "      <th>1</th>\n",
       "      <td>0</td>\n",
       "      <td>13</td>\n",
       "      <td>fine_concrete</td>\n",
       "      <td>0_1</td>\n",
       "      <td>1</td>\n",
       "      <td>-0.75853</td>\n",
       "      <td>-0.63434</td>\n",
       "      <td>-0.10490</td>\n",
       "      <td>-0.10600</td>\n",
       "      <td>0.067851</td>\n",
       "      <td>0.029939</td>\n",
       "      <td>0.003386</td>\n",
       "      <td>0.33995</td>\n",
       "      <td>1.5064</td>\n",
       "      <td>-9.4128</td>\n",
       "    </tr>\n",
       "    <tr>\n",
       "      <th>2</th>\n",
       "      <td>0</td>\n",
       "      <td>13</td>\n",
       "      <td>fine_concrete</td>\n",
       "      <td>0_2</td>\n",
       "      <td>2</td>\n",
       "      <td>-0.75853</td>\n",
       "      <td>-0.63435</td>\n",
       "      <td>-0.10492</td>\n",
       "      <td>-0.10597</td>\n",
       "      <td>0.007275</td>\n",
       "      <td>0.028934</td>\n",
       "      <td>-0.005978</td>\n",
       "      <td>-0.26429</td>\n",
       "      <td>1.5922</td>\n",
       "      <td>-8.7267</td>\n",
       "    </tr>\n",
       "    <tr>\n",
       "      <th>3</th>\n",
       "      <td>0</td>\n",
       "      <td>13</td>\n",
       "      <td>fine_concrete</td>\n",
       "      <td>0_3</td>\n",
       "      <td>3</td>\n",
       "      <td>-0.75852</td>\n",
       "      <td>-0.63436</td>\n",
       "      <td>-0.10495</td>\n",
       "      <td>-0.10597</td>\n",
       "      <td>-0.013053</td>\n",
       "      <td>0.019448</td>\n",
       "      <td>-0.008974</td>\n",
       "      <td>0.42684</td>\n",
       "      <td>1.0993</td>\n",
       "      <td>-10.0960</td>\n",
       "    </tr>\n",
       "    <tr>\n",
       "      <th>4</th>\n",
       "      <td>0</td>\n",
       "      <td>13</td>\n",
       "      <td>fine_concrete</td>\n",
       "      <td>0_4</td>\n",
       "      <td>4</td>\n",
       "      <td>-0.75852</td>\n",
       "      <td>-0.63435</td>\n",
       "      <td>-0.10495</td>\n",
       "      <td>-0.10596</td>\n",
       "      <td>0.005135</td>\n",
       "      <td>0.007652</td>\n",
       "      <td>0.005245</td>\n",
       "      <td>-0.50969</td>\n",
       "      <td>1.4689</td>\n",
       "      <td>-10.4410</td>\n",
       "    </tr>\n",
       "  </tbody>\n",
       "</table>\n",
       "</div>"
      ],
      "text/plain": [
       "   series_id  group_id        surface row_id  measurement_number  \\\n",
       "0          0        13  fine_concrete    0_0                   0   \n",
       "1          0        13  fine_concrete    0_1                   1   \n",
       "2          0        13  fine_concrete    0_2                   2   \n",
       "3          0        13  fine_concrete    0_3                   3   \n",
       "4          0        13  fine_concrete    0_4                   4   \n",
       "\n",
       "   orientation_X  orientation_Y  orientation_Z  orientation_W  \\\n",
       "0       -0.75853       -0.63435       -0.10488       -0.10597   \n",
       "1       -0.75853       -0.63434       -0.10490       -0.10600   \n",
       "2       -0.75853       -0.63435       -0.10492       -0.10597   \n",
       "3       -0.75852       -0.63436       -0.10495       -0.10597   \n",
       "4       -0.75852       -0.63435       -0.10495       -0.10596   \n",
       "\n",
       "   angular_velocity_X  angular_velocity_Y  angular_velocity_Z  \\\n",
       "0            0.107650            0.017561            0.000767   \n",
       "1            0.067851            0.029939            0.003386   \n",
       "2            0.007275            0.028934           -0.005978   \n",
       "3           -0.013053            0.019448           -0.008974   \n",
       "4            0.005135            0.007652            0.005245   \n",
       "\n",
       "   linear_acceleration_X  linear_acceleration_Y  linear_acceleration_Z  \n",
       "0               -0.74857                 2.1030                -9.7532  \n",
       "1                0.33995                 1.5064                -9.4128  \n",
       "2               -0.26429                 1.5922                -8.7267  \n",
       "3                0.42684                 1.0993               -10.0960  \n",
       "4               -0.50969                 1.4689               -10.4410  "
      ]
     },
     "execution_count": 3,
     "metadata": {},
     "output_type": "execute_result"
    }
   ],
   "source": [
    "train.head()"
   ]
  },
  {
   "cell_type": "code",
   "execution_count": 4,
   "metadata": {
    "execution": {
     "iopub.execute_input": "2023-07-17T02:14:27.159643Z",
     "iopub.status.busy": "2023-07-17T02:14:27.159148Z",
     "iopub.status.idle": "2023-07-17T02:14:27.356070Z",
     "shell.execute_reply": "2023-07-17T02:14:27.355443Z",
     "shell.execute_reply.started": "2023-07-17T02:14:27.159596Z"
    }
   },
   "outputs": [
    {
     "ename": "TypeError",
     "evalue": "Could not convert fine_concretefine_concretefine_concretefine_concretefine_concretefine_concretefine_concretefine_concretefine_concretefine_concretefine_concretefine_concretefine_concretefine_concretefine_concretefine_concretefine_concretefine_concretefine_concretefine_concretefine_concretefine_concretefine_concretefine_concretefine_concretefine_concretefine_concretefine_concretefine_concretefine_concretefine_concretefine_concretefine_concretefine_concretefine_concretefine_concretefine_concretefine_concretefine_concretefine_concretefine_concretefine_concretefine_concretefine_concretefine_concretefine_concretefine_concretefine_concretefine_concretefine_concretefine_concretefine_concretefine_concretefine_concretefine_concretefine_concretefine_concretefine_concretefine_concretefine_concretefine_concretefine_concretefine_concretefine_concretefine_concretefine_concretefine_concretefine_concretefine_concretefine_concretefine_concretefine_concretefine_concretefine_concretefine_concretefine_concretefine_concretefine_concretefine_concretefine_concretefine_concretefine_concretefine_concretefine_concretefine_concretefine_concretefine_concretefine_concretefine_concretefine_concretefine_concretefine_concretefine_concretefine_concretefine_concretefine_concretefine_concretefine_concretefine_concretefine_concretefine_concretefine_concretefine_concretefine_concretefine_concretefine_concretefine_concretefine_concretefine_concretefine_concretefine_concretefine_concretefine_concretefine_concretefine_concretefine_concretefine_concretefine_concretefine_concretefine_concretefine_concretefine_concretefine_concretefine_concretefine_concretefine_concretefine_concretefine_concrete to numeric",
     "output_type": "error",
     "traceback": [
      "\u001b[1;31m---------------------------------------------------------------------------\u001b[0m",
      "\u001b[1;31mNotImplementedError\u001b[0m                       Traceback (most recent call last)",
      "File \u001b[1;32m~\\anaconda3\\lib\\site-packages\\pandas\\core\\groupby\\groupby.py:1490\u001b[0m, in \u001b[0;36mGroupBy._cython_agg_general.<locals>.array_func\u001b[1;34m(values)\u001b[0m\n\u001b[0;32m   1489\u001b[0m \u001b[38;5;28;01mtry\u001b[39;00m:\n\u001b[1;32m-> 1490\u001b[0m     result \u001b[38;5;241m=\u001b[39m \u001b[38;5;28mself\u001b[39m\u001b[38;5;241m.\u001b[39mgrouper\u001b[38;5;241m.\u001b[39m_cython_operation(\n\u001b[0;32m   1491\u001b[0m         \u001b[38;5;124m\"\u001b[39m\u001b[38;5;124maggregate\u001b[39m\u001b[38;5;124m\"\u001b[39m,\n\u001b[0;32m   1492\u001b[0m         values,\n\u001b[0;32m   1493\u001b[0m         how,\n\u001b[0;32m   1494\u001b[0m         axis\u001b[38;5;241m=\u001b[39mdata\u001b[38;5;241m.\u001b[39mndim \u001b[38;5;241m-\u001b[39m \u001b[38;5;241m1\u001b[39m,\n\u001b[0;32m   1495\u001b[0m         min_count\u001b[38;5;241m=\u001b[39mmin_count,\n\u001b[0;32m   1496\u001b[0m         \u001b[38;5;241m*\u001b[39m\u001b[38;5;241m*\u001b[39mkwargs,\n\u001b[0;32m   1497\u001b[0m     )\n\u001b[0;32m   1498\u001b[0m \u001b[38;5;28;01mexcept\u001b[39;00m \u001b[38;5;167;01mNotImplementedError\u001b[39;00m:\n\u001b[0;32m   1499\u001b[0m     \u001b[38;5;66;03m# generally if we have numeric_only=False\u001b[39;00m\n\u001b[0;32m   1500\u001b[0m     \u001b[38;5;66;03m# and non-applicable functions\u001b[39;00m\n\u001b[0;32m   1501\u001b[0m     \u001b[38;5;66;03m# try to python agg\u001b[39;00m\n\u001b[0;32m   1502\u001b[0m     \u001b[38;5;66;03m# TODO: shouldn't min_count matter?\u001b[39;00m\n",
      "File \u001b[1;32m~\\anaconda3\\lib\\site-packages\\pandas\\core\\groupby\\ops.py:959\u001b[0m, in \u001b[0;36mBaseGrouper._cython_operation\u001b[1;34m(self, kind, values, how, axis, min_count, **kwargs)\u001b[0m\n\u001b[0;32m    958\u001b[0m ngroups \u001b[38;5;241m=\u001b[39m \u001b[38;5;28mself\u001b[39m\u001b[38;5;241m.\u001b[39mngroups\n\u001b[1;32m--> 959\u001b[0m \u001b[38;5;28;01mreturn\u001b[39;00m cy_op\u001b[38;5;241m.\u001b[39mcython_operation(\n\u001b[0;32m    960\u001b[0m     values\u001b[38;5;241m=\u001b[39mvalues,\n\u001b[0;32m    961\u001b[0m     axis\u001b[38;5;241m=\u001b[39maxis,\n\u001b[0;32m    962\u001b[0m     min_count\u001b[38;5;241m=\u001b[39mmin_count,\n\u001b[0;32m    963\u001b[0m     comp_ids\u001b[38;5;241m=\u001b[39mids,\n\u001b[0;32m    964\u001b[0m     ngroups\u001b[38;5;241m=\u001b[39mngroups,\n\u001b[0;32m    965\u001b[0m     \u001b[38;5;241m*\u001b[39m\u001b[38;5;241m*\u001b[39mkwargs,\n\u001b[0;32m    966\u001b[0m )\n",
      "File \u001b[1;32m~\\anaconda3\\lib\\site-packages\\pandas\\core\\groupby\\ops.py:657\u001b[0m, in \u001b[0;36mWrappedCythonOp.cython_operation\u001b[1;34m(self, values, axis, min_count, comp_ids, ngroups, **kwargs)\u001b[0m\n\u001b[0;32m    649\u001b[0m     \u001b[38;5;28;01mreturn\u001b[39;00m \u001b[38;5;28mself\u001b[39m\u001b[38;5;241m.\u001b[39m_ea_wrap_cython_operation(\n\u001b[0;32m    650\u001b[0m         values,\n\u001b[0;32m    651\u001b[0m         min_count\u001b[38;5;241m=\u001b[39mmin_count,\n\u001b[1;32m   (...)\u001b[0m\n\u001b[0;32m    654\u001b[0m         \u001b[38;5;241m*\u001b[39m\u001b[38;5;241m*\u001b[39mkwargs,\n\u001b[0;32m    655\u001b[0m     )\n\u001b[1;32m--> 657\u001b[0m \u001b[38;5;28;01mreturn\u001b[39;00m \u001b[38;5;28mself\u001b[39m\u001b[38;5;241m.\u001b[39m_cython_op_ndim_compat(\n\u001b[0;32m    658\u001b[0m     values,\n\u001b[0;32m    659\u001b[0m     min_count\u001b[38;5;241m=\u001b[39mmin_count,\n\u001b[0;32m    660\u001b[0m     ngroups\u001b[38;5;241m=\u001b[39mngroups,\n\u001b[0;32m    661\u001b[0m     comp_ids\u001b[38;5;241m=\u001b[39mcomp_ids,\n\u001b[0;32m    662\u001b[0m     mask\u001b[38;5;241m=\u001b[39m\u001b[38;5;28;01mNone\u001b[39;00m,\n\u001b[0;32m    663\u001b[0m     \u001b[38;5;241m*\u001b[39m\u001b[38;5;241m*\u001b[39mkwargs,\n\u001b[0;32m    664\u001b[0m )\n",
      "File \u001b[1;32m~\\anaconda3\\lib\\site-packages\\pandas\\core\\groupby\\ops.py:497\u001b[0m, in \u001b[0;36mWrappedCythonOp._cython_op_ndim_compat\u001b[1;34m(self, values, min_count, ngroups, comp_ids, mask, result_mask, **kwargs)\u001b[0m\n\u001b[0;32m    495\u001b[0m     \u001b[38;5;28;01mreturn\u001b[39;00m res\u001b[38;5;241m.\u001b[39mT\n\u001b[1;32m--> 497\u001b[0m \u001b[38;5;28;01mreturn\u001b[39;00m \u001b[38;5;28mself\u001b[39m\u001b[38;5;241m.\u001b[39m_call_cython_op(\n\u001b[0;32m    498\u001b[0m     values,\n\u001b[0;32m    499\u001b[0m     min_count\u001b[38;5;241m=\u001b[39mmin_count,\n\u001b[0;32m    500\u001b[0m     ngroups\u001b[38;5;241m=\u001b[39mngroups,\n\u001b[0;32m    501\u001b[0m     comp_ids\u001b[38;5;241m=\u001b[39mcomp_ids,\n\u001b[0;32m    502\u001b[0m     mask\u001b[38;5;241m=\u001b[39mmask,\n\u001b[0;32m    503\u001b[0m     result_mask\u001b[38;5;241m=\u001b[39mresult_mask,\n\u001b[0;32m    504\u001b[0m     \u001b[38;5;241m*\u001b[39m\u001b[38;5;241m*\u001b[39mkwargs,\n\u001b[0;32m    505\u001b[0m )\n",
      "File \u001b[1;32m~\\anaconda3\\lib\\site-packages\\pandas\\core\\groupby\\ops.py:541\u001b[0m, in \u001b[0;36mWrappedCythonOp._call_cython_op\u001b[1;34m(self, values, min_count, ngroups, comp_ids, mask, result_mask, **kwargs)\u001b[0m\n\u001b[0;32m    540\u001b[0m out_shape \u001b[38;5;241m=\u001b[39m \u001b[38;5;28mself\u001b[39m\u001b[38;5;241m.\u001b[39m_get_output_shape(ngroups, values)\n\u001b[1;32m--> 541\u001b[0m func \u001b[38;5;241m=\u001b[39m \u001b[38;5;28;43mself\u001b[39;49m\u001b[38;5;241;43m.\u001b[39;49m\u001b[43m_get_cython_function\u001b[49m\u001b[43m(\u001b[49m\u001b[38;5;28;43mself\u001b[39;49m\u001b[38;5;241;43m.\u001b[39;49m\u001b[43mkind\u001b[49m\u001b[43m,\u001b[49m\u001b[43m \u001b[49m\u001b[38;5;28;43mself\u001b[39;49m\u001b[38;5;241;43m.\u001b[39;49m\u001b[43mhow\u001b[49m\u001b[43m,\u001b[49m\u001b[43m \u001b[49m\u001b[43mvalues\u001b[49m\u001b[38;5;241;43m.\u001b[39;49m\u001b[43mdtype\u001b[49m\u001b[43m,\u001b[49m\u001b[43m \u001b[49m\u001b[43mis_numeric\u001b[49m\u001b[43m)\u001b[49m\n\u001b[0;32m    542\u001b[0m values \u001b[38;5;241m=\u001b[39m \u001b[38;5;28mself\u001b[39m\u001b[38;5;241m.\u001b[39m_get_cython_vals(values)\n",
      "File \u001b[1;32m~\\anaconda3\\lib\\site-packages\\pandas\\core\\groupby\\ops.py:173\u001b[0m, in \u001b[0;36mWrappedCythonOp._get_cython_function\u001b[1;34m(cls, kind, how, dtype, is_numeric)\u001b[0m\n\u001b[0;32m    171\u001b[0m \u001b[38;5;28;01mif\u001b[39;00m \u001b[38;5;124m\"\u001b[39m\u001b[38;5;124mobject\u001b[39m\u001b[38;5;124m\"\u001b[39m \u001b[38;5;129;01mnot\u001b[39;00m \u001b[38;5;129;01min\u001b[39;00m f\u001b[38;5;241m.\u001b[39m__signatures__:\n\u001b[0;32m    172\u001b[0m     \u001b[38;5;66;03m# raise NotImplementedError here rather than TypeError later\u001b[39;00m\n\u001b[1;32m--> 173\u001b[0m     \u001b[38;5;28;01mraise\u001b[39;00m \u001b[38;5;167;01mNotImplementedError\u001b[39;00m(\n\u001b[0;32m    174\u001b[0m         \u001b[38;5;124mf\u001b[39m\u001b[38;5;124m\"\u001b[39m\u001b[38;5;124mfunction is not implemented for this dtype: \u001b[39m\u001b[38;5;124m\"\u001b[39m\n\u001b[0;32m    175\u001b[0m         \u001b[38;5;124mf\u001b[39m\u001b[38;5;124m\"\u001b[39m\u001b[38;5;124m[how->\u001b[39m\u001b[38;5;132;01m{\u001b[39;00mhow\u001b[38;5;132;01m}\u001b[39;00m\u001b[38;5;124m,dtype->\u001b[39m\u001b[38;5;132;01m{\u001b[39;00mdtype_str\u001b[38;5;132;01m}\u001b[39;00m\u001b[38;5;124m]\u001b[39m\u001b[38;5;124m\"\u001b[39m\n\u001b[0;32m    176\u001b[0m     )\n\u001b[0;32m    177\u001b[0m \u001b[38;5;28;01mreturn\u001b[39;00m f\n",
      "\u001b[1;31mNotImplementedError\u001b[0m: function is not implemented for this dtype: [how->mean,dtype->object]",
      "\nDuring handling of the above exception, another exception occurred:\n",
      "\u001b[1;31mValueError\u001b[0m                                Traceback (most recent call last)",
      "File \u001b[1;32m~\\anaconda3\\lib\\site-packages\\pandas\\core\\nanops.py:1692\u001b[0m, in \u001b[0;36m_ensure_numeric\u001b[1;34m(x)\u001b[0m\n\u001b[0;32m   1691\u001b[0m \u001b[38;5;28;01mtry\u001b[39;00m:\n\u001b[1;32m-> 1692\u001b[0m     x \u001b[38;5;241m=\u001b[39m \u001b[38;5;28;43mfloat\u001b[39;49m\u001b[43m(\u001b[49m\u001b[43mx\u001b[49m\u001b[43m)\u001b[49m\n\u001b[0;32m   1693\u001b[0m \u001b[38;5;28;01mexcept\u001b[39;00m (\u001b[38;5;167;01mTypeError\u001b[39;00m, \u001b[38;5;167;01mValueError\u001b[39;00m):\n\u001b[0;32m   1694\u001b[0m     \u001b[38;5;66;03m# e.g. \"1+1j\" or \"foo\"\u001b[39;00m\n",
      "\u001b[1;31mValueError\u001b[0m: could not convert string to float: 'fine_concretefine_concretefine_concretefine_concretefine_concretefine_concretefine_concretefine_concretefine_concretefine_concretefine_concretefine_concretefine_concretefine_concretefine_concretefine_concretefine_concretefine_concretefine_concretefine_concretefine_concretefine_concretefine_concretefine_concretefine_concretefine_concretefine_concretefine_concretefine_concretefine_concretefine_concretefine_concretefine_concretefine_concretefine_concretefine_concretefine_concretefine_concretefine_concretefine_concretefine_concretefine_concretefine_concretefine_concretefine_concretefine_concretefine_concretefine_concretefine_concretefine_concretefine_concretefine_concretefine_concretefine_concretefine_concretefine_concretefine_concretefine_concretefine_concretefine_concretefine_concretefine_concretefine_concretefine_concretefine_concretefine_concretefine_concretefine_concretefine_concretefine_concretefine_concretefine_concretefine_concretefine_concretefine_concretefine_concretefine_concretefine_concretefine_concretefine_concretefine_concretefine_concretefine_concretefine_concretefine_concretefine_concretefine_concretefine_concretefine_concretefine_concretefine_concretefine_concretefine_concretefine_concretefine_concretefine_concretefine_concretefine_concretefine_concretefine_concretefine_concretefine_concretefine_concretefine_concretefine_concretefine_concretefine_concretefine_concretefine_concretefine_concretefine_concretefine_concretefine_concretefine_concretefine_concretefine_concretefine_concretefine_concretefine_concretefine_concretefine_concretefine_concretefine_concretefine_concretefine_concretefine_concretefine_concretefine_concrete'",
      "\nDuring handling of the above exception, another exception occurred:\n",
      "\u001b[1;31mValueError\u001b[0m                                Traceback (most recent call last)",
      "File \u001b[1;32m~\\anaconda3\\lib\\site-packages\\pandas\\core\\nanops.py:1696\u001b[0m, in \u001b[0;36m_ensure_numeric\u001b[1;34m(x)\u001b[0m\n\u001b[0;32m   1695\u001b[0m \u001b[38;5;28;01mtry\u001b[39;00m:\n\u001b[1;32m-> 1696\u001b[0m     x \u001b[38;5;241m=\u001b[39m \u001b[38;5;28;43mcomplex\u001b[39;49m\u001b[43m(\u001b[49m\u001b[43mx\u001b[49m\u001b[43m)\u001b[49m\n\u001b[0;32m   1697\u001b[0m \u001b[38;5;28;01mexcept\u001b[39;00m \u001b[38;5;167;01mValueError\u001b[39;00m \u001b[38;5;28;01mas\u001b[39;00m err:\n\u001b[0;32m   1698\u001b[0m     \u001b[38;5;66;03m# e.g. \"foo\"\u001b[39;00m\n",
      "\u001b[1;31mValueError\u001b[0m: could not convert string to complex: 'fine_concretefine_concretefine_concretefine_concretefine_concretefine_concretefine_concretefine_concretefine_concretefine_concretefine_concretefine_concretefine_concretefine_concretefine_concretefine_concretefine_concretefine_concretefine_concretefine_concretefine_concretefine_concretefine_concretefine_concretefine_concretefine_concretefine_concretefine_concretefine_concretefine_concretefine_concretefine_concretefine_concretefine_concretefine_concretefine_concretefine_concretefine_concretefine_concretefine_concretefine_concretefine_concretefine_concretefine_concretefine_concretefine_concretefine_concretefine_concretefine_concretefine_concretefine_concretefine_concretefine_concretefine_concretefine_concretefine_concretefine_concretefine_concretefine_concretefine_concretefine_concretefine_concretefine_concretefine_concretefine_concretefine_concretefine_concretefine_concretefine_concretefine_concretefine_concretefine_concretefine_concretefine_concretefine_concretefine_concretefine_concretefine_concretefine_concretefine_concretefine_concretefine_concretefine_concretefine_concretefine_concretefine_concretefine_concretefine_concretefine_concretefine_concretefine_concretefine_concretefine_concretefine_concretefine_concretefine_concretefine_concretefine_concretefine_concretefine_concretefine_concretefine_concretefine_concretefine_concretefine_concretefine_concretefine_concretefine_concretefine_concretefine_concretefine_concretefine_concretefine_concretefine_concretefine_concretefine_concretefine_concretefine_concretefine_concretefine_concretefine_concretefine_concretefine_concretefine_concretefine_concretefine_concretefine_concretefine_concrete'",
      "\nThe above exception was the direct cause of the following exception:\n",
      "\u001b[1;31mTypeError\u001b[0m                                 Traceback (most recent call last)",
      "Cell \u001b[1;32mIn[4], line 1\u001b[0m\n\u001b[1;32m----> 1\u001b[0m \u001b[43mtrain\u001b[49m\u001b[38;5;241;43m.\u001b[39;49m\u001b[43mgroupby\u001b[49m\u001b[43m(\u001b[49m\u001b[38;5;124;43m'\u001b[39;49m\u001b[38;5;124;43mseries_id\u001b[39;49m\u001b[38;5;124;43m'\u001b[39;49m\u001b[43m)\u001b[49m\u001b[38;5;241;43m.\u001b[39;49m\u001b[43mmean\u001b[49m\u001b[43m(\u001b[49m\u001b[43m)\u001b[49m\u001b[38;5;241m.\u001b[39mdescribe()\n",
      "File \u001b[1;32m~\\anaconda3\\lib\\site-packages\\pandas\\core\\groupby\\groupby.py:1855\u001b[0m, in \u001b[0;36mGroupBy.mean\u001b[1;34m(self, numeric_only, engine, engine_kwargs)\u001b[0m\n\u001b[0;32m   1853\u001b[0m     \u001b[38;5;28;01mreturn\u001b[39;00m \u001b[38;5;28mself\u001b[39m\u001b[38;5;241m.\u001b[39m_numba_agg_general(sliding_mean, engine_kwargs)\n\u001b[0;32m   1854\u001b[0m \u001b[38;5;28;01melse\u001b[39;00m:\n\u001b[1;32m-> 1855\u001b[0m     result \u001b[38;5;241m=\u001b[39m \u001b[38;5;28;43mself\u001b[39;49m\u001b[38;5;241;43m.\u001b[39;49m\u001b[43m_cython_agg_general\u001b[49m\u001b[43m(\u001b[49m\n\u001b[0;32m   1856\u001b[0m \u001b[43m        \u001b[49m\u001b[38;5;124;43m\"\u001b[39;49m\u001b[38;5;124;43mmean\u001b[39;49m\u001b[38;5;124;43m\"\u001b[39;49m\u001b[43m,\u001b[49m\n\u001b[0;32m   1857\u001b[0m \u001b[43m        \u001b[49m\u001b[43malt\u001b[49m\u001b[38;5;241;43m=\u001b[39;49m\u001b[38;5;28;43;01mlambda\u001b[39;49;00m\u001b[43m \u001b[49m\u001b[43mx\u001b[49m\u001b[43m:\u001b[49m\u001b[43m \u001b[49m\u001b[43mSeries\u001b[49m\u001b[43m(\u001b[49m\u001b[43mx\u001b[49m\u001b[43m)\u001b[49m\u001b[38;5;241;43m.\u001b[39;49m\u001b[43mmean\u001b[49m\u001b[43m(\u001b[49m\u001b[43mnumeric_only\u001b[49m\u001b[38;5;241;43m=\u001b[39;49m\u001b[43mnumeric_only\u001b[49m\u001b[43m)\u001b[49m\u001b[43m,\u001b[49m\n\u001b[0;32m   1858\u001b[0m \u001b[43m        \u001b[49m\u001b[43mnumeric_only\u001b[49m\u001b[38;5;241;43m=\u001b[39;49m\u001b[43mnumeric_only\u001b[49m\u001b[43m,\u001b[49m\n\u001b[0;32m   1859\u001b[0m \u001b[43m    \u001b[49m\u001b[43m)\u001b[49m\n\u001b[0;32m   1860\u001b[0m     \u001b[38;5;28;01mreturn\u001b[39;00m result\u001b[38;5;241m.\u001b[39m__finalize__(\u001b[38;5;28mself\u001b[39m\u001b[38;5;241m.\u001b[39mobj, method\u001b[38;5;241m=\u001b[39m\u001b[38;5;124m\"\u001b[39m\u001b[38;5;124mgroupby\u001b[39m\u001b[38;5;124m\"\u001b[39m)\n",
      "File \u001b[1;32m~\\anaconda3\\lib\\site-packages\\pandas\\core\\groupby\\groupby.py:1507\u001b[0m, in \u001b[0;36mGroupBy._cython_agg_general\u001b[1;34m(self, how, alt, numeric_only, min_count, **kwargs)\u001b[0m\n\u001b[0;32m   1503\u001b[0m         result \u001b[38;5;241m=\u001b[39m \u001b[38;5;28mself\u001b[39m\u001b[38;5;241m.\u001b[39m_agg_py_fallback(values, ndim\u001b[38;5;241m=\u001b[39mdata\u001b[38;5;241m.\u001b[39mndim, alt\u001b[38;5;241m=\u001b[39malt)\n\u001b[0;32m   1505\u001b[0m     \u001b[38;5;28;01mreturn\u001b[39;00m result\n\u001b[1;32m-> 1507\u001b[0m new_mgr \u001b[38;5;241m=\u001b[39m \u001b[43mdata\u001b[49m\u001b[38;5;241;43m.\u001b[39;49m\u001b[43mgrouped_reduce\u001b[49m\u001b[43m(\u001b[49m\u001b[43marray_func\u001b[49m\u001b[43m)\u001b[49m\n\u001b[0;32m   1508\u001b[0m res \u001b[38;5;241m=\u001b[39m \u001b[38;5;28mself\u001b[39m\u001b[38;5;241m.\u001b[39m_wrap_agged_manager(new_mgr)\n\u001b[0;32m   1509\u001b[0m out \u001b[38;5;241m=\u001b[39m \u001b[38;5;28mself\u001b[39m\u001b[38;5;241m.\u001b[39m_wrap_aggregated_output(res)\n",
      "File \u001b[1;32m~\\anaconda3\\lib\\site-packages\\pandas\\core\\internals\\managers.py:1503\u001b[0m, in \u001b[0;36mBlockManager.grouped_reduce\u001b[1;34m(self, func)\u001b[0m\n\u001b[0;32m   1499\u001b[0m \u001b[38;5;28;01mif\u001b[39;00m blk\u001b[38;5;241m.\u001b[39mis_object:\n\u001b[0;32m   1500\u001b[0m     \u001b[38;5;66;03m# split on object-dtype blocks bc some columns may raise\u001b[39;00m\n\u001b[0;32m   1501\u001b[0m     \u001b[38;5;66;03m#  while others do not.\u001b[39;00m\n\u001b[0;32m   1502\u001b[0m     \u001b[38;5;28;01mfor\u001b[39;00m sb \u001b[38;5;129;01min\u001b[39;00m blk\u001b[38;5;241m.\u001b[39m_split():\n\u001b[1;32m-> 1503\u001b[0m         applied \u001b[38;5;241m=\u001b[39m \u001b[43msb\u001b[49m\u001b[38;5;241;43m.\u001b[39;49m\u001b[43mapply\u001b[49m\u001b[43m(\u001b[49m\u001b[43mfunc\u001b[49m\u001b[43m)\u001b[49m\n\u001b[0;32m   1504\u001b[0m         result_blocks \u001b[38;5;241m=\u001b[39m extend_blocks(applied, result_blocks)\n\u001b[0;32m   1505\u001b[0m \u001b[38;5;28;01melse\u001b[39;00m:\n",
      "File \u001b[1;32m~\\anaconda3\\lib\\site-packages\\pandas\\core\\internals\\blocks.py:329\u001b[0m, in \u001b[0;36mBlock.apply\u001b[1;34m(self, func, **kwargs)\u001b[0m\n\u001b[0;32m    323\u001b[0m \u001b[38;5;129m@final\u001b[39m\n\u001b[0;32m    324\u001b[0m \u001b[38;5;28;01mdef\u001b[39;00m \u001b[38;5;21mapply\u001b[39m(\u001b[38;5;28mself\u001b[39m, func, \u001b[38;5;241m*\u001b[39m\u001b[38;5;241m*\u001b[39mkwargs) \u001b[38;5;241m-\u001b[39m\u001b[38;5;241m>\u001b[39m \u001b[38;5;28mlist\u001b[39m[Block]:\n\u001b[0;32m    325\u001b[0m \u001b[38;5;250m    \u001b[39m\u001b[38;5;124;03m\"\"\"\u001b[39;00m\n\u001b[0;32m    326\u001b[0m \u001b[38;5;124;03m    apply the function to my values; return a block if we are not\u001b[39;00m\n\u001b[0;32m    327\u001b[0m \u001b[38;5;124;03m    one\u001b[39;00m\n\u001b[0;32m    328\u001b[0m \u001b[38;5;124;03m    \"\"\"\u001b[39;00m\n\u001b[1;32m--> 329\u001b[0m     result \u001b[38;5;241m=\u001b[39m func(\u001b[38;5;28mself\u001b[39m\u001b[38;5;241m.\u001b[39mvalues, \u001b[38;5;241m*\u001b[39m\u001b[38;5;241m*\u001b[39mkwargs)\n\u001b[0;32m    331\u001b[0m     \u001b[38;5;28;01mreturn\u001b[39;00m \u001b[38;5;28mself\u001b[39m\u001b[38;5;241m.\u001b[39m_split_op_result(result)\n",
      "File \u001b[1;32m~\\anaconda3\\lib\\site-packages\\pandas\\core\\groupby\\groupby.py:1503\u001b[0m, in \u001b[0;36mGroupBy._cython_agg_general.<locals>.array_func\u001b[1;34m(values)\u001b[0m\n\u001b[0;32m   1490\u001b[0m     result \u001b[38;5;241m=\u001b[39m \u001b[38;5;28mself\u001b[39m\u001b[38;5;241m.\u001b[39mgrouper\u001b[38;5;241m.\u001b[39m_cython_operation(\n\u001b[0;32m   1491\u001b[0m         \u001b[38;5;124m\"\u001b[39m\u001b[38;5;124maggregate\u001b[39m\u001b[38;5;124m\"\u001b[39m,\n\u001b[0;32m   1492\u001b[0m         values,\n\u001b[1;32m   (...)\u001b[0m\n\u001b[0;32m   1496\u001b[0m         \u001b[38;5;241m*\u001b[39m\u001b[38;5;241m*\u001b[39mkwargs,\n\u001b[0;32m   1497\u001b[0m     )\n\u001b[0;32m   1498\u001b[0m \u001b[38;5;28;01mexcept\u001b[39;00m \u001b[38;5;167;01mNotImplementedError\u001b[39;00m:\n\u001b[0;32m   1499\u001b[0m     \u001b[38;5;66;03m# generally if we have numeric_only=False\u001b[39;00m\n\u001b[0;32m   1500\u001b[0m     \u001b[38;5;66;03m# and non-applicable functions\u001b[39;00m\n\u001b[0;32m   1501\u001b[0m     \u001b[38;5;66;03m# try to python agg\u001b[39;00m\n\u001b[0;32m   1502\u001b[0m     \u001b[38;5;66;03m# TODO: shouldn't min_count matter?\u001b[39;00m\n\u001b[1;32m-> 1503\u001b[0m     result \u001b[38;5;241m=\u001b[39m \u001b[38;5;28;43mself\u001b[39;49m\u001b[38;5;241;43m.\u001b[39;49m\u001b[43m_agg_py_fallback\u001b[49m\u001b[43m(\u001b[49m\u001b[43mvalues\u001b[49m\u001b[43m,\u001b[49m\u001b[43m \u001b[49m\u001b[43mndim\u001b[49m\u001b[38;5;241;43m=\u001b[39;49m\u001b[43mdata\u001b[49m\u001b[38;5;241;43m.\u001b[39;49m\u001b[43mndim\u001b[49m\u001b[43m,\u001b[49m\u001b[43m \u001b[49m\u001b[43malt\u001b[49m\u001b[38;5;241;43m=\u001b[39;49m\u001b[43malt\u001b[49m\u001b[43m)\u001b[49m\n\u001b[0;32m   1505\u001b[0m \u001b[38;5;28;01mreturn\u001b[39;00m result\n",
      "File \u001b[1;32m~\\anaconda3\\lib\\site-packages\\pandas\\core\\groupby\\groupby.py:1457\u001b[0m, in \u001b[0;36mGroupBy._agg_py_fallback\u001b[1;34m(self, values, ndim, alt)\u001b[0m\n\u001b[0;32m   1452\u001b[0m     ser \u001b[38;5;241m=\u001b[39m df\u001b[38;5;241m.\u001b[39miloc[:, \u001b[38;5;241m0\u001b[39m]\n\u001b[0;32m   1454\u001b[0m \u001b[38;5;66;03m# We do not get here with UDFs, so we know that our dtype\u001b[39;00m\n\u001b[0;32m   1455\u001b[0m \u001b[38;5;66;03m#  should always be preserved by the implemented aggregations\u001b[39;00m\n\u001b[0;32m   1456\u001b[0m \u001b[38;5;66;03m# TODO: Is this exactly right; see WrappedCythonOp get_result_dtype?\u001b[39;00m\n\u001b[1;32m-> 1457\u001b[0m res_values \u001b[38;5;241m=\u001b[39m \u001b[38;5;28;43mself\u001b[39;49m\u001b[38;5;241;43m.\u001b[39;49m\u001b[43mgrouper\u001b[49m\u001b[38;5;241;43m.\u001b[39;49m\u001b[43magg_series\u001b[49m\u001b[43m(\u001b[49m\u001b[43mser\u001b[49m\u001b[43m,\u001b[49m\u001b[43m \u001b[49m\u001b[43malt\u001b[49m\u001b[43m,\u001b[49m\u001b[43m \u001b[49m\u001b[43mpreserve_dtype\u001b[49m\u001b[38;5;241;43m=\u001b[39;49m\u001b[38;5;28;43;01mTrue\u001b[39;49;00m\u001b[43m)\u001b[49m\n\u001b[0;32m   1459\u001b[0m \u001b[38;5;28;01mif\u001b[39;00m \u001b[38;5;28misinstance\u001b[39m(values, Categorical):\n\u001b[0;32m   1460\u001b[0m     \u001b[38;5;66;03m# Because we only get here with known dtype-preserving\u001b[39;00m\n\u001b[0;32m   1461\u001b[0m     \u001b[38;5;66;03m#  reductions, we cast back to Categorical.\u001b[39;00m\n\u001b[0;32m   1462\u001b[0m     \u001b[38;5;66;03m# TODO: if we ever get \"rank\" working, exclude it here.\u001b[39;00m\n\u001b[0;32m   1463\u001b[0m     res_values \u001b[38;5;241m=\u001b[39m \u001b[38;5;28mtype\u001b[39m(values)\u001b[38;5;241m.\u001b[39m_from_sequence(res_values, dtype\u001b[38;5;241m=\u001b[39mvalues\u001b[38;5;241m.\u001b[39mdtype)\n",
      "File \u001b[1;32m~\\anaconda3\\lib\\site-packages\\pandas\\core\\groupby\\ops.py:994\u001b[0m, in \u001b[0;36mBaseGrouper.agg_series\u001b[1;34m(self, obj, func, preserve_dtype)\u001b[0m\n\u001b[0;32m    987\u001b[0m \u001b[38;5;28;01mif\u001b[39;00m \u001b[38;5;28mlen\u001b[39m(obj) \u001b[38;5;241m>\u001b[39m \u001b[38;5;241m0\u001b[39m \u001b[38;5;129;01mand\u001b[39;00m \u001b[38;5;129;01mnot\u001b[39;00m \u001b[38;5;28misinstance\u001b[39m(obj\u001b[38;5;241m.\u001b[39m_values, np\u001b[38;5;241m.\u001b[39mndarray):\n\u001b[0;32m    988\u001b[0m     \u001b[38;5;66;03m# we can preserve a little bit more aggressively with EA dtype\u001b[39;00m\n\u001b[0;32m    989\u001b[0m     \u001b[38;5;66;03m#  because maybe_cast_pointwise_result will do a try/except\u001b[39;00m\n\u001b[0;32m    990\u001b[0m     \u001b[38;5;66;03m#  with _from_sequence.  NB we are assuming here that _from_sequence\u001b[39;00m\n\u001b[0;32m    991\u001b[0m     \u001b[38;5;66;03m#  is sufficiently strict that it casts appropriately.\u001b[39;00m\n\u001b[0;32m    992\u001b[0m     preserve_dtype \u001b[38;5;241m=\u001b[39m \u001b[38;5;28;01mTrue\u001b[39;00m\n\u001b[1;32m--> 994\u001b[0m result \u001b[38;5;241m=\u001b[39m \u001b[38;5;28;43mself\u001b[39;49m\u001b[38;5;241;43m.\u001b[39;49m\u001b[43m_aggregate_series_pure_python\u001b[49m\u001b[43m(\u001b[49m\u001b[43mobj\u001b[49m\u001b[43m,\u001b[49m\u001b[43m \u001b[49m\u001b[43mfunc\u001b[49m\u001b[43m)\u001b[49m\n\u001b[0;32m    996\u001b[0m npvalues \u001b[38;5;241m=\u001b[39m lib\u001b[38;5;241m.\u001b[39mmaybe_convert_objects(result, try_float\u001b[38;5;241m=\u001b[39m\u001b[38;5;28;01mFalse\u001b[39;00m)\n\u001b[0;32m    997\u001b[0m \u001b[38;5;28;01mif\u001b[39;00m preserve_dtype:\n",
      "File \u001b[1;32m~\\anaconda3\\lib\\site-packages\\pandas\\core\\groupby\\ops.py:1015\u001b[0m, in \u001b[0;36mBaseGrouper._aggregate_series_pure_python\u001b[1;34m(self, obj, func)\u001b[0m\n\u001b[0;32m   1012\u001b[0m splitter \u001b[38;5;241m=\u001b[39m \u001b[38;5;28mself\u001b[39m\u001b[38;5;241m.\u001b[39m_get_splitter(obj, axis\u001b[38;5;241m=\u001b[39m\u001b[38;5;241m0\u001b[39m)\n\u001b[0;32m   1014\u001b[0m \u001b[38;5;28;01mfor\u001b[39;00m i, group \u001b[38;5;129;01min\u001b[39;00m \u001b[38;5;28menumerate\u001b[39m(splitter):\n\u001b[1;32m-> 1015\u001b[0m     res \u001b[38;5;241m=\u001b[39m \u001b[43mfunc\u001b[49m\u001b[43m(\u001b[49m\u001b[43mgroup\u001b[49m\u001b[43m)\u001b[49m\n\u001b[0;32m   1016\u001b[0m     res \u001b[38;5;241m=\u001b[39m libreduction\u001b[38;5;241m.\u001b[39mextract_result(res)\n\u001b[0;32m   1018\u001b[0m     \u001b[38;5;28;01mif\u001b[39;00m \u001b[38;5;129;01mnot\u001b[39;00m initialized:\n\u001b[0;32m   1019\u001b[0m         \u001b[38;5;66;03m# We only do this validation on the first iteration\u001b[39;00m\n",
      "File \u001b[1;32m~\\anaconda3\\lib\\site-packages\\pandas\\core\\groupby\\groupby.py:1857\u001b[0m, in \u001b[0;36mGroupBy.mean.<locals>.<lambda>\u001b[1;34m(x)\u001b[0m\n\u001b[0;32m   1853\u001b[0m     \u001b[38;5;28;01mreturn\u001b[39;00m \u001b[38;5;28mself\u001b[39m\u001b[38;5;241m.\u001b[39m_numba_agg_general(sliding_mean, engine_kwargs)\n\u001b[0;32m   1854\u001b[0m \u001b[38;5;28;01melse\u001b[39;00m:\n\u001b[0;32m   1855\u001b[0m     result \u001b[38;5;241m=\u001b[39m \u001b[38;5;28mself\u001b[39m\u001b[38;5;241m.\u001b[39m_cython_agg_general(\n\u001b[0;32m   1856\u001b[0m         \u001b[38;5;124m\"\u001b[39m\u001b[38;5;124mmean\u001b[39m\u001b[38;5;124m\"\u001b[39m,\n\u001b[1;32m-> 1857\u001b[0m         alt\u001b[38;5;241m=\u001b[39m\u001b[38;5;28;01mlambda\u001b[39;00m x: \u001b[43mSeries\u001b[49m\u001b[43m(\u001b[49m\u001b[43mx\u001b[49m\u001b[43m)\u001b[49m\u001b[38;5;241;43m.\u001b[39;49m\u001b[43mmean\u001b[49m\u001b[43m(\u001b[49m\u001b[43mnumeric_only\u001b[49m\u001b[38;5;241;43m=\u001b[39;49m\u001b[43mnumeric_only\u001b[49m\u001b[43m)\u001b[49m,\n\u001b[0;32m   1858\u001b[0m         numeric_only\u001b[38;5;241m=\u001b[39mnumeric_only,\n\u001b[0;32m   1859\u001b[0m     )\n\u001b[0;32m   1860\u001b[0m     \u001b[38;5;28;01mreturn\u001b[39;00m result\u001b[38;5;241m.\u001b[39m__finalize__(\u001b[38;5;28mself\u001b[39m\u001b[38;5;241m.\u001b[39mobj, method\u001b[38;5;241m=\u001b[39m\u001b[38;5;124m\"\u001b[39m\u001b[38;5;124mgroupby\u001b[39m\u001b[38;5;124m\"\u001b[39m)\n",
      "File \u001b[1;32m~\\anaconda3\\lib\\site-packages\\pandas\\core\\generic.py:11556\u001b[0m, in \u001b[0;36mNDFrame._add_numeric_operations.<locals>.mean\u001b[1;34m(self, axis, skipna, numeric_only, **kwargs)\u001b[0m\n\u001b[0;32m  11539\u001b[0m \u001b[38;5;129m@doc\u001b[39m(\n\u001b[0;32m  11540\u001b[0m     _num_doc,\n\u001b[0;32m  11541\u001b[0m     desc\u001b[38;5;241m=\u001b[39m\u001b[38;5;124m\"\u001b[39m\u001b[38;5;124mReturn the mean of the values over the requested axis.\u001b[39m\u001b[38;5;124m\"\u001b[39m,\n\u001b[1;32m   (...)\u001b[0m\n\u001b[0;32m  11554\u001b[0m     \u001b[38;5;241m*\u001b[39m\u001b[38;5;241m*\u001b[39mkwargs,\n\u001b[0;32m  11555\u001b[0m ):\n\u001b[1;32m> 11556\u001b[0m     \u001b[38;5;28;01mreturn\u001b[39;00m NDFrame\u001b[38;5;241m.\u001b[39mmean(\u001b[38;5;28mself\u001b[39m, axis, skipna, numeric_only, \u001b[38;5;241m*\u001b[39m\u001b[38;5;241m*\u001b[39mkwargs)\n",
      "File \u001b[1;32m~\\anaconda3\\lib\\site-packages\\pandas\\core\\generic.py:11201\u001b[0m, in \u001b[0;36mNDFrame.mean\u001b[1;34m(self, axis, skipna, numeric_only, **kwargs)\u001b[0m\n\u001b[0;32m  11194\u001b[0m \u001b[38;5;28;01mdef\u001b[39;00m \u001b[38;5;21mmean\u001b[39m(\n\u001b[0;32m  11195\u001b[0m     \u001b[38;5;28mself\u001b[39m,\n\u001b[0;32m  11196\u001b[0m     axis: Axis \u001b[38;5;241m|\u001b[39m \u001b[38;5;28;01mNone\u001b[39;00m \u001b[38;5;241m=\u001b[39m \u001b[38;5;241m0\u001b[39m,\n\u001b[1;32m   (...)\u001b[0m\n\u001b[0;32m  11199\u001b[0m     \u001b[38;5;241m*\u001b[39m\u001b[38;5;241m*\u001b[39mkwargs,\n\u001b[0;32m  11200\u001b[0m ) \u001b[38;5;241m-\u001b[39m\u001b[38;5;241m>\u001b[39m Series \u001b[38;5;241m|\u001b[39m \u001b[38;5;28mfloat\u001b[39m:\n\u001b[1;32m> 11201\u001b[0m     \u001b[38;5;28;01mreturn\u001b[39;00m \u001b[38;5;28mself\u001b[39m\u001b[38;5;241m.\u001b[39m_stat_function(\n\u001b[0;32m  11202\u001b[0m         \u001b[38;5;124m\"\u001b[39m\u001b[38;5;124mmean\u001b[39m\u001b[38;5;124m\"\u001b[39m, nanops\u001b[38;5;241m.\u001b[39mnanmean, axis, skipna, numeric_only, \u001b[38;5;241m*\u001b[39m\u001b[38;5;241m*\u001b[39mkwargs\n\u001b[0;32m  11203\u001b[0m     )\n",
      "File \u001b[1;32m~\\anaconda3\\lib\\site-packages\\pandas\\core\\generic.py:11158\u001b[0m, in \u001b[0;36mNDFrame._stat_function\u001b[1;34m(self, name, func, axis, skipna, numeric_only, **kwargs)\u001b[0m\n\u001b[0;32m  11154\u001b[0m     nv\u001b[38;5;241m.\u001b[39mvalidate_stat_func((), kwargs, fname\u001b[38;5;241m=\u001b[39mname)\n\u001b[0;32m  11156\u001b[0m validate_bool_kwarg(skipna, \u001b[38;5;124m\"\u001b[39m\u001b[38;5;124mskipna\u001b[39m\u001b[38;5;124m\"\u001b[39m, none_allowed\u001b[38;5;241m=\u001b[39m\u001b[38;5;28;01mFalse\u001b[39;00m)\n\u001b[1;32m> 11158\u001b[0m \u001b[38;5;28;01mreturn\u001b[39;00m \u001b[38;5;28;43mself\u001b[39;49m\u001b[38;5;241;43m.\u001b[39;49m\u001b[43m_reduce\u001b[49m\u001b[43m(\u001b[49m\n\u001b[0;32m  11159\u001b[0m \u001b[43m    \u001b[49m\u001b[43mfunc\u001b[49m\u001b[43m,\u001b[49m\u001b[43m \u001b[49m\u001b[43mname\u001b[49m\u001b[38;5;241;43m=\u001b[39;49m\u001b[43mname\u001b[49m\u001b[43m,\u001b[49m\u001b[43m \u001b[49m\u001b[43maxis\u001b[49m\u001b[38;5;241;43m=\u001b[39;49m\u001b[43maxis\u001b[49m\u001b[43m,\u001b[49m\u001b[43m \u001b[49m\u001b[43mskipna\u001b[49m\u001b[38;5;241;43m=\u001b[39;49m\u001b[43mskipna\u001b[49m\u001b[43m,\u001b[49m\u001b[43m \u001b[49m\u001b[43mnumeric_only\u001b[49m\u001b[38;5;241;43m=\u001b[39;49m\u001b[43mnumeric_only\u001b[49m\n\u001b[0;32m  11160\u001b[0m \u001b[43m\u001b[49m\u001b[43m)\u001b[49m\n",
      "File \u001b[1;32m~\\anaconda3\\lib\\site-packages\\pandas\\core\\series.py:4670\u001b[0m, in \u001b[0;36mSeries._reduce\u001b[1;34m(self, op, name, axis, skipna, numeric_only, filter_type, **kwds)\u001b[0m\n\u001b[0;32m   4665\u001b[0m     \u001b[38;5;28;01mraise\u001b[39;00m \u001b[38;5;167;01mTypeError\u001b[39;00m(\n\u001b[0;32m   4666\u001b[0m         \u001b[38;5;124mf\u001b[39m\u001b[38;5;124m\"\u001b[39m\u001b[38;5;124mSeries.\u001b[39m\u001b[38;5;132;01m{\u001b[39;00mname\u001b[38;5;132;01m}\u001b[39;00m\u001b[38;5;124m does not allow \u001b[39m\u001b[38;5;132;01m{\u001b[39;00mkwd_name\u001b[38;5;132;01m}\u001b[39;00m\u001b[38;5;124m=\u001b[39m\u001b[38;5;132;01m{\u001b[39;00mnumeric_only\u001b[38;5;132;01m}\u001b[39;00m\u001b[38;5;124m \u001b[39m\u001b[38;5;124m\"\u001b[39m\n\u001b[0;32m   4667\u001b[0m         \u001b[38;5;124m\"\u001b[39m\u001b[38;5;124mwith non-numeric dtypes.\u001b[39m\u001b[38;5;124m\"\u001b[39m\n\u001b[0;32m   4668\u001b[0m     )\n\u001b[0;32m   4669\u001b[0m \u001b[38;5;28;01mwith\u001b[39;00m np\u001b[38;5;241m.\u001b[39merrstate(\u001b[38;5;28mall\u001b[39m\u001b[38;5;241m=\u001b[39m\u001b[38;5;124m\"\u001b[39m\u001b[38;5;124mignore\u001b[39m\u001b[38;5;124m\"\u001b[39m):\n\u001b[1;32m-> 4670\u001b[0m     \u001b[38;5;28;01mreturn\u001b[39;00m op(delegate, skipna\u001b[38;5;241m=\u001b[39mskipna, \u001b[38;5;241m*\u001b[39m\u001b[38;5;241m*\u001b[39mkwds)\n",
      "File \u001b[1;32m~\\anaconda3\\lib\\site-packages\\pandas\\core\\nanops.py:96\u001b[0m, in \u001b[0;36mdisallow.__call__.<locals>._f\u001b[1;34m(*args, **kwargs)\u001b[0m\n\u001b[0;32m     94\u001b[0m \u001b[38;5;28;01mtry\u001b[39;00m:\n\u001b[0;32m     95\u001b[0m     \u001b[38;5;28;01mwith\u001b[39;00m np\u001b[38;5;241m.\u001b[39merrstate(invalid\u001b[38;5;241m=\u001b[39m\u001b[38;5;124m\"\u001b[39m\u001b[38;5;124mignore\u001b[39m\u001b[38;5;124m\"\u001b[39m):\n\u001b[1;32m---> 96\u001b[0m         \u001b[38;5;28;01mreturn\u001b[39;00m f(\u001b[38;5;241m*\u001b[39margs, \u001b[38;5;241m*\u001b[39m\u001b[38;5;241m*\u001b[39mkwargs)\n\u001b[0;32m     97\u001b[0m \u001b[38;5;28;01mexcept\u001b[39;00m \u001b[38;5;167;01mValueError\u001b[39;00m \u001b[38;5;28;01mas\u001b[39;00m e:\n\u001b[0;32m     98\u001b[0m     \u001b[38;5;66;03m# we want to transform an object array\u001b[39;00m\n\u001b[0;32m     99\u001b[0m     \u001b[38;5;66;03m# ValueError message to the more typical TypeError\u001b[39;00m\n\u001b[0;32m    100\u001b[0m     \u001b[38;5;66;03m# e.g. this is normally a disallowed function on\u001b[39;00m\n\u001b[0;32m    101\u001b[0m     \u001b[38;5;66;03m# object arrays that contain strings\u001b[39;00m\n\u001b[0;32m    102\u001b[0m     \u001b[38;5;28;01mif\u001b[39;00m is_object_dtype(args[\u001b[38;5;241m0\u001b[39m]):\n",
      "File \u001b[1;32m~\\anaconda3\\lib\\site-packages\\pandas\\core\\nanops.py:158\u001b[0m, in \u001b[0;36mbottleneck_switch.__call__.<locals>.f\u001b[1;34m(values, axis, skipna, **kwds)\u001b[0m\n\u001b[0;32m    156\u001b[0m         result \u001b[38;5;241m=\u001b[39m alt(values, axis\u001b[38;5;241m=\u001b[39maxis, skipna\u001b[38;5;241m=\u001b[39mskipna, \u001b[38;5;241m*\u001b[39m\u001b[38;5;241m*\u001b[39mkwds)\n\u001b[0;32m    157\u001b[0m \u001b[38;5;28;01melse\u001b[39;00m:\n\u001b[1;32m--> 158\u001b[0m     result \u001b[38;5;241m=\u001b[39m alt(values, axis\u001b[38;5;241m=\u001b[39maxis, skipna\u001b[38;5;241m=\u001b[39mskipna, \u001b[38;5;241m*\u001b[39m\u001b[38;5;241m*\u001b[39mkwds)\n\u001b[0;32m    160\u001b[0m \u001b[38;5;28;01mreturn\u001b[39;00m result\n",
      "File \u001b[1;32m~\\anaconda3\\lib\\site-packages\\pandas\\core\\nanops.py:421\u001b[0m, in \u001b[0;36m_datetimelike_compat.<locals>.new_func\u001b[1;34m(values, axis, skipna, mask, **kwargs)\u001b[0m\n\u001b[0;32m    418\u001b[0m \u001b[38;5;28;01mif\u001b[39;00m datetimelike \u001b[38;5;129;01mand\u001b[39;00m mask \u001b[38;5;129;01mis\u001b[39;00m \u001b[38;5;28;01mNone\u001b[39;00m:\n\u001b[0;32m    419\u001b[0m     mask \u001b[38;5;241m=\u001b[39m isna(values)\n\u001b[1;32m--> 421\u001b[0m result \u001b[38;5;241m=\u001b[39m func(values, axis\u001b[38;5;241m=\u001b[39maxis, skipna\u001b[38;5;241m=\u001b[39mskipna, mask\u001b[38;5;241m=\u001b[39mmask, \u001b[38;5;241m*\u001b[39m\u001b[38;5;241m*\u001b[39mkwargs)\n\u001b[0;32m    423\u001b[0m \u001b[38;5;28;01mif\u001b[39;00m datetimelike:\n\u001b[0;32m    424\u001b[0m     result \u001b[38;5;241m=\u001b[39m _wrap_results(result, orig_values\u001b[38;5;241m.\u001b[39mdtype, fill_value\u001b[38;5;241m=\u001b[39miNaT)\n",
      "File \u001b[1;32m~\\anaconda3\\lib\\site-packages\\pandas\\core\\nanops.py:727\u001b[0m, in \u001b[0;36mnanmean\u001b[1;34m(values, axis, skipna, mask)\u001b[0m\n\u001b[0;32m    724\u001b[0m     dtype_count \u001b[38;5;241m=\u001b[39m dtype\n\u001b[0;32m    726\u001b[0m count \u001b[38;5;241m=\u001b[39m _get_counts(values\u001b[38;5;241m.\u001b[39mshape, mask, axis, dtype\u001b[38;5;241m=\u001b[39mdtype_count)\n\u001b[1;32m--> 727\u001b[0m the_sum \u001b[38;5;241m=\u001b[39m \u001b[43m_ensure_numeric\u001b[49m\u001b[43m(\u001b[49m\u001b[43mvalues\u001b[49m\u001b[38;5;241;43m.\u001b[39;49m\u001b[43msum\u001b[49m\u001b[43m(\u001b[49m\u001b[43maxis\u001b[49m\u001b[43m,\u001b[49m\u001b[43m \u001b[49m\u001b[43mdtype\u001b[49m\u001b[38;5;241;43m=\u001b[39;49m\u001b[43mdtype_sum\u001b[49m\u001b[43m)\u001b[49m\u001b[43m)\u001b[49m\n\u001b[0;32m    729\u001b[0m \u001b[38;5;28;01mif\u001b[39;00m axis \u001b[38;5;129;01mis\u001b[39;00m \u001b[38;5;129;01mnot\u001b[39;00m \u001b[38;5;28;01mNone\u001b[39;00m \u001b[38;5;129;01mand\u001b[39;00m \u001b[38;5;28mgetattr\u001b[39m(the_sum, \u001b[38;5;124m\"\u001b[39m\u001b[38;5;124mndim\u001b[39m\u001b[38;5;124m\"\u001b[39m, \u001b[38;5;28;01mFalse\u001b[39;00m):\n\u001b[0;32m    730\u001b[0m     count \u001b[38;5;241m=\u001b[39m cast(np\u001b[38;5;241m.\u001b[39mndarray, count)\n",
      "File \u001b[1;32m~\\anaconda3\\lib\\site-packages\\pandas\\core\\nanops.py:1699\u001b[0m, in \u001b[0;36m_ensure_numeric\u001b[1;34m(x)\u001b[0m\n\u001b[0;32m   1696\u001b[0m             x \u001b[38;5;241m=\u001b[39m \u001b[38;5;28mcomplex\u001b[39m(x)\n\u001b[0;32m   1697\u001b[0m         \u001b[38;5;28;01mexcept\u001b[39;00m \u001b[38;5;167;01mValueError\u001b[39;00m \u001b[38;5;28;01mas\u001b[39;00m err:\n\u001b[0;32m   1698\u001b[0m             \u001b[38;5;66;03m# e.g. \"foo\"\u001b[39;00m\n\u001b[1;32m-> 1699\u001b[0m             \u001b[38;5;28;01mraise\u001b[39;00m \u001b[38;5;167;01mTypeError\u001b[39;00m(\u001b[38;5;124mf\u001b[39m\u001b[38;5;124m\"\u001b[39m\u001b[38;5;124mCould not convert \u001b[39m\u001b[38;5;132;01m{\u001b[39;00mx\u001b[38;5;132;01m}\u001b[39;00m\u001b[38;5;124m to numeric\u001b[39m\u001b[38;5;124m\"\u001b[39m) \u001b[38;5;28;01mfrom\u001b[39;00m \u001b[38;5;21;01merr\u001b[39;00m\n\u001b[0;32m   1700\u001b[0m \u001b[38;5;28;01mreturn\u001b[39;00m x\n",
      "\u001b[1;31mTypeError\u001b[0m: Could not convert fine_concretefine_concretefine_concretefine_concretefine_concretefine_concretefine_concretefine_concretefine_concretefine_concretefine_concretefine_concretefine_concretefine_concretefine_concretefine_concretefine_concretefine_concretefine_concretefine_concretefine_concretefine_concretefine_concretefine_concretefine_concretefine_concretefine_concretefine_concretefine_concretefine_concretefine_concretefine_concretefine_concretefine_concretefine_concretefine_concretefine_concretefine_concretefine_concretefine_concretefine_concretefine_concretefine_concretefine_concretefine_concretefine_concretefine_concretefine_concretefine_concretefine_concretefine_concretefine_concretefine_concretefine_concretefine_concretefine_concretefine_concretefine_concretefine_concretefine_concretefine_concretefine_concretefine_concretefine_concretefine_concretefine_concretefine_concretefine_concretefine_concretefine_concretefine_concretefine_concretefine_concretefine_concretefine_concretefine_concretefine_concretefine_concretefine_concretefine_concretefine_concretefine_concretefine_concretefine_concretefine_concretefine_concretefine_concretefine_concretefine_concretefine_concretefine_concretefine_concretefine_concretefine_concretefine_concretefine_concretefine_concretefine_concretefine_concretefine_concretefine_concretefine_concretefine_concretefine_concretefine_concretefine_concretefine_concretefine_concretefine_concretefine_concretefine_concretefine_concretefine_concretefine_concretefine_concretefine_concretefine_concretefine_concretefine_concretefine_concretefine_concretefine_concretefine_concretefine_concretefine_concretefine_concretefine_concretefine_concrete to numeric"
     ]
    }
   ],
   "source": [
    "train.groupby('series_id').mean().describe()"
   ]
  },
  {
   "cell_type": "code",
   "execution_count": 5,
   "metadata": {
    "execution": {
     "iopub.execute_input": "2023-07-17T02:14:27.357741Z",
     "iopub.status.busy": "2023-07-17T02:14:27.357259Z",
     "iopub.status.idle": "2023-07-17T02:14:27.509190Z",
     "shell.execute_reply": "2023-07-17T02:14:27.508123Z",
     "shell.execute_reply.started": "2023-07-17T02:14:27.357696Z"
    }
   },
   "outputs": [
    {
     "data": {
      "text/html": [
       "<div>\n",
       "<style scoped>\n",
       "    .dataframe tbody tr th:only-of-type {\n",
       "        vertical-align: middle;\n",
       "    }\n",
       "\n",
       "    .dataframe tbody tr th {\n",
       "        vertical-align: top;\n",
       "    }\n",
       "\n",
       "    .dataframe thead th {\n",
       "        text-align: right;\n",
       "    }\n",
       "</style>\n",
       "<table border=\"1\" class=\"dataframe\">\n",
       "  <thead>\n",
       "    <tr style=\"text-align: right;\">\n",
       "      <th></th>\n",
       "      <th>measurement_number</th>\n",
       "      <th>orientation_X</th>\n",
       "      <th>orientation_Y</th>\n",
       "      <th>orientation_Z</th>\n",
       "      <th>orientation_W</th>\n",
       "      <th>angular_velocity_X</th>\n",
       "      <th>angular_velocity_Y</th>\n",
       "      <th>angular_velocity_Z</th>\n",
       "      <th>linear_acceleration_X</th>\n",
       "      <th>linear_acceleration_Y</th>\n",
       "      <th>linear_acceleration_Z</th>\n",
       "    </tr>\n",
       "  </thead>\n",
       "  <tbody>\n",
       "    <tr>\n",
       "      <th>count</th>\n",
       "      <td>3816.0</td>\n",
       "      <td>3816.000000</td>\n",
       "      <td>3816.000000</td>\n",
       "      <td>3816.000000</td>\n",
       "      <td>3816.000000</td>\n",
       "      <td>3816.000000</td>\n",
       "      <td>3816.000000</td>\n",
       "      <td>3816.000000</td>\n",
       "      <td>3816.000000</td>\n",
       "      <td>3816.000000</td>\n",
       "      <td>3816.000000</td>\n",
       "    </tr>\n",
       "    <tr>\n",
       "      <th>mean</th>\n",
       "      <td>63.5</td>\n",
       "      <td>0.031996</td>\n",
       "      <td>0.120651</td>\n",
       "      <td>0.018735</td>\n",
       "      <td>0.004024</td>\n",
       "      <td>0.000401</td>\n",
       "      <td>0.013669</td>\n",
       "      <td>-0.036101</td>\n",
       "      <td>0.125433</td>\n",
       "      <td>2.906588</td>\n",
       "      <td>-9.359811</td>\n",
       "    </tr>\n",
       "    <tr>\n",
       "      <th>std</th>\n",
       "      <td>0.0</td>\n",
       "      <td>0.672018</td>\n",
       "      <td>0.714575</td>\n",
       "      <td>0.108488</td>\n",
       "      <td>0.100961</td>\n",
       "      <td>0.008563</td>\n",
       "      <td>0.069871</td>\n",
       "      <td>0.224794</td>\n",
       "      <td>0.183976</td>\n",
       "      <td>0.206586</td>\n",
       "      <td>0.068311</td>\n",
       "    </tr>\n",
       "    <tr>\n",
       "      <th>min</th>\n",
       "      <td>63.5</td>\n",
       "      <td>-0.989503</td>\n",
       "      <td>-0.989695</td>\n",
       "      <td>-0.153535</td>\n",
       "      <td>-0.154552</td>\n",
       "      <td>-0.093482</td>\n",
       "      <td>-0.286832</td>\n",
       "      <td>-1.252890</td>\n",
       "      <td>-1.213783</td>\n",
       "      <td>0.939755</td>\n",
       "      <td>-9.878827</td>\n",
       "    </tr>\n",
       "    <tr>\n",
       "      <th>25%</th>\n",
       "      <td>63.5</td>\n",
       "      <td>-0.648238</td>\n",
       "      <td>-0.745385</td>\n",
       "      <td>-0.112431</td>\n",
       "      <td>-0.098350</td>\n",
       "      <td>-0.004157</td>\n",
       "      <td>-0.010888</td>\n",
       "      <td>-0.068372</td>\n",
       "      <td>0.034151</td>\n",
       "      <td>2.796906</td>\n",
       "      <td>-9.395935</td>\n",
       "    </tr>\n",
       "    <tr>\n",
       "      <th>50%</th>\n",
       "      <td>63.5</td>\n",
       "      <td>0.133184</td>\n",
       "      <td>0.396915</td>\n",
       "      <td>0.057240</td>\n",
       "      <td>0.022695</td>\n",
       "      <td>0.000362</td>\n",
       "      <td>0.004157</td>\n",
       "      <td>-0.007392</td>\n",
       "      <td>0.129969</td>\n",
       "      <td>2.904269</td>\n",
       "      <td>-9.360233</td>\n",
       "    </tr>\n",
       "    <tr>\n",
       "      <th>75%</th>\n",
       "      <td>63.5</td>\n",
       "      <td>0.575255</td>\n",
       "      <td>0.803997</td>\n",
       "      <td>0.124743</td>\n",
       "      <td>0.083717</td>\n",
       "      <td>0.005223</td>\n",
       "      <td>0.023752</td>\n",
       "      <td>0.042580</td>\n",
       "      <td>0.219969</td>\n",
       "      <td>3.017015</td>\n",
       "      <td>-9.325684</td>\n",
       "    </tr>\n",
       "    <tr>\n",
       "      <th>max</th>\n",
       "      <td>63.5</td>\n",
       "      <td>0.989215</td>\n",
       "      <td>0.988436</td>\n",
       "      <td>0.152555</td>\n",
       "      <td>0.152319</td>\n",
       "      <td>0.124589</td>\n",
       "      <td>0.379603</td>\n",
       "      <td>0.914419</td>\n",
       "      <td>1.201618</td>\n",
       "      <td>5.274761</td>\n",
       "      <td>-8.696279</td>\n",
       "    </tr>\n",
       "  </tbody>\n",
       "</table>\n",
       "</div>"
      ],
      "text/plain": [
       "       measurement_number  orientation_X  orientation_Y  orientation_Z  \\\n",
       "count              3816.0    3816.000000    3816.000000    3816.000000   \n",
       "mean                 63.5       0.031996       0.120651       0.018735   \n",
       "std                   0.0       0.672018       0.714575       0.108488   \n",
       "min                  63.5      -0.989503      -0.989695      -0.153535   \n",
       "25%                  63.5      -0.648238      -0.745385      -0.112431   \n",
       "50%                  63.5       0.133184       0.396915       0.057240   \n",
       "75%                  63.5       0.575255       0.803997       0.124743   \n",
       "max                  63.5       0.989215       0.988436       0.152555   \n",
       "\n",
       "       orientation_W  angular_velocity_X  angular_velocity_Y  \\\n",
       "count    3816.000000         3816.000000         3816.000000   \n",
       "mean        0.004024            0.000401            0.013669   \n",
       "std         0.100961            0.008563            0.069871   \n",
       "min        -0.154552           -0.093482           -0.286832   \n",
       "25%        -0.098350           -0.004157           -0.010888   \n",
       "50%         0.022695            0.000362            0.004157   \n",
       "75%         0.083717            0.005223            0.023752   \n",
       "max         0.152319            0.124589            0.379603   \n",
       "\n",
       "       angular_velocity_Z  linear_acceleration_X  linear_acceleration_Y  \\\n",
       "count         3816.000000            3816.000000            3816.000000   \n",
       "mean            -0.036101               0.125433               2.906588   \n",
       "std              0.224794               0.183976               0.206586   \n",
       "min             -1.252890              -1.213783               0.939755   \n",
       "25%             -0.068372               0.034151               2.796906   \n",
       "50%             -0.007392               0.129969               2.904269   \n",
       "75%              0.042580               0.219969               3.017015   \n",
       "max              0.914419               1.201618               5.274761   \n",
       "\n",
       "       linear_acceleration_Z  \n",
       "count            3816.000000  \n",
       "mean               -9.359811  \n",
       "std                 0.068311  \n",
       "min                -9.878827  \n",
       "25%                -9.395935  \n",
       "50%                -9.360233  \n",
       "75%                -9.325684  \n",
       "max                -8.696279  "
      ]
     },
     "execution_count": 5,
     "metadata": {},
     "output_type": "execute_result"
    }
   ],
   "source": [
    "test.groupby('series_id').mean().describe()"
   ]
  },
  {
   "cell_type": "markdown",
   "metadata": {},
   "source": [
    "It's helpful to keep some of the column names as specific variables since I plan to reuse them throughout my analysis. I've done this below."
   ]
  },
  {
   "cell_type": "code",
   "execution_count": 6,
   "metadata": {
    "execution": {
     "iopub.execute_input": "2023-07-17T02:14:27.512565Z",
     "iopub.status.busy": "2023-07-17T02:14:27.512253Z",
     "iopub.status.idle": "2023-07-17T02:14:27.543110Z",
     "shell.execute_reply": "2023-07-17T02:14:27.542394Z",
     "shell.execute_reply.started": "2023-07-17T02:14:27.512515Z"
    }
   },
   "outputs": [],
   "source": [
    "surfaces = list(train.surface.unique())\n",
    "meta = list(train.columns[0:5])\n",
    "position = list(train.columns[5:9])\n",
    "motion = list(train.columns[9:])\n",
    "features = position+motion"
   ]
  },
  {
   "cell_type": "markdown",
   "metadata": {},
   "source": [
    "The train and test datasets contain 3810 and 3816 sets of 128-sample-long signals, respectively. Each individual signal contains metadata, position data, and motion data. The metadata includes the series_id, group_id (training set only), surface (training set only), row_id, and measurement number. \n",
    "The metadata is not a useful feature in predicting the surface of the robot since they were assigned either randomly or by convention. The measurement number helps to organize the time series, and in a sense is a stand-in for the time component of the time series.\n",
    "The motion data describes the position of the robot as a quaternion. This data is most likely integrated (numerical integration) from the motion data. It is unlikely that the position data itself is helpful in determining the surface on which the robot is moving, since the robot's orientation is not dependent on its surface.\n",
    "The motion data is comprised of  linear acceleration in the X, Y, and Z planes, and angular velocity in the same planes. This data is most likely to help in determining the surface on on which the robot is moving. I will explore some of this data in the next section in order to better understand the robot's motion and determine which features, if any, show characteristic signatures for a given surface."
   ]
  },
  {
   "cell_type": "markdown",
   "metadata": {},
   "source": [
    "<a id='section3'></a>\n",
    "# Exploratory Data Analysis"
   ]
  },
  {
   "cell_type": "markdown",
   "metadata": {},
   "source": [
    "I'll look at the position and motion channels of individual series first to look at the ranges of the features. I'll organize the graphs by surface in order to have a clearer picture of the differences that might exist between them. I'll use ipywidgets to make this exploration interactive, which lets me scan back and forth between sets. You will have to fork this code in order to use the interactive feature, but you can see one instance of the graphs displayed."
   ]
  },
  {
   "cell_type": "code",
   "execution_count": 7,
   "metadata": {
    "_kg_hide-input": true,
    "execution": {
     "iopub.execute_input": "2023-07-17T02:14:27.545315Z",
     "iopub.status.busy": "2023-07-17T02:14:27.544949Z",
     "iopub.status.idle": "2023-07-17T02:14:30.460965Z",
     "shell.execute_reply": "2023-07-17T02:14:30.460406Z",
     "shell.execute_reply.started": "2023-07-17T02:14:27.545236Z"
    }
   },
   "outputs": [
    {
     "data": {
      "application/vnd.jupyter.widget-view+json": {
       "model_id": "e469ecfe33ef42428d714d364854e28a",
       "version_major": 2,
       "version_minor": 0
      },
      "text/plain": [
       "interactive(children=(Dropdown(description='surface', options=('fine_concrete', 'concrete', 'soft_tiles', 'til…"
      ]
     },
     "metadata": {},
     "output_type": "display_data"
    }
   ],
   "source": [
    "@interact\n",
    "def plot_series(surface = surfaces, series_number = list(range(1,10))):\n",
    "    subset = train[train.surface == surface]\n",
    "    g = subset.groupby('series_id')\n",
    "    series_id = list(g.groups.keys())[series_number]\n",
    "    plt.figure(figsize = (10,24))\n",
    "    signal = g.get_group(series_id)\n",
    "    for i,feature in enumerate(features):\n",
    "        ax = plt.subplot(5,2,i+1)\n",
    "        ax.plot(signal[feature])\n",
    "        ax.set_title(feature)\n",
    "        ax.set_xlabel('Measurement Number')\n",
    "        ax.set_ylabel('Magnitude')"
   ]
  },
  {
   "cell_type": "markdown",
   "metadata": {},
   "source": [
    "As expected, the position data is most likely dependent on the particular series. The motion data, on the other hand, appears like it has unique signals in each direction. It's difficult to tell what the differences are between surfaces because of the auto-scale that is applied to the graphs. I'll look at all data plotted on a single graph for a given motion using low alpha values and different colors for each surface."
   ]
  },
  {
   "cell_type": "code",
   "execution_count": 8,
   "metadata": {
    "_kg_hide-input": true,
    "execution": {
     "iopub.execute_input": "2023-07-17T02:14:30.462465Z",
     "iopub.status.busy": "2023-07-17T02:14:30.462007Z",
     "iopub.status.idle": "2023-07-17T02:14:34.407118Z",
     "shell.execute_reply": "2023-07-17T02:14:34.406289Z",
     "shell.execute_reply.started": "2023-07-17T02:14:30.462407Z"
    }
   },
   "outputs": [
    {
     "data": {
      "application/vnd.jupyter.widget-view+json": {
       "model_id": "66c74170dc9748e68ec42b366f5ddccd",
       "version_major": 2,
       "version_minor": 0
      },
      "text/plain": [
       "interactive(children=(Dropdown(description='feature', options=('angular_velocity_X', 'angular_velocity_Y', 'an…"
      ]
     },
     "metadata": {},
     "output_type": "display_data"
    }
   ],
   "source": [
    "@interact\n",
    "def plot_overlapping_motion_graphs(feature = motion, number = (10,100,10)):\n",
    "    colors = ['grey','red','orange','yellow','green','blue','indigo','pink','brown']\n",
    "    plt.figure(figsize = (12,8))\n",
    "    plt.xlabel('Measurement Number')\n",
    "    plt.ylabel('Magnitude')\n",
    "    plt.title('Overlapping Motion Signals Sorted by Color')\n",
    "    for surface, color in zip(surfaces,colors):\n",
    "        series_ids = train.loc[train.surface==surface].series_id.unique()\n",
    "        for i, series in enumerate(series_ids[0:number]):\n",
    "            if i == 0:\n",
    "                plt.plot(train[train.series_id==series][feature].values, \n",
    "                     alpha = 0.05, \n",
    "                     color = color,\n",
    "                     label = surface)\n",
    "            else:\n",
    "                plt.plot(train[train.series_id==series][feature].values, \n",
    "                     alpha = 0.05, \n",
    "                     color = color)\n",
    "    leg = plt.legend()\n",
    "    for lh in leg.legendHandles: \n",
    "        lh.set_alpha(1)"
   ]
  },
  {
   "cell_type": "markdown",
   "metadata": {},
   "source": [
    "From these graphs it appears that some surfaces have signals with greater variability in their amplitude than others. One way to estimate this is to look at histograms of the root-mean-square (RMS) of the signal. I'll write a simple RMS function, apply it to columns, and plot histograms of the RMS of each signal grouped by surface type for a specific feature."
   ]
  },
  {
   "cell_type": "code",
   "execution_count": 9,
   "metadata": {
    "_kg_hide-input": true,
    "execution": {
     "iopub.execute_input": "2023-07-17T02:14:34.409285Z",
     "iopub.status.busy": "2023-07-17T02:14:34.408696Z",
     "iopub.status.idle": "2023-07-17T02:14:34.414040Z",
     "shell.execute_reply": "2023-07-17T02:14:34.413277Z",
     "shell.execute_reply.started": "2023-07-17T02:14:34.409228Z"
    }
   },
   "outputs": [],
   "source": [
    "def RMS(signal):\n",
    "    signal = np.array(signal)\n",
    "    return np.sqrt((signal**2).mean())"
   ]
  },
  {
   "cell_type": "code",
   "execution_count": 10,
   "metadata": {
    "_kg_hide-input": true,
    "execution": {
     "iopub.execute_input": "2023-07-17T02:14:34.416127Z",
     "iopub.status.busy": "2023-07-17T02:14:34.415786Z",
     "iopub.status.idle": "2023-07-17T02:14:42.202285Z",
     "shell.execute_reply": "2023-07-17T02:14:42.201703Z",
     "shell.execute_reply.started": "2023-07-17T02:14:34.416059Z"
    }
   },
   "outputs": [
    {
     "data": {
      "application/vnd.jupyter.widget-view+json": {
       "model_id": "2192d41530e64cea9fca9936925d27d2",
       "version_major": 2,
       "version_minor": 0
      },
      "text/plain": [
       "interactive(children=(Dropdown(description='feature', options=('angular_velocity_X', 'angular_velocity_Y', 'an…"
      ]
     },
     "metadata": {},
     "output_type": "display_data"
    }
   ],
   "source": [
    "@interact\n",
    "def plot_RMS_histograms(feature = motion):\n",
    "    plt.figure(figsize = (12,8))\n",
    "    df = pd.DataFrame()\n",
    "    g = train.groupby('series_id')\n",
    "    df['Surface'] = g.max()['surface']\n",
    "    df['RMS'] = g[feature].apply(RMS)\n",
    "    for surface in surfaces:\n",
    "        sns.distplot(df.loc[df.Surface==surface]['RMS'], \n",
    "                     hist = False, \n",
    "                     label = surface.title(),)\n",
    "    plt.legend()\n",
    "    plt.title('RMS Histograms for One Feature by Surface')"
   ]
  },
  {
   "cell_type": "markdown",
   "metadata": {},
   "source": [
    "As expected, the RMS of each signal does appear to be different between groups as a whole, though not different enough that classification could be done purely on the RMS of the signals. I'll look at the power spectral density of the signals next."
   ]
  },
  {
   "cell_type": "code",
   "execution_count": 11,
   "metadata": {
    "_kg_hide-input": true,
    "execution": {
     "iopub.execute_input": "2023-07-17T02:14:42.203605Z",
     "iopub.status.busy": "2023-07-17T02:14:42.203203Z",
     "iopub.status.idle": "2023-07-17T02:14:43.724007Z",
     "shell.execute_reply": "2023-07-17T02:14:43.723161Z",
     "shell.execute_reply.started": "2023-07-17T02:14:42.203564Z"
    }
   },
   "outputs": [
    {
     "data": {
      "application/vnd.jupyter.widget-view+json": {
       "model_id": "6db43aa187024d2fa44f009a64be0b78",
       "version_major": 2,
       "version_minor": 0
      },
      "text/plain": [
       "interactive(children=(Dropdown(description='feature', options=('angular_velocity_X', 'angular_velocity_Y', 'an…"
      ]
     },
     "metadata": {},
     "output_type": "display_data"
    }
   ],
   "source": [
    "@interact\n",
    "def plot_psd_overview(feature = motion, segment_size = (4,6)):\n",
    "    plt.figure(figsize = (12,8))\n",
    "    nperseg = 2**segment_size\n",
    "    for surface in surfaces:\n",
    "        freq,psd = welch(train[train.surface==surface][feature], \n",
    "                         nperseg = nperseg, \n",
    "                         return_onesided = True,\n",
    "                         scaling = 'spectrum')\n",
    "        plt.plot(psd,label = surface)\n",
    "    plt.legend()\n",
    "    plt.title('PSD Estimate by Surface (grouped data)')\n",
    "    plt.xlabel('Frequency (1/sample)')\n",
    "    plt.ylabel('Magnitude of Signal')"
   ]
  },
  {
   "cell_type": "markdown",
   "metadata": {},
   "source": [
    "The PSD of all of the data for a specific surface might hide the disparity found between samples. I'll graph the series specific PSDs for a given surface and feature next to get a sense of the variability."
   ]
  },
  {
   "cell_type": "code",
   "execution_count": 12,
   "metadata": {
    "_kg_hide-input": true,
    "execution": {
     "iopub.execute_input": "2023-07-17T02:14:43.725483Z",
     "iopub.status.busy": "2023-07-17T02:14:43.725195Z",
     "iopub.status.idle": "2023-07-17T02:14:43.729428Z",
     "shell.execute_reply": "2023-07-17T02:14:43.728695Z",
     "shell.execute_reply.started": "2023-07-17T02:14:43.725429Z"
    }
   },
   "outputs": [],
   "source": [
    "def psd(signal):\n",
    "    _,PSD = welch(signal, nperseg = 128, scaling = 'spectrum')\n",
    "    return PSD"
   ]
  },
  {
   "cell_type": "code",
   "execution_count": 13,
   "metadata": {
    "_kg_hide-input": true,
    "execution": {
     "iopub.execute_input": "2023-07-17T02:14:43.730932Z",
     "iopub.status.busy": "2023-07-17T02:14:43.730646Z",
     "iopub.status.idle": "2023-07-17T02:15:00.384475Z",
     "shell.execute_reply": "2023-07-17T02:15:00.383637Z",
     "shell.execute_reply.started": "2023-07-17T02:14:43.730885Z"
    }
   },
   "outputs": [
    {
     "data": {
      "application/vnd.jupyter.widget-view+json": {
       "model_id": "7d75b8ca48c140e1b7101f931fd2e64c",
       "version_major": 2,
       "version_minor": 0
      },
      "text/plain": [
       "interactive(children=(Dropdown(description='feature', options=('angular_velocity_X', 'angular_velocity_Y', 'an…"
      ]
     },
     "metadata": {},
     "output_type": "display_data"
    }
   ],
   "source": [
    "@interact\n",
    "def plot_all_psds(feature = motion, surface = surfaces):\n",
    "    plt.figure(figsize = (12,8))\n",
    "    max_value = []\n",
    "    # Plot PSDs of every other surface in grey first\n",
    "    g = train[train.surface != surface].groupby('series_id')\n",
    "    for PSD in g[feature].apply(psd):\n",
    "        max_value.append(max(PSD))\n",
    "        plt.plot(PSD, color = 'gray', alpha = 0.05)\n",
    "    # Plot PSDs of surface in red\n",
    "    g = train[train.surface == surface].groupby('series_id')\n",
    "    for PSD in g[feature].apply(psd):\n",
    "        max_value.append(max(PSD))\n",
    "        plt.plot(PSD, color = 'red', alpha = 0.075)\n",
    "    \n",
    "    ylim = np.quantile(max_value, 0.99)\n",
    "    plt.ylim(0,ylim)\n",
    "    plt.title('Overlapped PSDs for one motion; \\none surface (red) compared to all surfaces (grey)')\n",
    "    plt.xlabel('Frequency')\n",
    "    plt.ylabel('Magnitude at Frequency')"
   ]
  },
  {
   "cell_type": "markdown",
   "metadata": {},
   "source": [
    "The PSDs are helpful, but there is significant variability between PSDs of the same surface. Again, this won't be enough to categorize the data. There are hundreds of features ([link](https://www.sciencedirect.com/science/article/pii/S0925231218304843?via%3Dihub)) that can be extracted from signal data, so to perform the exhaustive search would be mind numbing and not entirely helpful. Instead, I'll use the TSFRESH package in order to extract the salient features for this dataset."
   ]
  },
  {
   "cell_type": "markdown",
   "metadata": {},
   "source": [
    "One thing that I haven't done is to explore the position data. Since the data was recorded in groups, it is possible to stitch it back together. I believe that this will help me to better differentiate the underlying signals, and if necessary upsample to increase the amount of training data. Upsampling can be done by slicing the data for 128 samples at every interval, since the original slicing was arbitrary to begin with. Stitching the data will also help to understand the holistic motion of the robot.\n",
    "\n",
    "The graph below shows how the data can stitched using location cues. Series are stitched together so that the last entry of a series in an orientation is continuous with the first entry of the same orientation in a different series. This is equivalent to moving the lines below so that they they form one continuous line. This means that I'll have to forget the index and rewrite the measurement_numbers."
   ]
  },
  {
   "cell_type": "code",
   "execution_count": 14,
   "metadata": {
    "_kg_hide-input": true,
    "execution": {
     "iopub.execute_input": "2023-07-17T02:15:00.385910Z",
     "iopub.status.busy": "2023-07-17T02:15:00.385664Z",
     "iopub.status.idle": "2023-07-17T02:15:01.547676Z",
     "shell.execute_reply": "2023-07-17T02:15:01.546730Z",
     "shell.execute_reply.started": "2023-07-17T02:15:00.385867Z"
    }
   },
   "outputs": [
    {
     "data": {
      "image/png": "[encoded data removed]",
      "text/plain": [
       "<Figure size 1200x800 with 4 Axes>"
      ]
     },
     "metadata": {},
     "output_type": "display_data"
    }
   ],
   "source": [
    "g = train.groupby(by = 'group_id')\n",
    "g67 = g.get_group(67)\n",
    "g67_g = g67.groupby('series_id')\n",
    "f, axes = plt.subplots(2, 2, figsize = (12,8))\n",
    "axs = [axes[0,0], axes[0,1], axes[1,0], axes[1,1]]\n",
    "orientations = ['orientation_X','orientation_Y','orientation_Z','orientation_W']\n",
    "for name, group in g67_g:\n",
    "    for ax,orientation in zip(axs,orientations):\n",
    "        group[orientation].plot(label = name, ax=ax, title = orientation)"
   ]
  },
  {
   "cell_type": "markdown",
   "metadata": {},
   "source": [
    "<a id='section4'></a>\n",
    "# Stitching Time Series"
   ]
  },
  {
   "cell_type": "markdown",
   "metadata": {},
   "source": [
    "Stiching time series is easy to do using the group_ids by simply matching the ends together. In the absence of a group_id, however, the problem becomes more interesting. It's not helpful to stitch the training series together unless I can do the same for the test set, so it's imperative to come up with a mechanism that can do it \"blind\", so to speak.\n",
    "\n",
    "The first logical step is to find the possible matches that a series might have. This is easily done by comparing the ends of each series with those of every other series in a dataframe, and returning only those other series who are close (in all positions) to the chosen series. The \"closeness\" is a threshold that can be set by the user to select return more or fewer matches. The threshold is compared to the sum of the absolute differences between each position feature on the ends of both series.\n",
    "\n",
    "Having a list of possible matches is helpful, but stitching requires that only one or zero matches be allowed. Given that this robot is a real device, we know that its motion will be contiguous and differentiable at all spots. A second function will check the contiguity and differentiability of the signals at the join. These will both be done through thresholds, since the data is discrete.\n",
    "\n",
    "Finally, a subroutine wraps the positive and negative select functions and iterates through the entire dataframe in order to return correctly ordered lists of series to be stitched together. See the collapsed functions below for more information."
   ]
  },
  {
   "cell_type": "code",
   "execution_count": 15,
   "metadata": {
    "execution": {
     "iopub.execute_input": "2023-07-17T02:15:01.549655Z",
     "iopub.status.busy": "2023-07-17T02:15:01.549146Z",
     "iopub.status.idle": "2023-07-17T02:15:01.559272Z",
     "shell.execute_reply": "2023-07-17T02:15:01.558243Z",
     "shell.execute_reply.started": "2023-07-17T02:15:01.549445Z"
    }
   },
   "outputs": [],
   "source": [
    "def find_matches(current_signal, df, in_front = True, threshold = 0.01):\n",
    "    ## Returns a dataframe of the series ids, sums, and position (front/end) of the likely matches for the given front and end values.\n",
    "    orientations = ['orientation_X','orientation_Y','orientation_Z','orientation_W']\n",
    "    selection = ['series_id'] + orientations\n",
    "    if in_front:\n",
    "        end = current_signal.iloc[127][selection]\n",
    "        front = df.loc[df.measurement_number ==0][selection]\n",
    "    else:\n",
    "        front = current_signal.iloc[0][selection]\n",
    "        end = df.loc[df.measurement_number ==127][selection]\n",
    "    compare = (front-end).abs()\n",
    "    if in_front:\n",
    "        compare.series_id = front.series_id\n",
    "    else:\n",
    "        compare.series_id = end.series_id\n",
    "    compare['sums'] = compare[orientations].sum(axis=1)\n",
    "    compare['in_front'] = in_front\n",
    "    compare.drop(labels = orientations, axis = 1, inplace = True)\n",
    "    compare.sort_values(by = 'sums', inplace = True)\n",
    "    if any(compare.sums < threshold):\n",
    "        return compare.loc[compare.sums < threshold], True\n",
    "    else:\n",
    "        return 0,False"
   ]
  },
  {
   "cell_type": "code",
   "execution_count": 16,
   "metadata": {
    "execution": {
     "iopub.execute_input": "2023-07-17T02:15:01.562015Z",
     "iopub.status.busy": "2023-07-17T02:15:01.561420Z",
     "iopub.status.idle": "2023-07-17T02:15:01.574653Z",
     "shell.execute_reply": "2023-07-17T02:15:01.573862Z",
     "shell.execute_reply.started": "2023-07-17T02:15:01.561956Z"
    }
   },
   "outputs": [],
   "source": [
    "def continuity(current_signal, compare_signal, in_front = True, merge_threshold = 4, slope_threshold = 6):\n",
    "    orientations = ['orientation_X','orientation_Y','orientation_Z','orientation_W']\n",
    "    select = ['series_id'] + orientations\n",
    "    if in_front:\n",
    "        end = current_signal[select]\n",
    "        front = compare_signal[select]\n",
    "    else:\n",
    "        front = current_signal[select]\n",
    "        end = compare_signal[select]\n",
    "    stitched = pd.concat([end,front])\n",
    "    diff = stitched.diff()\n",
    "    \n",
    "    # Check for continuity based on difference at merge point\n",
    "    mean = diff[orientations].iloc[120:127].mean()\n",
    "    std = diff[orientations].iloc[120:127].std()\n",
    "    test = (diff[orientations].iloc[128]-mean)/std\n",
    "    if any(test.abs() > merge_threshold):\n",
    "        return False\n",
    "    \n",
    "    # Check for continuity based on slopes (t-test of means)\n",
    "    slope_front = diff[orientations].iloc[120:127].mean()\n",
    "    std_front = diff[orientations].iloc[120:127].std()\n",
    "    var_front = std_front.apply(np.square)\n",
    "    slope_end = diff[orientations].iloc[129:136].mean()\n",
    "    std_end = diff[orientations].iloc[129:136].std()\n",
    "    var_end = std_end.apply(np.square)\n",
    "    t_value = (slope_front-slope_end)/(var_front/8+var_end/8).apply(np.sqrt)\n",
    "    if any(t_value.abs() > slope_threshold):\n",
    "        return False\n",
    "    \n",
    "    return True"
   ]
  },
  {
   "cell_type": "code",
   "execution_count": 17,
   "metadata": {
    "execution": {
     "iopub.execute_input": "2023-07-17T02:15:01.576810Z",
     "iopub.status.busy": "2023-07-17T02:15:01.576188Z",
     "iopub.status.idle": "2023-07-17T02:15:01.601248Z",
     "shell.execute_reply": "2023-07-17T02:15:01.600201Z",
     "shell.execute_reply.started": "2023-07-17T02:15:01.576753Z"
    }
   },
   "outputs": [],
   "source": [
    "def group_series(df, match_threshold = 0.01, continuity_thresholds = (4,6)):\n",
    "    df_c = df.copy()\n",
    "    # Create variables\n",
    "    lookup_dictionary = {}\n",
    "    new_group_id = -1\n",
    "    l_init = len(df_c)\n",
    "    t_start = time.time()\n",
    "    # Cycle through df\n",
    "    while len(df_c):\n",
    "        # Give feedback with regard to end time\n",
    "        t_elapsed = time.time()\n",
    "        t_diff = t_elapsed-t_start\n",
    "        l_now = len(df_c)\n",
    "        frac_done = 1-(l_now/l_init)\n",
    "        if frac_done > 0:\n",
    "            ETA = t_diff/frac_done-t_diff\n",
    "        else:\n",
    "            ETA = 0\n",
    "        message = 'Grouping Progress:{0:1.2f}%\\tETA:{1:1.2f}min'.format(frac_done*100,ETA/60 )\n",
    "        print(message, end='\\r')\n",
    "        # Add new group to lookup dictionary\n",
    "        new_group_id +=1\n",
    "        lookup_dictionary[new_group_id] = []\n",
    "        # Start by selecting first available signal\n",
    "        start_series = df_c.series_id.unique()[0]\n",
    "        start_signal = df_c.loc[df_c.series_id==start_series]\n",
    "        current_signal = start_signal\n",
    "        # Add series to lookup dictionary\n",
    "        lookup_dictionary[new_group_id].append(start_series)\n",
    "        # Delete entry from df\n",
    "        indices =  start_signal.index\n",
    "        df_c.drop(indices,inplace = True)\n",
    "        # Prepare to expand forwards and backwards\n",
    "        expand_forward = True\n",
    "        expand_backward = True\n",
    "        # Expand signal forward first\n",
    "        while (expand_forward) & (len(df_c)>0):\n",
    "            candidates, match = find_matches(current_signal, \n",
    "                                             df_c, \n",
    "                                             in_front = True,\n",
    "                                             threshold = match_threshold)\n",
    "            continuity_tracker = []\n",
    "            if match:\n",
    "                for _,candidate in candidates.iterrows():\n",
    "                    compare_signal = df_c.loc[df_c.series_id == candidate.series_id]\n",
    "                    if continuity(current_signal, \n",
    "                                  compare_signal, \n",
    "                                  in_front = candidate.in_front,\n",
    "                                  merge_threshold = continuity_thresholds[0],\n",
    "                                  slope_threshold = continuity_thresholds[1]):\n",
    "                        current_series = candidate.series_id\n",
    "                        lookup_dictionary[new_group_id].append(current_series)\n",
    "                        current_signal = df_c.loc[df_c.series_id==current_series]\n",
    "                        df_c.drop(current_signal.index, inplace = True)\n",
    "                        continuity_tracker.append(True)\n",
    "                        break\n",
    "                    else:\n",
    "                        continuity_tracker.append(False)\n",
    "                if any(continuity_tracker):\n",
    "                    continue\n",
    "                else: # If nothing passed the continuity check then stop expanding forward\n",
    "                    expand_forward = False\n",
    "            else: # If no candidates, then stop expanding forward\n",
    "                expand_forward = False\n",
    "            # Clean variable space\n",
    "            del candidates,match\n",
    "        # Expand signal backwards\n",
    "        current_signal = start_signal\n",
    "        while (expand_backward) & (len(df_c)>0):\n",
    "            candidates, match = find_matches(current_signal, \n",
    "                                             df_c, \n",
    "                                             in_front = False,\n",
    "                                             threshold = match_threshold)\n",
    "            continuity_tracker = []\n",
    "            if match:\n",
    "                for _,candidate in candidates.iterrows():\n",
    "                    compare_signal = df_c.loc[df_c.series_id == candidate.series_id]\n",
    "                    if continuity(current_signal, \n",
    "                                  compare_signal, \n",
    "                                  in_front = candidate.in_front,\n",
    "                                  merge_threshold = continuity_thresholds[0],\n",
    "                                  slope_threshold = continuity_thresholds[1]):\n",
    "                        current_series = candidate.series_id\n",
    "                        lookup_dictionary[new_group_id].insert(0,current_series)\n",
    "                        current_signal = df_c.loc[df_c.series_id==current_series]\n",
    "                        df_c.drop(current_signal.index, inplace = True)\n",
    "                        continuity_tracker.append(True)\n",
    "                        break\n",
    "                    else:\n",
    "                        continuity_tracker.append(False)\n",
    "                if any(continuity_tracker):\n",
    "                    continue\n",
    "                else: # If nothing passed the continuity check then stop expanding forward\n",
    "                    expand_backward = False\n",
    "            else: # If no candidates, then stop expanding forward\n",
    "                expand_backward = False\n",
    "            # Clean variable space\n",
    "            del candidates, match\n",
    "    print(\"Grouping Done                             \")\n",
    "    print(\"Total Groups: {}\".format(new_group_id))\n",
    "    return lookup_dictionary"
   ]
  },
  {
   "cell_type": "code",
   "execution_count": 18,
   "metadata": {
    "execution": {
     "iopub.execute_input": "2023-07-17T02:15:01.603489Z",
     "iopub.status.busy": "2023-07-17T02:15:01.602944Z",
     "iopub.status.idle": "2023-07-17T02:15:01.614995Z",
     "shell.execute_reply": "2023-07-17T02:15:01.614385Z",
     "shell.execute_reply.started": "2023-07-17T02:15:01.603261Z"
    }
   },
   "outputs": [],
   "source": [
    "def stitch_series(df,ordered_series_array):\n",
    "    osa = ordered_series_array\n",
    "    g = df.groupby('series_id')\n",
    "    sub_dfs = []\n",
    "    for series in osa:\n",
    "        temp_df = g.get_group(series)\n",
    "        sub_dfs.append(temp_df)\n",
    "    df_out = pd.concat(sub_dfs)\n",
    "    df_out.measurement_number = list(range(0,len(df_out)))\n",
    "    return df_out"
   ]
  },
  {
   "cell_type": "code",
   "execution_count": 19,
   "metadata": {
    "execution": {
     "iopub.execute_input": "2023-07-17T02:15:01.616792Z",
     "iopub.status.busy": "2023-07-17T02:15:01.616260Z",
     "iopub.status.idle": "2023-07-17T02:15:01.625493Z",
     "shell.execute_reply": "2023-07-17T02:15:01.624844Z",
     "shell.execute_reply.started": "2023-07-17T02:15:01.616734Z"
    }
   },
   "outputs": [],
   "source": [
    "def recast_df(df, match_threshold = 0.01, continuity_thresholds = (4,6)):\n",
    "    lookup_dict = group_series(df, \n",
    "                               match_threshold=match_threshold, \n",
    "                               continuity_thresholds=continuity_thresholds)\n",
    "    sub_dfs = []\n",
    "    for key,group in lookup_dict.items():\n",
    "        temp_df = stitch_series(df,group)\n",
    "        temp_df['new_group_id'] = key\n",
    "        sub_dfs.append(temp_df)\n",
    "    stitched = pd.concat(sub_dfs)\n",
    "    return stitched"
   ]
  },
  {
   "cell_type": "code",
   "execution_count": 20,
   "metadata": {
    "execution": {
     "iopub.execute_input": "2023-07-17T02:15:01.627530Z",
     "iopub.status.busy": "2023-07-17T02:15:01.626866Z",
     "iopub.status.idle": "2023-07-17T02:19:32.951806Z",
     "shell.execute_reply": "2023-07-17T02:19:32.950730Z",
     "shell.execute_reply.started": "2023-07-17T02:15:01.627425Z"
    }
   },
   "outputs": [
    {
     "name": "stdout",
     "output_type": "stream",
     "text": [
      "Grouping Done                             \n",
      "Total Groups: 104\n"
     ]
    }
   ],
   "source": [
    "stitched_train = recast_df(train, match_threshold=0.05, continuity_thresholds=(6,9))"
   ]
  },
  {
   "cell_type": "code",
   "execution_count": 21,
   "metadata": {
    "execution": {
     "iopub.execute_input": "2023-07-17T02:19:32.953659Z",
     "iopub.status.busy": "2023-07-17T02:19:32.953334Z",
     "iopub.status.idle": "2023-07-17T02:19:32.996020Z",
     "shell.execute_reply": "2023-07-17T02:19:32.994908Z",
     "shell.execute_reply.started": "2023-07-17T02:19:32.953600Z"
    }
   },
   "outputs": [
    {
     "data": {
      "text/html": [
       "<div>\n",
       "<style scoped>\n",
       "    .dataframe tbody tr th:only-of-type {\n",
       "        vertical-align: middle;\n",
       "    }\n",
       "\n",
       "    .dataframe tbody tr th {\n",
       "        vertical-align: top;\n",
       "    }\n",
       "\n",
       "    .dataframe thead th {\n",
       "        text-align: right;\n",
       "    }\n",
       "</style>\n",
       "<table border=\"1\" class=\"dataframe\">\n",
       "  <thead>\n",
       "    <tr style=\"text-align: right;\">\n",
       "      <th></th>\n",
       "      <th>series_id</th>\n",
       "      <th>group_id</th>\n",
       "      <th>surface</th>\n",
       "      <th>row_id</th>\n",
       "      <th>measurement_number</th>\n",
       "      <th>orientation_X</th>\n",
       "      <th>orientation_Y</th>\n",
       "      <th>orientation_Z</th>\n",
       "      <th>orientation_W</th>\n",
       "      <th>angular_velocity_X</th>\n",
       "      <th>angular_velocity_Y</th>\n",
       "      <th>angular_velocity_Z</th>\n",
       "      <th>linear_acceleration_X</th>\n",
       "      <th>linear_acceleration_Y</th>\n",
       "      <th>linear_acceleration_Z</th>\n",
       "      <th>new_group_id</th>\n",
       "    </tr>\n",
       "  </thead>\n",
       "  <tbody>\n",
       "    <tr>\n",
       "      <th>371579</th>\n",
       "      <td>2902</td>\n",
       "      <td>67</td>\n",
       "      <td>wood</td>\n",
       "      <td>2902_123</td>\n",
       "      <td>763</td>\n",
       "      <td>0.52816</td>\n",
       "      <td>0.83568</td>\n",
       "      <td>0.13101</td>\n",
       "      <td>0.074345</td>\n",
       "      <td>-0.002012</td>\n",
       "      <td>0.005026</td>\n",
       "      <td>-0.003178</td>\n",
       "      <td>0.13637</td>\n",
       "      <td>2.8724</td>\n",
       "      <td>-9.3596</td>\n",
       "      <td>104</td>\n",
       "    </tr>\n",
       "    <tr>\n",
       "      <th>371580</th>\n",
       "      <td>2902</td>\n",
       "      <td>67</td>\n",
       "      <td>wood</td>\n",
       "      <td>2902_124</td>\n",
       "      <td>764</td>\n",
       "      <td>0.52816</td>\n",
       "      <td>0.83568</td>\n",
       "      <td>0.13102</td>\n",
       "      <td>0.074346</td>\n",
       "      <td>-0.002800</td>\n",
       "      <td>0.001101</td>\n",
       "      <td>-0.001736</td>\n",
       "      <td>0.12568</td>\n",
       "      <td>2.8726</td>\n",
       "      <td>-9.3911</td>\n",
       "      <td>104</td>\n",
       "    </tr>\n",
       "    <tr>\n",
       "      <th>371581</th>\n",
       "      <td>2902</td>\n",
       "      <td>67</td>\n",
       "      <td>wood</td>\n",
       "      <td>2902_125</td>\n",
       "      <td>765</td>\n",
       "      <td>0.52802</td>\n",
       "      <td>0.83577</td>\n",
       "      <td>0.13102</td>\n",
       "      <td>0.074321</td>\n",
       "      <td>0.000301</td>\n",
       "      <td>0.000331</td>\n",
       "      <td>0.005215</td>\n",
       "      <td>0.12300</td>\n",
       "      <td>2.8750</td>\n",
       "      <td>-9.3701</td>\n",
       "      <td>104</td>\n",
       "    </tr>\n",
       "    <tr>\n",
       "      <th>371582</th>\n",
       "      <td>2902</td>\n",
       "      <td>67</td>\n",
       "      <td>wood</td>\n",
       "      <td>2902_126</td>\n",
       "      <td>766</td>\n",
       "      <td>0.52801</td>\n",
       "      <td>0.83577</td>\n",
       "      <td>0.13102</td>\n",
       "      <td>0.074316</td>\n",
       "      <td>-0.001979</td>\n",
       "      <td>0.006680</td>\n",
       "      <td>-0.002159</td>\n",
       "      <td>0.12178</td>\n",
       "      <td>2.8537</td>\n",
       "      <td>-9.3755</td>\n",
       "      <td>104</td>\n",
       "    </tr>\n",
       "    <tr>\n",
       "      <th>371583</th>\n",
       "      <td>2902</td>\n",
       "      <td>67</td>\n",
       "      <td>wood</td>\n",
       "      <td>2902_127</td>\n",
       "      <td>767</td>\n",
       "      <td>0.52801</td>\n",
       "      <td>0.83577</td>\n",
       "      <td>0.13103</td>\n",
       "      <td>0.074308</td>\n",
       "      <td>0.000860</td>\n",
       "      <td>0.007261</td>\n",
       "      <td>-0.006326</td>\n",
       "      <td>0.10437</td>\n",
       "      <td>2.8534</td>\n",
       "      <td>-9.3663</td>\n",
       "      <td>104</td>\n",
       "    </tr>\n",
       "  </tbody>\n",
       "</table>\n",
       "</div>"
      ],
      "text/plain": [
       "        series_id  group_id surface    row_id  measurement_number  \\\n",
       "371579       2902        67    wood  2902_123                 763   \n",
       "371580       2902        67    wood  2902_124                 764   \n",
       "371581       2902        67    wood  2902_125                 765   \n",
       "371582       2902        67    wood  2902_126                 766   \n",
       "371583       2902        67    wood  2902_127                 767   \n",
       "\n",
       "        orientation_X  orientation_Y  orientation_Z  orientation_W  \\\n",
       "371579        0.52816        0.83568        0.13101       0.074345   \n",
       "371580        0.52816        0.83568        0.13102       0.074346   \n",
       "371581        0.52802        0.83577        0.13102       0.074321   \n",
       "371582        0.52801        0.83577        0.13102       0.074316   \n",
       "371583        0.52801        0.83577        0.13103       0.074308   \n",
       "\n",
       "        angular_velocity_X  angular_velocity_Y  angular_velocity_Z  \\\n",
       "371579           -0.002012            0.005026           -0.003178   \n",
       "371580           -0.002800            0.001101           -0.001736   \n",
       "371581            0.000301            0.000331            0.005215   \n",
       "371582           -0.001979            0.006680           -0.002159   \n",
       "371583            0.000860            0.007261           -0.006326   \n",
       "\n",
       "        linear_acceleration_X  linear_acceleration_Y  linear_acceleration_Z  \\\n",
       "371579                0.13637                 2.8724                -9.3596   \n",
       "371580                0.12568                 2.8726                -9.3911   \n",
       "371581                0.12300                 2.8750                -9.3701   \n",
       "371582                0.12178                 2.8537                -9.3755   \n",
       "371583                0.10437                 2.8534                -9.3663   \n",
       "\n",
       "        new_group_id  \n",
       "371579           104  \n",
       "371580           104  \n",
       "371581           104  \n",
       "371582           104  \n",
       "371583           104  "
      ]
     },
     "execution_count": 21,
     "metadata": {},
     "output_type": "execute_result"
    }
   ],
   "source": [
    "stitched_train.tail()"
   ]
  },
  {
   "cell_type": "markdown",
   "metadata": {},
   "source": [
    "Let's see what one of those stitched groups looks like, organized by surface like I did above."
   ]
  },
  {
   "cell_type": "code",
   "execution_count": 22,
   "metadata": {
    "_kg_hide-input": true,
    "execution": {
     "iopub.execute_input": "2023-07-17T02:19:32.997896Z",
     "iopub.status.busy": "2023-07-17T02:19:32.997508Z",
     "iopub.status.idle": "2023-07-17T02:19:35.561932Z",
     "shell.execute_reply": "2023-07-17T02:19:35.561407Z",
     "shell.execute_reply.started": "2023-07-17T02:19:32.997790Z"
    }
   },
   "outputs": [
    {
     "data": {
      "application/vnd.jupyter.widget-view+json": {
       "model_id": "aab7d4a2238b4bf0aba147302e43ccf0",
       "version_major": 2,
       "version_minor": 0
      },
      "text/plain": [
       "interactive(children=(Dropdown(description='surface', options=('fine_concrete', 'concrete', 'soft_tiles', 'til…"
      ]
     },
     "metadata": {},
     "output_type": "display_data"
    }
   ],
   "source": [
    "@interact\n",
    "def plot_stitched_signals(surface = surfaces, group = (1,10)):\n",
    "    sub_stitched = stitched_train.loc[stitched_train.surface==surface]\n",
    "    g = sub_stitched.groupby('new_group_id')\n",
    "    group_id = list(g.groups.keys())[group]\n",
    "    plt.figure(figsize = (12,18))\n",
    "    signal = g.get_group(group_id)\n",
    "    for i,feature in enumerate(features):\n",
    "        ax = plt.subplot(5,2,i+1)\n",
    "        ax.plot(signal['measurement_number'], signal[feature])\n",
    "        ax.set_title(feature)\n",
    "        ax.set_xlabel('Measurement Number')\n",
    "        ax.set_ylabel('Magnitude')"
   ]
  },
  {
   "cell_type": "markdown",
   "metadata": {},
   "source": [
    "Now I'll check to make sure that each new group in the stitched train dataframe is homogenous with regards to a surface, since they're homogenous with regards to a surface in the original train dataframe."
   ]
  },
  {
   "cell_type": "code",
   "execution_count": 23,
   "metadata": {
    "_kg_hide-input": true,
    "execution": {
     "iopub.execute_input": "2023-07-17T02:19:35.563254Z",
     "iopub.status.busy": "2023-07-17T02:19:35.563010Z",
     "iopub.status.idle": "2023-07-17T02:19:35.681602Z",
     "shell.execute_reply": "2023-07-17T02:19:35.680687Z",
     "shell.execute_reply.started": "2023-07-17T02:19:35.563205Z"
    },
    "scrolled": true
   },
   "outputs": [
    {
     "name": "stdout",
     "output_type": "stream",
     "text": [
      "Max Surface Count:1\n",
      "Min Sample Count:256\n",
      "Max Sample Count:17920\n"
     ]
    }
   ],
   "source": [
    "g = stitched_train.groupby('new_group_id')\n",
    "surface_count = []\n",
    "sample_count = []\n",
    "for name, group in g:\n",
    "    surfaces = group.surface.unique()\n",
    "    surface_count.append(len(surfaces))\n",
    "    sample_count.append(len(group))\n",
    "print('Max Surface Count:{0}'.format(max(surface_count)))\n",
    "print('Min Sample Count:{0}'.format(min(sample_count)))\n",
    "print('Max Sample Count:{0}'.format(max(sample_count)))"
   ]
  },
  {
   "cell_type": "markdown",
   "metadata": {},
   "source": [
    "I have reason to believe that the stitching put together groups that didn't exist before. The longest group that was stitched is 17920 samples long (140 series). I'll check to see if the original dataset has a group with an equal number of samples"
   ]
  },
  {
   "cell_type": "code",
   "execution_count": 24,
   "metadata": {
    "_kg_hide-input": true,
    "execution": {
     "iopub.execute_input": "2023-07-17T02:19:35.683058Z",
     "iopub.status.busy": "2023-07-17T02:19:35.682795Z",
     "iopub.status.idle": "2023-07-17T02:19:35.815668Z",
     "shell.execute_reply": "2023-07-17T02:19:35.814723Z",
     "shell.execute_reply.started": "2023-07-17T02:19:35.683007Z"
    }
   },
   "outputs": [
    {
     "name": "stdout",
     "output_type": "stream",
     "text": [
      "Max sample count in original groups:9088\n"
     ]
    }
   ],
   "source": [
    "g = stitched_train.groupby('group_id')\n",
    "sample_count = []\n",
    "for name, group in g:\n",
    "    surfaces = group.surface.unique()\n",
    "    surface_count.append(len(surfaces))\n",
    "    sample_count.append(len(group))\n",
    "print('Max sample count in original groups:{0}'.format(max(sample_count)))"
   ]
  },
  {
   "cell_type": "markdown",
   "metadata": {},
   "source": [
    "My suspicion is confirmed. Long runs were themselves cut up into groups, which were further cut up into series. It is possible (and likely given the public kernels that leverage position as a predictor) that the test data was cut up from a long run that also includes train data, so I'll toss all of the data into one large dataframe and stitch it together. At worst, I'll have all of the data stitched. I can get rid of group_id and row_id since I won't be using those. I'll then make sure that series ids are unique between the groups, and merge the groups using \"no_surface\" as the surface for the unknown groups."
   ]
  },
  {
   "cell_type": "code",
   "execution_count": 25,
   "metadata": {
    "_kg_hide-input": true,
    "execution": {
     "iopub.execute_input": "2023-07-17T02:19:35.817366Z",
     "iopub.status.busy": "2023-07-17T02:19:35.816996Z",
     "iopub.status.idle": "2023-07-17T02:19:35.908760Z",
     "shell.execute_reply": "2023-07-17T02:19:35.908027Z",
     "shell.execute_reply.started": "2023-07-17T02:19:35.817245Z"
    },
    "scrolled": true
   },
   "outputs": [],
   "source": [
    "# Drop unnecessary columns from train, and add new columns to keep track of train/test\n",
    "train.drop(['row_id','group_id'], axis = 1, inplace = True)\n",
    "train['orig_id'] = train.series_id\n",
    "train['test'] = 0\n",
    "# Drop unnecessary columns from test, and add new columns as above\n",
    "test.drop(['row_id'], axis = 1, inplace = True)\n",
    "test['surface'] = 'no_surface'\n",
    "test['orig_id'] = test.series_id\n",
    "test['test'] = 1\n",
    "test.series_id += train.series_id.max()+1"
   ]
  },
  {
   "cell_type": "code",
   "execution_count": 26,
   "metadata": {
    "execution": {
     "iopub.execute_input": "2023-07-17T02:19:35.910866Z",
     "iopub.status.busy": "2023-07-17T02:19:35.910212Z",
     "iopub.status.idle": "2023-07-17T02:19:36.012591Z",
     "shell.execute_reply": "2023-07-17T02:19:36.011864Z",
     "shell.execute_reply.started": "2023-07-17T02:19:35.910805Z"
    },
    "scrolled": true
   },
   "outputs": [],
   "source": [
    "all_data = pd.concat([train,test], sort=False, ignore_index=True)"
   ]
  },
  {
   "cell_type": "code",
   "execution_count": 27,
   "metadata": {
    "execution": {
     "iopub.execute_input": "2023-07-17T02:19:36.014704Z",
     "iopub.status.busy": "2023-07-17T02:19:36.014086Z",
     "iopub.status.idle": "2023-07-17T02:32:55.814337Z",
     "shell.execute_reply": "2023-07-17T02:32:55.813589Z",
     "shell.execute_reply.started": "2023-07-17T02:19:36.014643Z"
    },
    "scrolled": true
   },
   "outputs": [
    {
     "name": "stdout",
     "output_type": "stream",
     "text": [
      "Grouping Done                             \n",
      "Total Groups: 90\n"
     ]
    }
   ],
   "source": [
    "all_stitched = recast_df(all_data, match_threshold=0.05, continuity_thresholds=(9,9))"
   ]
  },
  {
   "cell_type": "markdown",
   "metadata": {},
   "source": [
    "This is fewer total groups than stitching the training data! I did change the thresholds slightly, but even if the thresholds were kept the same the number of groups doesn't scale with the size of the dataframe. This indicates to me that some of the test data is part of runs that are present in the train data. I'll check the maximum and minimum sample counts, as well as the maximum surface count in a group."
   ]
  },
  {
   "cell_type": "code",
   "execution_count": 28,
   "metadata": {
    "_kg_hide-input": true,
    "execution": {
     "iopub.execute_input": "2023-07-17T02:32:55.816133Z",
     "iopub.status.busy": "2023-07-17T02:32:55.815801Z",
     "iopub.status.idle": "2023-07-17T02:32:56.006245Z",
     "shell.execute_reply": "2023-07-17T02:32:56.005322Z",
     "shell.execute_reply.started": "2023-07-17T02:32:55.816075Z"
    },
    "scrolled": true
   },
   "outputs": [
    {
     "name": "stdout",
     "output_type": "stream",
     "text": [
      "Max Surface Count:3\n",
      "Min Sample Count:128\n",
      "Max Sample Count:86528\n"
     ]
    }
   ],
   "source": [
    "g = all_stitched.groupby('new_group_id')\n",
    "surface_count = []\n",
    "sample_count = []\n",
    "for name, group in g:\n",
    "    surfaces = group.surface.unique()\n",
    "    surface_count.append(len(surfaces))\n",
    "    sample_count.append(len(group))\n",
    "print('Max Surface Count:{0}'.format(max(surface_count)))\n",
    "print('Min Sample Count:{0}'.format(min(sample_count)))\n",
    "print('Max Sample Count:{0}'.format(max(sample_count)))"
   ]
  },
  {
   "cell_type": "markdown",
   "metadata": {},
   "source": [
    "There is at least one run that has more than two surfaces, which isn't great. I'll rerun the analysis, but this time I'll store the groups that are in error. I'll also reclassify data if there are two surfaces and one of the surfaces is \"no_surface\". This is the first classification that I'll perform in this hybrid classifier. Not all of the data will be classified now, but I suspect that a majority will be. I am assuming that an individual group represents only one surface almost all of the time."
   ]
  },
  {
   "cell_type": "code",
   "execution_count": 29,
   "metadata": {
    "_kg_hide-input": true,
    "execution": {
     "iopub.execute_input": "2023-07-17T02:32:56.007831Z",
     "iopub.status.busy": "2023-07-17T02:32:56.007588Z",
     "iopub.status.idle": "2023-07-17T02:32:58.908925Z",
     "shell.execute_reply": "2023-07-17T02:32:58.908240Z",
     "shell.execute_reply.started": "2023-07-17T02:32:56.007784Z"
    }
   },
   "outputs": [],
   "source": [
    "g = all_stitched.groupby('new_group_id')\n",
    "new_dfs = []\n",
    "error_surfaces = []\n",
    "error_group_ids = []\n",
    "matched = 0\n",
    "unmatched = 0\n",
    "unmatched_ids = []\n",
    "for name, group in g:\n",
    "    surfaces = list(group.surface.unique())\n",
    "    # If a group contains one known surface and a total of two surfaces, then reclassify the unknown data as appropriate\n",
    "    if (len(surfaces)==2) & ('no_surface' in surfaces):\n",
    "        surfaces.remove('no_surface')\n",
    "        group['surface'] = surfaces[0]\n",
    "        new_dfs.append(group)\n",
    "        matched +=1\n",
    "    # If a group contains two known surfaces then store it as a group \"in error\"    \n",
    "    elif (len(surfaces)==2) & ('no_surface' not in surfaces):\n",
    "        error_surfaces.append(surfaces)\n",
    "        new_dfs.append(group)\n",
    "    # If a group has three surfaces or more than store it as a group \"in error\"    \n",
    "    elif (len(surfaces)>2):\n",
    "        error_surfaces.append(surfaces)\n",
    "        error_group_ids.append(name)\n",
    "        new_dfs.append(group)\n",
    "    # Else, increase the unmatched counter by one if there's only one surface and it's unknown\n",
    "    else:\n",
    "        new_dfs.append(group)\n",
    "        if surfaces[0] == 'no_surface':\n",
    "            unmatched += 1\n",
    "            unmatched_ids.append(name)\n",
    "# Make a new dataframe from reclassified data\n",
    "sorted_data = pd.concat(new_dfs)\n",
    "sorted_data.reset_index(inplace=True, drop = True)"
   ]
  },
  {
   "cell_type": "code",
   "execution_count": 30,
   "metadata": {
    "execution": {
     "iopub.execute_input": "2023-07-17T02:32:58.910288Z",
     "iopub.status.busy": "2023-07-17T02:32:58.909925Z",
     "iopub.status.idle": "2023-07-17T02:32:58.914649Z",
     "shell.execute_reply": "2023-07-17T02:32:58.913729Z",
     "shell.execute_reply.started": "2023-07-17T02:32:58.910242Z"
    },
    "scrolled": true
   },
   "outputs": [
    {
     "name": "stdout",
     "output_type": "stream",
     "text": [
      "Number of unmatched groups:23\n"
     ]
    }
   ],
   "source": [
    "print('Number of unmatched groups:{0}'.format(unmatched))"
   ]
  },
  {
   "cell_type": "markdown",
   "metadata": {},
   "source": [
    "The good news is that there are only 23 unmatched groups. This significantly reduces the complexity of the problem, since I will assume that each group only represents one surface. The unmatched ids are 68:90. \n",
    "The bad news is that there were three groups that raised an error. All of the groups had more than two surfaces. My gut feeling is that they shouldn't have been stitched, though perhaps it's the case that the robot did meander from one surface to another in a meta-run. Those groups and their surfaces are shown below."
   ]
  },
  {
   "cell_type": "code",
   "execution_count": 31,
   "metadata": {
    "execution": {
     "iopub.execute_input": "2023-07-17T02:32:58.916565Z",
     "iopub.status.busy": "2023-07-17T02:32:58.916113Z",
     "iopub.status.idle": "2023-07-17T02:32:58.930909Z",
     "shell.execute_reply": "2023-07-17T02:32:58.930023Z",
     "shell.execute_reply.started": "2023-07-17T02:32:58.916485Z"
    }
   },
   "outputs": [
    {
     "data": {
      "text/plain": [
       "[['concrete', 'no_surface', 'wood'],\n",
       " ['no_surface', 'concrete', 'carpet'],\n",
       " ['tiled', 'no_surface', 'wood']]"
      ]
     },
     "execution_count": 31,
     "metadata": {},
     "output_type": "execute_result"
    }
   ],
   "source": [
    "error_surfaces"
   ]
  },
  {
   "cell_type": "code",
   "execution_count": 32,
   "metadata": {
    "execution": {
     "iopub.execute_input": "2023-07-17T02:32:58.932518Z",
     "iopub.status.busy": "2023-07-17T02:32:58.932150Z",
     "iopub.status.idle": "2023-07-17T02:32:58.942207Z",
     "shell.execute_reply": "2023-07-17T02:32:58.941487Z",
     "shell.execute_reply.started": "2023-07-17T02:32:58.932457Z"
    }
   },
   "outputs": [
    {
     "data": {
      "text/plain": [
       "[2, 9, 27]"
      ]
     },
     "execution_count": 32,
     "metadata": {},
     "output_type": "execute_result"
    }
   ],
   "source": [
    "error_group_ids"
   ]
  },
  {
   "cell_type": "markdown",
   "metadata": {},
   "source": [
    "I'll plot the groups by group_id and color by surface to better understand what's happening. The group ids above are the groups that are \"in error\", so it is worthwhile to examine those closely."
   ]
  },
  {
   "cell_type": "code",
   "execution_count": 33,
   "metadata": {
    "_kg_hide-input": true,
    "execution": {
     "iopub.execute_input": "2023-07-17T02:32:58.943840Z",
     "iopub.status.busy": "2023-07-17T02:32:58.943530Z",
     "iopub.status.idle": "2023-07-17T02:33:20.737499Z",
     "shell.execute_reply": "2023-07-17T02:33:20.736740Z",
     "shell.execute_reply.started": "2023-07-17T02:32:58.943787Z"
    }
   },
   "outputs": [
    {
     "data": {
      "application/vnd.jupyter.widget-view+json": {
       "model_id": "1d248116947541fd87cddda4471414a3",
       "version_major": 2,
       "version_minor": 0
      },
      "text/plain": [
       "interactive(children=(IntSlider(value=45, description='group_id', max=90, min=1), Output()), _dom_classes=('wi…"
      ]
     },
     "metadata": {},
     "output_type": "display_data"
    }
   ],
   "source": [
    "# Some groups take >2 mins to plot because of the number of available samples\n",
    "@interact\n",
    "def plot_grouped_data(group_id = (1,90)):\n",
    "    g = all_stitched.groupby('new_group_id')\n",
    "    plt.figure(figsize = (12,30))\n",
    "    signal = g.get_group(group_id)\n",
    "    for i,feature in enumerate(features):\n",
    "        ax = plt.subplot(5,2,i+1)\n",
    "        sns.lineplot(x = 'measurement_number',\n",
    "                     y = feature,\n",
    "                     data = signal, \n",
    "                     hue='surface', \n",
    "                     ax=ax);\n",
    "        ax.set_title(feature)\n",
    "        ax.set_xlabel('Measurement Number')\n",
    "        ax.set_ylabel('Magnitude')"
   ]
  },
  {
   "cell_type": "markdown",
   "metadata": {},
   "source": [
    "It looks like I can safely manually assign surfaces to groups 2 and 9 based on the graphs above using the position data and a visual estimate of the RMS of the motion data. Talk about supervised learning... The function below helps me reassign surfaces."
   ]
  },
  {
   "cell_type": "code",
   "execution_count": 34,
   "metadata": {
    "_kg_hide-input": true,
    "execution": {
     "iopub.execute_input": "2023-07-17T02:33:20.739086Z",
     "iopub.status.busy": "2023-07-17T02:33:20.738837Z",
     "iopub.status.idle": "2023-07-17T02:33:20.748656Z",
     "shell.execute_reply": "2023-07-17T02:33:20.747656Z",
     "shell.execute_reply.started": "2023-07-17T02:33:20.739038Z"
    }
   },
   "outputs": [],
   "source": [
    "def reassign_surfaces(new_surface_list, group_id, df):\n",
    "    # Pull group from dataframe first\n",
    "    error_group = df[sorted_data.new_group_id == group_id]\n",
    "    reassign = {}\n",
    "    start = 1\n",
    "    end = 1\n",
    "    segment = 0\n",
    "    escape = 0 \n",
    "    while escape == 0:\n",
    "        # Find segments that are represented by one surface (do this recursively)\n",
    "        temp_dict = {}\n",
    "        surface = error_group.surface.iloc[0]\n",
    "        start = error_group.first_valid_index()\n",
    "        if len(error_group.surface.unique()) > 1:\n",
    "            end = error_group.loc[error_group.surface != surface].first_valid_index()\n",
    "        else:\n",
    "            end = error_group.last_valid_index()\n",
    "            escape = 1\n",
    "        error_group.drop(range(start,end),inplace = True)\n",
    "        \n",
    "        #Store Data\n",
    "        if surface == 'no_surface':\n",
    "            temp_dict['surface'] = new_surface_list[segment]\n",
    "            temp_dict['start'] = start\n",
    "            temp_dict['end'] = end\n",
    "            reassign[segment] = temp_dict\n",
    "            segment += 1\n",
    "    # Use data to reassign surfaces\n",
    "    for key,value in reassign.items():\n",
    "        df.iloc[value['start']:value['end'],1] = value['surface']\n",
    "    \n",
    "    fixed_group = df[sorted_data.new_group_id == group_id]\n",
    "    plt.figure(figsize = (12,4))\n",
    "    sns.lineplot(x = 'measurement_number',\n",
    "                     y = 'orientation_X',\n",
    "                     data = fixed_group, \n",
    "                     hue='surface');"
   ]
  },
  {
   "cell_type": "code",
   "execution_count": 35,
   "metadata": {
    "execution": {
     "iopub.execute_input": "2023-07-17T02:33:20.750056Z",
     "iopub.status.busy": "2023-07-17T02:33:20.749802Z",
     "iopub.status.idle": "2023-07-17T02:33:31.185754Z",
     "shell.execute_reply": "2023-07-17T02:33:31.184809Z",
     "shell.execute_reply.started": "2023-07-17T02:33:20.750010Z"
    }
   },
   "outputs": [
    {
     "data": {
      "image/png": "[encoded data removed]",
      "text/plain": [
       "<Figure size 1200x400 with 1 Axes>"
      ]
     },
     "metadata": {},
     "output_type": "display_data"
    }
   ],
   "source": [
    "surface_2 = ['concrete','wood','wood']\n",
    "reassign_surfaces(surface_2,2,sorted_data)"
   ]
  },
  {
   "cell_type": "code",
   "execution_count": 36,
   "metadata": {
    "execution": {
     "iopub.execute_input": "2023-07-17T02:33:31.187395Z",
     "iopub.status.busy": "2023-07-17T02:33:31.187063Z",
     "iopub.status.idle": "2023-07-17T02:33:34.382200Z",
     "shell.execute_reply": "2023-07-17T02:33:34.381379Z",
     "shell.execute_reply.started": "2023-07-17T02:33:31.187341Z"
    }
   },
   "outputs": [
    {
     "data": {
      "image/png": "[encoded data removed]",
      "text/plain": [
       "<Figure size 1200x400 with 1 Axes>"
      ]
     },
     "metadata": {},
     "output_type": "display_data"
    }
   ],
   "source": [
    "surface_9 = ['concrete', 'concrete']\n",
    "reassign_surfaces(surface_9, 9, sorted_data)"
   ]
  },
  {
   "cell_type": "markdown",
   "metadata": {},
   "source": [
    "It would be useful to export the current matches to make sure that I'm on track. I'll select the data and then come up with an estimate score to compare against."
   ]
  },
  {
   "cell_type": "code",
   "execution_count": 37,
   "metadata": {
    "execution": {
     "iopub.execute_input": "2023-07-17T02:33:34.384000Z",
     "iopub.status.busy": "2023-07-17T02:33:34.383514Z",
     "iopub.status.idle": "2023-07-17T02:33:35.675143Z",
     "shell.execute_reply": "2023-07-17T02:33:35.674398Z",
     "shell.execute_reply.started": "2023-07-17T02:33:34.383944Z"
    },
    "scrolled": true
   },
   "outputs": [],
   "source": [
    "output = sorted_data[sorted_data.test == 1][['orig_id','surface']].groupby('orig_id').max().reset_index()\n",
    "output.to_csv(path_or_buf = 'preClassification.csv', \n",
    "              header = ['series_id','surface'], \n",
    "              index = False)\n",
    "estimated_score = sum(output.surface!='no_surface')/len(output)"
   ]
  },
  {
   "cell_type": "code",
   "execution_count": 38,
   "metadata": {
    "execution": {
     "iopub.execute_input": "2023-07-17T02:33:35.677464Z",
     "iopub.status.busy": "2023-07-17T02:33:35.677193Z",
     "iopub.status.idle": "2023-07-17T02:33:35.685114Z",
     "shell.execute_reply": "2023-07-17T02:33:35.684047Z",
     "shell.execute_reply.started": "2023-07-17T02:33:35.677426Z"
    }
   },
   "outputs": [
    {
     "name": "stdout",
     "output_type": "stream",
     "text": [
      "Estimated Score: 0.788\n",
      "Real Score: 0.746\n",
      "Accuracy: 0.947\n"
     ]
    }
   ],
   "source": [
    "real_score = 0.55*0.6878 + 0.45*0.8175\n",
    "print('Estimated Score: {0:1.3f}'.format(estimated_score))\n",
    "print('Real Score: {0:1.3f}'.format(real_score))\n",
    "print('Accuracy: {0:1.3f}'.format(real_score/estimated_score))"
   ]
  },
  {
   "cell_type": "markdown",
   "metadata": {},
   "source": [
    "Classifying the data by stitching groups together is 94.7% accurate. If I choose to accept this stitched and classified data, then I can do no better than ~96% accuracy on the final dataset because I have already misclassified 4% of the data. This is okay for now, though it's something I can improve on later."
   ]
  },
  {
   "cell_type": "markdown",
   "metadata": {},
   "source": [
    "<a id='section5'></a>\n",
    "# Feature Extraction\n",
    "The next step is to extract features from the signals in order to develop a series of classifiers to classify the remaining data. We've looked at some features above (RMS, PSD), but there are a wealth of other features that I can pull out that are likely meaningful. The package TSFRESH was developed to automate feature extraction and selection from time series data. Their work is published in [this paper linked here](https://www.sciencedirect.com/science/article/pii/S0925231218304843?via%3Dihub), and the packgage documentation is publicly available [here](https://tsfresh.readthedocs.io/en/latest/).\n",
    "\n",
    "I will only be extracting features from the motion data, since its the only data that should have any predictive power. After all, the position of the robot shouldn't predict what surface it's on (it's not the case that robots only walk east on concrete, though that would make for an interesting story). The position data was exploited above since I knew that the training data was split from a series of longer runs (original groups) and suspected that the same was true for the test data. If I have time, I will analyze how well the model performs in the absence of knowledge from stitching the data. It makes sense to keep the data stitched, however, since it is reasonable to assume that the robot walks on the same surface for at least an extended period of time.\n",
    "\n",
    "In any case, I'll extract the relevant features below. Open up the collapsed code to see which features I chose to extract."
   ]
  },
  {
   "cell_type": "code",
   "execution_count": 39,
   "metadata": {
    "execution": {
     "iopub.execute_input": "2023-07-17T02:33:35.686268Z",
     "iopub.status.busy": "2023-07-17T02:33:35.686042Z",
     "iopub.status.idle": "2023-07-17T02:33:35.732964Z",
     "shell.execute_reply": "2023-07-17T02:33:35.732194Z",
     "shell.execute_reply.started": "2023-07-17T02:33:35.686227Z"
    }
   },
   "outputs": [
    {
     "data": {
      "text/html": [
       "<div>\n",
       "<style scoped>\n",
       "    .dataframe tbody tr th:only-of-type {\n",
       "        vertical-align: middle;\n",
       "    }\n",
       "\n",
       "    .dataframe tbody tr th {\n",
       "        vertical-align: top;\n",
       "    }\n",
       "\n",
       "    .dataframe thead th {\n",
       "        text-align: right;\n",
       "    }\n",
       "</style>\n",
       "<table border=\"1\" class=\"dataframe\">\n",
       "  <thead>\n",
       "    <tr style=\"text-align: right;\">\n",
       "      <th></th>\n",
       "      <th>series_id</th>\n",
       "      <th>measurement_number</th>\n",
       "      <th>angular_velocity_X</th>\n",
       "      <th>angular_velocity_Y</th>\n",
       "      <th>angular_velocity_Z</th>\n",
       "      <th>linear_acceleration_X</th>\n",
       "      <th>linear_acceleration_Y</th>\n",
       "      <th>linear_acceleration_Z</th>\n",
       "    </tr>\n",
       "  </thead>\n",
       "  <tbody>\n",
       "    <tr>\n",
       "      <th>0</th>\n",
       "      <td>5177</td>\n",
       "      <td>0</td>\n",
       "      <td>0.003953</td>\n",
       "      <td>0.031351</td>\n",
       "      <td>-0.086012</td>\n",
       "      <td>0.070510</td>\n",
       "      <td>2.8750</td>\n",
       "      <td>-9.3821</td>\n",
       "    </tr>\n",
       "    <tr>\n",
       "      <th>1</th>\n",
       "      <td>5177</td>\n",
       "      <td>1</td>\n",
       "      <td>0.003299</td>\n",
       "      <td>0.028777</td>\n",
       "      <td>-0.090271</td>\n",
       "      <td>0.091805</td>\n",
       "      <td>2.8709</td>\n",
       "      <td>-9.3610</td>\n",
       "    </tr>\n",
       "    <tr>\n",
       "      <th>2</th>\n",
       "      <td>5177</td>\n",
       "      <td>2</td>\n",
       "      <td>0.010289</td>\n",
       "      <td>0.032158</td>\n",
       "      <td>-0.086130</td>\n",
       "      <td>0.115780</td>\n",
       "      <td>2.8979</td>\n",
       "      <td>-9.3569</td>\n",
       "    </tr>\n",
       "    <tr>\n",
       "      <th>3</th>\n",
       "      <td>5177</td>\n",
       "      <td>3</td>\n",
       "      <td>0.003284</td>\n",
       "      <td>0.035404</td>\n",
       "      <td>-0.088382</td>\n",
       "      <td>0.087879</td>\n",
       "      <td>2.8695</td>\n",
       "      <td>-9.3584</td>\n",
       "    </tr>\n",
       "    <tr>\n",
       "      <th>4</th>\n",
       "      <td>5177</td>\n",
       "      <td>4</td>\n",
       "      <td>0.006005</td>\n",
       "      <td>0.038119</td>\n",
       "      <td>-0.084560</td>\n",
       "      <td>0.121400</td>\n",
       "      <td>2.8646</td>\n",
       "      <td>-9.3847</td>\n",
       "    </tr>\n",
       "  </tbody>\n",
       "</table>\n",
       "</div>"
      ],
      "text/plain": [
       "   series_id  measurement_number  angular_velocity_X  angular_velocity_Y  \\\n",
       "0       5177                   0            0.003953            0.031351   \n",
       "1       5177                   1            0.003299            0.028777   \n",
       "2       5177                   2            0.010289            0.032158   \n",
       "3       5177                   3            0.003284            0.035404   \n",
       "4       5177                   4            0.006005            0.038119   \n",
       "\n",
       "   angular_velocity_Z  linear_acceleration_X  linear_acceleration_Y  \\\n",
       "0           -0.086012               0.070510                 2.8750   \n",
       "1           -0.090271               0.091805                 2.8709   \n",
       "2           -0.086130               0.115780                 2.8979   \n",
       "3           -0.088382               0.087879                 2.8695   \n",
       "4           -0.084560               0.121400                 2.8646   \n",
       "\n",
       "   linear_acceleration_Z  \n",
       "0                -9.3821  \n",
       "1                -9.3610  \n",
       "2                -9.3569  \n",
       "3                -9.3584  \n",
       "4                -9.3847  "
      ]
     },
     "execution_count": 39,
     "metadata": {},
     "output_type": "execute_result"
    }
   ],
   "source": [
    "extract_from = sorted_data.drop(['surface','test','new_group_id', 'orig_id']+orientations, axis = 1)\n",
    "extract_from.head()"
   ]
  },
  {
   "cell_type": "code",
   "execution_count": 40,
   "metadata": {
    "_kg_hide-input": true,
    "execution": {
     "iopub.execute_input": "2023-07-17T02:33:35.734879Z",
     "iopub.status.busy": "2023-07-17T02:33:35.734493Z",
     "iopub.status.idle": "2023-07-17T02:33:36.061409Z",
     "shell.execute_reply": "2023-07-17T02:33:36.060643Z",
     "shell.execute_reply.started": "2023-07-17T02:33:35.734814Z"
    }
   },
   "outputs": [],
   "source": [
    "params = {'abs_energy':None,\n",
    "          'absolute_sum_of_changes':None,\n",
    "          'agg_autocorrelation':[{'f_agg':'var','maxlag':32}],\n",
    "          'change_quantiles':[{'ql':0.25,'qh':0.75,'isabs':True, 'f_agg':'mean'},\n",
    "                             {'ql':0.25,'qh':0.75,'isabs':True, 'f_agg':'std'}],\n",
    "          'cid_ce':[{'normalize':True},{'normalize':False}],\n",
    "          'fft_aggregated':[{'aggtype': 'centroid'},\n",
    "                            {'aggtype': 'variance'},\n",
    "                            {'aggtype': 'skew'},\n",
    "                            {'aggtype': 'kurtosis'}],\n",
    "          'c3': [{'lag': 1}, {'lag': 2}, {'lag': 3}],\n",
    "          'standard_deviation': None,\n",
    "          'variance': None,\n",
    "          'skewness': None,\n",
    "          'kurtosis': None,\n",
    "          'maximum': None,\n",
    "          'minimum': None,\n",
    "          'sample_entropy':None,\n",
    "          'mean_abs_change':None,\n",
    "          'sum_values':None,\n",
    "          'quantile': [{'q': 0.1},\n",
    "                       {'q': 0.2},\n",
    "                       {'q': 0.3},\n",
    "                       {'q': 0.4},\n",
    "                       {'q': 0.6},\n",
    "                       {'q': 0.7},\n",
    "                       {'q': 0.8},\n",
    "                       {'q': 0.9}],\n",
    "          'large_standard_deviation': [{'r': 0.25},{'r':0.35}],\n",
    "          'fft_coefficient': [{'coeff': 0, 'attr': 'real'},\n",
    "                              {'coeff': 1, 'attr': 'real'},\n",
    "                              {'coeff': 2, 'attr': 'real'},\n",
    "                              {'coeff': 3, 'attr': 'real'},\n",
    "                              {'coeff': 4, 'attr': 'real'},\n",
    "                              {'coeff': 5, 'attr': 'real'},\n",
    "                              {'coeff': 6, 'attr': 'real'},\n",
    "                              {'coeff': 7, 'attr': 'real'},\n",
    "                              {'coeff': 8, 'attr': 'real'},\n",
    "                              {'coeff': 9, 'attr': 'real'},\n",
    "                              {'coeff': 10, 'attr': 'real'},\n",
    "                              {'coeff': 11, 'attr': 'real'},\n",
    "                              {'coeff': 12, 'attr': 'real'},\n",
    "                              {'coeff': 13, 'attr': 'real'},\n",
    "                              {'coeff': 14, 'attr': 'real'},\n",
    "                              {'coeff': 15, 'attr': 'real'},\n",
    "                              {'coeff': 16, 'attr': 'real'},\n",
    "                              {'coeff': 17, 'attr': 'real'},\n",
    "                              {'coeff': 18, 'attr': 'real'},\n",
    "                              {'coeff': 19, 'attr': 'real'},\n",
    "                              {'coeff': 20, 'attr': 'real'},\n",
    "                              {'coeff': 21, 'attr': 'real'},\n",
    "                              {'coeff': 22, 'attr': 'real'},\n",
    "                              {'coeff': 23, 'attr': 'real'},\n",
    "                              {'coeff': 24, 'attr': 'real'},\n",
    "                              {'coeff': 25, 'attr': 'real'},\n",
    "                              {'coeff': 26, 'attr': 'real'},\n",
    "                              {'coeff': 27, 'attr': 'real'},\n",
    "                              {'coeff': 28, 'attr': 'real'},\n",
    "                              {'coeff': 29, 'attr': 'real'},\n",
    "                              {'coeff': 30, 'attr': 'real'},\n",
    "                              {'coeff': 31, 'attr': 'real'},\n",
    "                              {'coeff': 32, 'attr': 'real'},\n",
    "                              {'coeff': 33, 'attr': 'real'},\n",
    "                              {'coeff': 34, 'attr': 'real'},\n",
    "                              {'coeff': 35, 'attr': 'real'},\n",
    "                              {'coeff': 36, 'attr': 'real'},\n",
    "                              {'coeff': 37, 'attr': 'real'},\n",
    "                              {'coeff': 38, 'attr': 'real'},\n",
    "                              {'coeff': 39, 'attr': 'real'},\n",
    "                              {'coeff': 40, 'attr': 'real'},\n",
    "                              {'coeff': 41, 'attr': 'real'},\n",
    "                              {'coeff': 42, 'attr': 'real'},\n",
    "                              {'coeff': 43, 'attr': 'real'},\n",
    "                              {'coeff': 44, 'attr': 'real'},\n",
    "                              {'coeff': 45, 'attr': 'real'},\n",
    "                              {'coeff': 46, 'attr': 'real'},\n",
    "                              {'coeff': 47, 'attr': 'real'},\n",
    "                              {'coeff': 48, 'attr': 'real'},\n",
    "                              {'coeff': 49, 'attr': 'real'},\n",
    "                              {'coeff': 50, 'attr': 'real'},\n",
    "                              {'coeff': 51, 'attr': 'real'},\n",
    "                              {'coeff': 52, 'attr': 'real'},\n",
    "                              {'coeff': 53, 'attr': 'real'},\n",
    "                              {'coeff': 54, 'attr': 'real'},\n",
    "                              {'coeff': 55, 'attr': 'real'},\n",
    "                              {'coeff': 56, 'attr': 'real'},\n",
    "                              {'coeff': 57, 'attr': 'real'},\n",
    "                              {'coeff': 58, 'attr': 'real'},\n",
    "                              {'coeff': 59, 'attr': 'real'},\n",
    "                              {'coeff': 60, 'attr': 'real'},\n",
    "                              {'coeff': 61, 'attr': 'real'},\n",
    "                              {'coeff': 62, 'attr': 'real'},\n",
    "                              {'coeff': 63, 'attr': 'real'},\n",
    "                              {'coeff': 64, 'attr': 'real'}],\n",
    "          \n",
    "         }"
   ]
  },
  {
   "cell_type": "markdown",
   "metadata": {},
   "source": [
    "While TSFRESH has a set of automated parameters that I could have used, they're not necessarilly tuned for this specific problem AND they return an absolutely massive dataframe that my Macbook Air can't handle. I chose these specific set of features based on my exploration of the data and my intuition on the motion of the robot.\n",
    "\n",
    "TSFRESH is capable of selecting features for me by applying a series of hypothesis tests using the target (most of these tests are ANOVA, Fisher's test, or variants). I will allow it to tell me which features are most useful, though I'll likely use a combination of the reduced and full dataframes when I begin to create classifiers."
   ]
  },
  {
   "cell_type": "code",
   "execution_count": 41,
   "metadata": {
    "execution": {
     "iopub.execute_input": "2023-07-17T02:33:36.063355Z",
     "iopub.status.busy": "2023-07-17T02:33:36.062763Z",
     "iopub.status.idle": "2023-07-17T02:48:16.012465Z",
     "shell.execute_reply": "2023-07-17T02:48:16.011472Z",
     "shell.execute_reply.started": "2023-07-17T02:33:36.063278Z"
    },
    "scrolled": true
   },
   "outputs": [
    {
     "name": "stderr",
     "output_type": "stream",
     "text": [
      "Feature Extraction: 100%|██████████████████████████████████████████████████████████████| 10/10 [06:03<00:00, 36.35s/it]\n"
     ]
    }
   ],
   "source": [
    "extracted_features = tsfresh.extract_features(extract_from,\n",
    "                                              column_id='series_id',\n",
    "                                              column_sort='measurement_number',\n",
    "                                              n_jobs = 2, \n",
    "                                              default_fc_parameters = params)"
   ]
  },
  {
   "cell_type": "code",
   "execution_count": 42,
   "metadata": {
    "_kg_hide-input": true,
    "execution": {
     "iopub.execute_input": "2023-07-17T02:48:16.014623Z",
     "iopub.status.busy": "2023-07-17T02:48:16.014287Z",
     "iopub.status.idle": "2023-07-17T02:48:35.051080Z",
     "shell.execute_reply": "2023-07-17T02:48:35.050264Z",
     "shell.execute_reply.started": "2023-07-17T02:48:16.014569Z"
    }
   },
   "outputs": [],
   "source": [
    "efc = extracted_features.copy()\n",
    "tsfresh.utilities.dataframe_functions.impute(efc)\n",
    "y = all_stitched.groupby('series_id').max()['surface']\n",
    "matched_y = y[y!='no_surface']\n",
    "matched_ef = efc.iloc[matched_y.index]"
   ]
  },
  {
   "cell_type": "code",
   "execution_count": 43,
   "metadata": {
    "execution": {
     "iopub.execute_input": "2023-07-17T02:48:35.052495Z",
     "iopub.status.busy": "2023-07-17T02:48:35.052225Z",
     "iopub.status.idle": "2023-07-17T02:48:44.903913Z",
     "shell.execute_reply": "2023-07-17T02:48:44.902909Z",
     "shell.execute_reply.started": "2023-07-17T02:48:35.052451Z"
    }
   },
   "outputs": [],
   "source": [
    "features_filtered = tsfresh.select_features(matched_ef, matched_y)"
   ]
  },
  {
   "cell_type": "code",
   "execution_count": 44,
   "metadata": {
    "execution": {
     "iopub.execute_input": "2023-07-17T02:48:44.906093Z",
     "iopub.status.busy": "2023-07-17T02:48:44.905547Z",
     "iopub.status.idle": "2023-07-17T02:48:44.910363Z",
     "shell.execute_reply": "2023-07-17T02:48:44.909434Z",
     "shell.execute_reply.started": "2023-07-17T02:48:44.906041Z"
    }
   },
   "outputs": [],
   "source": [
    "feature_columns = features_filtered.columns"
   ]
  },
  {
   "cell_type": "markdown",
   "metadata": {},
   "source": [
    "<a id='section6'></a>\n",
    "# Classifier Exploration\n",
    "The purpose of this section is to develop a set of classifiers that I can leverage for a hybrid classifier. It's only worthwhile to keep classifiers that are relatively accurate, but I'll have to explore a series of them in order to choose the best ones. I'll make a train/test (validate) set first in order to assess the classifiers. Then I'll dive headlong into the different kinds of classifiers that are available."
   ]
  },
  {
   "cell_type": "markdown",
   "metadata": {},
   "source": [
    "I will intentionally use the unclassified stitched data below to not introduce any extraneous noise into the classifiers. Once the classifiers are trained I can toss them the data that I have yet to classify."
   ]
  },
  {
   "cell_type": "code",
   "execution_count": 45,
   "metadata": {
    "_kg_hide-input": true,
    "execution": {
     "iopub.execute_input": "2023-07-17T02:48:44.912069Z",
     "iopub.status.busy": "2023-07-17T02:48:44.911678Z",
     "iopub.status.idle": "2023-07-17T02:48:58.471473Z",
     "shell.execute_reply": "2023-07-17T02:48:58.470401Z",
     "shell.execute_reply.started": "2023-07-17T02:48:44.912009Z"
    }
   },
   "outputs": [],
   "source": [
    "metadata = all_stitched.groupby('series_id').max()[['surface','test','new_group_id', 'orig_id']]"
   ]
  },
  {
   "cell_type": "code",
   "execution_count": 46,
   "metadata": {
    "_kg_hide-input": true,
    "execution": {
     "iopub.execute_input": "2023-07-17T02:48:58.473782Z",
     "iopub.status.busy": "2023-07-17T02:48:58.473218Z",
     "iopub.status.idle": "2023-07-17T02:48:58.500109Z",
     "shell.execute_reply": "2023-07-17T02:48:58.498928Z",
     "shell.execute_reply.started": "2023-07-17T02:48:58.473559Z"
    }
   },
   "outputs": [],
   "source": [
    "filtered_extracted = metadata.join(extracted_features[feature_columns])"
   ]
  },
  {
   "cell_type": "code",
   "execution_count": 47,
   "metadata": {
    "_kg_hide-input": true,
    "execution": {
     "iopub.execute_input": "2023-07-17T02:48:58.502140Z",
     "iopub.status.busy": "2023-07-17T02:48:58.501776Z",
     "iopub.status.idle": "2023-07-17T02:48:58.517644Z",
     "shell.execute_reply": "2023-07-17T02:48:58.516841Z",
     "shell.execute_reply.started": "2023-07-17T02:48:58.502072Z"
    }
   },
   "outputs": [],
   "source": [
    "train_filtered = filtered_extracted[filtered_extracted.test == 0]\n",
    "test_filtered = filtered_extracted[filtered_extracted.test == 1]"
   ]
  },
  {
   "cell_type": "code",
   "execution_count": 48,
   "metadata": {
    "_kg_hide-input": true,
    "execution": {
     "iopub.execute_input": "2023-07-17T02:48:58.519718Z",
     "iopub.status.busy": "2023-07-17T02:48:58.519286Z",
     "iopub.status.idle": "2023-07-17T02:48:58.546854Z",
     "shell.execute_reply": "2023-07-17T02:48:58.545913Z",
     "shell.execute_reply.started": "2023-07-17T02:48:58.519651Z"
    },
    "scrolled": true
   },
   "outputs": [],
   "source": [
    "X_filtered = train_filtered.drop(labels = ['surface','test','new_group_id', 'orig_id'], \n",
    "                                 axis = 1)\n",
    "y_filtered = train_filtered.surface\n",
    "\n",
    "X_f_train, X_f_test, y_f_train, y_f_test = train_test_split(X_filtered, y_filtered, test_size=0.25, random_state=42, stratify = y_filtered)"
   ]
  },
  {
   "cell_type": "markdown",
   "metadata": {},
   "source": [
    "I'll also scale the data since this is helpful for some classifiers. I will have to keep track of whether or not the data that I'm using is scaled."
   ]
  },
  {
   "cell_type": "code",
   "execution_count": 49,
   "metadata": {
    "_kg_hide-input": true,
    "execution": {
     "iopub.execute_input": "2023-07-17T02:48:58.548444Z",
     "iopub.status.busy": "2023-07-17T02:48:58.548044Z",
     "iopub.status.idle": "2023-07-17T02:48:58.571762Z",
     "shell.execute_reply": "2023-07-17T02:48:58.570840Z",
     "shell.execute_reply.started": "2023-07-17T02:48:58.548373Z"
    }
   },
   "outputs": [],
   "source": [
    "scaler_f = StandardScaler()\n",
    "X_f_train_scaled = scaler_f.fit_transform(X_f_train)\n",
    "X_f_test_scaled = scaler_f.transform(X_f_test)"
   ]
  },
  {
   "cell_type": "markdown",
   "metadata": {},
   "source": [
    "The first classifier I'll test is the Random Forest Classifier. **I'll use the filtered extracted dataset without scaling.**"
   ]
  },
  {
   "cell_type": "code",
   "execution_count": 50,
   "metadata": {
    "_kg_hide-input": true,
    "execution": {
     "iopub.execute_input": "2023-07-17T02:48:58.574860Z",
     "iopub.status.busy": "2023-07-17T02:48:58.574463Z",
     "iopub.status.idle": "2023-07-17T02:48:59.468967Z",
     "shell.execute_reply": "2023-07-17T02:48:59.467994Z",
     "shell.execute_reply.started": "2023-07-17T02:48:58.574788Z"
    }
   },
   "outputs": [
    {
     "name": "stdout",
     "output_type": "stream",
     "text": [
      "                        precision    recall  f1-score   support\n",
      "\n",
      "                carpet       0.72      0.28      0.40        47\n",
      "              concrete       0.55      0.75      0.64       195\n",
      "         fine_concrete       0.37      0.15      0.22        91\n",
      "            hard_tiles       0.00      0.00      0.00         5\n",
      "hard_tiles_large_space       0.63      0.51      0.56        77\n",
      "              soft_pvc       0.63      0.84      0.72       183\n",
      "            soft_tiles       0.80      0.91      0.85        74\n",
      "                 tiled       0.52      0.39      0.44       129\n",
      "                  wood       0.72      0.69      0.70       152\n",
      "\n",
      "              accuracy                           0.62       953\n",
      "             macro avg       0.55      0.50      0.50       953\n",
      "          weighted avg       0.60      0.62      0.59       953\n",
      "\n"
     ]
    }
   ],
   "source": [
    "RFC = RandomForestClassifier(n_estimators=50, random_state = 42, n_jobs=-1)\n",
    "RFC.fit(X_f_train, y_f_train)\n",
    "y_f_test_RFC = RFC.predict(X_f_test)\n",
    "print(classification_report(y_f_test, y_f_test_RFC))"
   ]
  },
  {
   "cell_type": "markdown",
   "metadata": {},
   "source": [
    "Now I'll check Naive Bayes. **I'll use the filtered and scaled data.**"
   ]
  },
  {
   "cell_type": "code",
   "execution_count": 51,
   "metadata": {
    "_kg_hide-input": true,
    "execution": {
     "iopub.execute_input": "2023-07-17T02:48:59.470439Z",
     "iopub.status.busy": "2023-07-17T02:48:59.470171Z",
     "iopub.status.idle": "2023-07-17T02:48:59.520723Z",
     "shell.execute_reply": "2023-07-17T02:48:59.519098Z",
     "shell.execute_reply.started": "2023-07-17T02:48:59.470394Z"
    },
    "scrolled": true
   },
   "outputs": [
    {
     "name": "stdout",
     "output_type": "stream",
     "text": [
      "                        precision    recall  f1-score   support\n",
      "\n",
      "                carpet       0.00      0.00      0.00        47\n",
      "              concrete       0.65      0.10      0.18       195\n",
      "         fine_concrete       0.23      0.18      0.20        91\n",
      "            hard_tiles       0.05      1.00      0.10         5\n",
      "hard_tiles_large_space       0.59      0.38      0.46        77\n",
      "              soft_pvc       0.54      0.62      0.58       183\n",
      "            soft_tiles       0.60      0.88      0.71        74\n",
      "                 tiled       0.30      0.68      0.42       129\n",
      "                  wood       0.53      0.31      0.39       152\n",
      "\n",
      "              accuracy                           0.40       953\n",
      "             macro avg       0.39      0.46      0.34       953\n",
      "          weighted avg       0.48      0.40      0.38       953\n",
      "\n"
     ]
    }
   ],
   "source": [
    "NB = GaussianNB()\n",
    "NB.fit(X_f_train_scaled, y_f_train)\n",
    "y_test_NB = NB.predict(X_f_test_scaled)\n",
    "print(classification_report(y_f_test, y_test_NB))"
   ]
  },
  {
   "cell_type": "markdown",
   "metadata": {},
   "source": [
    "How interesting. This one does better at predicting hard_tiles at the expense of predicting carpet. The scores aren't awful, but they're certainly not great."
   ]
  },
  {
   "cell_type": "markdown",
   "metadata": {},
   "source": [
    "Now perform linear SVC using a grid search. This grid search is small, so it runs fairly quickly. **I will use the filtered and scaled dataset for this.**"
   ]
  },
  {
   "cell_type": "code",
   "execution_count": 52,
   "metadata": {
    "_kg_hide-input": true,
    "execution": {
     "iopub.execute_input": "2023-07-17T02:48:59.522602Z",
     "iopub.status.busy": "2023-07-17T02:48:59.522346Z",
     "iopub.status.idle": "2023-07-17T02:49:26.027443Z",
     "shell.execute_reply": "2023-07-17T02:49:26.026361Z",
     "shell.execute_reply.started": "2023-07-17T02:48:59.522557Z"
    }
   },
   "outputs": [
    {
     "name": "stdout",
     "output_type": "stream",
     "text": [
      "                        precision    recall  f1-score   support\n",
      "\n",
      "                carpet       0.43      0.38      0.40        47\n",
      "              concrete       0.58      0.69      0.63       195\n",
      "         fine_concrete       0.42      0.24      0.31        91\n",
      "            hard_tiles       0.50      0.20      0.29         5\n",
      "hard_tiles_large_space       0.58      0.43      0.49        77\n",
      "              soft_pvc       0.60      0.77      0.67       183\n",
      "            soft_tiles       0.74      0.89      0.81        74\n",
      "                 tiled       0.53      0.47      0.49       129\n",
      "                  wood       0.61      0.51      0.56       152\n",
      "\n",
      "              accuracy                           0.58       953\n",
      "             macro avg       0.55      0.51      0.52       953\n",
      "          weighted avg       0.57      0.58      0.57       953\n",
      "\n"
     ]
    }
   ],
   "source": [
    "C_range = np.logspace(-4, 0, 4)\n",
    "param_grid = dict(C=C_range)\n",
    "SVM = GridSearchCV(SVC(kernel = 'linear'), \n",
    "                    param_grid=param_grid, \n",
    "                    n_jobs=-1, \n",
    "                    pre_dispatch=2, \n",
    "                    cv = 3)\n",
    "SVM.fit(X_f_train_scaled, y_f_train)\n",
    "y_test_svc = SVM.predict(X_f_test_scaled)\n",
    "print(classification_report(y_f_test, y_test_svc))"
   ]
  },
  {
   "cell_type": "markdown",
   "metadata": {},
   "source": [
    "Now perform KNN **using the filtered and scaled data**."
   ]
  },
  {
   "cell_type": "code",
   "execution_count": 53,
   "metadata": {
    "_kg_hide-input": true,
    "execution": {
     "iopub.execute_input": "2023-07-17T02:49:26.029800Z",
     "iopub.status.busy": "2023-07-17T02:49:26.029217Z",
     "iopub.status.idle": "2023-07-17T02:49:27.157554Z",
     "shell.execute_reply": "2023-07-17T02:49:27.156472Z",
     "shell.execute_reply.started": "2023-07-17T02:49:26.029738Z"
    }
   },
   "outputs": [
    {
     "name": "stdout",
     "output_type": "stream",
     "text": [
      "                        precision    recall  f1-score   support\n",
      "\n",
      "                carpet       0.40      0.17      0.24        47\n",
      "              concrete       0.56      0.71      0.63       195\n",
      "         fine_concrete       0.40      0.15      0.22        91\n",
      "            hard_tiles       1.00      0.20      0.33         5\n",
      "hard_tiles_large_space       0.59      0.44      0.50        77\n",
      "              soft_pvc       0.60      0.82      0.69       183\n",
      "            soft_tiles       0.67      0.89      0.77        74\n",
      "                 tiled       0.46      0.36      0.40       129\n",
      "                  wood       0.66      0.62      0.64       152\n",
      "\n",
      "              accuracy                           0.58       953\n",
      "             macro avg       0.59      0.49      0.49       953\n",
      "          weighted avg       0.56      0.58      0.55       953\n",
      "\n"
     ]
    }
   ],
   "source": [
    "KNN = KNeighborsClassifier(10)\n",
    "KNN.fit(X_f_train_scaled,y_f_train)\n",
    "y_test_knn = KNN.predict(X_f_test_scaled)\n",
    "print(classification_report(y_f_test, y_test_knn))"
   ]
  },
  {
   "cell_type": "markdown",
   "metadata": {},
   "source": [
    "Check a regular decision tree **using the filtered, scaled data**"
   ]
  },
  {
   "cell_type": "code",
   "execution_count": 54,
   "metadata": {
    "_kg_hide-input": true,
    "execution": {
     "iopub.execute_input": "2023-07-17T02:49:27.159335Z",
     "iopub.status.busy": "2023-07-17T02:49:27.159022Z",
     "iopub.status.idle": "2023-07-17T02:49:27.978057Z",
     "shell.execute_reply": "2023-07-17T02:49:27.976956Z",
     "shell.execute_reply.started": "2023-07-17T02:49:27.159268Z"
    },
    "scrolled": true
   },
   "outputs": [
    {
     "name": "stdout",
     "output_type": "stream",
     "text": [
      "                        precision    recall  f1-score   support\n",
      "\n",
      "                carpet       0.39      0.40      0.40        47\n",
      "              concrete       0.49      0.45      0.47       195\n",
      "         fine_concrete       0.22      0.29      0.25        91\n",
      "            hard_tiles       0.50      0.20      0.29         5\n",
      "hard_tiles_large_space       0.45      0.44      0.44        77\n",
      "              soft_pvc       0.60      0.58      0.59       183\n",
      "            soft_tiles       0.80      0.82      0.81        74\n",
      "                 tiled       0.32      0.33      0.32       129\n",
      "                  wood       0.59      0.57      0.58       152\n",
      "\n",
      "              accuracy                           0.49       953\n",
      "             macro avg       0.48      0.45      0.46       953\n",
      "          weighted avg       0.49      0.49      0.49       953\n",
      "\n"
     ]
    }
   ],
   "source": [
    "DT = DecisionTreeClassifier()\n",
    "DT.fit(X_f_train_scaled,y_f_train)\n",
    "y_test_dt = DT.predict(X_f_test_scaled)\n",
    "print(classification_report(y_f_test, y_test_dt))"
   ]
  },
  {
   "cell_type": "markdown",
   "metadata": {},
   "source": [
    "And finally, perform XGBoost **on the filtered and scaled data.**"
   ]
  },
  {
   "cell_type": "code",
   "execution_count": 55,
   "metadata": {
    "_kg_hide-input": true,
    "execution": {
     "iopub.execute_input": "2023-07-17T02:49:27.980143Z",
     "iopub.status.busy": "2023-07-17T02:49:27.979773Z",
     "iopub.status.idle": "2023-07-17T02:49:27.986258Z",
     "shell.execute_reply": "2023-07-17T02:49:27.985361Z",
     "shell.execute_reply.started": "2023-07-17T02:49:27.980071Z"
    }
   },
   "outputs": [],
   "source": [
    "param_grid = {\n",
    "    'max_depth': [3,4,5,6],  # the maximum depth of each tree\n",
    "    'min_child_weight':np.linspace(0.8,1.2,4),\n",
    "    'gamma': np.linspace(0,0.2,4),\n",
    "}"
   ]
  },
  {
   "cell_type": "code",
   "execution_count": 56,
   "metadata": {},
   "outputs": [],
   "source": [
    "from sklearn.preprocessing import LabelEncoder\n",
    "le = LabelEncoder()\n",
    "y_f_train_en = le.fit_transform(y_f_train)"
   ]
  },
  {
   "cell_type": "code",
   "execution_count": 57,
   "metadata": {
    "_kg_hide-input": true,
    "execution": {
     "iopub.execute_input": "2023-07-17T02:49:27.987932Z",
     "iopub.status.busy": "2023-07-17T02:49:27.987610Z",
     "iopub.status.idle": "2023-07-17T02:49:55.057597Z",
     "shell.execute_reply": "2023-07-17T02:49:55.056595Z",
     "shell.execute_reply.started": "2023-07-17T02:49:27.987872Z"
    }
   },
   "outputs": [
    {
     "name": "stdout",
     "output_type": "stream",
     "text": [
      "[17:45:09] WARNING: C:\\buildkite-agent\\builds\\buildkite-windows-cpu-autoscaling-group-i-0fdc6d574b9c0d168-1\\xgboost\\xgboost-ci-windows\\src\\learner.cc:767: \n",
      "Parameters: { \"nthreads\", \"silent\" } are not used.\n",
      "\n",
      "                        precision    recall  f1-score   support\n",
      "\n",
      "                carpet       0.50      0.19      0.28        47\n",
      "              concrete       0.58      0.76      0.66       195\n",
      "         fine_concrete       0.47      0.15      0.23        91\n",
      "            hard_tiles       0.00      0.00      0.00         5\n",
      "hard_tiles_large_space       0.66      0.52      0.58        77\n",
      "              soft_pvc       0.61      0.86      0.71       183\n",
      "            soft_tiles       0.85      0.89      0.87        74\n",
      "                 tiled       0.59      0.49      0.53       129\n",
      "                  wood       0.69      0.64      0.66       152\n",
      "\n",
      "              accuracy                           0.63       953\n",
      "             macro avg       0.55      0.50      0.50       953\n",
      "          weighted avg       0.61      0.63      0.60       953\n",
      "\n"
     ]
    }
   ],
   "source": [
    "import xgboost as xgb\n",
    "# The below parameters were found using GridSearchCV, using the parameter search basis above.\n",
    "XGB = xgb.sklearn.XGBClassifier(learning_rate = 0.025,\n",
    "                                objective = 'multi:softmax',\n",
    "                                n_estimators = 150,\n",
    "                                max_depth = 5,\n",
    "                                min_child_weight = 1.2,\n",
    "                                subsample=0.8,\n",
    "                                colsample_bytree = 0.8,\n",
    "                                gamma = 0.066,\n",
    "                                n_jobs = 4,\n",
    "                                nthreads = 1,\n",
    "                                silent = True,\n",
    "                                seed = 42)\n",
    "XGB.fit(X_f_train_scaled,y_f_train_en)\n",
    "y_test_XGB = XGB.predict(X_f_test_scaled)\n",
    "y_test_XGB = le.inverse_transform(y_test_XGB)\n",
    "print(classification_report(y_f_test, y_test_XGB))"
   ]
  },
  {
   "cell_type": "markdown",
   "metadata": {},
   "source": [
    "<a id='section7'></a>\n",
    "# Meta Ensemble Classifier\n",
    "The real utility in stitching groups together is the ability to classify the entire group as one surface based on the results of classifying its constituent series. The easiest way to think of this is that the series vote on the classification of the group. The surface with the most \"votes\" is used to classify the entire group, similar to how RFC methods work. Furthermore, the results of each classifier above can be used in order to determine the votes for a group! Since the voting occurs as a sum of the number of instances that each surface appears in a group, each classifier can be assigned a relative weight in the voting schema. I'll employ this method to classify the remaining data.\n",
    "\n",
    "First I'll make a function that generates and joins predictions from the classifier instances."
   ]
  },
  {
   "cell_type": "code",
   "execution_count": 58,
   "metadata": {
    "execution": {
     "iopub.execute_input": "2023-07-17T02:49:55.059697Z",
     "iopub.status.busy": "2023-07-17T02:49:55.059333Z",
     "iopub.status.idle": "2023-07-17T02:49:55.068143Z",
     "shell.execute_reply": "2023-07-17T02:49:55.067059Z",
     "shell.execute_reply.started": "2023-07-17T02:49:55.059629Z"
    }
   },
   "outputs": [],
   "source": [
    "def get_predictions(filtered_data, classifiers, scaler):\n",
    "    warnings.filterwarnings(\"ignore\")\n",
    "    \n",
    "    df = filtered_data[['surface','test','new_group_id', 'orig_id']]\n",
    "    X = filtered_data.drop(labels = ['surface','test','new_group_id','orig_id'], \n",
    "                                 axis = 1).values\n",
    "    X_scaled = scaler.transform(X)\n",
    "    for name, classifier_dict in classifiers.items():\n",
    "        clf = classifier_dict['classifier']\n",
    "        if classifier_dict['scale']:\n",
    "            prediction = clf.predict(X_scaled)\n",
    "        else:\n",
    "            prediction = clf.predict(X)\n",
    "        df[name] = prediction\n",
    "    warnings.resetwarnings()\n",
    "    return df"
   ]
  },
  {
   "cell_type": "code",
   "execution_count": 59,
   "metadata": {
    "execution": {
     "iopub.execute_input": "2023-07-17T02:49:55.070370Z",
     "iopub.status.busy": "2023-07-17T02:49:55.069804Z",
     "iopub.status.idle": "2023-07-17T02:49:55.084095Z",
     "shell.execute_reply": "2023-07-17T02:49:55.083279Z",
     "shell.execute_reply.started": "2023-07-17T02:49:55.070308Z"
    }
   },
   "outputs": [],
   "source": [
    "classifiers = {'RFC':{'classifier':RFC,'scale': False},\n",
    "               'NB':{'classifier':NB,'scale':True},\n",
    "               'SVM':{'classifier':SVM,'scale':True},\n",
    "               'KNN':{'classifier':KNN,'scale':True},\n",
    "               'DT':{'classifier':DT,'scale':True},\n",
    "               'XGB':{'classifier':XGB,'scale':True}}"
   ]
  },
  {
   "cell_type": "code",
   "execution_count": 60,
   "metadata": {
    "execution": {
     "iopub.execute_input": "2023-07-17T02:49:55.087079Z",
     "iopub.status.busy": "2023-07-17T02:49:55.086408Z",
     "iopub.status.idle": "2023-07-17T02:50:02.768690Z",
     "shell.execute_reply": "2023-07-17T02:50:02.767862Z",
     "shell.execute_reply.started": "2023-07-17T02:49:55.087018Z"
    }
   },
   "outputs": [],
   "source": [
    "multi_predictions = get_predictions(filtered_data=train_filtered,\n",
    "                              classifiers=classifiers, \n",
    "                              scaler=scaler_f)"
   ]
  },
  {
   "cell_type": "markdown",
   "metadata": {},
   "source": [
    "The classifier-specific predictions can be used in an ensemble classifier function that is written below. The function accepts the predictions and a dictionary that includes the classifiers to use and their weights."
   ]
  },
  {
   "cell_type": "code",
   "execution_count": 61,
   "metadata": {
    "execution": {
     "iopub.execute_input": "2023-07-17T02:50:02.770563Z",
     "iopub.status.busy": "2023-07-17T02:50:02.770050Z",
     "iopub.status.idle": "2023-07-17T02:50:02.778912Z",
     "shell.execute_reply": "2023-07-17T02:50:02.777845Z",
     "shell.execute_reply.started": "2023-07-17T02:50:02.770516Z"
    }
   },
   "outputs": [],
   "source": [
    "def classifier_ensemble(predictions, classifier_weights, groupby = 'new_group_id'):\n",
    "    warnings.filterwarnings(\"ignore\")\n",
    "    df = predictions[['test','new_group_id','orig_id']]\n",
    "    df['surface'] = 'None'\n",
    "    g = predictions.groupby(groupby)\n",
    "    for name, group in g:\n",
    "        index = group.index\n",
    "        weighted_value_counts = []\n",
    "        for classifier,weight in classifier_weights.items():\n",
    "            value_counts = group[classifier].value_counts()\n",
    "            weighted_value_counts.append(value_counts*weight)\n",
    "        all_counts = pd.DataFrame(weighted_value_counts).fillna(value=0)\n",
    "        surface = all_counts.sum().sort_values(ascending=False).index[0]\n",
    "        df.loc[index,'surface'] = surface\n",
    "    warnings.resetwarnings()\n",
    "    return df"
   ]
  },
  {
   "cell_type": "code",
   "execution_count": 62,
   "metadata": {
    "execution": {
     "iopub.execute_input": "2023-07-17T02:50:02.781006Z",
     "iopub.status.busy": "2023-07-17T02:50:02.780471Z",
     "iopub.status.idle": "2023-07-17T02:50:09.034929Z",
     "shell.execute_reply": "2023-07-17T02:50:09.033711Z",
     "shell.execute_reply.started": "2023-07-17T02:50:02.780702Z"
    }
   },
   "outputs": [],
   "source": [
    "classifier_weights = {classifier:1 for classifier in classifiers.keys()}\n",
    "del classifier_weights['NB'] # Naive Bayes classification wasn't great, so I won't include it\n",
    "ensemble_prediction = classifier_ensemble(predictions=multi_predictions,\n",
    "                                 classifier_weights=classifier_weights)"
   ]
  },
  {
   "cell_type": "code",
   "execution_count": 63,
   "metadata": {
    "execution": {
     "iopub.execute_input": "2023-07-17T02:50:09.037448Z",
     "iopub.status.busy": "2023-07-17T02:50:09.036851Z",
     "iopub.status.idle": "2023-07-17T02:50:09.160541Z",
     "shell.execute_reply": "2023-07-17T02:50:09.159542Z",
     "shell.execute_reply.started": "2023-07-17T02:50:09.037167Z"
    }
   },
   "outputs": [
    {
     "name": "stdout",
     "output_type": "stream",
     "text": [
      "                        precision    recall  f1-score   support\n",
      "\n",
      "                carpet       1.00      0.77      0.87       189\n",
      "              concrete       0.92      0.79      0.85       779\n",
      "         fine_concrete       1.00      1.00      1.00       363\n",
      "            hard_tiles       1.00      1.00      1.00        21\n",
      "hard_tiles_large_space       1.00      1.00      1.00       308\n",
      "              soft_pvc       1.00      1.00      1.00       732\n",
      "            soft_tiles       1.00      1.00      1.00       297\n",
      "                 tiled       0.99      1.00      0.99       514\n",
      "                  wood       0.78      0.98      0.87       607\n",
      "\n",
      "              accuracy                           0.94      3810\n",
      "             macro avg       0.97      0.95      0.95      3810\n",
      "          weighted avg       0.95      0.94      0.94      3810\n",
      "\n"
     ]
    }
   ],
   "source": [
    "print(classification_report(train_filtered.surface, ensemble_prediction.surface))"
   ]
  },
  {
   "cell_type": "markdown",
   "metadata": {},
   "source": [
    "I'll have to perform my own parameter search on the classifier ensemble in order to find the weights that produce the best results. Using a grid approach might not be the best course of action since there are 5 parameters to set. Instead, I'll use an evolutionary algorithm with a maximum number of generations."
   ]
  },
  {
   "cell_type": "code",
   "execution_count": 64,
   "metadata": {
    "execution": {
     "iopub.execute_input": "2023-07-17T02:50:09.162694Z",
     "iopub.status.busy": "2023-07-17T02:50:09.162115Z",
     "iopub.status.idle": "2023-07-17T02:50:09.179709Z",
     "shell.execute_reply": "2023-07-17T02:50:09.178443Z",
     "shell.execute_reply.started": "2023-07-17T02:50:09.162632Z"
    }
   },
   "outputs": [],
   "source": [
    "def CEParamSearch(y_true, multi_predictions, classifier_names, \n",
    "                  groupby = 'new_group_id', generations = 20, \n",
    "                  seed = 1, mutation_rate = 0.35):  \n",
    "    # Generate random weights first\n",
    "    np.random.seed(seed)\n",
    "    weights = np.random.rand(len(classifiers))\n",
    "    classifier_weights = {classifier:weight for classifier,weight in zip(classifier_names,weights)}\n",
    "    \n",
    "    # Classify the data and calculate a score with the weights\n",
    "    ensemble_prediction = classifier_ensemble(multi_predictions,classifier_weights,groupby=groupby)\n",
    "    y_pred = ensemble_prediction.surface\n",
    "    score = sum(y_pred == y_true)/len(y_pred)\n",
    "    \n",
    "    # Keep track of score and time\n",
    "    scores = [score]\n",
    "    start = time.time()\n",
    "    \n",
    "    \n",
    "    # Hunt for a better solution\n",
    "    gene = random.choice(classifier_names)\n",
    "    orig_mut_rate = mutation_rate\n",
    "    for generation in range(1,generations+1):\n",
    "        # Make new weights using small mutation\n",
    "        new_weights = classifier_weights\n",
    "        mutation = (np.random.rand(1)-0.5)*mutation_rate\n",
    "        \n",
    "        new_weights[gene] += mutation\n",
    "        #Constrain weights to [0,1]\n",
    "        if new_weights[gene] < 0:\n",
    "            new_weights[gene] = 0\n",
    "        if new_weights[gene] > 1:\n",
    "            new_weights[gene] = 1\n",
    "            \n",
    "        # Classify data and obtain new score\n",
    "        ensemble_prediction = classifier_ensemble(multi_predictions,new_weights,groupby=groupby)\n",
    "        y_pred = ensemble_prediction.surface\n",
    "        new_score = sum(y_pred == y_true)/len(y_pred)\n",
    "        change = new_score - score\n",
    "        # Select fittest weights\n",
    "        if change < 0: # If new score is worse change the gene, reestablish mutation rate\n",
    "            scores.append(score)\n",
    "            gene = random.choice(classifier_names)\n",
    "            mutation_rate = orig_mut_rate\n",
    "        elif change == 0: # Mutate, but don't change gene or the mutation rate\n",
    "            scores.append(score)\n",
    "            classifier_weights = new_weights\n",
    "        elif change > 0: # Mutate and change mutation rate, but don't change the gene\n",
    "            mutation_rate /= 0.75\n",
    "            score = new_score\n",
    "            scores.append(score)\n",
    "            classifier_weights = new_weights\n",
    "        \n",
    "        # Update User\n",
    "        progress = generation/generations\n",
    "        time_elapsed = (time.time()-start)\n",
    "        ETA = (time_elapsed/progress-time_elapsed)/60\n",
    "        print('Score:{0:1.5f}\\t|\\tChange:{1:1.5f}\\t|\\tTime Remaining: {2:1.2f} min'.format(score,change,ETA), end = '\\r')\n",
    "    \n",
    "    plt.plot(scores)\n",
    "    return classifier_weights"
   ]
  },
  {
   "cell_type": "code",
   "execution_count": 65,
   "metadata": {
    "execution": {
     "iopub.execute_input": "2023-07-17T02:50:09.181777Z",
     "iopub.status.busy": "2023-07-17T02:50:09.181407Z",
     "iopub.status.idle": "2023-07-17T02:50:09.200509Z",
     "shell.execute_reply": "2023-07-17T02:50:09.199550Z",
     "shell.execute_reply.started": "2023-07-17T02:50:09.181706Z"
    },
    "scrolled": true
   },
   "outputs": [],
   "source": [
    "classifier_names = list(classifier_weights.keys())"
   ]
  },
  {
   "cell_type": "code",
   "execution_count": 66,
   "metadata": {
    "execution": {
     "iopub.execute_input": "2023-07-17T02:50:09.202686Z",
     "iopub.status.busy": "2023-07-17T02:50:09.202073Z",
     "iopub.status.idle": "2023-07-17T02:52:51.657473Z",
     "shell.execute_reply": "2023-07-17T02:52:51.656200Z",
     "shell.execute_reply.started": "2023-07-17T02:50:09.202469Z"
    }
   },
   "outputs": [
    {
     "name": "stdout",
     "output_type": "stream",
     "text": [
      "Score:0.94383\t|\tChange:-0.01365\t|\tTime Remaining: 0.00 min\r"
     ]
    },
    {
     "data": {
      "image/png": "[encoded data removed]",
      "text/plain": [
       "<Figure size 640x480 with 1 Axes>"
      ]
     },
     "metadata": {},
     "output_type": "display_data"
    }
   ],
   "source": [
    "classifier_weights = CEParamSearch(train_filtered.surface,\n",
    "                                   multi_predictions,\n",
    "                                   classifier_names, \n",
    "                                   generations = 25,\n",
    "                                   mutation_rate = 0.5,\n",
    "                                   seed = 40)"
   ]
  },
  {
   "cell_type": "markdown",
   "metadata": {},
   "source": [
    "The results of CEParamSearch are random, though they do tend towards optimization as you can see in the graph above. The classifier weights below were used for a late submission whose public and private score I reveal below."
   ]
  },
  {
   "cell_type": "code",
   "execution_count": 67,
   "metadata": {
    "execution": {
     "iopub.execute_input": "2023-07-17T02:52:51.660169Z",
     "iopub.status.busy": "2023-07-17T02:52:51.659462Z",
     "iopub.status.idle": "2023-07-17T02:52:51.667436Z",
     "shell.execute_reply": "2023-07-17T02:52:51.666266Z",
     "shell.execute_reply.started": "2023-07-17T02:52:51.660091Z"
    }
   },
   "outputs": [],
   "source": [
    "classifier_weights = {'RFC': 1,\n",
    " 'SVM': 1,\n",
    " 'KNN': 0,\n",
    " 'DT': 0.22006725,\n",
    " 'XGB': 0.38377276}"
   ]
  },
  {
   "cell_type": "markdown",
   "metadata": {},
   "source": [
    "Now that I have an optimized set of classifier weights I will run the unclassified dataset through the ensemble classifier to check its performance against Kaggle."
   ]
  },
  {
   "cell_type": "code",
   "execution_count": 68,
   "metadata": {
    "execution": {
     "iopub.execute_input": "2023-07-17T02:52:51.670047Z",
     "iopub.status.busy": "2023-07-17T02:52:51.669350Z",
     "iopub.status.idle": "2023-07-17T02:52:59.307846Z",
     "shell.execute_reply": "2023-07-17T02:52:59.306807Z",
     "shell.execute_reply.started": "2023-07-17T02:52:51.669970Z"
    }
   },
   "outputs": [],
   "source": [
    "multi_predictions_test = get_predictions(test_filtered,classifiers,scaler_f)"
   ]
  },
  {
   "cell_type": "code",
   "execution_count": 69,
   "metadata": {
    "execution": {
     "iopub.execute_input": "2023-07-17T02:52:59.309762Z",
     "iopub.status.busy": "2023-07-17T02:52:59.309450Z",
     "iopub.status.idle": "2023-07-17T02:53:05.329799Z",
     "shell.execute_reply": "2023-07-17T02:53:05.329034Z",
     "shell.execute_reply.started": "2023-07-17T02:52:59.309701Z"
    }
   },
   "outputs": [],
   "source": [
    "ensemble_prediction_test = classifier_ensemble(predictions=multi_predictions_test,\n",
    "                                 classifier_weights=classifier_weights)"
   ]
  },
  {
   "cell_type": "code",
   "execution_count": 70,
   "metadata": {
    "execution": {
     "iopub.execute_input": "2023-07-17T02:53:05.331211Z",
     "iopub.status.busy": "2023-07-17T02:53:05.330964Z",
     "iopub.status.idle": "2023-07-17T02:53:05.357349Z",
     "shell.execute_reply": "2023-07-17T02:53:05.356457Z",
     "shell.execute_reply.started": "2023-07-17T02:53:05.331172Z"
    }
   },
   "outputs": [],
   "source": [
    "output = ensemble_prediction_test[['orig_id','surface']].reset_index().drop('series_id', axis =1)\n",
    "output.to_csv(path_or_buf = 'Ensemble_Classified.csv', \n",
    "              header = ['series_id','surface'], \n",
    "              index = False)"
   ]
  },
  {
   "cell_type": "markdown",
   "metadata": {},
   "source": [
    "A private score of 0.8280 and a public score of 0.4656 is good given that I'm not leveraging all of the position data. The public score mostly benefits from the position matched data."
   ]
  },
  {
   "cell_type": "markdown",
   "metadata": {},
   "source": [
    "<a id='section8'></a>\n",
    "# Hybrid Classification\n",
    "It's unfair to say that the previous ensemble classification was not a hybrid classification already. Hybrid classifiers are those that classify over multiple iterations, rather than classifying by comparing the output of different processes. The above ensemble classification was built on the existing classification that was done to select features, and the classification to find groups. This following hybrid classification leverages all of that information to its extreme. I will accept the classification that was applied after finding groups, use the classified features to obtain outputs from individual classifiers, classify the remaining unclassified data using the ensemble classifier I generated, and finally stitch the position matched classification with the ensemble matched classification."
   ]
  },
  {
   "cell_type": "code",
   "execution_count": 71,
   "metadata": {
    "execution": {
     "iopub.execute_input": "2023-07-17T02:53:05.359075Z",
     "iopub.status.busy": "2023-07-17T02:53:05.358810Z",
     "iopub.status.idle": "2023-07-17T02:53:19.032569Z",
     "shell.execute_reply": "2023-07-17T02:53:19.031673Z",
     "shell.execute_reply.started": "2023-07-17T02:53:05.359030Z"
    }
   },
   "outputs": [],
   "source": [
    "metadata = sorted_data.groupby('series_id').max()[['surface','test','new_group_id', 'orig_id']]\n",
    "filtered_extracted_matched = metadata.join(extracted_features[feature_columns])\n",
    "unmatched_filtered = filtered_extracted_matched[filtered_extracted_matched.surface == 'no_surface']"
   ]
  },
  {
   "cell_type": "code",
   "execution_count": 72,
   "metadata": {
    "execution": {
     "iopub.execute_input": "2023-07-17T02:53:19.034688Z",
     "iopub.status.busy": "2023-07-17T02:53:19.034376Z",
     "iopub.status.idle": "2023-07-17T02:53:23.349959Z",
     "shell.execute_reply": "2023-07-17T02:53:23.348990Z",
     "shell.execute_reply.started": "2023-07-17T02:53:19.034630Z"
    }
   },
   "outputs": [],
   "source": [
    "multi_predictions_unmatched = get_predictions(unmatched_filtered, classifiers, scaler_f)\n",
    "ensemble_prediction_unmatched = classifier_ensemble(multi_predictions_unmatched, classifier_weights)\n",
    "unmatched_output = ensemble_prediction_unmatched[['orig_id','surface']].reset_index().drop('series_id', axis =1)"
   ]
  },
  {
   "cell_type": "code",
   "execution_count": 73,
   "metadata": {
    "execution": {
     "iopub.execute_input": "2023-07-17T02:53:23.351855Z",
     "iopub.status.busy": "2023-07-17T02:53:23.351491Z",
     "iopub.status.idle": "2023-07-17T02:53:23.366005Z",
     "shell.execute_reply": "2023-07-17T02:53:23.364686Z",
     "shell.execute_reply.started": "2023-07-17T02:53:23.351789Z"
    }
   },
   "outputs": [],
   "source": [
    "matched_output = metadata[(metadata.test == 1)&(metadata.surface != 'no_surface')][['orig_id','surface']].reset_index().drop('series_id', axis =1)"
   ]
  },
  {
   "cell_type": "code",
   "execution_count": null,
   "metadata": {
    "_kg_hide-input": true,
    "execution": {
     "iopub.execute_input": "2023-07-17T02:53:23.368317Z",
     "iopub.status.busy": "2023-07-17T02:53:23.367987Z",
     "iopub.status.idle": "2023-07-17T02:53:23.376344Z",
     "shell.execute_reply": "2023-07-17T02:53:23.375548Z",
     "shell.execute_reply.started": "2023-07-17T02:53:23.368237Z"
    }
   },
   "outputs": [],
   "source": [
    "os.chdir(\"/kaggle/working/\")"
   ]
  },
  {
   "cell_type": "code",
   "execution_count": 74,
   "metadata": {
    "execution": {
     "iopub.execute_input": "2023-07-17T02:53:23.378377Z",
     "iopub.status.busy": "2023-07-17T02:53:23.378012Z",
     "iopub.status.idle": "2023-07-17T02:53:23.407567Z",
     "shell.execute_reply": "2023-07-17T02:53:23.406568Z",
     "shell.execute_reply.started": "2023-07-17T02:53:23.378282Z"
    }
   },
   "outputs": [],
   "source": [
    "output = pd.concat([matched_output,unmatched_output])\n",
    "output.to_csv('Hybrid_Classified.csv', \n",
    "              header = ['series_id','surface'], \n",
    "              index = False)"
   ]
  },
  {
   "cell_type": "markdown",
   "metadata": {},
   "source": [
    "The results of the Kaggle submission are wonderful! **A private score of 0.8777 and a public score of 0.9876 yields a combined accuracy of 0.9272 on the whole dataset.** We already know that ~4% of the data was misclassified after the groups were stitched, so only about ~3% of the remaining unclassified data was misclassified by the meta ensemble classifier. Overall, I'm thrilled with this score! To improve these scores I could tune all of the individual classifiers, search for more features to extract, and improve and the grouping mechanism."
   ]
  },
  {
   "cell_type": "markdown",
   "metadata": {},
   "source": [
    "<a id='section9'></a>\n",
    "# Conclusion"
   ]
  },
  {
   "cell_type": "markdown",
   "metadata": {},
   "source": [
    "The hybrid classifier that I developed was clearly better than using classical or ensemble classification schemes by themselves. Even a meta-ensemble of the standard classification schemes significantly outperforms a single classification scheme, which is helpful knowledge for future classification problems. Building this meta-classifier is simple enough, and tuning its performance even for a large number of parameters can be done using an evolutionary approach."
   ]
  }
 ],
 "metadata": {
  "kernelspec": {
   "display_name": "Python 3 (ipykernel)",
   "language": "python",
   "name": "python3"
  },
  "language_info": {
   "codemirror_mode": {
    "name": "ipython",
    "version": 3
   },
   "file_extension": ".py",
   "mimetype": "text/x-python",
   "name": "python",
   "nbconvert_exporter": "python",
   "pygments_lexer": "ipython3",
   "version": "3.9.17"
  }
 },
 "nbformat": 4,
 "nbformat_minor": 4
}
