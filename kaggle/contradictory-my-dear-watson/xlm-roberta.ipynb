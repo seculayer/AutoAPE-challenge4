{
 "cells": [
  {
   "cell_type": "code",
   "execution_count": 1,
   "id": "7b03e76b",
   "metadata": {
    "_cell_guid": "b1076dfc-b9ad-4769-8c92-a6c4dae69d19",
    "_uuid": "8f2839f25d086af736a60e9eeb907d3b93b6e0e5",
    "execution": {
     "iopub.execute_input": "2023-06-29T02:35:11.336700Z",
     "iopub.status.busy": "2023-06-29T02:35:11.335162Z",
     "iopub.status.idle": "2023-06-29T02:35:12.259030Z",
     "shell.execute_reply": "2023-06-29T02:35:12.259748Z",
     "shell.execute_reply.started": "2023-05-23T10:45:12.57896Z"
    },
    "papermill": {
     "duration": 0.956814,
     "end_time": "2023-06-29T02:35:12.260039",
     "exception": false,
     "start_time": "2023-06-29T02:35:11.303225",
     "status": "completed"
    },
    "tags": []
   },
   "outputs": [
    {
     "name": "stdout",
     "output_type": "stream",
     "text": [
      "/kaggle/input/contradictory-my-dear-watson/sample_submission.csv\n",
      "/kaggle/input/contradictory-my-dear-watson/train.csv\n",
      "/kaggle/input/contradictory-my-dear-watson/test.csv\n"
     ]
    }
   ],
   "source": [
    "import numpy as np\n",
    "import pandas as pd\n",
    "import seaborn as sns\n",
    "import matplotlib.pyplot as plt\n",
    "import os\n",
    "#\n",
    "for dirname, _, filenames in os.walk('/kaggle/input'):\n",
    "    for filename in filenames:\n",
    "        print(os.path.join(dirname, filename))\n",
    "        \n",
    "# from tqdm.notebook import tqdm\n",
    "from tqdm import tqdm\n",
    "tqdm.pandas()"
   ]
  },
  {
   "cell_type": "code",
   "execution_count": 2,
   "id": "8bc09120",
   "metadata": {
    "execution": {
     "iopub.execute_input": "2023-06-29T02:35:12.335641Z",
     "iopub.status.busy": "2023-06-29T02:35:12.333372Z",
     "iopub.status.idle": "2023-06-29T02:35:13.347220Z",
     "shell.execute_reply": "2023-06-29T02:35:13.346417Z",
     "shell.execute_reply.started": "2023-05-23T10:45:12.593061Z"
    },
    "papermill": {
     "duration": 1.049653,
     "end_time": "2023-06-29T02:35:13.347363",
     "exception": false,
     "start_time": "2023-06-29T02:35:12.297710",
     "status": "completed"
    },
    "tags": []
   },
   "outputs": [
    {
     "name": "stdout",
     "output_type": "stream",
     "text": [
      "\u001b[0m\u001b[01;34minput\u001b[0m/  \u001b[01;34mlib\u001b[0m/  \u001b[01;34msrc\u001b[0m/  \u001b[01;34mworking\u001b[0m/\r\n"
     ]
    }
   ],
   "source": [
    "%ls /kaggle"
   ]
  },
  {
   "cell_type": "code",
   "execution_count": 3,
   "id": "417070c6",
   "metadata": {
    "execution": {
     "iopub.execute_input": "2023-06-29T02:35:13.408132Z",
     "iopub.status.busy": "2023-06-29T02:35:13.407405Z",
     "iopub.status.idle": "2023-06-29T02:35:13.558156Z",
     "shell.execute_reply": "2023-06-29T02:35:13.557632Z",
     "shell.execute_reply.started": "2023-05-23T10:45:13.540062Z"
    },
    "papermill": {
     "duration": 0.183636,
     "end_time": "2023-06-29T02:35:13.558299",
     "exception": false,
     "start_time": "2023-06-29T02:35:13.374663",
     "status": "completed"
    },
    "tags": []
   },
   "outputs": [
    {
     "data": {
      "text/plain": [
       "((12120, 6), (5195, 5))"
      ]
     },
     "execution_count": 3,
     "metadata": {},
     "output_type": "execute_result"
    }
   ],
   "source": [
    "train_data = pd.read_csv('/kaggle/input/contradictory-my-dear-watson/train.csv')\n",
    "test_data  = pd.read_csv('/kaggle/input/contradictory-my-dear-watson/test.csv')\n",
    "train_data.shape, test_data.shape"
   ]
  },
  {
   "cell_type": "code",
   "execution_count": 4,
   "id": "bf167644",
   "metadata": {
    "execution": {
     "iopub.execute_input": "2023-06-29T02:35:13.622978Z",
     "iopub.status.busy": "2023-06-29T02:35:13.622152Z",
     "iopub.status.idle": "2023-06-29T02:35:13.642227Z",
     "shell.execute_reply": "2023-06-29T02:35:13.641738Z",
     "shell.execute_reply.started": "2023-05-23T10:45:13.631196Z"
    },
    "papermill": {
     "duration": 0.055132,
     "end_time": "2023-06-29T02:35:13.642352",
     "exception": false,
     "start_time": "2023-06-29T02:35:13.587220",
     "status": "completed"
    },
    "tags": []
   },
   "outputs": [
    {
     "data": {
      "text/html": [
       "<div>\n",
       "<style scoped>\n",
       "    .dataframe tbody tr th:only-of-type {\n",
       "        vertical-align: middle;\n",
       "    }\n",
       "\n",
       "    .dataframe tbody tr th {\n",
       "        vertical-align: top;\n",
       "    }\n",
       "\n",
       "    .dataframe thead th {\n",
       "        text-align: right;\n",
       "    }\n",
       "</style>\n",
       "<table border=\"1\" class=\"dataframe\">\n",
       "  <thead>\n",
       "    <tr style=\"text-align: right;\">\n",
       "      <th></th>\n",
       "      <th>id</th>\n",
       "      <th>premise</th>\n",
       "      <th>hypothesis</th>\n",
       "      <th>lang_abv</th>\n",
       "      <th>language</th>\n",
       "      <th>label</th>\n",
       "    </tr>\n",
       "  </thead>\n",
       "  <tbody>\n",
       "    <tr>\n",
       "      <th>0</th>\n",
       "      <td>5130fd2cb5</td>\n",
       "      <td>and these comments were considered in formulat...</td>\n",
       "      <td>The rules developed in the interim were put to...</td>\n",
       "      <td>en</td>\n",
       "      <td>English</td>\n",
       "      <td>0</td>\n",
       "    </tr>\n",
       "    <tr>\n",
       "      <th>1</th>\n",
       "      <td>5b72532a0b</td>\n",
       "      <td>These are issues that we wrestle with in pract...</td>\n",
       "      <td>Practice groups are not permitted to work on t...</td>\n",
       "      <td>en</td>\n",
       "      <td>English</td>\n",
       "      <td>2</td>\n",
       "    </tr>\n",
       "    <tr>\n",
       "      <th>2</th>\n",
       "      <td>3931fbe82a</td>\n",
       "      <td>Des petites choses comme celles-là font une di...</td>\n",
       "      <td>J'essayais d'accomplir quelque chose.</td>\n",
       "      <td>fr</td>\n",
       "      <td>French</td>\n",
       "      <td>0</td>\n",
       "    </tr>\n",
       "    <tr>\n",
       "      <th>3</th>\n",
       "      <td>5622f0c60b</td>\n",
       "      <td>you know they can't really defend themselves l...</td>\n",
       "      <td>They can't defend themselves because of their ...</td>\n",
       "      <td>en</td>\n",
       "      <td>English</td>\n",
       "      <td>0</td>\n",
       "    </tr>\n",
       "    <tr>\n",
       "      <th>4</th>\n",
       "      <td>86aaa48b45</td>\n",
       "      <td>ในการเล่นบทบาทสมมุติก็เช่นกัน โอกาสที่จะได้แสด...</td>\n",
       "      <td>เด็กสามารถเห็นได้ว่าชาติพันธุ์แตกต่างกันอย่างไร</td>\n",
       "      <td>th</td>\n",
       "      <td>Thai</td>\n",
       "      <td>1</td>\n",
       "    </tr>\n",
       "  </tbody>\n",
       "</table>\n",
       "</div>"
      ],
      "text/plain": [
       "           id                                            premise  \\\n",
       "0  5130fd2cb5  and these comments were considered in formulat...   \n",
       "1  5b72532a0b  These are issues that we wrestle with in pract...   \n",
       "2  3931fbe82a  Des petites choses comme celles-là font une di...   \n",
       "3  5622f0c60b  you know they can't really defend themselves l...   \n",
       "4  86aaa48b45  ในการเล่นบทบาทสมมุติก็เช่นกัน โอกาสที่จะได้แสด...   \n",
       "\n",
       "                                          hypothesis lang_abv language  label  \n",
       "0  The rules developed in the interim were put to...       en  English      0  \n",
       "1  Practice groups are not permitted to work on t...       en  English      2  \n",
       "2              J'essayais d'accomplir quelque chose.       fr   French      0  \n",
       "3  They can't defend themselves because of their ...       en  English      0  \n",
       "4    เด็กสามารถเห็นได้ว่าชาติพันธุ์แตกต่างกันอย่างไร       th     Thai      1  "
      ]
     },
     "execution_count": 4,
     "metadata": {},
     "output_type": "execute_result"
    }
   ],
   "source": [
    "train_data.head()"
   ]
  },
  {
   "cell_type": "code",
   "execution_count": 5,
   "id": "b380882d",
   "metadata": {
    "execution": {
     "iopub.execute_input": "2023-06-29T02:35:13.713304Z",
     "iopub.status.busy": "2023-06-29T02:35:13.712705Z",
     "iopub.status.idle": "2023-06-29T02:35:13.975719Z",
     "shell.execute_reply": "2023-06-29T02:35:13.976202Z",
     "shell.execute_reply.started": "2023-05-23T10:45:13.648503Z"
    },
    "papermill": {
     "duration": 0.305806,
     "end_time": "2023-06-29T02:35:13.976361",
     "exception": false,
     "start_time": "2023-06-29T02:35:13.670555",
     "status": "completed"
    },
    "tags": []
   },
   "outputs": [
    {
     "data": {
      "image/png": "[encoded data removed]",
      "text/plain": [
       "<Figure size 720x720 with 1 Axes>"
      ]
     },
     "metadata": {},
     "output_type": "display_data"
    }
   ],
   "source": [
    "labels, frequencies = np.unique(train_data.language.values, return_counts = True)\n",
    "\n",
    "plt.figure(figsize = (10,10))\n",
    "plt.pie(frequencies,labels = labels, autopct = '%1.1f%%')\n",
    "plt.show()"
   ]
  },
  {
   "cell_type": "code",
   "execution_count": 6,
   "id": "9c353043",
   "metadata": {
    "execution": {
     "iopub.execute_input": "2023-06-29T02:35:14.040974Z",
     "iopub.status.busy": "2023-06-29T02:35:14.040121Z",
     "iopub.status.idle": "2023-06-29T02:35:14.272754Z",
     "shell.execute_reply": "2023-06-29T02:35:14.272022Z",
     "shell.execute_reply.started": "2023-05-23T10:45:13.877591Z"
    },
    "papermill": {
     "duration": 0.265827,
     "end_time": "2023-06-29T02:35:14.272937",
     "exception": false,
     "start_time": "2023-06-29T02:35:14.007110",
     "status": "completed"
    },
    "tags": []
   },
   "outputs": [
    {
     "data": {
      "image/png": "[encoded data removed]",
      "text/plain": [
       "<Figure size 720x360 with 1 Axes>"
      ]
     },
     "metadata": {
      "needs_background": "light"
     },
     "output_type": "display_data"
    }
   ],
   "source": [
    "labels = train_data.label.value_counts()\n",
    "plt.figure(figsize = (10,5))\n",
    "labels.plot.bar()\n",
    "plt.title(\"Number of items in each category\")\n",
    "plt.ylabel(\"Number (item)\")\n",
    "plt.show()"
   ]
  },
  {
   "cell_type": "code",
   "execution_count": 7,
   "id": "fe08337e",
   "metadata": {
    "execution": {
     "iopub.execute_input": "2023-06-29T02:35:14.369137Z",
     "iopub.status.busy": "2023-06-29T02:35:14.359275Z",
     "iopub.status.idle": "2023-06-29T02:35:14.828338Z",
     "shell.execute_reply": "2023-06-29T02:35:14.827796Z",
     "shell.execute_reply.started": "2023-05-23T10:45:14.092593Z"
    },
    "papermill": {
     "duration": 0.524425,
     "end_time": "2023-06-29T02:35:14.828481",
     "exception": false,
     "start_time": "2023-06-29T02:35:14.304056",
     "status": "completed"
    },
    "tags": []
   },
   "outputs": [
    {
     "data": {
      "image/png": "[encoded data removed]",
      "text/plain": [
       "<Figure size 1080x432 with 1 Axes>"
      ]
     },
     "metadata": {
      "needs_background": "light"
     },
     "output_type": "display_data"
    }
   ],
   "source": [
    "## Comparing length of sentences in train_set\n",
    "hypo_len = train_data['hypothesis'].apply(len)\n",
    "prem_len = train_data['premise'].apply(len)\n",
    "\n",
    "plt.figure(figsize=(15,6))\n",
    "plt.hist(hypo_len, bins=50, label=\"hypothesis length in train set\", alpha=0.5)\n",
    "plt.hist(prem_len, bins=50, label=\"premise length in train set\", alpha=0.5)\n",
    "plt.title(\"Length Comparison\")\n",
    "plt.legend(loc='best')\n",
    "plt.show()"
   ]
  },
  {
   "cell_type": "code",
   "execution_count": 8,
   "id": "6671e6c0",
   "metadata": {
    "execution": {
     "iopub.execute_input": "2023-06-29T02:35:14.901010Z",
     "iopub.status.busy": "2023-06-29T02:35:14.895965Z",
     "iopub.status.idle": "2023-06-29T02:35:31.752928Z",
     "shell.execute_reply": "2023-06-29T02:35:31.752086Z",
     "shell.execute_reply.started": "2023-05-23T10:45:14.586608Z"
    },
    "papermill": {
     "duration": 16.89299,
     "end_time": "2023-06-29T02:35:31.753107",
     "exception": false,
     "start_time": "2023-06-29T02:35:14.860117",
     "status": "completed"
    },
    "tags": []
   },
   "outputs": [
    {
     "name": "stdout",
     "output_type": "stream",
     "text": [
      "Requirement already satisfied: transformers in /opt/conda/lib/python3.7/site-packages (4.5.1)\r\n",
      "Requirement already satisfied: sacremoses in /opt/conda/lib/python3.7/site-packages (from transformers) (0.0.45)\r\n",
      "Requirement already satisfied: tokenizers<0.11,>=0.10.1 in /opt/conda/lib/python3.7/site-packages (from transformers) (0.10.3)\r\n",
      "Requirement already satisfied: requests in /opt/conda/lib/python3.7/site-packages (from transformers) (2.25.1)\r\n",
      "Requirement already satisfied: importlib-metadata in /opt/conda/lib/python3.7/site-packages (from transformers) (3.4.0)\r\n",
      "Requirement already satisfied: filelock in /opt/conda/lib/python3.7/site-packages (from transformers) (3.0.12)\r\n",
      "Requirement already satisfied: packaging in /opt/conda/lib/python3.7/site-packages (from transformers) (21.0)\r\n",
      "Requirement already satisfied: numpy>=1.17 in /opt/conda/lib/python3.7/site-packages (from transformers) (1.19.5)\r\n",
      "Requirement already satisfied: regex!=2019.12.17 in /opt/conda/lib/python3.7/site-packages (from transformers) (2021.8.3)\r\n",
      "Requirement already satisfied: tqdm>=4.27 in /opt/conda/lib/python3.7/site-packages (from transformers) (4.62.1)\r\n",
      "Requirement already satisfied: typing-extensions>=3.6.4 in /opt/conda/lib/python3.7/site-packages (from importlib-metadata->transformers) (3.7.4.3)\r\n",
      "Requirement already satisfied: zipp>=0.5 in /opt/conda/lib/python3.7/site-packages (from importlib-metadata->transformers) (3.5.0)\r\n",
      "Requirement already satisfied: pyparsing>=2.0.2 in /opt/conda/lib/python3.7/site-packages (from packaging->transformers) (2.4.7)\r\n",
      "Requirement already satisfied: certifi>=2017.4.17 in /opt/conda/lib/python3.7/site-packages (from requests->transformers) (2021.5.30)\r\n",
      "Requirement already satisfied: idna<3,>=2.5 in /opt/conda/lib/python3.7/site-packages (from requests->transformers) (2.10)\r\n",
      "Requirement already satisfied: urllib3<1.27,>=1.21.1 in /opt/conda/lib/python3.7/site-packages (from requests->transformers) (1.26.6)\r\n",
      "Requirement already satisfied: chardet<5,>=3.0.2 in /opt/conda/lib/python3.7/site-packages (from requests->transformers) (4.0.0)\r\n",
      "Requirement already satisfied: six in /opt/conda/lib/python3.7/site-packages (from sacremoses->transformers) (1.15.0)\r\n",
      "Requirement already satisfied: joblib in /opt/conda/lib/python3.7/site-packages (from sacremoses->transformers) (1.0.1)\r\n",
      "Requirement already satisfied: click in /opt/conda/lib/python3.7/site-packages (from sacremoses->transformers) (8.0.1)\r\n",
      "\u001b[33mWARNING: Running pip as the 'root' user can result in broken permissions and conflicting behaviour with the system package manager. It is recommended to use a virtual environment instead: https://pip.pypa.io/warnings/venv\u001b[0m\r\n",
      "Requirement already satisfied: sentencepiece in /opt/conda/lib/python3.7/site-packages (0.1.96)\r\n",
      "\u001b[33mWARNING: Running pip as the 'root' user can result in broken permissions and conflicting behaviour with the system package manager. It is recommended to use a virtual environment instead: https://pip.pypa.io/warnings/venv\u001b[0m\r\n"
     ]
    }
   ],
   "source": [
    "!pip install transformers\n",
    "!pip install sentencepiece"
   ]
  },
  {
   "cell_type": "code",
   "execution_count": 9,
   "id": "c5d25b1e",
   "metadata": {
    "execution": {
     "iopub.execute_input": "2023-06-29T02:35:31.828746Z",
     "iopub.status.busy": "2023-06-29T02:35:31.827893Z",
     "iopub.status.idle": "2023-06-29T02:35:36.551745Z",
     "shell.execute_reply": "2023-06-29T02:35:36.552283Z",
     "shell.execute_reply.started": "2023-05-23T10:45:30.655986Z"
    },
    "papermill": {
     "duration": 4.764162,
     "end_time": "2023-06-29T02:35:36.552477",
     "exception": false,
     "start_time": "2023-06-29T02:35:31.788315",
     "status": "completed"
    },
    "tags": []
   },
   "outputs": [],
   "source": [
    "# TensorFlow\n",
    "import tensorflow as tf\n",
    "\n",
    "# SKLearn Library\n",
    "from sklearn.model_selection import train_test_split\n",
    "from sklearn.metrics import confusion_matrix\n",
    "from sklearn.metrics import classification_report"
   ]
  },
  {
   "cell_type": "code",
   "execution_count": 10,
   "id": "8e1ce5a5",
   "metadata": {
    "execution": {
     "iopub.execute_input": "2023-06-29T02:35:36.626247Z",
     "iopub.status.busy": "2023-06-29T02:35:36.625615Z",
     "iopub.status.idle": "2023-06-29T02:35:36.629068Z",
     "shell.execute_reply": "2023-06-29T02:35:36.628534Z",
     "shell.execute_reply.started": "2023-05-23T10:45:30.66381Z"
    },
    "papermill": {
     "duration": 0.041676,
     "end_time": "2023-06-29T02:35:36.629223",
     "exception": false,
     "start_time": "2023-06-29T02:35:36.587547",
     "status": "completed"
    },
    "tags": []
   },
   "outputs": [],
   "source": [
    "# Troncate Premises & Hypothesis sequences at max_len\n",
    "max_len=64\n",
    "\n",
    "# Loading Data Into TensorFlow Dataset\n",
    "AUTO = tf.data.experimental.AUTOTUNE\n",
    "batch_size = 16"
   ]
  },
  {
   "cell_type": "code",
   "execution_count": 11,
   "id": "d19fb8f2",
   "metadata": {
    "execution": {
     "iopub.execute_input": "2023-06-29T02:35:36.706645Z",
     "iopub.status.busy": "2023-06-29T02:35:36.706056Z",
     "iopub.status.idle": "2023-06-29T02:35:36.709957Z",
     "shell.execute_reply": "2023-06-29T02:35:36.709473Z",
     "shell.execute_reply.started": "2023-05-23T10:45:30.675972Z"
    },
    "papermill": {
     "duration": 0.046719,
     "end_time": "2023-06-29T02:35:36.710082",
     "exception": false,
     "start_time": "2023-06-29T02:35:36.663363",
     "status": "completed"
    },
    "tags": []
   },
   "outputs": [],
   "source": [
    "def troncate_sentence(sent, seq_len=max_len):\n",
    "    \"\"\"\" Return troncated sentence up to seq_len \"\"\"\n",
    "    try:\n",
    "        sent = sent.split()\n",
    "        sent = sent[:seq_len]\n",
    "        return \" \".join(sent)\n",
    "    except:\n",
    "        return sent\n",
    "\n",
    "def generate_tokens(df, tokenizer, seq_len=2*max_len):\n",
    "    \"\"\"\" Return list of token input_ids for a given dataframe\"\"\"\n",
    "    input_ids = []\n",
    "    input_masks = []\n",
    "    \n",
    "    for i, text in tqdm(enumerate(df.values.tolist()), total=len(df)):\n",
    "        tokenized_text = tokenizer.encode_plus(\n",
    "            text,\n",
    "            max_length=seq_len, \n",
    "            truncation=True, \n",
    "            padding='max_length', \n",
    "            add_special_tokens=True,\n",
    "            # return_tensors='tf'\n",
    "        )\n",
    "    \n",
    "        input_ids.append(tokenized_text['input_ids'])\n",
    "        input_masks.append(tokenized_text['attention_mask'])\n",
    "    return input_ids, input_masks\n",
    "\n",
    "def get_body_encoding(hypothesis, premises, tokenizer):\n",
    "    \"\"\"\" Return encoded body from hyp and prem  \"\"\"\n",
    "    body = hypothesis.apply(troncate_sentence) + \"[SEP]\" + premises.apply(troncate_sentence)\n",
    "    return generate_tokens(body, tokenizer)"
   ]
  },
  {
   "cell_type": "markdown",
   "id": "1d7ebb50",
   "metadata": {
    "papermill": {
     "duration": 0.034601,
     "end_time": "2023-06-29T02:35:36.778395",
     "exception": false,
     "start_time": "2023-06-29T02:35:36.743794",
     "status": "completed"
    },
    "tags": []
   },
   "source": [
    "## On applique une des variantes du modèle pré-entraîné multilingue `XLMRoberta` "
   ]
  },
  {
   "cell_type": "code",
   "execution_count": 12,
   "id": "895d7c87",
   "metadata": {
    "execution": {
     "iopub.execute_input": "2023-06-29T02:35:36.852352Z",
     "iopub.status.busy": "2023-06-29T02:35:36.851612Z",
     "iopub.status.idle": "2023-06-29T02:35:39.483950Z",
     "shell.execute_reply": "2023-06-29T02:35:39.483220Z",
     "shell.execute_reply.started": "2023-05-23T10:46:44.308209Z"
    },
    "papermill": {
     "duration": 2.671378,
     "end_time": "2023-06-29T02:35:39.484093",
     "exception": false,
     "start_time": "2023-06-29T02:35:36.812715",
     "status": "completed"
    },
    "tags": []
   },
   "outputs": [
    {
     "data": {
      "application/vnd.jupyter.widget-view+json": {
       "model_id": "5ae509cfa4c141bcaf0869dfdfb697e5",
       "version_major": 2,
       "version_minor": 0
      },
      "text/plain": [
       "Downloading:   0%|          | 0.00/5.07M [00:00<?, ?B/s]"
      ]
     },
     "metadata": {},
     "output_type": "display_data"
    }
   ],
   "source": [
    "# Transformer Model\n",
    "from transformers import XLMRobertaTokenizer, TFXLMRobertaModel\n",
    "\n",
    "# Transformer Model Name\n",
    "transformer_model = 'jplu/tf-xlm-roberta-large' \n",
    "# 'joeddav/xlm-roberta-large-xnli' --> Nowadays, this model is privates but gives better performance than used : 'jplu/tf-xlm-roberta-large' \n",
    "\n",
    "# Define Tokenizer\n",
    "tokenizer = XLMRobertaTokenizer.from_pretrained(transformer_model)"
   ]
  },
  {
   "cell_type": "code",
   "execution_count": 13,
   "id": "3ead5b2d",
   "metadata": {
    "execution": {
     "iopub.execute_input": "2023-06-29T02:35:39.557541Z",
     "iopub.status.busy": "2023-06-29T02:35:39.555288Z",
     "iopub.status.idle": "2023-06-29T02:35:39.559337Z",
     "shell.execute_reply": "2023-06-29T02:35:39.559797Z",
     "shell.execute_reply.started": "2023-05-23T10:46:54.423976Z"
    },
    "papermill": {
     "duration": 0.041101,
     "end_time": "2023-06-29T02:35:39.559952",
     "exception": false,
     "start_time": "2023-06-29T02:35:39.518851",
     "status": "completed"
    },
    "tags": []
   },
   "outputs": [],
   "source": [
    "# print(generate_tokens(pd.Series([\"The rules developed in the interim\"]), tokenizer=tokenizer))"
   ]
  },
  {
   "cell_type": "code",
   "execution_count": 14,
   "id": "f9f22758",
   "metadata": {
    "execution": {
     "iopub.execute_input": "2023-06-29T02:35:39.632974Z",
     "iopub.status.busy": "2023-06-29T02:35:39.632141Z",
     "iopub.status.idle": "2023-06-29T02:37:33.438198Z",
     "shell.execute_reply": "2023-06-29T02:37:33.437627Z",
     "shell.execute_reply.started": "2023-05-23T10:46:56.154048Z"
    },
    "papermill": {
     "duration": 113.843924,
     "end_time": "2023-06-29T02:37:33.438369",
     "exception": false,
     "start_time": "2023-06-29T02:35:39.594445",
     "status": "completed"
    },
    "tags": []
   },
   "outputs": [
    {
     "data": {
      "application/vnd.jupyter.widget-view+json": {
       "model_id": "cea37558f1404676b01fdacfd0beaf4c",
       "version_major": 2,
       "version_minor": 0
      },
      "text/plain": [
       "Downloading:   0%|          | 0.00/513 [00:00<?, ?B/s]"
      ]
     },
     "metadata": {},
     "output_type": "display_data"
    },
    {
     "data": {
      "application/vnd.jupyter.widget-view+json": {
       "model_id": "44f1d42ea8b248de994f34bd5e3f5c8d",
       "version_major": 2,
       "version_minor": 0
      },
      "text/plain": [
       "Downloading:   0%|          | 0.00/3.27G [00:00<?, ?B/s]"
      ]
     },
     "metadata": {},
     "output_type": "display_data"
    },
    {
     "name": "stderr",
     "output_type": "stream",
     "text": [
      "Some layers from the model checkpoint at jplu/tf-xlm-roberta-large were not used when initializing TFXLMRobertaModel: ['lm_head']\n",
      "- This IS expected if you are initializing TFXLMRobertaModel from the checkpoint of a model trained on another task or with another architecture (e.g. initializing a BertForSequenceClassification model from a BertForPreTraining model).\n",
      "- This IS NOT expected if you are initializing TFXLMRobertaModel from the checkpoint of a model that you expect to be exactly identical (initializing a BertForSequenceClassification model from a BertForSequenceClassification model).\n",
      "All the layers of TFXLMRobertaModel were initialized from the model checkpoint at jplu/tf-xlm-roberta-large.\n",
      "If your task is similar to the task the model of the checkpoint was trained on, you can already use TFXLMRobertaModel for predictions without further training.\n"
     ]
    }
   ],
   "source": [
    "#Pretrained Transformer Model\n",
    "transformer_encoder = TFXLMRobertaModel.from_pretrained(transformer_model)"
   ]
  },
  {
   "cell_type": "code",
   "execution_count": 15,
   "id": "0ac865e8",
   "metadata": {
    "execution": {
     "iopub.execute_input": "2023-06-29T02:37:33.520755Z",
     "iopub.status.busy": "2023-06-29T02:37:33.520163Z",
     "iopub.status.idle": "2023-06-29T02:37:33.523858Z",
     "shell.execute_reply": "2023-06-29T02:37:33.523378Z",
     "shell.execute_reply.started": "2023-05-23T10:49:20.795212Z"
    },
    "papermill": {
     "duration": 0.049229,
     "end_time": "2023-06-29T02:37:33.523997",
     "exception": false,
     "start_time": "2023-06-29T02:37:33.474768",
     "status": "completed"
    },
    "tags": []
   },
   "outputs": [],
   "source": [
    "# Build model function\n",
    "def build_model(transformer, final_len=2*max_len, learnin_rate=2e-6):\n",
    "    # Input\n",
    "    # input_layer = tf.keras.layers.Input(shape=(final_len,), dtype=tf.int32, name=\"input_layer\")\n",
    "    input_ids = tf.keras.layers.Input(shape=(final_len,), name='input_ids', dtype='int32')\n",
    "    input_masks = tf.keras.layers.Input(shape=(final_len,), name='attention_mask', dtype='int32')\n",
    "\n",
    "    # Sequence output\n",
    "    sequence_output = transformer(input_ids, attention_mask=input_masks)[0]\n",
    "    cls_token = sequence_output[:, 0, :]\n",
    "    cls_token = tf.keras.layers.Dropout(0.3)(cls_token)\n",
    "    cls_token = tf.keras.layers.Dense(64, activation='relu')(cls_token)\n",
    "    # Output Layers\n",
    "    output_layer = tf.keras.layers.Dense(3, activation='softmax')(cls_token)\n",
    "    # Model graph\n",
    "    model = tf.keras.models.Model(inputs=[input_ids, input_masks], outputs=output_layer)\n",
    "    # Compile model\n",
    "    model.compile(\n",
    "        optimizer=tf.keras.optimizers.Adam(learning_rate=learnin_rate), \n",
    "        loss=tf.keras.losses.SparseCategoricalCrossentropy(from_logits=False), \n",
    "        metrics=[tf.keras.metrics.SparseCategoricalAccuracy('accuracy')]\n",
    "    )\n",
    "    return model"
   ]
  },
  {
   "cell_type": "code",
   "execution_count": 16,
   "id": "96c7c8ec",
   "metadata": {
    "execution": {
     "iopub.execute_input": "2023-06-29T02:37:33.610604Z",
     "iopub.status.busy": "2023-06-29T02:37:33.605699Z",
     "iopub.status.idle": "2023-06-29T02:37:49.250545Z",
     "shell.execute_reply": "2023-06-29T02:37:49.249384Z",
     "shell.execute_reply.started": "2023-05-23T10:49:20.797415Z"
    },
    "papermill": {
     "duration": 15.690844,
     "end_time": "2023-06-29T02:37:49.250764",
     "exception": false,
     "start_time": "2023-06-29T02:37:33.559920",
     "status": "completed"
    },
    "tags": []
   },
   "outputs": [
    {
     "name": "stderr",
     "output_type": "stream",
     "text": [
      "100%|██████████| 10908/10908 [00:03<00:00, 3208.82it/s]\n",
      "100%|██████████| 1212/1212 [00:00<00:00, 3432.42it/s]\n"
     ]
    }
   ],
   "source": [
    "# Split into Training (90%) & Validation (10%)\n",
    "x_train, x_val, y_train, y_val = train_test_split(\n",
    "    train_data[['premise','hypothesis']], \n",
    "    train_data.label.values, \n",
    "    test_size=0.1,\n",
    "    random_state=42,\n",
    ")\n",
    "# Prepare inputs\n",
    "# Training set\n",
    "train_input_ids, train_attn_masks = get_body_encoding(\n",
    "    x_train['hypothesis'],\n",
    "    x_train['premise'],\n",
    "    tokenizer=tokenizer\n",
    ")\n",
    "train_ds = tf.data.Dataset.from_tensor_slices((train_input_ids, train_attn_masks, y_train)).repeat().shuffle(2048).batch(batch_size).prefetch(AUTO)\n",
    "# Validation set\n",
    "valid_input_ids, valid_attn_masks = get_body_encoding(\n",
    "    x_val['hypothesis'],\n",
    "    x_val['premise'],\n",
    "    tokenizer=tokenizer\n",
    ")\n",
    "val_ds = tf.data.Dataset.from_tensor_slices((valid_input_ids, valid_attn_masks, y_val)).batch(batch_size).prefetch(AUTO)"
   ]
  },
  {
   "cell_type": "code",
   "execution_count": 17,
   "id": "5fedc697",
   "metadata": {
    "execution": {
     "iopub.execute_input": "2023-06-29T02:37:49.357628Z",
     "iopub.status.busy": "2023-06-29T02:37:49.356815Z",
     "iopub.status.idle": "2023-06-29T02:37:49.440061Z",
     "shell.execute_reply": "2023-06-29T02:37:49.439491Z",
     "shell.execute_reply.started": "2023-05-23T10:49:20.799357Z"
    },
    "papermill": {
     "duration": 0.139121,
     "end_time": "2023-06-29T02:37:49.440202",
     "exception": false,
     "start_time": "2023-06-29T02:37:49.301081",
     "status": "completed"
    },
    "tags": []
   },
   "outputs": [],
   "source": [
    "def map_func(input_ids, masks, labels):\n",
    "    # we convert our three-items tuple into a two-item tuple where the input item is a dictionary\n",
    "    return {'input_ids': input_ids, 'attention_mask': masks}, labels\n",
    "\n",
    "# then we use the dataset map method to apply this transformation\n",
    "train_ds = train_ds.map(map_func)\n",
    "val_ds = val_ds.map(map_func)"
   ]
  },
  {
   "cell_type": "code",
   "execution_count": 18,
   "id": "ab85e337",
   "metadata": {
    "execution": {
     "iopub.execute_input": "2023-06-29T02:37:49.548399Z",
     "iopub.status.busy": "2023-06-29T02:37:49.547538Z",
     "iopub.status.idle": "2023-06-29T02:37:58.182724Z",
     "shell.execute_reply": "2023-06-29T02:37:58.181881Z",
     "shell.execute_reply.started": "2023-05-23T10:49:20.801174Z"
    },
    "papermill": {
     "duration": 8.693221,
     "end_time": "2023-06-29T02:37:58.182890",
     "exception": false,
     "start_time": "2023-06-29T02:37:49.489669",
     "status": "completed"
    },
    "tags": []
   },
   "outputs": [
    {
     "name": "stdout",
     "output_type": "stream",
     "text": [
      "Model: \"model\"\n",
      "__________________________________________________________________________________________________\n",
      "Layer (type)                    Output Shape         Param #     Connected to                     \n",
      "==================================================================================================\n",
      "input_ids (InputLayer)          [(None, 128)]        0                                            \n",
      "__________________________________________________________________________________________________\n",
      "attention_mask (InputLayer)     [(None, 128)]        0                                            \n",
      "__________________________________________________________________________________________________\n",
      "tfxlm_roberta_model (TFXLMRober TFBaseModelOutputWit 559890432   input_ids[0][0]                  \n",
      "                                                                 attention_mask[0][0]             \n",
      "__________________________________________________________________________________________________\n",
      "tf.__operators__.getitem (Slici (None, 1024)         0           tfxlm_roberta_model[0][0]        \n",
      "__________________________________________________________________________________________________\n",
      "dropout_73 (Dropout)            (None, 1024)         0           tf.__operators__.getitem[0][0]   \n",
      "__________________________________________________________________________________________________\n",
      "dense (Dense)                   (None, 64)           65600       dropout_73[0][0]                 \n",
      "__________________________________________________________________________________________________\n",
      "dense_1 (Dense)                 (None, 3)            195         dense[0][0]                      \n",
      "==================================================================================================\n",
      "Total params: 559,956,227\n",
      "Trainable params: 559,956,227\n",
      "Non-trainable params: 0\n",
      "__________________________________________________________________________________________________\n"
     ]
    }
   ],
   "source": [
    "# Application to xlm_roberta\n",
    "xlm_model = build_model(transformer = transformer_encoder)\n",
    "# Model Summary\n",
    "xlm_model.summary()"
   ]
  },
  {
   "cell_type": "code",
   "execution_count": 19,
   "id": "08ac4d9c",
   "metadata": {
    "execution": {
     "iopub.execute_input": "2023-06-29T02:37:58.287267Z",
     "iopub.status.busy": "2023-06-29T02:37:58.286505Z",
     "iopub.status.idle": "2023-06-29T02:37:59.405460Z",
     "shell.execute_reply": "2023-06-29T02:37:59.405944Z",
     "shell.execute_reply.started": "2023-05-23T10:49:20.803047Z"
    },
    "papermill": {
     "duration": 1.173622,
     "end_time": "2023-06-29T02:37:59.406107",
     "exception": false,
     "start_time": "2023-06-29T02:37:58.232485",
     "status": "completed"
    },
    "tags": []
   },
   "outputs": [
    {
     "data": {
      "image/png": "[encoded data removed]",
      "text/plain": [
       "<IPython.core.display.Image object>"
      ]
     },
     "execution_count": 19,
     "metadata": {},
     "output_type": "execute_result"
    }
   ],
   "source": [
    "tf.keras.utils.plot_model(xlm_model, show_shapes=True)"
   ]
  },
  {
   "cell_type": "code",
   "execution_count": 20,
   "id": "1ae258ad",
   "metadata": {
    "execution": {
     "iopub.execute_input": "2023-06-29T02:37:59.511827Z",
     "iopub.status.busy": "2023-06-29T02:37:59.510999Z",
     "iopub.status.idle": "2023-06-29T03:35:33.609688Z",
     "shell.execute_reply": "2023-06-29T03:35:33.610831Z",
     "shell.execute_reply.started": "2023-05-23T10:49:20.804915Z"
    },
    "papermill": {
     "duration": 3454.153757,
     "end_time": "2023-06-29T03:35:33.611210",
     "exception": false,
     "start_time": "2023-06-29T02:37:59.457453",
     "status": "completed"
    },
    "tags": []
   },
   "outputs": [
    {
     "name": "stdout",
     "output_type": "stream",
     "text": [
      "Epoch 1/10\n",
      "757/757 [==============================] - 716s 906ms/step - loss: 1.1448 - accuracy: 0.3439 - val_loss: 1.0976 - val_accuracy: 0.3210\n",
      "Epoch 2/10\n",
      "757/757 [==============================] - 680s 899ms/step - loss: 1.0046 - accuracy: 0.4677 - val_loss: 0.6591 - val_accuracy: 0.7236\n",
      "Epoch 3/10\n",
      "757/757 [==============================] - 681s 899ms/step - loss: 0.6639 - accuracy: 0.7301 - val_loss: 0.5516 - val_accuracy: 0.7822\n",
      "Epoch 4/10\n",
      "757/757 [==============================] - 682s 900ms/step - loss: 0.5086 - accuracy: 0.8032 - val_loss: 0.5402 - val_accuracy: 0.7937\n",
      "Epoch 5/10\n",
      "757/757 [==============================] - 681s 900ms/step - loss: 0.3973 - accuracy: 0.8523 - val_loss: 0.5918 - val_accuracy: 0.7888\n"
     ]
    }
   ],
   "source": [
    "# callbacks\n",
    "stop_early = tf.keras.callbacks.EarlyStopping(\n",
    "    monitor='val_loss', \n",
    "    patience=1,\n",
    "    restore_best_weights=True\n",
    ")\n",
    "\n",
    "# On-the-fly data augmentation\n",
    "n_steps = len(train_data) // batch_size \n",
    "\n",
    "# Train the Model\n",
    "hist_xlm = xlm_model.fit(\n",
    "    train_ds, \n",
    "    validation_data = val_ds,\n",
    "    epochs = 10,\n",
    "    steps_per_epoch = n_steps,\n",
    "    callbacks=[stop_early],\n",
    "#    batch_size = 32,\n",
    ")"
   ]
  },
  {
   "cell_type": "code",
   "execution_count": 21,
   "id": "5afdbf39",
   "metadata": {
    "execution": {
     "iopub.execute_input": "2023-06-29T03:35:36.138945Z",
     "iopub.status.busy": "2023-06-29T03:35:36.137280Z",
     "iopub.status.idle": "2023-06-29T03:35:36.594207Z",
     "shell.execute_reply": "2023-06-29T03:35:36.593694Z",
     "shell.execute_reply.started": "2023-05-23T10:49:20.807077Z"
    },
    "papermill": {
     "duration": 1.7204,
     "end_time": "2023-06-29T03:35:36.594347",
     "exception": false,
     "start_time": "2023-06-29T03:35:34.873947",
     "status": "completed"
    },
    "tags": []
   },
   "outputs": [
    {
     "data": {
      "image/png": "[encoded data removed]",
      "text/plain": [
       "<Figure size 432x288 with 1 Axes>"
      ]
     },
     "metadata": {
      "needs_background": "light"
     },
     "output_type": "display_data"
    },
    {
     "data": {
      "image/png": "[encoded data removed]",
      "text/plain": [
       "<Figure size 432x288 with 1 Axes>"
      ]
     },
     "metadata": {
      "needs_background": "light"
     },
     "output_type": "display_data"
    }
   ],
   "source": [
    "pd.DataFrame(hist_xlm.history).loc[:, [\"accuracy\", \"val_accuracy\"]].plot()\n",
    "pd.DataFrame(hist_xlm.history).loc[:, [\"loss\", \"val_loss\"]].plot()\n",
    "plt.show()"
   ]
  },
  {
   "cell_type": "code",
   "execution_count": 22,
   "id": "77e46bf6",
   "metadata": {
    "execution": {
     "iopub.execute_input": "2023-06-29T03:35:39.121248Z",
     "iopub.status.busy": "2023-06-29T03:35:39.120630Z",
     "iopub.status.idle": "2023-06-29T03:36:01.534361Z",
     "shell.execute_reply": "2023-06-29T03:36:01.533814Z",
     "shell.execute_reply.started": "2023-05-23T10:49:20.809018Z"
    },
    "papermill": {
     "duration": 23.682272,
     "end_time": "2023-06-29T03:36:01.534498",
     "exception": false,
     "start_time": "2023-06-29T03:35:37.852226",
     "status": "completed"
    },
    "tags": []
   },
   "outputs": [
    {
     "name": "stdout",
     "output_type": "stream",
     "text": [
      "76/76 [==============================] - 22s 294ms/step - loss: 0.5402 - accuracy: 0.7937\n"
     ]
    },
    {
     "data": {
      "text/plain": [
       "[0.5402087569236755, 0.7937293648719788]"
      ]
     },
     "execution_count": 22,
     "metadata": {},
     "output_type": "execute_result"
    }
   ],
   "source": [
    "# Evaluate on Validation Set\n",
    "xlm_model.evaluate(val_ds)"
   ]
  },
  {
   "cell_type": "code",
   "execution_count": 23,
   "id": "d2985c5d",
   "metadata": {
    "execution": {
     "iopub.execute_input": "2023-06-29T03:36:04.289891Z",
     "iopub.status.busy": "2023-06-29T03:36:04.289013Z",
     "iopub.status.idle": "2023-06-29T03:36:31.622255Z",
     "shell.execute_reply": "2023-06-29T03:36:31.621734Z",
     "shell.execute_reply.started": "2023-05-23T10:49:20.81101Z"
    },
    "papermill": {
     "duration": 28.670712,
     "end_time": "2023-06-29T03:36:31.622400",
     "exception": false,
     "start_time": "2023-06-29T03:36:02.951688",
     "status": "completed"
    },
    "tags": []
   },
   "outputs": [
    {
     "data": {
      "image/png": "[encoded data removed]",
      "text/plain": [
       "<Figure size 720x432 with 1 Axes>"
      ]
     },
     "metadata": {
      "needs_background": "light"
     },
     "output_type": "display_data"
    }
   ],
   "source": [
    "# Get predicted labels\n",
    "y_pred = xlm_model.predict(val_ds)\n",
    "y_pred = np.argmax(y_pred, axis=1)\n",
    "\n",
    "# Construction of cm\n",
    "cm = confusion_matrix(y_val, y_pred)\n",
    "# Plot\n",
    "plt.figure(figsize=(10,6))\n",
    "c = sns.heatmap(cm, annot=True, fmt='g', cbar=False)\n",
    "c.set_xlabel('Predicted')\n",
    "c.set_ylabel('Truth')\n",
    "plt.xticks(rotation=0)\n",
    "plt.yticks(rotation=0)\n",
    "plt.show()"
   ]
  },
  {
   "cell_type": "code",
   "execution_count": 24,
   "id": "e640f5aa",
   "metadata": {
    "execution": {
     "iopub.execute_input": "2023-06-29T03:36:34.231964Z",
     "iopub.status.busy": "2023-06-29T03:36:34.231033Z",
     "iopub.status.idle": "2023-06-29T03:36:34.248617Z",
     "shell.execute_reply": "2023-06-29T03:36:34.249113Z",
     "shell.execute_reply.started": "2023-05-23T10:49:20.81294Z"
    },
    "papermill": {
     "duration": 1.300193,
     "end_time": "2023-06-29T03:36:34.249266",
     "exception": false,
     "start_time": "2023-06-29T03:36:32.949073",
     "status": "completed"
    },
    "tags": []
   },
   "outputs": [
    {
     "data": {
      "text/html": [
       "<div>\n",
       "<style scoped>\n",
       "    .dataframe tbody tr th:only-of-type {\n",
       "        vertical-align: middle;\n",
       "    }\n",
       "\n",
       "    .dataframe tbody tr th {\n",
       "        vertical-align: top;\n",
       "    }\n",
       "\n",
       "    .dataframe thead th {\n",
       "        text-align: right;\n",
       "    }\n",
       "</style>\n",
       "<table border=\"1\" class=\"dataframe\">\n",
       "  <thead>\n",
       "    <tr style=\"text-align: right;\">\n",
       "      <th></th>\n",
       "      <th>precision</th>\n",
       "      <th>recall</th>\n",
       "      <th>f1-score</th>\n",
       "      <th>support</th>\n",
       "    </tr>\n",
       "  </thead>\n",
       "  <tbody>\n",
       "    <tr>\n",
       "      <th>0</th>\n",
       "      <td>0.772632</td>\n",
       "      <td>0.841743</td>\n",
       "      <td>0.805708</td>\n",
       "      <td>436.000000</td>\n",
       "    </tr>\n",
       "    <tr>\n",
       "      <th>1</th>\n",
       "      <td>0.789790</td>\n",
       "      <td>0.676093</td>\n",
       "      <td>0.728532</td>\n",
       "      <td>389.000000</td>\n",
       "    </tr>\n",
       "    <tr>\n",
       "      <th>2</th>\n",
       "      <td>0.821782</td>\n",
       "      <td>0.857881</td>\n",
       "      <td>0.839444</td>\n",
       "      <td>387.000000</td>\n",
       "    </tr>\n",
       "    <tr>\n",
       "      <th>accuracy</th>\n",
       "      <td>0.793729</td>\n",
       "      <td>0.793729</td>\n",
       "      <td>0.793729</td>\n",
       "      <td>0.793729</td>\n",
       "    </tr>\n",
       "    <tr>\n",
       "      <th>macro avg</th>\n",
       "      <td>0.794735</td>\n",
       "      <td>0.791906</td>\n",
       "      <td>0.791228</td>\n",
       "      <td>1212.000000</td>\n",
       "    </tr>\n",
       "    <tr>\n",
       "      <th>weighted avg</th>\n",
       "      <td>0.793833</td>\n",
       "      <td>0.793729</td>\n",
       "      <td>0.791710</td>\n",
       "      <td>1212.000000</td>\n",
       "    </tr>\n",
       "  </tbody>\n",
       "</table>\n",
       "</div>"
      ],
      "text/plain": [
       "              precision    recall  f1-score      support\n",
       "0              0.772632  0.841743  0.805708   436.000000\n",
       "1              0.789790  0.676093  0.728532   389.000000\n",
       "2              0.821782  0.857881  0.839444   387.000000\n",
       "accuracy       0.793729  0.793729  0.793729     0.793729\n",
       "macro avg      0.794735  0.791906  0.791228  1212.000000\n",
       "weighted avg   0.793833  0.793729  0.791710  1212.000000"
      ]
     },
     "execution_count": 24,
     "metadata": {},
     "output_type": "execute_result"
    }
   ],
   "source": [
    "pd.DataFrame(classification_report(\n",
    "    y_val,\n",
    "    y_pred,\n",
    "    output_dict=True,\n",
    "    zero_division=0\n",
    ")).T"
   ]
  },
  {
   "cell_type": "markdown",
   "id": "0f87dc5f",
   "metadata": {
    "papermill": {
     "duration": 1.281077,
     "end_time": "2023-06-29T03:36:36.809105",
     "exception": false,
     "start_time": "2023-06-29T03:36:35.528028",
     "status": "completed"
    },
    "tags": []
   },
   "source": [
    "# Submission"
   ]
  },
  {
   "cell_type": "code",
   "execution_count": 25,
   "id": "0515b77c",
   "metadata": {
    "execution": {
     "iopub.execute_input": "2023-06-29T03:36:39.418519Z",
     "iopub.status.busy": "2023-06-29T03:36:39.417598Z",
     "iopub.status.idle": "2023-06-29T03:36:39.419574Z",
     "shell.execute_reply": "2023-06-29T03:36:39.420133Z",
     "shell.execute_reply.started": "2023-05-23T10:45:31.389045Z"
    },
    "papermill": {
     "duration": 1.330214,
     "end_time": "2023-06-29T03:36:39.420286",
     "exception": false,
     "start_time": "2023-06-29T03:36:38.090072",
     "status": "completed"
    },
    "tags": []
   },
   "outputs": [],
   "source": [
    "# del test_ds\n",
    "def map_func_test(input_ids, masks):\n",
    "    # we convert our two-items tuple into a two-item tuple where the input item is a dictionary\n",
    "    return {'input_ids': input_ids, 'attention_mask': masks}"
   ]
  },
  {
   "cell_type": "code",
   "execution_count": 26,
   "id": "75178ba5",
   "metadata": {
    "execution": {
     "iopub.execute_input": "2023-06-29T03:36:42.020728Z",
     "iopub.status.busy": "2023-06-29T03:36:41.993844Z",
     "iopub.status.idle": "2023-06-29T03:36:48.481119Z",
     "shell.execute_reply": "2023-06-29T03:36:48.480547Z",
     "shell.execute_reply.started": "2023-05-23T10:45:31.390936Z"
    },
    "papermill": {
     "duration": 7.781024,
     "end_time": "2023-06-29T03:36:48.481275",
     "exception": false,
     "start_time": "2023-06-29T03:36:40.700251",
     "status": "completed"
    },
    "tags": []
   },
   "outputs": [
    {
     "name": "stderr",
     "output_type": "stream",
     "text": [
      "100%|██████████| 5195/5195 [00:01<00:00, 3330.56it/s]\n"
     ]
    }
   ],
   "source": [
    "test_input_ids, test_attn_masks = get_body_encoding(\n",
    "    test_data['hypothesis'],\n",
    "    test_data['premise'],\n",
    "    tokenizer=tokenizer\n",
    ")\n",
    "test_ds = tf.data.Dataset.from_tensor_slices((test_input_ids, test_attn_masks)).batch(batch_size).prefetch(AUTO)\n",
    "test_ds = test_ds.map(map_func_test)\n",
    "#test_ds = (tf.data.Dataset.from_tensor_slices((test_encode)).batch(batch_size).prefetch(AUTO))"
   ]
  },
  {
   "cell_type": "code",
   "execution_count": 27,
   "id": "c8dd403a",
   "metadata": {
    "execution": {
     "iopub.execute_input": "2023-06-29T03:36:51.106673Z",
     "iopub.status.busy": "2023-06-29T03:36:51.105787Z",
     "iopub.status.idle": "2023-06-29T03:38:30.374439Z",
     "shell.execute_reply": "2023-06-29T03:38:30.374960Z",
     "shell.execute_reply.started": "2023-05-23T10:45:31.392816Z"
    },
    "papermill": {
     "duration": 100.559266,
     "end_time": "2023-06-29T03:38:30.375155",
     "exception": false,
     "start_time": "2023-06-29T03:36:49.815889",
     "status": "completed"
    },
    "tags": []
   },
   "outputs": [],
   "source": [
    "submissions = xlm_model.predict(test_ds, verbose=0)\n",
    "y_subm = np.argmax(submissions, axis=1)"
   ]
  },
  {
   "cell_type": "markdown",
   "id": "1d0016ee",
   "metadata": {
    "papermill": {
     "duration": 1.34383,
     "end_time": "2023-06-29T03:38:33.018375",
     "exception": false,
     "start_time": "2023-06-29T03:38:31.674545",
     "status": "completed"
    },
    "tags": []
   },
   "source": [
    "    0 == entailment                        \n",
    "    1 == neutral                                  \n",
    "    2 == contradiction"
   ]
  },
  {
   "cell_type": "code",
   "execution_count": 28,
   "id": "01496090",
   "metadata": {
    "execution": {
     "iopub.execute_input": "2023-06-29T03:38:36.087119Z",
     "iopub.status.busy": "2023-06-29T03:38:36.086273Z",
     "iopub.status.idle": "2023-06-29T03:38:36.120982Z",
     "shell.execute_reply": "2023-06-29T03:38:36.121730Z",
     "shell.execute_reply.started": "2023-05-23T10:45:31.394692Z"
    },
    "papermill": {
     "duration": 1.771412,
     "end_time": "2023-06-29T03:38:36.121911",
     "exception": false,
     "start_time": "2023-06-29T03:38:34.350499",
     "status": "completed"
    },
    "tags": []
   },
   "outputs": [
    {
     "data": {
      "text/html": [
       "<div>\n",
       "<style scoped>\n",
       "    .dataframe tbody tr th:only-of-type {\n",
       "        vertical-align: middle;\n",
       "    }\n",
       "\n",
       "    .dataframe tbody tr th {\n",
       "        vertical-align: top;\n",
       "    }\n",
       "\n",
       "    .dataframe thead th {\n",
       "        text-align: right;\n",
       "    }\n",
       "</style>\n",
       "<table border=\"1\" class=\"dataframe\">\n",
       "  <thead>\n",
       "    <tr style=\"text-align: right;\">\n",
       "      <th></th>\n",
       "      <th>id</th>\n",
       "      <th>prediction</th>\n",
       "    </tr>\n",
       "  </thead>\n",
       "  <tbody>\n",
       "    <tr>\n",
       "      <th>0</th>\n",
       "      <td>c6d58c3f69</td>\n",
       "      <td>2</td>\n",
       "    </tr>\n",
       "    <tr>\n",
       "      <th>1</th>\n",
       "      <td>cefcc82292</td>\n",
       "      <td>2</td>\n",
       "    </tr>\n",
       "    <tr>\n",
       "      <th>2</th>\n",
       "      <td>e98005252c</td>\n",
       "      <td>0</td>\n",
       "    </tr>\n",
       "    <tr>\n",
       "      <th>3</th>\n",
       "      <td>58518c10ba</td>\n",
       "      <td>1</td>\n",
       "    </tr>\n",
       "    <tr>\n",
       "      <th>4</th>\n",
       "      <td>c32b0d16df</td>\n",
       "      <td>0</td>\n",
       "    </tr>\n",
       "    <tr>\n",
       "      <th>...</th>\n",
       "      <td>...</td>\n",
       "      <td>...</td>\n",
       "    </tr>\n",
       "    <tr>\n",
       "      <th>5190</th>\n",
       "      <td>5f90dd59b0</td>\n",
       "      <td>1</td>\n",
       "    </tr>\n",
       "    <tr>\n",
       "      <th>5191</th>\n",
       "      <td>f357a04e86</td>\n",
       "      <td>2</td>\n",
       "    </tr>\n",
       "    <tr>\n",
       "      <th>5192</th>\n",
       "      <td>1f0ea92118</td>\n",
       "      <td>0</td>\n",
       "    </tr>\n",
       "    <tr>\n",
       "      <th>5193</th>\n",
       "      <td>0407b48afb</td>\n",
       "      <td>0</td>\n",
       "    </tr>\n",
       "    <tr>\n",
       "      <th>5194</th>\n",
       "      <td>16c2f2ab89</td>\n",
       "      <td>2</td>\n",
       "    </tr>\n",
       "  </tbody>\n",
       "</table>\n",
       "<p>5195 rows × 2 columns</p>\n",
       "</div>"
      ],
      "text/plain": [
       "              id  prediction\n",
       "0     c6d58c3f69           2\n",
       "1     cefcc82292           2\n",
       "2     e98005252c           0\n",
       "3     58518c10ba           1\n",
       "4     c32b0d16df           0\n",
       "...          ...         ...\n",
       "5190  5f90dd59b0           1\n",
       "5191  f357a04e86           2\n",
       "5192  1f0ea92118           0\n",
       "5193  0407b48afb           0\n",
       "5194  16c2f2ab89           2\n",
       "\n",
       "[5195 rows x 2 columns]"
      ]
     },
     "execution_count": 28,
     "metadata": {},
     "output_type": "execute_result"
    }
   ],
   "source": [
    "# Submission \n",
    "sample_subm = pd.read_csv('/kaggle/input/contradictory-my-dear-watson/sample_submission.csv')\n",
    "sample_subm['prediction'] = y_subm\n",
    "sample_subm"
   ]
  },
  {
   "cell_type": "code",
   "execution_count": 29,
   "id": "77c6c721",
   "metadata": {
    "execution": {
     "iopub.execute_input": "2023-06-29T03:38:38.807192Z",
     "iopub.status.busy": "2023-06-29T03:38:38.806266Z",
     "iopub.status.idle": "2023-06-29T03:38:38.822414Z",
     "shell.execute_reply": "2023-06-29T03:38:38.821861Z",
     "shell.execute_reply.started": "2023-05-23T10:45:31.396589Z"
    },
    "papermill": {
     "duration": 1.403208,
     "end_time": "2023-06-29T03:38:38.822543",
     "exception": false,
     "start_time": "2023-06-29T03:38:37.419335",
     "status": "completed"
    },
    "tags": []
   },
   "outputs": [],
   "source": [
    "sample_subm.to_csv(\"submission.csv\", index=False)"
   ]
  },
  {
   "cell_type": "code",
   "execution_count": null,
   "id": "8103b1e2",
   "metadata": {
    "papermill": {
     "duration": 1.295195,
     "end_time": "2023-06-29T03:38:41.420457",
     "exception": false,
     "start_time": "2023-06-29T03:38:40.125262",
     "status": "completed"
    },
    "tags": []
   },
   "outputs": [],
   "source": []
  }
 ],
 "metadata": {
  "kernelspec": {
   "display_name": "Python 3",
   "language": "python",
   "name": "python3"
  },
  "language_info": {
   "codemirror_mode": {
    "name": "ipython",
    "version": 3
   },
   "file_extension": ".py",
   "mimetype": "text/x-python",
   "name": "python",
   "nbconvert_exporter": "python",
   "pygments_lexer": "ipython3",
   "version": "3.7.10"
  },
  "papermill": {
   "default_parameters": {},
   "duration": 3822.925118,
   "end_time": "2023-06-29T03:38:46.460455",
   "environment_variables": {},
   "exception": null,
   "input_path": "__notebook__.ipynb",
   "output_path": "__notebook__.ipynb",
   "parameters": {},
   "start_time": "2023-06-29T02:35:03.535337",
   "version": "2.3.3"
  },
  "widgets": {
   "application/vnd.jupyter.widget-state+json": {
    "state": {
     "00a8ee17115f45898788caf4242f4f33": {
      "model_module": "@jupyter-widgets/controls",
      "model_module_version": "1.5.0",
      "model_name": "DescriptionStyleModel",
      "state": {
       "_model_module": "@jupyter-widgets/controls",
       "_model_module_version": "1.5.0",
       "_model_name": "DescriptionStyleModel",
       "_view_count": null,
       "_view_module": "@jupyter-widgets/base",
       "_view_module_version": "1.2.0",
       "_view_name": "StyleView",
       "description_width": ""
      }
     },
     "051dcb9dda0a4a3ebcc9ca05250c0351": {
      "model_module": "@jupyter-widgets/base",
      "model_module_version": "1.2.0",
      "model_name": "LayoutModel",
      "state": {
       "_model_module": "@jupyter-widgets/base",
       "_model_module_version": "1.2.0",
       "_model_name": "LayoutModel",
       "_view_count": null,
       "_view_module": "@jupyter-widgets/base",
       "_view_module_version": "1.2.0",
       "_view_name": "LayoutView",
       "align_content": null,
       "align_items": null,
       "align_self": null,
       "border": null,
       "bottom": null,
       "display": null,
       "flex": null,
       "flex_flow": null,
       "grid_area": null,
       "grid_auto_columns": null,
       "grid_auto_flow": null,
       "grid_auto_rows": null,
       "grid_column": null,
       "grid_gap": null,
       "grid_row": null,
       "grid_template_areas": null,
       "grid_template_columns": null,
       "grid_template_rows": null,
       "height": null,
       "justify_content": null,
       "justify_items": null,
       "left": null,
       "margin": null,
       "max_height": null,
       "max_width": null,
       "min_height": null,
       "min_width": null,
       "object_fit": null,
       "object_position": null,
       "order": null,
       "overflow": null,
       "overflow_x": null,
       "overflow_y": null,
       "padding": null,
       "right": null,
       "top": null,
       "visibility": null,
       "width": null
      }
     },
     "0f5f80492b7242cb982439cc34ac2c46": {
      "model_module": "@jupyter-widgets/base",
      "model_module_version": "1.2.0",
      "model_name": "LayoutModel",
      "state": {
       "_model_module": "@jupyter-widgets/base",
       "_model_module_version": "1.2.0",
       "_model_name": "LayoutModel",
       "_view_count": null,
       "_view_module": "@jupyter-widgets/base",
       "_view_module_version": "1.2.0",
       "_view_name": "LayoutView",
       "align_content": null,
       "align_items": null,
       "align_self": null,
       "border": null,
       "bottom": null,
       "display": null,
       "flex": null,
       "flex_flow": null,
       "grid_area": null,
       "grid_auto_columns": null,
       "grid_auto_flow": null,
       "grid_auto_rows": null,
       "grid_column": null,
       "grid_gap": null,
       "grid_row": null,
       "grid_template_areas": null,
       "grid_template_columns": null,
       "grid_template_rows": null,
       "height": null,
       "justify_content": null,
       "justify_items": null,
       "left": null,
       "margin": null,
       "max_height": null,
       "max_width": null,
       "min_height": null,
       "min_width": null,
       "object_fit": null,
       "object_position": null,
       "order": null,
       "overflow": null,
       "overflow_x": null,
       "overflow_y": null,
       "padding": null,
       "right": null,
       "top": null,
       "visibility": null,
       "width": null
      }
     },
     "14ce65a5a4084b07925f9035cc28baeb": {
      "model_module": "@jupyter-widgets/controls",
      "model_module_version": "1.5.0",
      "model_name": "HTMLModel",
      "state": {
       "_dom_classes": [],
       "_model_module": "@jupyter-widgets/controls",
       "_model_module_version": "1.5.0",
       "_model_name": "HTMLModel",
       "_view_count": null,
       "_view_module": "@jupyter-widgets/controls",
       "_view_module_version": "1.5.0",
       "_view_name": "HTMLView",
       "description": "",
       "description_tooltip": null,
       "layout": "IPY_MODEL_ebb58aec7ba84a5fa9fadfb48916742c",
       "placeholder": "​",
       "style": "IPY_MODEL_00a8ee17115f45898788caf4242f4f33",
       "value": " 513/513 [00:00&lt;00:00, 10.7kB/s]"
      }
     },
     "1ba438e4e8e54173bb379384fa7fbe6e": {
      "model_module": "@jupyter-widgets/base",
      "model_module_version": "1.2.0",
      "model_name": "LayoutModel",
      "state": {
       "_model_module": "@jupyter-widgets/base",
       "_model_module_version": "1.2.0",
       "_model_name": "LayoutModel",
       "_view_count": null,
       "_view_module": "@jupyter-widgets/base",
       "_view_module_version": "1.2.0",
       "_view_name": "LayoutView",
       "align_content": null,
       "align_items": null,
       "align_self": null,
       "border": null,
       "bottom": null,
       "display": null,
       "flex": null,
       "flex_flow": null,
       "grid_area": null,
       "grid_auto_columns": null,
       "grid_auto_flow": null,
       "grid_auto_rows": null,
       "grid_column": null,
       "grid_gap": null,
       "grid_row": null,
       "grid_template_areas": null,
       "grid_template_columns": null,
       "grid_template_rows": null,
       "height": null,
       "justify_content": null,
       "justify_items": null,
       "left": null,
       "margin": null,
       "max_height": null,
       "max_width": null,
       "min_height": null,
       "min_width": null,
       "object_fit": null,
       "object_position": null,
       "order": null,
       "overflow": null,
       "overflow_x": null,
       "overflow_y": null,
       "padding": null,
       "right": null,
       "top": null,
       "visibility": null,
       "width": null
      }
     },
     "2a7de755dacf47c7bf68d5663d213dfd": {
      "model_module": "@jupyter-widgets/controls",
      "model_module_version": "1.5.0",
      "model_name": "ProgressStyleModel",
      "state": {
       "_model_module": "@jupyter-widgets/controls",
       "_model_module_version": "1.5.0",
       "_model_name": "ProgressStyleModel",
       "_view_count": null,
       "_view_module": "@jupyter-widgets/base",
       "_view_module_version": "1.2.0",
       "_view_name": "StyleView",
       "bar_color": null,
       "description_width": ""
      }
     },
     "394a0c0294f64b43aa892e45e2f63c18": {
      "model_module": "@jupyter-widgets/controls",
      "model_module_version": "1.5.0",
      "model_name": "DescriptionStyleModel",
      "state": {
       "_model_module": "@jupyter-widgets/controls",
       "_model_module_version": "1.5.0",
       "_model_name": "DescriptionStyleModel",
       "_view_count": null,
       "_view_module": "@jupyter-widgets/base",
       "_view_module_version": "1.2.0",
       "_view_name": "StyleView",
       "description_width": ""
      }
     },
     "44f1d42ea8b248de994f34bd5e3f5c8d": {
      "model_module": "@jupyter-widgets/controls",
      "model_module_version": "1.5.0",
      "model_name": "HBoxModel",
      "state": {
       "_dom_classes": [],
       "_model_module": "@jupyter-widgets/controls",
       "_model_module_version": "1.5.0",
       "_model_name": "HBoxModel",
       "_view_count": null,
       "_view_module": "@jupyter-widgets/controls",
       "_view_module_version": "1.5.0",
       "_view_name": "HBoxView",
       "box_style": "",
       "children": [
        "IPY_MODEL_d0c4fbf0105643368a9c87835c1cbe33",
        "IPY_MODEL_fdb1fdf2e5fc4badb9ca4ba52285cfb2",
        "IPY_MODEL_d90d954b0650440b898353e464881626"
       ],
       "layout": "IPY_MODEL_051dcb9dda0a4a3ebcc9ca05250c0351"
      }
     },
     "51e291cc641e48c39d338e828efdb9c6": {
      "model_module": "@jupyter-widgets/controls",
      "model_module_version": "1.5.0",
      "model_name": "ProgressStyleModel",
      "state": {
       "_model_module": "@jupyter-widgets/controls",
       "_model_module_version": "1.5.0",
       "_model_name": "ProgressStyleModel",
       "_view_count": null,
       "_view_module": "@jupyter-widgets/base",
       "_view_module_version": "1.2.0",
       "_view_name": "StyleView",
       "bar_color": null,
       "description_width": ""
      }
     },
     "5ae509cfa4c141bcaf0869dfdfb697e5": {
      "model_module": "@jupyter-widgets/controls",
      "model_module_version": "1.5.0",
      "model_name": "HBoxModel",
      "state": {
       "_dom_classes": [],
       "_model_module": "@jupyter-widgets/controls",
       "_model_module_version": "1.5.0",
       "_model_name": "HBoxModel",
       "_view_count": null,
       "_view_module": "@jupyter-widgets/controls",
       "_view_module_version": "1.5.0",
       "_view_name": "HBoxView",
       "box_style": "",
       "children": [
        "IPY_MODEL_a3c7caa4fba443d5b093724fc02d75ac",
        "IPY_MODEL_bf9fd59345b9449983012a3983b052b6",
        "IPY_MODEL_d2cc2c1a4ec9476aa4f9fd7564fcab11"
       ],
       "layout": "IPY_MODEL_1ba438e4e8e54173bb379384fa7fbe6e"
      }
     },
     "5d1803a4c84041afa408e80ce8558653": {
      "model_module": "@jupyter-widgets/controls",
      "model_module_version": "1.5.0",
      "model_name": "ProgressStyleModel",
      "state": {
       "_model_module": "@jupyter-widgets/controls",
       "_model_module_version": "1.5.0",
       "_model_name": "ProgressStyleModel",
       "_view_count": null,
       "_view_module": "@jupyter-widgets/base",
       "_view_module_version": "1.2.0",
       "_view_name": "StyleView",
       "bar_color": null,
       "description_width": ""
      }
     },
     "7e7eeaf0849c4937baf3237d28ccbabc": {
      "model_module": "@jupyter-widgets/base",
      "model_module_version": "1.2.0",
      "model_name": "LayoutModel",
      "state": {
       "_model_module": "@jupyter-widgets/base",
       "_model_module_version": "1.2.0",
       "_model_name": "LayoutModel",
       "_view_count": null,
       "_view_module": "@jupyter-widgets/base",
       "_view_module_version": "1.2.0",
       "_view_name": "LayoutView",
       "align_content": null,
       "align_items": null,
       "align_self": null,
       "border": null,
       "bottom": null,
       "display": null,
       "flex": null,
       "flex_flow": null,
       "grid_area": null,
       "grid_auto_columns": null,
       "grid_auto_flow": null,
       "grid_auto_rows": null,
       "grid_column": null,
       "grid_gap": null,
       "grid_row": null,
       "grid_template_areas": null,
       "grid_template_columns": null,
       "grid_template_rows": null,
       "height": null,
       "justify_content": null,
       "justify_items": null,
       "left": null,
       "margin": null,
       "max_height": null,
       "max_width": null,
       "min_height": null,
       "min_width": null,
       "object_fit": null,
       "object_position": null,
       "order": null,
       "overflow": null,
       "overflow_x": null,
       "overflow_y": null,
       "padding": null,
       "right": null,
       "top": null,
       "visibility": null,
       "width": null
      }
     },
     "8bacde4c37e545d485f9a526da0ba71a": {
      "model_module": "@jupyter-widgets/controls",
      "model_module_version": "1.5.0",
      "model_name": "HTMLModel",
      "state": {
       "_dom_classes": [],
       "_model_module": "@jupyter-widgets/controls",
       "_model_module_version": "1.5.0",
       "_model_name": "HTMLModel",
       "_view_count": null,
       "_view_module": "@jupyter-widgets/controls",
       "_view_module_version": "1.5.0",
       "_view_name": "HTMLView",
       "description": "",
       "description_tooltip": null,
       "layout": "IPY_MODEL_ce63c97ac1874f0e9bc502b429466481",
       "placeholder": "​",
       "style": "IPY_MODEL_cf89bf285ddf49d29860fdc8351f4cd0",
       "value": "Downloading: 100%"
      }
     },
     "9faa386a2e4e457895dd58fa88998710": {
      "model_module": "@jupyter-widgets/base",
      "model_module_version": "1.2.0",
      "model_name": "LayoutModel",
      "state": {
       "_model_module": "@jupyter-widgets/base",
       "_model_module_version": "1.2.0",
       "_model_name": "LayoutModel",
       "_view_count": null,
       "_view_module": "@jupyter-widgets/base",
       "_view_module_version": "1.2.0",
       "_view_name": "LayoutView",
       "align_content": null,
       "align_items": null,
       "align_self": null,
       "border": null,
       "bottom": null,
       "display": null,
       "flex": null,
       "flex_flow": null,
       "grid_area": null,
       "grid_auto_columns": null,
       "grid_auto_flow": null,
       "grid_auto_rows": null,
       "grid_column": null,
       "grid_gap": null,
       "grid_row": null,
       "grid_template_areas": null,
       "grid_template_columns": null,
       "grid_template_rows": null,
       "height": null,
       "justify_content": null,
       "justify_items": null,
       "left": null,
       "margin": null,
       "max_height": null,
       "max_width": null,
       "min_height": null,
       "min_width": null,
       "object_fit": null,
       "object_position": null,
       "order": null,
       "overflow": null,
       "overflow_x": null,
       "overflow_y": null,
       "padding": null,
       "right": null,
       "top": null,
       "visibility": null,
       "width": null
      }
     },
     "9fde0f48e152413f95abee4cd964e651": {
      "model_module": "@jupyter-widgets/base",
      "model_module_version": "1.2.0",
      "model_name": "LayoutModel",
      "state": {
       "_model_module": "@jupyter-widgets/base",
       "_model_module_version": "1.2.0",
       "_model_name": "LayoutModel",
       "_view_count": null,
       "_view_module": "@jupyter-widgets/base",
       "_view_module_version": "1.2.0",
       "_view_name": "LayoutView",
       "align_content": null,
       "align_items": null,
       "align_self": null,
       "border": null,
       "bottom": null,
       "display": null,
       "flex": null,
       "flex_flow": null,
       "grid_area": null,
       "grid_auto_columns": null,
       "grid_auto_flow": null,
       "grid_auto_rows": null,
       "grid_column": null,
       "grid_gap": null,
       "grid_row": null,
       "grid_template_areas": null,
       "grid_template_columns": null,
       "grid_template_rows": null,
       "height": null,
       "justify_content": null,
       "justify_items": null,
       "left": null,
       "margin": null,
       "max_height": null,
       "max_width": null,
       "min_height": null,
       "min_width": null,
       "object_fit": null,
       "object_position": null,
       "order": null,
       "overflow": null,
       "overflow_x": null,
       "overflow_y": null,
       "padding": null,
       "right": null,
       "top": null,
       "visibility": null,
       "width": null
      }
     },
     "a1420274ac214bea8842d7d8a4509f4a": {
      "model_module": "@jupyter-widgets/base",
      "model_module_version": "1.2.0",
      "model_name": "LayoutModel",
      "state": {
       "_model_module": "@jupyter-widgets/base",
       "_model_module_version": "1.2.0",
       "_model_name": "LayoutModel",
       "_view_count": null,
       "_view_module": "@jupyter-widgets/base",
       "_view_module_version": "1.2.0",
       "_view_name": "LayoutView",
       "align_content": null,
       "align_items": null,
       "align_self": null,
       "border": null,
       "bottom": null,
       "display": null,
       "flex": null,
       "flex_flow": null,
       "grid_area": null,
       "grid_auto_columns": null,
       "grid_auto_flow": null,
       "grid_auto_rows": null,
       "grid_column": null,
       "grid_gap": null,
       "grid_row": null,
       "grid_template_areas": null,
       "grid_template_columns": null,
       "grid_template_rows": null,
       "height": null,
       "justify_content": null,
       "justify_items": null,
       "left": null,
       "margin": null,
       "max_height": null,
       "max_width": null,
       "min_height": null,
       "min_width": null,
       "object_fit": null,
       "object_position": null,
       "order": null,
       "overflow": null,
       "overflow_x": null,
       "overflow_y": null,
       "padding": null,
       "right": null,
       "top": null,
       "visibility": null,
       "width": null
      }
     },
     "a3c7caa4fba443d5b093724fc02d75ac": {
      "model_module": "@jupyter-widgets/controls",
      "model_module_version": "1.5.0",
      "model_name": "HTMLModel",
      "state": {
       "_dom_classes": [],
       "_model_module": "@jupyter-widgets/controls",
       "_model_module_version": "1.5.0",
       "_model_name": "HTMLModel",
       "_view_count": null,
       "_view_module": "@jupyter-widgets/controls",
       "_view_module_version": "1.5.0",
       "_view_name": "HTMLView",
       "description": "",
       "description_tooltip": null,
       "layout": "IPY_MODEL_f636ff8a97f64063aa6c490fb2809a01",
       "placeholder": "​",
       "style": "IPY_MODEL_e7ff8d66ad2542edb2687ede950f2755",
       "value": "Downloading: 100%"
      }
     },
     "ba6d16d3f2c14a29acf6452ca03342aa": {
      "model_module": "@jupyter-widgets/controls",
      "model_module_version": "1.5.0",
      "model_name": "DescriptionStyleModel",
      "state": {
       "_model_module": "@jupyter-widgets/controls",
       "_model_module_version": "1.5.0",
       "_model_name": "DescriptionStyleModel",
       "_view_count": null,
       "_view_module": "@jupyter-widgets/base",
       "_view_module_version": "1.2.0",
       "_view_name": "StyleView",
       "description_width": ""
      }
     },
     "bf9fd59345b9449983012a3983b052b6": {
      "model_module": "@jupyter-widgets/controls",
      "model_module_version": "1.5.0",
      "model_name": "FloatProgressModel",
      "state": {
       "_dom_classes": [],
       "_model_module": "@jupyter-widgets/controls",
       "_model_module_version": "1.5.0",
       "_model_name": "FloatProgressModel",
       "_view_count": null,
       "_view_module": "@jupyter-widgets/controls",
       "_view_module_version": "1.5.0",
       "_view_name": "ProgressView",
       "bar_style": "success",
       "description": "",
       "description_tooltip": null,
       "layout": "IPY_MODEL_e60f31eac7b448e79795471176f235b5",
       "max": 5069051.0,
       "min": 0.0,
       "orientation": "horizontal",
       "style": "IPY_MODEL_2a7de755dacf47c7bf68d5663d213dfd",
       "value": 5069051.0
      }
     },
     "c680f81ec1e14f90ad9b6f0a02d57f55": {
      "model_module": "@jupyter-widgets/base",
      "model_module_version": "1.2.0",
      "model_name": "LayoutModel",
      "state": {
       "_model_module": "@jupyter-widgets/base",
       "_model_module_version": "1.2.0",
       "_model_name": "LayoutModel",
       "_view_count": null,
       "_view_module": "@jupyter-widgets/base",
       "_view_module_version": "1.2.0",
       "_view_name": "LayoutView",
       "align_content": null,
       "align_items": null,
       "align_self": null,
       "border": null,
       "bottom": null,
       "display": null,
       "flex": null,
       "flex_flow": null,
       "grid_area": null,
       "grid_auto_columns": null,
       "grid_auto_flow": null,
       "grid_auto_rows": null,
       "grid_column": null,
       "grid_gap": null,
       "grid_row": null,
       "grid_template_areas": null,
       "grid_template_columns": null,
       "grid_template_rows": null,
       "height": null,
       "justify_content": null,
       "justify_items": null,
       "left": null,
       "margin": null,
       "max_height": null,
       "max_width": null,
       "min_height": null,
       "min_width": null,
       "object_fit": null,
       "object_position": null,
       "order": null,
       "overflow": null,
       "overflow_x": null,
       "overflow_y": null,
       "padding": null,
       "right": null,
       "top": null,
       "visibility": null,
       "width": null
      }
     },
     "ce63c97ac1874f0e9bc502b429466481": {
      "model_module": "@jupyter-widgets/base",
      "model_module_version": "1.2.0",
      "model_name": "LayoutModel",
      "state": {
       "_model_module": "@jupyter-widgets/base",
       "_model_module_version": "1.2.0",
       "_model_name": "LayoutModel",
       "_view_count": null,
       "_view_module": "@jupyter-widgets/base",
       "_view_module_version": "1.2.0",
       "_view_name": "LayoutView",
       "align_content": null,
       "align_items": null,
       "align_self": null,
       "border": null,
       "bottom": null,
       "display": null,
       "flex": null,
       "flex_flow": null,
       "grid_area": null,
       "grid_auto_columns": null,
       "grid_auto_flow": null,
       "grid_auto_rows": null,
       "grid_column": null,
       "grid_gap": null,
       "grid_row": null,
       "grid_template_areas": null,
       "grid_template_columns": null,
       "grid_template_rows": null,
       "height": null,
       "justify_content": null,
       "justify_items": null,
       "left": null,
       "margin": null,
       "max_height": null,
       "max_width": null,
       "min_height": null,
       "min_width": null,
       "object_fit": null,
       "object_position": null,
       "order": null,
       "overflow": null,
       "overflow_x": null,
       "overflow_y": null,
       "padding": null,
       "right": null,
       "top": null,
       "visibility": null,
       "width": null
      }
     },
     "cea37558f1404676b01fdacfd0beaf4c": {
      "model_module": "@jupyter-widgets/controls",
      "model_module_version": "1.5.0",
      "model_name": "HBoxModel",
      "state": {
       "_dom_classes": [],
       "_model_module": "@jupyter-widgets/controls",
       "_model_module_version": "1.5.0",
       "_model_name": "HBoxModel",
       "_view_count": null,
       "_view_module": "@jupyter-widgets/controls",
       "_view_module_version": "1.5.0",
       "_view_name": "HBoxView",
       "box_style": "",
       "children": [
        "IPY_MODEL_8bacde4c37e545d485f9a526da0ba71a",
        "IPY_MODEL_dcc16511e88343bf827eaee23736c268",
        "IPY_MODEL_14ce65a5a4084b07925f9035cc28baeb"
       ],
       "layout": "IPY_MODEL_9faa386a2e4e457895dd58fa88998710"
      }
     },
     "cf89bf285ddf49d29860fdc8351f4cd0": {
      "model_module": "@jupyter-widgets/controls",
      "model_module_version": "1.5.0",
      "model_name": "DescriptionStyleModel",
      "state": {
       "_model_module": "@jupyter-widgets/controls",
       "_model_module_version": "1.5.0",
       "_model_name": "DescriptionStyleModel",
       "_view_count": null,
       "_view_module": "@jupyter-widgets/base",
       "_view_module_version": "1.2.0",
       "_view_name": "StyleView",
       "description_width": ""
      }
     },
     "d0c4fbf0105643368a9c87835c1cbe33": {
      "model_module": "@jupyter-widgets/controls",
      "model_module_version": "1.5.0",
      "model_name": "HTMLModel",
      "state": {
       "_dom_classes": [],
       "_model_module": "@jupyter-widgets/controls",
       "_model_module_version": "1.5.0",
       "_model_name": "HTMLModel",
       "_view_count": null,
       "_view_module": "@jupyter-widgets/controls",
       "_view_module_version": "1.5.0",
       "_view_name": "HTMLView",
       "description": "",
       "description_tooltip": null,
       "layout": "IPY_MODEL_c680f81ec1e14f90ad9b6f0a02d57f55",
       "placeholder": "​",
       "style": "IPY_MODEL_f97a075de0b148ad9dcd906c0e719182",
       "value": "Downloading: 100%"
      }
     },
     "d2cc2c1a4ec9476aa4f9fd7564fcab11": {
      "model_module": "@jupyter-widgets/controls",
      "model_module_version": "1.5.0",
      "model_name": "HTMLModel",
      "state": {
       "_dom_classes": [],
       "_model_module": "@jupyter-widgets/controls",
       "_model_module_version": "1.5.0",
       "_model_name": "HTMLModel",
       "_view_count": null,
       "_view_module": "@jupyter-widgets/controls",
       "_view_module_version": "1.5.0",
       "_view_name": "HTMLView",
       "description": "",
       "description_tooltip": null,
       "layout": "IPY_MODEL_7e7eeaf0849c4937baf3237d28ccbabc",
       "placeholder": "​",
       "style": "IPY_MODEL_394a0c0294f64b43aa892e45e2f63c18",
       "value": " 5.07M/5.07M [00:00&lt;00:00, 10.1MB/s]"
      }
     },
     "d90d954b0650440b898353e464881626": {
      "model_module": "@jupyter-widgets/controls",
      "model_module_version": "1.5.0",
      "model_name": "HTMLModel",
      "state": {
       "_dom_classes": [],
       "_model_module": "@jupyter-widgets/controls",
       "_model_module_version": "1.5.0",
       "_model_name": "HTMLModel",
       "_view_count": null,
       "_view_module": "@jupyter-widgets/controls",
       "_view_module_version": "1.5.0",
       "_view_name": "HTMLView",
       "description": "",
       "description_tooltip": null,
       "layout": "IPY_MODEL_a1420274ac214bea8842d7d8a4509f4a",
       "placeholder": "​",
       "style": "IPY_MODEL_ba6d16d3f2c14a29acf6452ca03342aa",
       "value": " 3.27G/3.27G [01:40&lt;00:00, 40.8MB/s]"
      }
     },
     "dcc16511e88343bf827eaee23736c268": {
      "model_module": "@jupyter-widgets/controls",
      "model_module_version": "1.5.0",
      "model_name": "FloatProgressModel",
      "state": {
       "_dom_classes": [],
       "_model_module": "@jupyter-widgets/controls",
       "_model_module_version": "1.5.0",
       "_model_name": "FloatProgressModel",
       "_view_count": null,
       "_view_module": "@jupyter-widgets/controls",
       "_view_module_version": "1.5.0",
       "_view_name": "ProgressView",
       "bar_style": "success",
       "description": "",
       "description_tooltip": null,
       "layout": "IPY_MODEL_9fde0f48e152413f95abee4cd964e651",
       "max": 513.0,
       "min": 0.0,
       "orientation": "horizontal",
       "style": "IPY_MODEL_5d1803a4c84041afa408e80ce8558653",
       "value": 513.0
      }
     },
     "e60f31eac7b448e79795471176f235b5": {
      "model_module": "@jupyter-widgets/base",
      "model_module_version": "1.2.0",
      "model_name": "LayoutModel",
      "state": {
       "_model_module": "@jupyter-widgets/base",
       "_model_module_version": "1.2.0",
       "_model_name": "LayoutModel",
       "_view_count": null,
       "_view_module": "@jupyter-widgets/base",
       "_view_module_version": "1.2.0",
       "_view_name": "LayoutView",
       "align_content": null,
       "align_items": null,
       "align_self": null,
       "border": null,
       "bottom": null,
       "display": null,
       "flex": null,
       "flex_flow": null,
       "grid_area": null,
       "grid_auto_columns": null,
       "grid_auto_flow": null,
       "grid_auto_rows": null,
       "grid_column": null,
       "grid_gap": null,
       "grid_row": null,
       "grid_template_areas": null,
       "grid_template_columns": null,
       "grid_template_rows": null,
       "height": null,
       "justify_content": null,
       "justify_items": null,
       "left": null,
       "margin": null,
       "max_height": null,
       "max_width": null,
       "min_height": null,
       "min_width": null,
       "object_fit": null,
       "object_position": null,
       "order": null,
       "overflow": null,
       "overflow_x": null,
       "overflow_y": null,
       "padding": null,
       "right": null,
       "top": null,
       "visibility": null,
       "width": null
      }
     },
     "e7ff8d66ad2542edb2687ede950f2755": {
      "model_module": "@jupyter-widgets/controls",
      "model_module_version": "1.5.0",
      "model_name": "DescriptionStyleModel",
      "state": {
       "_model_module": "@jupyter-widgets/controls",
       "_model_module_version": "1.5.0",
       "_model_name": "DescriptionStyleModel",
       "_view_count": null,
       "_view_module": "@jupyter-widgets/base",
       "_view_module_version": "1.2.0",
       "_view_name": "StyleView",
       "description_width": ""
      }
     },
     "ebb58aec7ba84a5fa9fadfb48916742c": {
      "model_module": "@jupyter-widgets/base",
      "model_module_version": "1.2.0",
      "model_name": "LayoutModel",
      "state": {
       "_model_module": "@jupyter-widgets/base",
       "_model_module_version": "1.2.0",
       "_model_name": "LayoutModel",
       "_view_count": null,
       "_view_module": "@jupyter-widgets/base",
       "_view_module_version": "1.2.0",
       "_view_name": "LayoutView",
       "align_content": null,
       "align_items": null,
       "align_self": null,
       "border": null,
       "bottom": null,
       "display": null,
       "flex": null,
       "flex_flow": null,
       "grid_area": null,
       "grid_auto_columns": null,
       "grid_auto_flow": null,
       "grid_auto_rows": null,
       "grid_column": null,
       "grid_gap": null,
       "grid_row": null,
       "grid_template_areas": null,
       "grid_template_columns": null,
       "grid_template_rows": null,
       "height": null,
       "justify_content": null,
       "justify_items": null,
       "left": null,
       "margin": null,
       "max_height": null,
       "max_width": null,
       "min_height": null,
       "min_width": null,
       "object_fit": null,
       "object_position": null,
       "order": null,
       "overflow": null,
       "overflow_x": null,
       "overflow_y": null,
       "padding": null,
       "right": null,
       "top": null,
       "visibility": null,
       "width": null
      }
     },
     "f636ff8a97f64063aa6c490fb2809a01": {
      "model_module": "@jupyter-widgets/base",
      "model_module_version": "1.2.0",
      "model_name": "LayoutModel",
      "state": {
       "_model_module": "@jupyter-widgets/base",
       "_model_module_version": "1.2.0",
       "_model_name": "LayoutModel",
       "_view_count": null,
       "_view_module": "@jupyter-widgets/base",
       "_view_module_version": "1.2.0",
       "_view_name": "LayoutView",
       "align_content": null,
       "align_items": null,
       "align_self": null,
       "border": null,
       "bottom": null,
       "display": null,
       "flex": null,
       "flex_flow": null,
       "grid_area": null,
       "grid_auto_columns": null,
       "grid_auto_flow": null,
       "grid_auto_rows": null,
       "grid_column": null,
       "grid_gap": null,
       "grid_row": null,
       "grid_template_areas": null,
       "grid_template_columns": null,
       "grid_template_rows": null,
       "height": null,
       "justify_content": null,
       "justify_items": null,
       "left": null,
       "margin": null,
       "max_height": null,
       "max_width": null,
       "min_height": null,
       "min_width": null,
       "object_fit": null,
       "object_position": null,
       "order": null,
       "overflow": null,
       "overflow_x": null,
       "overflow_y": null,
       "padding": null,
       "right": null,
       "top": null,
       "visibility": null,
       "width": null
      }
     },
     "f97a075de0b148ad9dcd906c0e719182": {
      "model_module": "@jupyter-widgets/controls",
      "model_module_version": "1.5.0",
      "model_name": "DescriptionStyleModel",
      "state": {
       "_model_module": "@jupyter-widgets/controls",
       "_model_module_version": "1.5.0",
       "_model_name": "DescriptionStyleModel",
       "_view_count": null,
       "_view_module": "@jupyter-widgets/base",
       "_view_module_version": "1.2.0",
       "_view_name": "StyleView",
       "description_width": ""
      }
     },
     "fdb1fdf2e5fc4badb9ca4ba52285cfb2": {
      "model_module": "@jupyter-widgets/controls",
      "model_module_version": "1.5.0",
      "model_name": "FloatProgressModel",
      "state": {
       "_dom_classes": [],
       "_model_module": "@jupyter-widgets/controls",
       "_model_module_version": "1.5.0",
       "_model_name": "FloatProgressModel",
       "_view_count": null,
       "_view_module": "@jupyter-widgets/controls",
       "_view_module_version": "1.5.0",
       "_view_name": "ProgressView",
       "bar_style": "success",
       "description": "",
       "description_tooltip": null,
       "layout": "IPY_MODEL_0f5f80492b7242cb982439cc34ac2c46",
       "max": 3271420488.0,
       "min": 0.0,
       "orientation": "horizontal",
       "style": "IPY_MODEL_51e291cc641e48c39d338e828efdb9c6",
       "value": 3271420488.0
      }
     }
    },
    "version_major": 2,
    "version_minor": 0
   }
  }
 },
 "nbformat": 4,
 "nbformat_minor": 5
}
